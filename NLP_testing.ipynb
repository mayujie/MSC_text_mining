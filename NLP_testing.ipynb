{
 "cells": [
  {
   "cell_type": "markdown",
   "metadata": {},
   "source": [
    "# 1.Basic methods of Natural Language Processing(NLP)"
   ]
  },
  {
   "cell_type": "markdown",
   "metadata": {},
   "source": [
    "# Tokenization, Lemmatization and Stop Word Removal "
   ]
  },
  {
   "cell_type": "code",
   "execution_count": 3,
   "metadata": {},
   "outputs": [
    {
     "name": "stdout",
     "output_type": "stream",
     "text": [
      "       reviewerID        asin      reviewerName helpful  \\\n",
      "0  A30TL5EWN6DFXT  120401325X         christina  [0, 0]   \n",
      "1   ASY55RVNIL0UD  120401325X          emily l.  [0, 0]   \n",
      "2  A2TMXE2AFO7ONB  120401325X             Erica  [0, 0]   \n",
      "3   AWJ0WZQYMYFQ4  120401325X                JM  [4, 4]   \n",
      "4   ATX7CZYFXI1KW  120401325X  patrice m rogoza  [2, 3]   \n",
      "\n",
      "                                          reviewText  overall  \\\n",
      "0  They look good and stick good! I just don't li...      4.0   \n",
      "1  These stickers work like the review says they ...      5.0   \n",
      "2  These are awesome and make my phone look so st...      5.0   \n",
      "3  Item arrived in great time and was in perfect ...      4.0   \n",
      "4  awesome! stays on, and looks great. can be use...      5.0   \n",
      "\n",
      "                                     summary  unixReviewTime   reviewTime  \n",
      "0                                 Looks Good      1400630400  05 21, 2014  \n",
      "1                      Really great product.      1389657600  01 14, 2014  \n",
      "2                             LOVE LOVE LOVE      1403740800  06 26, 2014  \n",
      "3                                      Cute!      1382313600  10 21, 2013  \n",
      "4  leopard home button sticker for iphone 4s      1359849600   02 3, 2013  \n"
     ]
    }
   ],
   "source": [
    "# importing the libraries\n",
    "import pandas as pd\n",
    "import nltk\n",
    "import sklearn\n",
    "import gzip\n",
    "\n",
    "def parse(path):\n",
    "  g = gzip.open(path, 'rb')\n",
    "  for l in g:\n",
    "    yield eval(l)\n",
    "\n",
    "def getDF(path):\n",
    "  i = 0\n",
    "  df = {}\n",
    "  for d in parse(path):\n",
    "    df[i] = d\n",
    "    i += 1\n",
    "  return pd.DataFrame.from_dict(df, orient='index')\n",
    "\n",
    "df = getDF('reviews_Cell_Phones_and_Accessories_5.json.gz')\n",
    "\n",
    "# take 5 head of data as example\n",
    "see = df.head(5)\n",
    "print(see)"
   ]
  },
  {
   "cell_type": "code",
   "execution_count": 4,
   "metadata": {},
   "outputs": [
    {
     "data": {
      "text/html": [
       "<div>\n",
       "<style scoped>\n",
       "    .dataframe tbody tr th:only-of-type {\n",
       "        vertical-align: middle;\n",
       "    }\n",
       "\n",
       "    .dataframe tbody tr th {\n",
       "        vertical-align: top;\n",
       "    }\n",
       "\n",
       "    .dataframe thead th {\n",
       "        text-align: right;\n",
       "    }\n",
       "</style>\n",
       "<table border=\"1\" class=\"dataframe\">\n",
       "  <thead>\n",
       "    <tr style=\"text-align: right;\">\n",
       "      <th></th>\n",
       "      <th>reviewText</th>\n",
       "    </tr>\n",
       "  </thead>\n",
       "  <tbody>\n",
       "    <tr>\n",
       "      <th>0</th>\n",
       "      <td>They look good and stick good! I just don't li...</td>\n",
       "    </tr>\n",
       "    <tr>\n",
       "      <th>1</th>\n",
       "      <td>These stickers work like the review says they ...</td>\n",
       "    </tr>\n",
       "    <tr>\n",
       "      <th>2</th>\n",
       "      <td>These are awesome and make my phone look so st...</td>\n",
       "    </tr>\n",
       "    <tr>\n",
       "      <th>3</th>\n",
       "      <td>Item arrived in great time and was in perfect ...</td>\n",
       "    </tr>\n",
       "    <tr>\n",
       "      <th>4</th>\n",
       "      <td>awesome! stays on, and looks great. can be use...</td>\n",
       "    </tr>\n",
       "  </tbody>\n",
       "</table>\n",
       "</div>"
      ],
      "text/plain": [
       "                                          reviewText\n",
       "0  They look good and stick good! I just don't li...\n",
       "1  These stickers work like the review says they ...\n",
       "2  These are awesome and make my phone look so st...\n",
       "3  Item arrived in great time and was in perfect ...\n",
       "4  awesome! stays on, and looks great. can be use..."
      ]
     },
     "execution_count": 4,
     "metadata": {},
     "output_type": "execute_result"
    }
   ],
   "source": [
    "# print the the column \"reviewText\"\n",
    "see[[\"reviewText\"]]"
   ]
  },
  {
   "cell_type": "code",
   "execution_count": 5,
   "metadata": {},
   "outputs": [
    {
     "data": {
      "text/plain": [
       "\"They look good and stick good! I just don't like the rounded shape because I was always bumping it and Siri kept popping up and it was irritating. I just won't buy a product like this again\""
      ]
     },
     "execution_count": 5,
     "metadata": {},
     "output_type": "execute_result"
    }
   ],
   "source": [
    "# take row No.0 as example\n",
    "ls_txt = see[\"reviewText\"][0]\n",
    "ls_txt"
   ]
  },
  {
   "cell_type": "code",
   "execution_count": 6,
   "metadata": {},
   "outputs": [],
   "source": [
    "# Basic text analysis has the following processes\n",
    "# 1: Tokenization\n",
    "# 2: Lemmatization\n",
    "# 3: Stop Word Removal"
   ]
  },
  {
   "cell_type": "code",
   "execution_count": 7,
   "metadata": {},
   "outputs": [
    {
     "name": "stdout",
     "output_type": "stream",
     "text": [
      "['They', 'look', 'good', 'and', 'stick', 'good!', 'I', 'just', \"don't\", 'like', 'the', 'rounded', 'shape', 'because', 'I', 'was', 'always', 'bumping', 'it', 'and', 'Siri', 'kept', 'popping', 'up', 'and', 'it', 'was', 'irritating.', 'I', 'just', \"won't\", 'buy', 'a', 'product', 'like', 'this', 'again']\n"
     ]
    },
    {
     "data": {
      "text/plain": [
       "37"
      ]
     },
     "execution_count": 7,
     "metadata": {},
     "output_type": "execute_result"
    }
   ],
   "source": [
    "# Tokenization\n",
    "# It is the process of breaking text into smaller chunks/tokens\n",
    "\n",
    "# call an instance of white space tokenizer\n",
    "tokenizer = nltk.tokenize.WhitespaceTokenizer()\n",
    "tokens = tokenizer.tokenize(ls_txt)\n",
    "print(tokens)\n",
    "len(tokens)"
   ]
  },
  {
   "cell_type": "code",
   "execution_count": 8,
   "metadata": {},
   "outputs": [
    {
     "name": "stdout",
     "output_type": "stream",
     "text": [
      "['They', 'look', 'good', 'and', 'stick', 'good', '!', 'I', 'just', 'do', \"n't\", 'like', 'the', 'rounded', 'shape', 'because', 'I', 'was', 'always', 'bumping', 'it', 'and', 'Siri', 'kept', 'popping', 'up', 'and', 'it', 'was', 'irritating.', 'I', 'just', 'wo', \"n't\", 'buy', 'a', 'product', 'like', 'this', 'again']\n"
     ]
    },
    {
     "data": {
      "text/plain": [
       "40"
      ]
     },
     "execution_count": 8,
     "metadata": {},
     "output_type": "execute_result"
    }
   ],
   "source": [
    "# There can be instances where we need to tokenize using white space as well as punctuation. \n",
    "# This can be done using TreebankWord Tokenizer. Simply put, don't word will be broken into 'do' and 'n't'\n",
    "\n",
    "tokenize=nltk.tokenize.TreebankWordTokenizer()\n",
    "tokens = tokenize.tokenize(ls_txt)\n",
    "print(tokens)\n",
    "len(tokens)"
   ]
  },
  {
   "cell_type": "code",
   "execution_count": 9,
   "metadata": {},
   "outputs": [
    {
     "name": "stdout",
     "output_type": "stream",
     "text": [
      "['They', 'look', 'good', 'and', 'stick', 'good', '!', 'I', 'just', 'don', \"'\", 't', 'like', 'the', 'rounded', 'shape', 'because', 'I', 'was', 'always', 'bumping', 'it', 'and', 'Siri', 'kept', 'popping', 'up', 'and', 'it', 'was', 'irritating', '.', 'I', 'just', 'won', \"'\", 't', 'buy', 'a', 'product', 'like', 'this', 'again']\n"
     ]
    },
    {
     "data": {
      "text/plain": [
       "43"
      ]
     },
     "execution_count": 9,
     "metadata": {},
     "output_type": "execute_result"
    }
   ],
   "source": [
    "#WorkPunct tokenizer creates , . ' and \" as individual Tokens\n",
    "\n",
    "tokenizer=nltk.tokenize.WordPunctTokenizer()\n",
    "tokens = tokenizer.tokenize(ls_txt)\n",
    "print(tokens)\n",
    "len(tokens)"
   ]
  },
  {
   "cell_type": "code",
   "execution_count": 10,
   "metadata": {},
   "outputs": [],
   "source": [
    "# After breaking the text into individual words (tokens), we want to ensure that each of them are converted into their base form. \n",
    "# This base form is called lemma. This can be done using Lemmatization and Stemming. The key difference between them is mentioned below.\n",
    "\n",
    "# Stemming: It converts different forms of the word by chopping off the suffixes.It normally results in ambiguous words with no meanings.\n",
    "\n",
    "# Lemmatization: It converts different forms of the same word by considering the  morphological  context of the text. \n",
    "# For instance study and studying are treated in the same way and are converted to 'study'"
   ]
  },
  {
   "cell_type": "code",
   "execution_count": 11,
   "metadata": {},
   "outputs": [
    {
     "name": "stdout",
     "output_type": "stream",
     "text": [
      "['They', 'look', 'good', 'and', 'stick', 'good', '!', 'I', 'just', 'do', \"n't\", 'like', 'the', 'rounded', 'shape', 'because', 'I', 'was', 'always', 'bumping', 'it', 'and', 'Siri', 'kept', 'popping', 'up', 'and', 'it', 'was', 'irritating.', 'I', 'just', 'wo', \"n't\", 'buy', 'a', 'product', 'like', 'this', 'again']\n"
     ]
    },
    {
     "data": {
      "text/plain": [
       "40"
      ]
     },
     "execution_count": 11,
     "metadata": {},
     "output_type": "execute_result"
    }
   ],
   "source": [
    "# Lemmatization\n",
    "# Next we want to ensure that tokens in the text are normalised\n",
    "# Meaning study and studying are treated in the same way\n",
    "# This can be achieved by using either stemming or lemmatization\n",
    "\n",
    "#Stemming:Chops off suffixes.Uses Porter Stemming method.Disadvantage is that is results in non-words\n",
    "#Lemmatization refers to doing things keeping usage and morphology in mind\n",
    "#It returns the base or dictionary form of the word which is known as lemma\n",
    "#For lemmatization we use WordNetLemmatizer found in NLTK library\n",
    "\n",
    "# Using 'Stemming' example\n",
    "tokenizer= nltk.tokenize.TreebankWordTokenizer()\n",
    "tokens=tokenizer.tokenize(ls_txt)\n",
    "print(tokens)\n",
    "len(tokens)"
   ]
  },
  {
   "cell_type": "markdown",
   "metadata": {},
   "source": [
    "# use Stemming"
   ]
  },
  {
   "cell_type": "code",
   "execution_count": 12,
   "metadata": {},
   "outputs": [
    {
     "data": {
      "text/plain": [
       "\"they look good and stick good ! I just do n't like the round shape becaus I wa alway bump it and siri kept pop up and it wa irritating. I just wo n't buy a product like thi again\""
      ]
     },
     "execution_count": 12,
     "metadata": {},
     "output_type": "execute_result"
    }
   ],
   "source": [
    "stemmer = nltk.stem.PorterStemmer()\n",
    "\" \".join(stemmer.stem(i) for i in tokens)"
   ]
  },
  {
   "cell_type": "code",
   "execution_count": 13,
   "metadata": {},
   "outputs": [],
   "source": [
    "# We can see the following things\n",
    "# rounded has been converted to round\n",
    "# bumping has been converted to bump\n",
    "# In general sses forms get converted to ss: Example caresses-->caress\n",
    "# ies --> i : Example studies-->studi\n",
    "# s-->singular form: Example cats-->cat"
   ]
  },
  {
   "cell_type": "markdown",
   "metadata": {},
   "source": [
    "# use Lemmatizer"
   ]
  },
  {
   "cell_type": "code",
   "execution_count": 14,
   "metadata": {},
   "outputs": [
    {
     "data": {
      "text/plain": [
       "\"They look good and stick good ! I just do n't like the round shape because I be always bump it and Siri keep pop up and it be irritating. I just wo n't buy a product like this again\""
      ]
     },
     "execution_count": 14,
     "metadata": {},
     "output_type": "execute_result"
    }
   ],
   "source": [
    "#Let's use Lemmatizer and compare the outputs\n",
    "# nltk.download('wordnet')\n",
    "# print(ls_txt)\n",
    "lemma = nltk.stem.WordNetLemmatizer()\n",
    "\" \".join(lemma.lemmatize(i,'v') for i in tokens)\n",
    "# Here we can see that an extra argument in the form of 'v'(verb) has been provided\n",
    "# This is to explicitly specify the Part of Speech(POS)\n",
    "# If we dont specify the POS then WordNetLemmatizer assumes everything to be noun and hence \n",
    "# Inflectional various forms of the same root word will return different results"
   ]
  },
  {
   "cell_type": "markdown",
   "metadata": {},
   "source": [
    "# Explaining the extra argument 'v' in WordNetLemmatizer()"
   ]
  },
  {
   "cell_type": "code",
   "execution_count": 15,
   "metadata": {},
   "outputs": [
    {
     "data": {
      "text/plain": [
       "'run running ran'"
      ]
     },
     "execution_count": 15,
     "metadata": {},
     "output_type": "execute_result"
    }
   ],
   "source": [
    "# Not supplying POS\n",
    "\" \".join(lemma.lemmatize(i) for i in ['run','running','ran'])\n",
    "# As can be seen that it in absence of POS, it doesnt do lemmatization properly"
   ]
  },
  {
   "cell_type": "code",
   "execution_count": 16,
   "metadata": {},
   "outputs": [
    {
     "data": {
      "text/plain": [
       "'run run run'"
      ]
     },
     "execution_count": 16,
     "metadata": {},
     "output_type": "execute_result"
    }
   ],
   "source": [
    "# Supplying POS\n",
    "\" \".join(lemma.lemmatize(i,'v') for i in ['run','running','ran'])"
   ]
  },
  {
   "cell_type": "markdown",
   "metadata": {},
   "source": [
    "# StopWord Removal"
   ]
  },
  {
   "cell_type": "code",
   "execution_count": 17,
   "metadata": {},
   "outputs": [],
   "source": [
    "#  After breaking and normalizing the text, we need to also ensure that there are no articles, determiners, prepositions etc. \n",
    "# In most situations it is necessary to remove them as they don't add any meaning  to the analysis. \n",
    "# The process of removing them is known as Stop word removal. \n",
    "# There is a custom list in python that contains list of words which can be used for cleaning text from any stop word. \n",
    "# Moreover, we can create our own stop word list and use it to clean the text as shown below:"
   ]
  },
  {
   "cell_type": "code",
   "execution_count": 18,
   "metadata": {},
   "outputs": [
    {
     "name": "stderr",
     "output_type": "stream",
     "text": [
      "[nltk_data] Downloading package stopwords to\n",
      "[nltk_data]     C:\\Users\\Drunkbear\\AppData\\Roaming\\nltk_data...\n",
      "[nltk_data]   Package stopwords is already up-to-date!\n"
     ]
    }
   ],
   "source": [
    "import nltk\n",
    "nltk.download('stopwords')\n",
    "from nltk.corpus import stopwords"
   ]
  },
  {
   "cell_type": "code",
   "execution_count": 19,
   "metadata": {},
   "outputs": [
    {
     "name": "stdout",
     "output_type": "stream",
     "text": [
      "{'between', 'below', 'from', 'after', 'll', 'an', 'yourselves', 'hers', 'yours', 'own', 'which', 'or', 'nor', \"shouldn't\", 'at', 'them', \"haven't\", 'isn', 'are', 'not', 'down', 'having', 'into', 'her', 'as', 's', 'that', 'ma', 'had', 'until', 'yourself', \"you'd\", \"didn't\", 'more', 'did', 'above', \"you're\", \"you've\", 'just', 'am', 've', 'if', \"you'll\", 'theirs', 'very', 'didn', \"doesn't\", 'and', 'again', 'wasn', 'to', 'those', 'aren', 'hasn', 'his', 'why', 'will', \"wouldn't\", 'mustn', 'its', 'out', \"should've\", 'doesn', 'once', 'both', 'these', 'how', 'such', 'each', 'you', \"hasn't\", 'a', 'has', 'himself', 'but', 'your', 'they', 'some', 'all', 'what', 'is', 'the', 'where', 'don', 'there', 'should', 'who', 'further', 't', 'have', 'being', 'when', 'their', 'do', 'needn', 'now', 'no', 'wouldn', 'hadn', 'be', 'about', 'only', 'in', \"it's\", 'any', 'my', 'then', 'while', 'other', \"mustn't\", 'ours', 'by', 'were', 'against', 'few', 'same', 'so', 'with', 'too', 'on', 'weren', \"shan't\", 'herself', 'whom', 'o', 'under', 'themselves', 'ain', 'mightn', 'up', 'over', \"isn't\", 'shouldn', 'here', 'him', 'of', 'me', 'for', 'couldn', 'haven', 're', 'y', 'he', 'she', 'we', 'than', 'been', \"needn't\", \"weren't\", 'won', 'our', \"that'll\", 'can', \"hadn't\", 'shan', 'off', 'i', 'because', 'itself', 'd', 'before', 'during', 'through', \"couldn't\", 'ourselves', 'was', 'most', \"mightn't\", 'does', \"won't\", 'm', 'it', \"she's\", \"don't\", \"wasn't\", 'this', 'doing', \"aren't\", 'myself'} \n",
      "\n",
      "They look good and stick good ! I just do n't like the round shape because I be always bump it and Siri keep pop up and it be irritating. I just wo n't buy a product like this again \n",
      "\n",
      "['look', 'good', 'stick', 'good', '!', \"n't\", 'like', 'round', 'shape', 'always', 'bump', 'siri', 'keep', 'pop', 'irritating.', 'wo', \"n't\", 'buy', 'product', 'like']\n"
     ]
    },
    {
     "data": {
      "text/plain": [
       "20"
      ]
     },
     "execution_count": 19,
     "metadata": {},
     "output_type": "execute_result"
    }
   ],
   "source": [
    "# StopWord Removal\n",
    "# In sentences there are often words that dont provide any additional information\n",
    "# These are a,is,the,etc\n",
    "# Before any text analysis, these have to be removed as well\n",
    "\n",
    "stop = set(stopwords.words('english'))# This is a set\n",
    "print(stop, '\\n')\n",
    "# Lemmatization\n",
    "sentnc=\" \".join(lemma.lemmatize(i,'v') for i in tokens)\n",
    "print(sentnc, '\\n')\n",
    "# Removing Stop word\n",
    "clen_sentnc=[x for x in sentnc.lower().split() if x not in stop]\n",
    "print(clen_sentnc)\n",
    "len(clen_sentnc)"
   ]
  },
  {
   "cell_type": "code",
   "execution_count": 20,
   "metadata": {},
   "outputs": [
    {
     "data": {
      "text/plain": [
       "'wo'"
      ]
     },
     "execution_count": 20,
     "metadata": {},
     "output_type": "execute_result"
    }
   ],
   "source": [
    "# Custom stop word list can also be created to remove additional words\n",
    "# For isntance, lets say word 'wo' has to be removed from clen_sentnc\n",
    "# Updating the 'stop' list\n",
    "stop_new=list(stop)\n",
    "stop_new.append('wo')\n",
    "\n",
    "#Checking if 'get' has been added to the new stop list\n",
    "stop_new[len(stop_new)-1]"
   ]
  },
  {
   "cell_type": "code",
   "execution_count": 21,
   "metadata": {},
   "outputs": [
    {
     "name": "stdout",
     "output_type": "stream",
     "text": [
      "['look', 'good', 'stick', 'good', '!', \"n't\", 'like', 'round', 'shape', 'always', 'bump', 'siri', 'keep', 'pop', 'irritating.', \"n't\", 'buy', 'product', 'like']\n"
     ]
    }
   ],
   "source": [
    "# Removing 'wo' from the list\n",
    "ls_new = [x for x in clen_sentnc if x not in stop_new ]\n",
    "print(ls_new)"
   ]
  },
  {
   "cell_type": "markdown",
   "metadata": {},
   "source": [
    "# Bag of Words using Term Frequency (TF and ngrams)"
   ]
  },
  {
   "cell_type": "code",
   "execution_count": 22,
   "metadata": {},
   "outputs": [
    {
     "name": "stdout",
     "output_type": "stream",
     "text": [
      "like           2\n",
      "n't            2\n",
      "good           2\n",
      "siri           1\n",
      "round          1\n",
      "always         1\n",
      "look           1\n",
      "product        1\n",
      "irritating.    1\n",
      "!              1\n",
      "keep           1\n",
      "shape          1\n",
      "stick          1\n",
      "buy            1\n",
      "pop            1\n",
      "bump           1\n",
      "dtype: int64\n"
     ]
    }
   ],
   "source": [
    "# Lets look at the number of times a word appears in a list\n",
    "# For calculating the word frequency we will use ngrams,FreqDist methods from nltk\n",
    "from nltk import ngrams, FreqDist\n",
    "\n",
    "s1 = pd.Series(ls_new)\n",
    "print(s1.value_counts(normalize=False))"
   ]
  },
  {
   "cell_type": "markdown",
   "metadata": {},
   "source": [
    "# (testing for 5 rows reviewText together)"
   ]
  },
  {
   "cell_type": "code",
   "execution_count": 80,
   "metadata": {
    "scrolled": true
   },
   "outputs": [
    {
     "name": "stdout",
     "output_type": "stream",
     "text": [
      "0 They look good and stick good! I just don't like the rounded shape because I was always bumping it and Siri kept popping up and it was irritating. I just won't buy a product like this again \n",
      "\n",
      "1 These stickers work like the review says they do. They stick on great and they stay on the phone. They are super stylish and I can share them with my sister. :) \n",
      "\n",
      "2 These are awesome and make my phone look so stylish! I have only used one so far and have had it on for almost a year! CAN YOU BELIEVE THAT! ONE YEAR!! Great quality! \n",
      "\n",
      "3 Item arrived in great time and was in perfect condition. However, I ordered these buttons because they were a great deal and included a FREE screen protector. I never received one. Though its not a big deal, it would've been nice to get it since they claim it comes with one. \n",
      "\n",
      "4 awesome! stays on, and looks great. can be used on multiple apple products.  especially having nails, it helps to have an elevated key. \n",
      "\n"
     ]
    }
   ],
   "source": [
    "for i in range(len(see[\"reviewText\"])):\n",
    "    print(i, see[\"reviewText\"][i], '\\n')"
   ]
  },
  {
   "cell_type": "code",
   "execution_count": 96,
   "metadata": {},
   "outputs": [
    {
     "name": "stdout",
     "output_type": "stream",
     "text": [
      "['They', 'look', 'good', 'and', 'stick', 'good', '!', 'I', 'just', 'do', \"n't\", 'like', 'the', 'rounded', 'shape', 'because', 'I', 'was', 'always', 'bumping', 'it', 'and', 'Siri', 'kept', 'popping', 'up', 'and', 'it', 'was', 'irritating.', 'I', 'just', 'wo', \"n't\", 'buy', 'a', 'product', 'like', 'this', 'again', 'These', 'stickers', 'work', 'like', 'the', 'review', 'says', 'they', 'do.', 'They', 'stick', 'on', 'great', 'and', 'they', 'stay', 'on', 'the', 'phone.', 'They', 'are', 'super', 'stylish', 'and', 'I', 'can', 'share', 'them', 'with', 'my', 'sister.', ':', ')', 'These', 'are', 'awesome', 'and', 'make', 'my', 'phone', 'look', 'so', 'stylish', '!', 'I', 'have', 'only', 'used', 'one', 'so', 'far', 'and', 'have', 'had', 'it', 'on', 'for', 'almost', 'a', 'year', '!', 'CAN', 'YOU', 'BELIEVE', 'THAT', '!', 'ONE', 'YEAR', '!', '!', 'Great', 'quality', '!', 'Item', 'arrived', 'in', 'great', 'time', 'and', 'was', 'in', 'perfect', 'condition.', 'However', ',', 'I', 'ordered', 'these', 'buttons', 'because', 'they', 'were', 'a', 'great', 'deal', 'and', 'included', 'a', 'FREE', 'screen', 'protector.', 'I', 'never', 'received', 'one.', 'Though', 'its', 'not', 'a', 'big', 'deal', ',', 'it', 'would', \"'ve\", 'been', 'nice', 'to', 'get', 'it', 'since', 'they', 'claim', 'it', 'comes', 'with', 'one', '.', 'awesome', '!', 'stays', 'on', ',', 'and', 'looks', 'great.', 'can', 'be', 'used', 'on', 'multiple', 'apple', 'products.', 'especially', 'having', 'nails', ',', 'it', 'helps', 'to', 'have', 'an', 'elevated', 'key', '.', 'They', 'look', 'good', 'and', 'stick', 'good', '!', 'I', 'just', 'do', \"n't\", 'like', 'the', 'rounded', 'shape', 'because', 'I', 'was', 'always', 'bumping', 'it', 'and', 'Siri', 'kept', 'popping', 'up', 'and', 'it', 'was', 'irritating.', 'I', 'just', 'wo', \"n't\", 'buy', 'a', 'product', 'like', 'this', 'again', 'These', 'stickers', 'work', 'like', 'the', 'review', 'says', 'they', 'do.', 'They', 'stick', 'on', 'great', 'and', 'they', 'stay', 'on', 'the', 'phone.', 'They', 'are', 'super', 'stylish', 'and', 'I', 'can', 'share', 'them', 'with', 'my', 'sister.', ':', ')', 'These', 'are', 'awesome', 'and', 'make', 'my', 'phone', 'look', 'so', 'stylish', '!', 'I', 'have', 'only', 'used', 'one', 'so', 'far', 'and', 'have', 'had', 'it', 'on', 'for', 'almost', 'a', 'year', '!', 'CAN', 'YOU', 'BELIEVE', 'THAT', '!', 'ONE', 'YEAR', '!', '!', 'Great', 'quality', '!', 'Item', 'arrived', 'in', 'great', 'time', 'and', 'was', 'in', 'perfect', 'condition.', 'However', ',', 'I', 'ordered', 'these', 'buttons', 'because', 'they', 'were', 'a', 'great', 'deal', 'and', 'included', 'a', 'FREE', 'screen', 'protector.', 'I', 'never', 'received', 'one.', 'Though', 'its', 'not', 'a', 'big', 'deal', ',', 'it', 'would', \"'ve\", 'been', 'nice', 'to', 'get', 'it', 'since', 'they', 'claim', 'it', 'comes', 'with', 'one', '.', 'awesome', '!', 'stays', 'on', ',', 'and', 'looks', 'great.', 'can', 'be', 'used', 'on', 'multiple', 'apple', 'products.', 'especially', 'having', 'nails', ',', 'it', 'helps', 'to', 'have', 'an', 'elevated', 'key', '.', 'They', 'look', 'good', 'and', 'stick', 'good', '!', 'I', 'just', 'do', \"n't\", 'like', 'the', 'rounded', 'shape', 'because', 'I', 'was', 'always', 'bumping', 'it', 'and', 'Siri', 'kept', 'popping', 'up', 'and', 'it', 'was', 'irritating.', 'I', 'just', 'wo', \"n't\", 'buy', 'a', 'product', 'like', 'this', 'again', 'These', 'stickers', 'work', 'like', 'the', 'review', 'says', 'they', 'do.', 'They', 'stick', 'on', 'great', 'and', 'they', 'stay', 'on', 'the', 'phone.', 'They', 'are', 'super', 'stylish', 'and', 'I', 'can', 'share', 'them', 'with', 'my', 'sister.', ':', ')', 'These', 'are', 'awesome', 'and', 'make', 'my', 'phone', 'look', 'so', 'stylish', '!', 'I', 'have', 'only', 'used', 'one', 'so', 'far', 'and', 'have', 'had', 'it', 'on', 'for', 'almost', 'a', 'year', '!', 'CAN', 'YOU', 'BELIEVE', 'THAT', '!', 'ONE', 'YEAR', '!', '!', 'Great', 'quality', '!', 'Item', 'arrived', 'in', 'great', 'time', 'and', 'was', 'in', 'perfect', 'condition.', 'However', ',', 'I', 'ordered', 'these', 'buttons', 'because', 'they', 'were', 'a', 'great', 'deal', 'and', 'included', 'a', 'FREE', 'screen', 'protector.', 'I', 'never', 'received', 'one.', 'Though', 'its', 'not', 'a', 'big', 'deal', ',', 'it', 'would', \"'ve\", 'been', 'nice', 'to', 'get', 'it', 'since', 'they', 'claim', 'it', 'comes', 'with', 'one', '.', 'awesome', '!', 'stays', 'on', ',', 'and', 'looks', 'great.', 'can', 'be', 'used', 'on', 'multiple', 'apple', 'products.', 'especially', 'having', 'nails', ',', 'it', 'helps', 'to', 'have', 'an', 'elevated', 'key', '.']\n"
     ]
    },
    {
     "data": {
      "text/plain": [
       "585"
      ]
     },
     "execution_count": 96,
     "metadata": {},
     "output_type": "execute_result"
    }
   ],
   "source": [
    "tokenizer= nltk.tokenize.TreebankWordTokenizer()\n",
    "\n",
    "for i in range(len(see[\"reviewText\"])):\n",
    "#     print(see[\"reviewText\"][i])\n",
    "    temp[i] = tokenizer.tokenize(see[\"reviewText\"][i])\n",
    "#     print(temp[i])\n",
    "\n",
    "for i in range(5):\n",
    "    tokens = tokens + temp[i]\n",
    "\n",
    "print(tokens)\n",
    "len(tokens)"
   ]
  },
  {
   "cell_type": "code",
   "execution_count": 102,
   "metadata": {},
   "outputs": [
    {
     "name": "stdout",
     "output_type": "stream",
     "text": [
      "They look good and stick good ! I just do n't like the round shape because I be always bump it and Siri keep pop up and it be irritating. I just wo n't buy a product like this again These stickers work like the review say they do. They stick on great and they stay on the phone. They be super stylish and I can share them with my sister. : ) These be awesome and make my phone look so stylish ! I have only use one so far and have have it on for almost a year ! CAN YOU BELIEVE THAT ! ONE YEAR ! ! Great quality ! Item arrive in great time and be in perfect condition. However , I order these button because they be a great deal and include a FREE screen protector. I never receive one. Though its not a big deal , it would 've be nice to get it since they claim it come with one . awesome ! stay on , and look great. can be use on multiple apple products. especially have nail , it help to have an elevate key . They look good and stick good ! I just do n't like the round shape because I be always bump it and Siri keep pop up and it be irritating. I just wo n't buy a product like this again These stickers work like the review say they do. They stick on great and they stay on the phone. They be super stylish and I can share them with my sister. : ) These be awesome and make my phone look so stylish ! I have only use one so far and have have it on for almost a year ! CAN YOU BELIEVE THAT ! ONE YEAR ! ! Great quality ! Item arrive in great time and be in perfect condition. However , I order these button because they be a great deal and include a FREE screen protector. I never receive one. Though its not a big deal , it would 've be nice to get it since they claim it come with one . awesome ! stay on , and look great. can be use on multiple apple products. especially have nail , it help to have an elevate key . They look good and stick good ! I just do n't like the round shape because I be always bump it and Siri keep pop up and it be irritating. I just wo n't buy a product like this again These stickers work like the review say they do. They stick on great and they stay on the phone. They be super stylish and I can share them with my sister. : ) These be awesome and make my phone look so stylish ! I have only use one so far and have have it on for almost a year ! CAN YOU BELIEVE THAT ! ONE YEAR ! ! Great quality ! Item arrive in great time and be in perfect condition. However , I order these button because they be a great deal and include a FREE screen protector. I never receive one. Though its not a big deal , it would 've be nice to get it since they claim it come with one . awesome ! stay on , and look great. can be use on multiple apple products. especially have nail , it help to have an elevate key . \n",
      "\n"
     ]
    }
   ],
   "source": [
    "lemma = nltk.stem.WordNetLemmatizer()\n",
    "# Lemmatization\n",
    "sentnc=\" \".join(lemma.lemmatize(i,'v') for i in tokens)\n",
    "print(sentnc, '\\n')"
   ]
  },
  {
   "cell_type": "code",
   "execution_count": 100,
   "metadata": {},
   "outputs": [
    {
     "name": "stdout",
     "output_type": "stream",
     "text": [
      "['look', 'good', 'stick', 'good', '!', \"n't\", 'like', 'round', 'shape', 'always', 'bump', 'siri', 'keep', 'pop', 'irritating.', 'wo', \"n't\", 'buy', 'product', 'like', 'stickers', 'work', 'like', 'review', 'say', 'do.', 'stick', 'great', 'stay', 'phone.', 'super', 'stylish', 'share', 'sister.', ':', ')', 'awesome', 'make', 'phone', 'look', 'stylish', '!', 'use', 'one', 'far', 'almost', 'year', '!', 'believe', '!', 'one', 'year', '!', '!', 'great', 'quality', '!', 'item', 'arrive', 'great', 'time', 'perfect', 'condition.', 'however', ',', 'order', 'button', 'great', 'deal', 'include', 'free', 'screen', 'protector.', 'never', 'receive', 'one.', 'though', 'big', 'deal', ',', 'would', \"'ve\", 'nice', 'get', 'since', 'claim', 'come', 'one', '.', 'awesome', '!', 'stay', ',', 'look', 'great.', 'use', 'multiple', 'apple', 'products.', 'especially', 'nail', ',', 'help', 'elevate', 'key', '.', 'look', 'good', 'stick', 'good', '!', \"n't\", 'like', 'round', 'shape', 'always', 'bump', 'siri', 'keep', 'pop', 'irritating.', 'wo', \"n't\", 'buy', 'product', 'like', 'stickers', 'work', 'like', 'review', 'say', 'do.', 'stick', 'great', 'stay', 'phone.', 'super', 'stylish', 'share', 'sister.', ':', ')', 'awesome', 'make', 'phone', 'look', 'stylish', '!', 'use', 'one', 'far', 'almost', 'year', '!', 'believe', '!', 'one', 'year', '!', '!', 'great', 'quality', '!', 'item', 'arrive', 'great', 'time', 'perfect', 'condition.', 'however', ',', 'order', 'button', 'great', 'deal', 'include', 'free', 'screen', 'protector.', 'never', 'receive', 'one.', 'though', 'big', 'deal', ',', 'would', \"'ve\", 'nice', 'get', 'since', 'claim', 'come', 'one', '.', 'awesome', '!', 'stay', ',', 'look', 'great.', 'use', 'multiple', 'apple', 'products.', 'especially', 'nail', ',', 'help', 'elevate', 'key', '.', 'look', 'good', 'stick', 'good', '!', \"n't\", 'like', 'round', 'shape', 'always', 'bump', 'siri', 'keep', 'pop', 'irritating.', 'wo', \"n't\", 'buy', 'product', 'like', 'stickers', 'work', 'like', 'review', 'say', 'do.', 'stick', 'great', 'stay', 'phone.', 'super', 'stylish', 'share', 'sister.', ':', ')', 'awesome', 'make', 'phone', 'look', 'stylish', '!', 'use', 'one', 'far', 'almost', 'year', '!', 'believe', '!', 'one', 'year', '!', '!', 'great', 'quality', '!', 'item', 'arrive', 'great', 'time', 'perfect', 'condition.', 'however', ',', 'order', 'button', 'great', 'deal', 'include', 'free', 'screen', 'protector.', 'never', 'receive', 'one.', 'though', 'big', 'deal', ',', 'would', \"'ve\", 'nice', 'get', 'since', 'claim', 'come', 'one', '.', 'awesome', '!', 'stay', ',', 'look', 'great.', 'use', 'multiple', 'apple', 'products.', 'especially', 'nail', ',', 'help', 'elevate', 'key', '.']\n"
     ]
    },
    {
     "data": {
      "text/plain": [
       "318"
      ]
     },
     "execution_count": 100,
     "metadata": {},
     "output_type": "execute_result"
    }
   ],
   "source": [
    "# Removing Stop word\n",
    "clen_sentnc=[x for x in sentnc.lower().split() if x not in stop]\n",
    "print(clen_sentnc)\n",
    "len(clen_sentnc)"
   ]
  },
  {
   "cell_type": "code",
   "execution_count": 103,
   "metadata": {},
   "outputs": [
    {
     "name": "stdout",
     "output_type": "stream",
     "text": [
      "!              24\n",
      "great          12\n",
      ",              12\n",
      "look            9\n",
      "like            9\n",
      "one             9\n",
      "use             6\n",
      "awesome         6\n",
      "good            6\n",
      "year            6\n",
      "stylish         6\n",
      "stay            6\n",
      "n't             6\n",
      "stick           6\n",
      ".               6\n",
      "deal            6\n",
      "nail            3\n",
      "help            3\n",
      "include         3\n",
      "super           3\n",
      ":               3\n",
      "screen          3\n",
      "pop             3\n",
      "receive         3\n",
      "condition.      3\n",
      "order           3\n",
      "wo              3\n",
      "phone           3\n",
      "shape           3\n",
      "though          3\n",
      "               ..\n",
      "one.            3\n",
      "especially      3\n",
      "perfect         3\n",
      "keep            3\n",
      "item            3\n",
      "key             3\n",
      "time            3\n",
      "button          3\n",
      "arrive          3\n",
      "elevate         3\n",
      "say             3\n",
      "buy             3\n",
      "believe         3\n",
      "claim           3\n",
      "product         3\n",
      "always          3\n",
      "sister.         3\n",
      "products.       3\n",
      "almost          3\n",
      "phone.          3\n",
      "far             3\n",
      "make            3\n",
      "share           3\n",
      "protector.      3\n",
      "great.          3\n",
      "irritating.     3\n",
      "quality         3\n",
      "free            3\n",
      "get             3\n",
      "multiple        3\n",
      "Length: 77, dtype: int64\n"
     ]
    }
   ],
   "source": [
    "from nltk import ngrams, FreqDist\n",
    "\n",
    "s1 = pd.Series(clen_sentnc)\n",
    "print(s1.value_counts(normalize=False))"
   ]
  },
  {
   "cell_type": "markdown",
   "metadata": {},
   "source": [
    "# (to be continued................i should remove Punctuation)"
   ]
  }
 ],
 "metadata": {
  "kernelspec": {
   "display_name": "Python 3",
   "language": "python",
   "name": "python3"
  },
  "language_info": {
   "codemirror_mode": {
    "name": "ipython",
    "version": 3
   },
   "file_extension": ".py",
   "mimetype": "text/x-python",
   "name": "python",
   "nbconvert_exporter": "python",
   "pygments_lexer": "ipython3",
   "version": "3.7.0"
  }
 },
 "nbformat": 4,
 "nbformat_minor": 2
}
