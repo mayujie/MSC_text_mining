{
  "nbformat": 4,
  "nbformat_minor": 0,
  "metadata": {
    "colab": {
      "name": "RD_datasplit.ipynb",
      "provenance": [],
      "collapsed_sections": [],
      "toc_visible": true,
      "authorship_tag": "ABX9TyM4/ohyV6CKu0VvsFh+ivMh",
      "include_colab_link": true
    },
    "kernelspec": {
      "name": "python3",
      "display_name": "Python 3"
    },
    "accelerator": "GPU"
  },
  "cells": [
    {
      "cell_type": "markdown",
      "metadata": {
        "id": "view-in-github",
        "colab_type": "text"
      },
      "source": [
        "<a href=\"https://colab.research.google.com/github/mayujie/MSC_text_mining/blob/master/RD_datasplit.ipynb\" target=\"_parent\"><img src=\"https://colab.research.google.com/assets/colab-badge.svg\" alt=\"Open In Colab\"/></a>"
      ]
    },
    {
      "cell_type": "markdown",
      "metadata": {
        "id": "CjKGV9IHab8r",
        "colab_type": "text"
      },
      "source": [
        "# [Amazon product data](http://jmcauley.ucsd.edu/data/amazon/index_2014.html)\n",
        "# [Amazon product data Julian McAuley, UCSD](http://jmcauley.ucsd.edu/data/amazon/)\n",
        "Files\n",
        "\n",
        "\"Small\" subsets for experimentation\n"
      ]
    },
    {
      "cell_type": "code",
      "metadata": {
        "id": "_1ICU8miJ5nb",
        "colab_type": "code",
        "colab": {
          "base_uri": "https://localhost:8080/",
          "height": 34
        },
        "outputId": "787d63df-3291-4f54-b42b-d35911d398a9"
      },
      "source": [
        "from google.colab import drive\n",
        "drive.mount('/content/drive/')"
      ],
      "execution_count": null,
      "outputs": [
        {
          "output_type": "stream",
          "text": [
            "Mounted at /content/drive/\n"
          ],
          "name": "stdout"
        }
      ]
    },
    {
      "cell_type": "code",
      "metadata": {
        "id": "OZ1F1x-UKRWs",
        "colab_type": "code",
        "colab": {
          "base_uri": "https://localhost:8080/",
          "height": 35
        },
        "outputId": "c38acc76-b2a3-4601-8cb9-5031535d205c"
      },
      "source": [
        "root_path = '/content/drive/My Drive/Colab/MSC_RD'\n",
        "root_path"
      ],
      "execution_count": null,
      "outputs": [
        {
          "output_type": "execute_result",
          "data": {
            "application/vnd.google.colaboratory.intrinsic+json": {
              "type": "string"
            },
            "text/plain": [
              "'/content/drive/My Drive/Colab/MSC_RD'"
            ]
          },
          "metadata": {
            "tags": []
          },
          "execution_count": 2
        }
      ]
    },
    {
      "cell_type": "code",
      "metadata": {
        "id": "XpeNBKRxaWiH",
        "colab_type": "code",
        "colab": {
          "base_uri": "https://localhost:8080/",
          "height": 377
        },
        "outputId": "7abaaa33-5499-426e-da59-9a0f3f0d60b3"
      },
      "source": [
        "## Apps for Android\n",
        "!gdown https://drive.google.com/uc?id=14eS1vxf92AsdnfBWrB2AUDwGfLjMxtKX\n",
        "## Cell Phones and Accessories\n",
        "!gdown https://drive.google.com/uc?id=1CnQYjZ1QLkmZzoBoaQ-Wow7Y1NAU4rCm\n",
        "## Digital Music\n",
        "!gdown https://drive.google.com/uc?id=1z-zq13KMRy9Pqr16JFy1zVM4Vn38Nbr4\n",
        "## Movies and TV\n",
        "!gdown https://drive.google.com/uc?id=1WL5sM2IoTapTXb6L-ax4LUTMILH8n9Cc\n",
        "## Video Games\n",
        "!gdown https://drive.google.com/uc?id=1dHQ5U1PjvWt7asYBzB2kcYnd9kSnh4GE"
      ],
      "execution_count": null,
      "outputs": [
        {
          "output_type": "stream",
          "text": [
            "Downloading...\n",
            "From: https://drive.google.com/uc?id=14eS1vxf92AsdnfBWrB2AUDwGfLjMxtKX\n",
            "To: /content/reviews_Apps_for_Android_5.json.gz\n",
            "95.5MB [00:01, 78.5MB/s]\n",
            "Downloading...\n",
            "From: https://drive.google.com/uc?id=1CnQYjZ1QLkmZzoBoaQ-Wow7Y1NAU4rCm\n",
            "To: /content/reviews_Cell_Phones_and_Accessories_5.json.gz\n",
            "45.4MB [00:00, 73.9MB/s]\n",
            "Downloading...\n",
            "From: https://drive.google.com/uc?id=1z-zq13KMRy9Pqr16JFy1zVM4Vn38Nbr4\n",
            "To: /content/reviews_Digital_Music_5.json.gz\n",
            "32.1MB [00:00, 56.8MB/s]\n",
            "Downloading...\n",
            "From: https://drive.google.com/uc?id=1WL5sM2IoTapTXb6L-ax4LUTMILH8n9Cc\n",
            "To: /content/reviews_Movies_and_TV_5.json.gz\n",
            "709MB [00:07, 97.2MB/s]\n",
            "Downloading...\n",
            "From: https://drive.google.com/uc?id=1dHQ5U1PjvWt7asYBzB2kcYnd9kSnh4GE\n",
            "To: /content/reviews_Video_Games_5.json.gz\n",
            "113MB [00:00, 170MB/s]\n"
          ],
          "name": "stdout"
        }
      ]
    },
    {
      "cell_type": "code",
      "metadata": {
        "id": "bHTw4OWwGjtI",
        "colab_type": "code",
        "colab": {}
      },
      "source": [
        "!gunzip reviews_Apps_for_Android_5.json.gz\n",
        "!gunzip reviews_Cell_Phones_and_Accessories_5.json.gz\n",
        "!gunzip reviews_Digital_Music_5.json.gz\n",
        "!gunzip reviews_Movies_and_TV_5.json.gz\n",
        "!gunzip reviews_Video_Games_5.json.gz"
      ],
      "execution_count": null,
      "outputs": []
    },
    {
      "cell_type": "code",
      "metadata": {
        "id": "CR1J6-LGHMc9",
        "colab_type": "code",
        "colab": {
          "base_uri": "https://localhost:8080/",
          "height": 107
        },
        "outputId": "6289a205-cc2c-4481-aa67-82c3265ba560"
      },
      "source": [
        "!ls -lh *.json"
      ],
      "execution_count": null,
      "outputs": [
        {
          "output_type": "stream",
          "text": [
            "-rw-r--r-- 1 root root 322M Sep 23 09:50 reviews_Apps_for_Android_5.json\n",
            "-rw-r--r-- 1 root root 136M Sep 23 09:50 reviews_Cell_Phones_and_Accessories_5.json\n",
            "-rw-r--r-- 1 root root  85M Sep 23 09:50 reviews_Digital_Music_5.json\n",
            "-rw-r--r-- 1 root root 1.9G Sep 23 09:50 reviews_Movies_and_TV_5.json\n",
            "-rw-r--r-- 1 root root 305M Sep 23 09:50 reviews_Video_Games_5.json\n"
          ],
          "name": "stdout"
        }
      ]
    },
    {
      "cell_type": "code",
      "metadata": {
        "id": "7MafXVaKEYWC",
        "colab_type": "code",
        "colab": {}
      },
      "source": [
        "import pandas as pd\n",
        "import numpy as np\n",
        "\n",
        "# Read in json data\n",
        "df_apps = pd.read_json(\"/content/reviews_Apps_for_Android_5.json\", lines=True)\n",
        "df_phones = pd.read_json(\"/content/reviews_Cell_Phones_and_Accessories_5.json\", lines=True)\n",
        "df_music = pd.read_json(\"/content/reviews_Digital_Music_5.json\", lines=True)\n",
        "df_movies = pd.read_json(\"/content/reviews_Movies_and_TV_5.json\", lines=True)\n",
        "df_games = pd.read_json(\"/content/reviews_Video_Games_5.json\", lines=True)"
      ],
      "execution_count": null,
      "outputs": []
    },
    {
      "cell_type": "code",
      "metadata": {
        "id": "BzvsCSYmIF6Y",
        "colab_type": "code",
        "colab": {
          "base_uri": "https://localhost:8080/",
          "height": 107
        },
        "outputId": "0941a242-895d-433c-fb93-a18b12cc30a8"
      },
      "source": [
        "print(df_apps.columns)\n",
        "# Number of reviews: 2941395\n",
        "print(sum([len(df_apps), len(df_phones), len(df_music), len(df_movies), len(df_games)]))\n",
        "# Each data's shape\n",
        "df_apps.shape, df_phones.shape, df_music.shape, df_movies.shape, df_games.shape"
      ],
      "execution_count": null,
      "outputs": [
        {
          "output_type": "stream",
          "text": [
            "Index(['reviewerID', 'asin', 'reviewerName', 'helpful', 'reviewText',\n",
            "       'overall', 'summary', 'unixReviewTime', 'reviewTime'],\n",
            "      dtype='object')\n",
            "2941395\n"
          ],
          "name": "stdout"
        },
        {
          "output_type": "execute_result",
          "data": {
            "text/plain": [
              "((752937, 9), (194439, 9), (64706, 9), (1697533, 9), (231780, 9))"
            ]
          },
          "metadata": {
            "tags": []
          },
          "execution_count": 8
        }
      ]
    },
    {
      "cell_type": "code",
      "metadata": {
        "id": "wM23bGKUPB5R",
        "colab_type": "code",
        "colab": {
          "base_uri": "https://localhost:8080/",
          "height": 589
        },
        "outputId": "df340b2c-95ad-4c7b-ccbe-ffa73eb0fe81"
      },
      "source": [
        "# concatenate the dataframes\n",
        "df = pd.concat([df_apps, df_phones, df_music, df_movies, df_games])\n",
        "# Number of reviews: 2941395\n",
        "df"
      ],
      "execution_count": null,
      "outputs": [
        {
          "output_type": "execute_result",
          "data": {
            "text/html": [
              "<div>\n",
              "<style scoped>\n",
              "    .dataframe tbody tr th:only-of-type {\n",
              "        vertical-align: middle;\n",
              "    }\n",
              "\n",
              "    .dataframe tbody tr th {\n",
              "        vertical-align: top;\n",
              "    }\n",
              "\n",
              "    .dataframe thead th {\n",
              "        text-align: right;\n",
              "    }\n",
              "</style>\n",
              "<table border=\"1\" class=\"dataframe\">\n",
              "  <thead>\n",
              "    <tr style=\"text-align: right;\">\n",
              "      <th></th>\n",
              "      <th>reviewerID</th>\n",
              "      <th>asin</th>\n",
              "      <th>reviewerName</th>\n",
              "      <th>helpful</th>\n",
              "      <th>reviewText</th>\n",
              "      <th>overall</th>\n",
              "      <th>summary</th>\n",
              "      <th>unixReviewTime</th>\n",
              "      <th>reviewTime</th>\n",
              "    </tr>\n",
              "  </thead>\n",
              "  <tbody>\n",
              "    <tr>\n",
              "      <th>0</th>\n",
              "      <td>A1N4O8VOJZTDVB</td>\n",
              "      <td>B004A9SDD8</td>\n",
              "      <td>Annette Yancey</td>\n",
              "      <td>[1, 1]</td>\n",
              "      <td>Loves the song, so he really couldn't wait to ...</td>\n",
              "      <td>3</td>\n",
              "      <td>Really cute</td>\n",
              "      <td>1383350400</td>\n",
              "      <td>11 2, 2013</td>\n",
              "    </tr>\n",
              "    <tr>\n",
              "      <th>1</th>\n",
              "      <td>A2HQWU6HUKIEC7</td>\n",
              "      <td>B004A9SDD8</td>\n",
              "      <td>Audiobook lover \"Kathy\"</td>\n",
              "      <td>[0, 0]</td>\n",
              "      <td>Oh, how my little grandson loves this app. He'...</td>\n",
              "      <td>5</td>\n",
              "      <td>2-year-old loves it</td>\n",
              "      <td>1323043200</td>\n",
              "      <td>12 5, 2011</td>\n",
              "    </tr>\n",
              "    <tr>\n",
              "      <th>2</th>\n",
              "      <td>A1SXASF6GYG96I</td>\n",
              "      <td>B004A9SDD8</td>\n",
              "      <td>Barbara Gibbs</td>\n",
              "      <td>[0, 0]</td>\n",
              "      <td>I found this at a perfect time since my daught...</td>\n",
              "      <td>5</td>\n",
              "      <td>Fun game</td>\n",
              "      <td>1337558400</td>\n",
              "      <td>05 21, 2012</td>\n",
              "    </tr>\n",
              "    <tr>\n",
              "      <th>3</th>\n",
              "      <td>A2B54P9ZDYH167</td>\n",
              "      <td>B004A9SDD8</td>\n",
              "      <td>Brooke Greenstreet \"Babylove\"</td>\n",
              "      <td>[3, 4]</td>\n",
              "      <td>My 1 year old goes back to this game over and ...</td>\n",
              "      <td>5</td>\n",
              "      <td>We love our Monkeys!</td>\n",
              "      <td>1354752000</td>\n",
              "      <td>12 6, 2012</td>\n",
              "    </tr>\n",
              "    <tr>\n",
              "      <th>4</th>\n",
              "      <td>AFOFZDTX5UC6D</td>\n",
              "      <td>B004A9SDD8</td>\n",
              "      <td>C. Galindo</td>\n",
              "      <td>[1, 1]</td>\n",
              "      <td>There are three different versions of the song...</td>\n",
              "      <td>5</td>\n",
              "      <td>This is my granddaughters favorite app on my K...</td>\n",
              "      <td>1391212800</td>\n",
              "      <td>02 1, 2014</td>\n",
              "    </tr>\n",
              "    <tr>\n",
              "      <th>...</th>\n",
              "      <td>...</td>\n",
              "      <td>...</td>\n",
              "      <td>...</td>\n",
              "      <td>...</td>\n",
              "      <td>...</td>\n",
              "      <td>...</td>\n",
              "      <td>...</td>\n",
              "      <td>...</td>\n",
              "      <td>...</td>\n",
              "    </tr>\n",
              "    <tr>\n",
              "      <th>231775</th>\n",
              "      <td>A1ICREREXO9J81</td>\n",
              "      <td>B00KHECZXO</td>\n",
              "      <td>Frustrated gamer</td>\n",
              "      <td>[0, 1]</td>\n",
              "      <td>Funny people on here are rating sellers that a...</td>\n",
              "      <td>5</td>\n",
              "      <td>this is for rating the system not the seller</td>\n",
              "      <td>1405814400</td>\n",
              "      <td>07 20, 2014</td>\n",
              "    </tr>\n",
              "    <tr>\n",
              "      <th>231776</th>\n",
              "      <td>A3VVMIMMTYQV5F</td>\n",
              "      <td>B00KHECZXO</td>\n",
              "      <td>Johnny Saigon</td>\n",
              "      <td>[8, 11]</td>\n",
              "      <td>All this is is the Deluxe 32GB Wii U with Mari...</td>\n",
              "      <td>1</td>\n",
              "      <td>Get the Other Bundle Which Includes Extra Whee...</td>\n",
              "      <td>1403308800</td>\n",
              "      <td>06 21, 2014</td>\n",
              "    </tr>\n",
              "    <tr>\n",
              "      <th>231777</th>\n",
              "      <td>A1DD4B97M4DUC5</td>\n",
              "      <td>B00KHECZXO</td>\n",
              "      <td>migit</td>\n",
              "      <td>[62, 66]</td>\n",
              "      <td>The package should have more red on it and sho...</td>\n",
              "      <td>1</td>\n",
              "      <td>Fake bundle</td>\n",
              "      <td>1401321600</td>\n",
              "      <td>05 29, 2014</td>\n",
              "    </tr>\n",
              "    <tr>\n",
              "      <th>231778</th>\n",
              "      <td>A2Q9CNJ4T6ZK99</td>\n",
              "      <td>B00KHECZXO</td>\n",
              "      <td>Philip Brown \"Philip &amp; Chana\"</td>\n",
              "      <td>[33, 36]</td>\n",
              "      <td>Can get this at Newegg for $329.00 and the pac...</td>\n",
              "      <td>1</td>\n",
              "      <td>Looks Like We Have Gougers Again.</td>\n",
              "      <td>1401667200</td>\n",
              "      <td>06 2, 2014</td>\n",
              "    </tr>\n",
              "    <tr>\n",
              "      <th>231779</th>\n",
              "      <td>A27CD59R5U58GG</td>\n",
              "      <td>B00KHECZXO</td>\n",
              "      <td>ThommyGunn</td>\n",
              "      <td>[23, 28]</td>\n",
              "      <td>This is not real, you can go to ANY retail sto...</td>\n",
              "      <td>1</td>\n",
              "      <td>DO NOT BUY HERE LOOKS TO BE EUROPEAN VERSION</td>\n",
              "      <td>1401840000</td>\n",
              "      <td>06 4, 2014</td>\n",
              "    </tr>\n",
              "  </tbody>\n",
              "</table>\n",
              "<p>2941395 rows × 9 columns</p>\n",
              "</div>"
            ],
            "text/plain": [
              "            reviewerID        asin  ... unixReviewTime   reviewTime\n",
              "0       A1N4O8VOJZTDVB  B004A9SDD8  ...     1383350400   11 2, 2013\n",
              "1       A2HQWU6HUKIEC7  B004A9SDD8  ...     1323043200   12 5, 2011\n",
              "2       A1SXASF6GYG96I  B004A9SDD8  ...     1337558400  05 21, 2012\n",
              "3       A2B54P9ZDYH167  B004A9SDD8  ...     1354752000   12 6, 2012\n",
              "4        AFOFZDTX5UC6D  B004A9SDD8  ...     1391212800   02 1, 2014\n",
              "...                ...         ...  ...            ...          ...\n",
              "231775  A1ICREREXO9J81  B00KHECZXO  ...     1405814400  07 20, 2014\n",
              "231776  A3VVMIMMTYQV5F  B00KHECZXO  ...     1403308800  06 21, 2014\n",
              "231777  A1DD4B97M4DUC5  B00KHECZXO  ...     1401321600  05 29, 2014\n",
              "231778  A2Q9CNJ4T6ZK99  B00KHECZXO  ...     1401667200   06 2, 2014\n",
              "231779  A27CD59R5U58GG  B00KHECZXO  ...     1401840000   06 4, 2014\n",
              "\n",
              "[2941395 rows x 9 columns]"
            ]
          },
          "metadata": {
            "tags": []
          },
          "execution_count": 9
        }
      ]
    },
    {
      "cell_type": "markdown",
      "metadata": {
        "id": "iK2UzChhSPbX",
        "colab_type": "text"
      },
      "source": [
        "# Exploring dataset"
      ]
    },
    {
      "cell_type": "code",
      "metadata": {
        "id": "kIdBSTMyRsQ-",
        "colab_type": "code",
        "colab": {
          "base_uri": "https://localhost:8080/",
          "height": 71
        },
        "outputId": "29767423-65f0-4015-9ee6-4b5c0d15cb46"
      },
      "source": [
        "print('Total number of reviews: ' ,len(df['reviewerID']))\n",
        "print('Number of unique reviewers: ',len(df['reviewerID'].unique()))\n",
        "print('Number of unique products: ',len(df['asin'].unique()))"
      ],
      "execution_count": null,
      "outputs": [
        {
          "output_type": "stream",
          "text": [
            "Total number of reviews:  2941395\n",
            "Number of unique reviewers:  253089\n",
            "Number of unique products:  87876\n"
          ],
          "name": "stdout"
        }
      ]
    },
    {
      "cell_type": "markdown",
      "metadata": {
        "id": "r4P-FfWQLHCe",
        "colab_type": "text"
      },
      "source": [
        "# Sample data review:\n",
        "where\n",
        "\n",
        "* reviewerID - ID of the reviewer, e.g. A2SUAM1J3GNN3B\n",
        "* asin - ID of the product, e.g. 0000013714\n",
        "* reviewerName - name of the reviewer\n",
        "* helpful - helpfulness rating of the review, e.g. 2/3\n",
        "* reviewText - text of the review\n",
        "* overall - rating of the product\n",
        "* summary - summary of the review\n",
        "* unixReviewTime - time of the review (unix time)\n",
        "* reviewTime - time of the review (raw)"
      ]
    },
    {
      "cell_type": "markdown",
      "metadata": {
        "id": "ZKQUPvgYWkj7",
        "colab_type": "text"
      },
      "source": [
        "For training embedding using word2vec, we only focus on 'reviewText'."
      ]
    },
    {
      "cell_type": "code",
      "metadata": {
        "id": "Z-ekqCRnK3eS",
        "colab_type": "code",
        "colab": {
          "base_uri": "https://localhost:8080/",
          "height": 199
        },
        "outputId": "a0831bef-187e-4885-fbd1-15cd06236c7a"
      },
      "source": [
        "# text = df['reviewText']\n",
        "# print(text.iloc[1])\n",
        "# print()\n",
        "# print(text.iloc[[1]].values)\n",
        "\n",
        "## Get the review text from dataframe\n",
        "# review array\n",
        "text = df['reviewText'].values\n",
        "print(len(text))\n",
        "text"
      ],
      "execution_count": null,
      "outputs": [
        {
          "output_type": "stream",
          "text": [
            "2941395\n"
          ],
          "name": "stdout"
        },
        {
          "output_type": "execute_result",
          "data": {
            "text/plain": [
              "array([\"Loves the song, so he really couldn't wait to play this. A little less interesting for him so he doesn't play long, but he is almost 3 and likes to play the older games, but really cute for a younger child.\",\n",
              "       'Oh, how my little grandson loves this app. He\\'s always asking for \"Monkey.\" Grandma has tired of it long before he has. Finding the items on each page that he can touch and activate is endlessly entertaining for him, at least for now. Well worth the $.99.',\n",
              "       \"I found this at a perfect time since my daughter's favorite song at the moment is five little monkeys. It's easy for little ones to operate and fun with all the things you can play with. The different generes are nice too, gives its a little variety.  Worth the money. Highly recommended!\",\n",
              "       ...,\n",
              "       \"The package should have more red on it and show a steering wheel.  It's retail value is $330... not $420 + shipping..The real bundle is on amazon here: http://smile.amazon.com/Nintendo-Wii-Mario-Kart-Deluxe-Set/dp/B00JXCIT7M/ref=pd_cp_vg_2It's still extremely overpriced though...\",\n",
              "       'Can get this at Newegg for $329.00 and the packaging here is alittle off. Mine just arrived and the box was Red.',\n",
              "       \"This is not real, you can go to ANY retail store just about, Target, walmart, best buy, gamestop, heck even Newegg online, get the proper bundle with a wheel and extra remote, so you can play 2 player right out of the box for only $330!!  This is a rip off, someone trying to cash in on Amazon NOT having the actual product themselves.  Don't be fooled, shop around!  I got mine at gamestop and couldn't be more happier.  Plus its a red box, this is a little goofy, unless its the overseas version, which i heard still kept their game box blue, which is shown in the picture.  Just be warned.\"],\n",
              "      dtype=object)"
            ]
          },
          "metadata": {
            "tags": []
          },
          "execution_count": 12
        }
      ]
    },
    {
      "cell_type": "code",
      "metadata": {
        "id": "eLIxkitNPa7L",
        "colab_type": "code",
        "colab": {
          "base_uri": "https://localhost:8080/",
          "height": 145
        },
        "outputId": "1b1a35db-e18b-4722-d58b-0a27a8df51c6"
      },
      "source": [
        "## review array to list\n",
        "text_ls = text.tolist()\n",
        "print(len(text_ls))\n",
        "text_ls[:5]"
      ],
      "execution_count": null,
      "outputs": [
        {
          "output_type": "stream",
          "text": [
            "2941395\n"
          ],
          "name": "stdout"
        },
        {
          "output_type": "execute_result",
          "data": {
            "text/plain": [
              "[\"Loves the song, so he really couldn't wait to play this. A little less interesting for him so he doesn't play long, but he is almost 3 and likes to play the older games, but really cute for a younger child.\",\n",
              " 'Oh, how my little grandson loves this app. He\\'s always asking for \"Monkey.\" Grandma has tired of it long before he has. Finding the items on each page that he can touch and activate is endlessly entertaining for him, at least for now. Well worth the $.99.',\n",
              " \"I found this at a perfect time since my daughter's favorite song at the moment is five little monkeys. It's easy for little ones to operate and fun with all the things you can play with. The different generes are nice too, gives its a little variety.  Worth the money. Highly recommended!\",\n",
              " \"My 1 year old goes back to this game over and over again.  It is simple but very easy for a toddler to use.  I've even caught my 5 year old playing it as well.  Good app for little guys!\",\n",
              " \"There are three different versions of the song. The game itself keeps her occupied as everything she clicks on does something! There is an airplane that flies around the room, a telephone that rings and is plays a message, the lamp turns off the light and you see the monkeys eyes going up and down in the dark, a dog that barks when you click the window and then chases a cat out from under the bed every third time, the picture on the wall becomes an interactive portrait, the traffic light stops/starts the monkeys jumping, alarm clock rings, plant grows (and produces bananas), ball bounces, toy truck rumbles and honks.... lots to keep a toddler occupied! Oh! The monkeys jump on and fall off the bed! Mama calls the doctor, etc! It's great.\"]"
            ]
          },
          "metadata": {
            "tags": []
          },
          "execution_count": 13
        }
      ]
    },
    {
      "cell_type": "code",
      "metadata": {
        "id": "KRcnc16YZaBx",
        "colab_type": "code",
        "colab": {
          "base_uri": "https://localhost:8080/",
          "height": 197
        },
        "outputId": "d7194398-f2e2-4f3e-b78b-12da6abbe333"
      },
      "source": [
        "%whos"
      ],
      "execution_count": null,
      "outputs": [
        {
          "output_type": "stream",
          "text": [
            "Variable    Type         Data/Info\n",
            "----------------------------------\n",
            "drive       module       <module 'google.colab.dri<...>s/google/colab/drive.py'>\n",
            "match       SRE_Match    <_sre.SRE_Match object; s<...>intendo-Wii-Mario-Kart-D>\n",
            "np          module       <module 'numpy' from '/us<...>kages/numpy/__init__.py'>\n",
            "pd          module       <module 'pandas' from '/u<...>ages/pandas/__init__.py'>\n",
            "re          module       <module 're' from '/usr/lib/python3.6/re.py'>\n",
            "root_path   str          /content/drive/My Drive/Colab/MSC_RD\n",
            "text        ndarray      2941395: 2941395 elems, type `object`, 23531160 bytes (22.441062927246094 Mb)\n",
            "text_ls     list         n=2941395\n"
          ],
          "name": "stdout"
        }
      ]
    },
    {
      "cell_type": "code",
      "metadata": {
        "id": "bu8X6B-aaxK5",
        "colab_type": "code",
        "colab": {}
      },
      "source": [
        "## reduce memory\n",
        "del df, df_apps, df_games, df_movies, df_music, df_phones"
      ],
      "execution_count": null,
      "outputs": []
    },
    {
      "cell_type": "code",
      "metadata": {
        "id": "8JZ5QTZPa9Ro",
        "colab_type": "code",
        "colab": {
          "base_uri": "https://localhost:8080/",
          "height": 109
        },
        "outputId": "1c679684-f3ff-4fd8-ea32-c80482927f3d"
      },
      "source": [
        "print(text.tolist()[1])\n",
        "print(text.tolist()[2941392])\n",
        "import re\n",
        "match = re.search(r'http.?://[^\\s]+[\\s]?', text.tolist()[2941392])\n",
        "print('\\n', match)"
      ],
      "execution_count": null,
      "outputs": [
        {
          "output_type": "stream",
          "text": [
            "Oh, how my little grandson loves this app. He's always asking for \"Monkey.\" Grandma has tired of it long before he has. Finding the items on each page that he can touch and activate is endlessly entertaining for him, at least for now. Well worth the $.99.\n",
            "The package should have more red on it and show a steering wheel.  It's retail value is $330... not $420 + shipping..The real bundle is on amazon here: http://smile.amazon.com/Nintendo-Wii-Mario-Kart-Deluxe-Set/dp/B00JXCIT7M/ref=pd_cp_vg_2It's still extremely overpriced though...\n",
            "\n",
            " <_sre.SRE_Match object; span=(152, 244), match=\"http://smile.amazon.com/Nintendo-Wii-Mario-Kart-D>\n"
          ],
          "name": "stdout"
        }
      ]
    },
    {
      "cell_type": "markdown",
      "metadata": {
        "id": "dBulOdHrb7-B",
        "colab_type": "text"
      },
      "source": [
        "**Remove all json file**"
      ]
    },
    {
      "cell_type": "code",
      "metadata": {
        "id": "OI9a_KRMb7Z8",
        "colab_type": "code",
        "colab": {}
      },
      "source": [
        "!rm *.json"
      ],
      "execution_count": null,
      "outputs": []
    },
    {
      "cell_type": "markdown",
      "metadata": {
        "id": "qdfa7D4lWErh",
        "colab_type": "text"
      },
      "source": [
        "## **Write into text file**"
      ]
    },
    {
      "cell_type": "code",
      "metadata": {
        "id": "yshOE47-I85K",
        "colab_type": "code",
        "cellView": "both",
        "colab": {}
      },
      "source": [
        "# write into text file\n",
        "with open('reviews_text.txt', 'w') as f:\n",
        "    for row in text_ls:\n",
        "        f.write(\"%s\\n\" % row)"
      ],
      "execution_count": null,
      "outputs": []
    },
    {
      "cell_type": "code",
      "metadata": {
        "id": "Jybv9AlfcoWJ",
        "colab_type": "code",
        "colab": {
          "base_uri": "https://localhost:8080/",
          "height": 35
        },
        "outputId": "aba58cb6-9645-4bf2-e855-6004d607360d"
      },
      "source": [
        "## Compress review text into zip file\n",
        "!zip \"{root_path}\"/reviews_text.zip reviews_text.txt"
      ],
      "execution_count": null,
      "outputs": [
        {
          "output_type": "stream",
          "text": [
            "  adding: reviews_text.txt (deflated 62%)\n"
          ],
          "name": "stdout"
        }
      ]
    },
    {
      "cell_type": "markdown",
      "metadata": {
        "id": "FlgJuxzLWHmJ",
        "colab_type": "text"
      },
      "source": [
        "## **Read from text file**"
      ]
    },
    {
      "cell_type": "code",
      "metadata": {
        "id": "guhbYRwvf0yT",
        "colab_type": "code",
        "colab": {
          "base_uri": "https://localhost:8080/",
          "height": 84
        },
        "outputId": "aad05a87-d48c-41de-ecbb-ff0911f6a53c"
      },
      "source": [
        "### download text data\n",
        "!gdown https://drive.google.com/uc?id=1-8kxAlFhCRuzqrep5YETQKm0EWIf21oW"
      ],
      "execution_count": null,
      "outputs": [
        {
          "output_type": "stream",
          "text": [
            "Downloading...\n",
            "From: https://drive.google.com/uc?id=1-8kxAlFhCRuzqrep5YETQKm0EWIf21oW\n",
            "To: /content/reviews_text.zip\n",
            "814MB [00:03, 206MB/s]\n"
          ],
          "name": "stdout"
        }
      ]
    },
    {
      "cell_type": "code",
      "metadata": {
        "id": "q0H52XaxgE3_",
        "colab_type": "code",
        "colab": {
          "base_uri": "https://localhost:8080/",
          "height": 50
        },
        "outputId": "d37d923d-2b45-4757-8ae9-e3881d0ce0b8"
      },
      "source": [
        "!unzip reviews_text.zip "
      ],
      "execution_count": null,
      "outputs": [
        {
          "output_type": "stream",
          "text": [
            "Archive:  reviews_text.zip\n",
            "  inflating: reviews_text.txt        \n"
          ],
          "name": "stdout"
        }
      ]
    },
    {
      "cell_type": "code",
      "metadata": {
        "id": "CMxjhQjwg-xp",
        "colab_type": "code",
        "colab": {}
      },
      "source": [
        "!rm /content/reviews_text.zip"
      ],
      "execution_count": null,
      "outputs": []
    },
    {
      "cell_type": "code",
      "metadata": {
        "id": "Iqj_r2TMYbsx",
        "colab_type": "code",
        "colab": {}
      },
      "source": [
        "handle_list = []\n",
        "with open('/content/reviews_text.txt', 'r') as file:\n",
        "  for line in file:\n",
        "    handle_list.append(line)"
      ],
      "execution_count": 11,
      "outputs": []
    },
    {
      "cell_type": "code",
      "metadata": {
        "id": "dT_5bG8oaCHX",
        "colab_type": "code",
        "colab": {
          "base_uri": "https://localhost:8080/",
          "height": 69
        },
        "outputId": "8fcb7d79-ba83-4bfc-9247-744301e67d56"
      },
      "source": [
        "print(len(handle_list))\n",
        "handle_list[1]"
      ],
      "execution_count": 12,
      "outputs": [
        {
          "output_type": "stream",
          "text": [
            "2941395\n"
          ],
          "name": "stdout"
        },
        {
          "output_type": "execute_result",
          "data": {
            "application/vnd.google.colaboratory.intrinsic+json": {
              "type": "string"
            },
            "text/plain": [
              "'Oh, how my little grandson loves this app. He\\'s always asking for \"Monkey.\" Grandma has tired of it long before he has. Finding the items on each page that he can touch and activate is endlessly entertaining for him, at least for now. Well worth the $.99.\\n'"
            ]
          },
          "metadata": {
            "tags": []
          },
          "execution_count": 12
        }
      ]
    },
    {
      "cell_type": "code",
      "metadata": {
        "id": "mZj_pM9b97Yr",
        "colab_type": "code",
        "colab": {
          "base_uri": "https://localhost:8080/",
          "height": 121
        },
        "outputId": "04e7314f-449d-4317-f997-0c5b618e7f9e"
      },
      "source": [
        "handle_list[:5]"
      ],
      "execution_count": 13,
      "outputs": [
        {
          "output_type": "execute_result",
          "data": {
            "text/plain": [
              "[\"Loves the song, so he really couldn't wait to play this. A little less interesting for him so he doesn't play long, but he is almost 3 and likes to play the older games, but really cute for a younger child.\\n\",\n",
              " 'Oh, how my little grandson loves this app. He\\'s always asking for \"Monkey.\" Grandma has tired of it long before he has. Finding the items on each page that he can touch and activate is endlessly entertaining for him, at least for now. Well worth the $.99.\\n',\n",
              " \"I found this at a perfect time since my daughter's favorite song at the moment is five little monkeys. It's easy for little ones to operate and fun with all the things you can play with. The different generes are nice too, gives its a little variety.  Worth the money. Highly recommended!\\n\",\n",
              " \"My 1 year old goes back to this game over and over again.  It is simple but very easy for a toddler to use.  I've even caught my 5 year old playing it as well.  Good app for little guys!\\n\",\n",
              " \"There are three different versions of the song. The game itself keeps her occupied as everything she clicks on does something! There is an airplane that flies around the room, a telephone that rings and is plays a message, the lamp turns off the light and you see the monkeys eyes going up and down in the dark, a dog that barks when you click the window and then chases a cat out from under the bed every third time, the picture on the wall becomes an interactive portrait, the traffic light stops/starts the monkeys jumping, alarm clock rings, plant grows (and produces bananas), ball bounces, toy truck rumbles and honks.... lots to keep a toddler occupied! Oh! The monkeys jump on and fall off the bed! Mama calls the doctor, etc! It's great.\\n\"]"
            ]
          },
          "metadata": {
            "tags": []
          },
          "execution_count": 13
        }
      ]
    },
    {
      "cell_type": "code",
      "metadata": {
        "id": "Jh9IgraJ--PV",
        "colab_type": "code",
        "colab": {
          "base_uri": "https://localhost:8080/",
          "height": 121
        },
        "outputId": "339fd283-6dba-4a6d-fe25-8c713e3f89c6"
      },
      "source": [
        "text_ls = map(lambda s: s.strip(), handle_list)\n",
        "text_ls = list(text_ls)\n",
        "text_ls[:5]"
      ],
      "execution_count": 18,
      "outputs": [
        {
          "output_type": "execute_result",
          "data": {
            "text/plain": [
              "[\"Loves the song, so he really couldn't wait to play this. A little less interesting for him so he doesn't play long, but he is almost 3 and likes to play the older games, but really cute for a younger child.\",\n",
              " 'Oh, how my little grandson loves this app. He\\'s always asking for \"Monkey.\" Grandma has tired of it long before he has. Finding the items on each page that he can touch and activate is endlessly entertaining for him, at least for now. Well worth the $.99.',\n",
              " \"I found this at a perfect time since my daughter's favorite song at the moment is five little monkeys. It's easy for little ones to operate and fun with all the things you can play with. The different generes are nice too, gives its a little variety.  Worth the money. Highly recommended!\",\n",
              " \"My 1 year old goes back to this game over and over again.  It is simple but very easy for a toddler to use.  I've even caught my 5 year old playing it as well.  Good app for little guys!\",\n",
              " \"There are three different versions of the song. The game itself keeps her occupied as everything she clicks on does something! There is an airplane that flies around the room, a telephone that rings and is plays a message, the lamp turns off the light and you see the monkeys eyes going up and down in the dark, a dog that barks when you click the window and then chases a cat out from under the bed every third time, the picture on the wall becomes an interactive portrait, the traffic light stops/starts the monkeys jumping, alarm clock rings, plant grows (and produces bananas), ball bounces, toy truck rumbles and honks.... lots to keep a toddler occupied! Oh! The monkeys jump on and fall off the bed! Mama calls the doctor, etc! It's great.\"]"
            ]
          },
          "metadata": {
            "tags": []
          },
          "execution_count": 18
        }
      ]
    },
    {
      "cell_type": "code",
      "metadata": {
        "id": "Eav3phnFbgxv",
        "colab_type": "code",
        "colab": {
          "base_uri": "https://localhost:8080/",
          "height": 402
        },
        "outputId": "36c4d354-1783-4860-c565-4b48efebe59d"
      },
      "source": [
        "import pandas as pd\n",
        "data = pd.DataFrame(text_ls) \n",
        "data"
      ],
      "execution_count": 19,
      "outputs": [
        {
          "output_type": "execute_result",
          "data": {
            "text/html": [
              "<div>\n",
              "<style scoped>\n",
              "    .dataframe tbody tr th:only-of-type {\n",
              "        vertical-align: middle;\n",
              "    }\n",
              "\n",
              "    .dataframe tbody tr th {\n",
              "        vertical-align: top;\n",
              "    }\n",
              "\n",
              "    .dataframe thead th {\n",
              "        text-align: right;\n",
              "    }\n",
              "</style>\n",
              "<table border=\"1\" class=\"dataframe\">\n",
              "  <thead>\n",
              "    <tr style=\"text-align: right;\">\n",
              "      <th></th>\n",
              "      <th>0</th>\n",
              "    </tr>\n",
              "  </thead>\n",
              "  <tbody>\n",
              "    <tr>\n",
              "      <th>0</th>\n",
              "      <td>Loves the song, so he really couldn't wait to ...</td>\n",
              "    </tr>\n",
              "    <tr>\n",
              "      <th>1</th>\n",
              "      <td>Oh, how my little grandson loves this app. He'...</td>\n",
              "    </tr>\n",
              "    <tr>\n",
              "      <th>2</th>\n",
              "      <td>I found this at a perfect time since my daught...</td>\n",
              "    </tr>\n",
              "    <tr>\n",
              "      <th>3</th>\n",
              "      <td>My 1 year old goes back to this game over and ...</td>\n",
              "    </tr>\n",
              "    <tr>\n",
              "      <th>4</th>\n",
              "      <td>There are three different versions of the song...</td>\n",
              "    </tr>\n",
              "    <tr>\n",
              "      <th>...</th>\n",
              "      <td>...</td>\n",
              "    </tr>\n",
              "    <tr>\n",
              "      <th>2941390</th>\n",
              "      <td>Funny people on here are rating sellers that a...</td>\n",
              "    </tr>\n",
              "    <tr>\n",
              "      <th>2941391</th>\n",
              "      <td>All this is is the Deluxe 32GB Wii U with Mari...</td>\n",
              "    </tr>\n",
              "    <tr>\n",
              "      <th>2941392</th>\n",
              "      <td>The package should have more red on it and sho...</td>\n",
              "    </tr>\n",
              "    <tr>\n",
              "      <th>2941393</th>\n",
              "      <td>Can get this at Newegg for $329.00 and the pac...</td>\n",
              "    </tr>\n",
              "    <tr>\n",
              "      <th>2941394</th>\n",
              "      <td>This is not real, you can go to ANY retail sto...</td>\n",
              "    </tr>\n",
              "  </tbody>\n",
              "</table>\n",
              "<p>2941395 rows × 1 columns</p>\n",
              "</div>"
            ],
            "text/plain": [
              "                                                         0\n",
              "0        Loves the song, so he really couldn't wait to ...\n",
              "1        Oh, how my little grandson loves this app. He'...\n",
              "2        I found this at a perfect time since my daught...\n",
              "3        My 1 year old goes back to this game over and ...\n",
              "4        There are three different versions of the song...\n",
              "...                                                    ...\n",
              "2941390  Funny people on here are rating sellers that a...\n",
              "2941391  All this is is the Deluxe 32GB Wii U with Mari...\n",
              "2941392  The package should have more red on it and sho...\n",
              "2941393  Can get this at Newegg for $329.00 and the pac...\n",
              "2941394  This is not real, you can go to ANY retail sto...\n",
              "\n",
              "[2941395 rows x 1 columns]"
            ]
          },
          "metadata": {
            "tags": []
          },
          "execution_count": 19
        }
      ]
    },
    {
      "cell_type": "markdown",
      "metadata": {
        "id": "yvJ5CpdPJ07r",
        "colab_type": "text"
      },
      "source": [
        "stopwards removal will not consider in this case "
      ]
    },
    {
      "cell_type": "code",
      "metadata": {
        "id": "UGyZqIvJ0w9K",
        "colab_type": "code",
        "colab": {}
      },
      "source": [
        "# from nltk.corpus import stopwords\n",
        "# import nltk\n",
        "# nltk.download('stopwords')\n",
        "# stopwords_list = stopwords.words('english')\n",
        "# print(stopwords_list)\n",
        "# len(stopwords_list)"
      ],
      "execution_count": 20,
      "outputs": []
    },
    {
      "cell_type": "markdown",
      "metadata": {
        "id": "iD-7DJqQljDO",
        "colab_type": "text"
      },
      "source": [
        "# Exploring noise in dataset"
      ]
    },
    {
      "cell_type": "code",
      "metadata": {
        "id": "mx2xoGEV1hYG",
        "colab_type": "code",
        "colab": {
          "base_uri": "https://localhost:8080/",
          "height": 168
        },
        "outputId": "11c27edf-4e4c-4bd4-de55-7856fd615581"
      },
      "source": [
        "%whos"
      ],
      "execution_count": 21,
      "outputs": [
        {
          "output_type": "stream",
          "text": [
            "Variable      Type             Data/Info\n",
            "----------------------------------------\n",
            "data          DataFrame                                 <...>2941395 rows x 1 columns]\n",
            "file          TextIOWrapper    <_io.TextIOWrapper name='<...>ode='r' encoding='UTF-8'>\n",
            "handle_list   list             n=2941395\n",
            "line          str              This is not real, you can<...>cture.  Just be warned.\\n\n",
            "pd            module           <module 'pandas' from '/u<...>ages/pandas/__init__.py'>\n",
            "test_ls       list             n=2941395\n",
            "text_ls       list             n=2941395\n"
          ],
          "name": "stdout"
        }
      ]
    },
    {
      "cell_type": "code",
      "metadata": {
        "id": "hVDn8FqUdXO2",
        "colab_type": "code",
        "colab": {
          "base_uri": "https://localhost:8080/",
          "height": 205
        },
        "outputId": "20793294-aacf-49af-cbae-c3107d41108e"
      },
      "source": [
        "text_ls[:10]"
      ],
      "execution_count": 22,
      "outputs": [
        {
          "output_type": "execute_result",
          "data": {
            "text/plain": [
              "[\"Loves the song, so he really couldn't wait to play this. A little less interesting for him so he doesn't play long, but he is almost 3 and likes to play the older games, but really cute for a younger child.\",\n",
              " 'Oh, how my little grandson loves this app. He\\'s always asking for \"Monkey.\" Grandma has tired of it long before he has. Finding the items on each page that he can touch and activate is endlessly entertaining for him, at least for now. Well worth the $.99.',\n",
              " \"I found this at a perfect time since my daughter's favorite song at the moment is five little monkeys. It's easy for little ones to operate and fun with all the things you can play with. The different generes are nice too, gives its a little variety.  Worth the money. Highly recommended!\",\n",
              " \"My 1 year old goes back to this game over and over again.  It is simple but very easy for a toddler to use.  I've even caught my 5 year old playing it as well.  Good app for little guys!\",\n",
              " \"There are three different versions of the song. The game itself keeps her occupied as everything she clicks on does something! There is an airplane that flies around the room, a telephone that rings and is plays a message, the lamp turns off the light and you see the monkeys eyes going up and down in the dark, a dog that barks when you click the window and then chases a cat out from under the bed every third time, the picture on the wall becomes an interactive portrait, the traffic light stops/starts the monkeys jumping, alarm clock rings, plant grows (and produces bananas), ball bounces, toy truck rumbles and honks.... lots to keep a toddler occupied! Oh! The monkeys jump on and fall off the bed! Mama calls the doctor, etc! It's great.\",\n",
              " \"THis is just so cute and a great app for little ones. My 16 mo old loves it. She thinks it's so funny and gets a kick out of the song.\",\n",
              " \"I watch my great grandson 4 days a week and it's hard to keep a 16 month old occupied but all I have to do is turn on Five Little Monkeys and he goes crazy trying to get the monkey's off the bed and touching all the other interactive things on the screen. I love this! I absolutely recommend this!\",\n",
              " 'This app is wild and crazy.  Little ones love singing the song about Five Little Monkeys, in this app it is available in country, rock or pop.  It is full of action with the player controlling most of it but it has a lesson included.',\n",
              " 'love love love this app. I was going through different apps for my son and I came across this one and I was excited and singing along to the song, only problem is that the song is very quite',\n",
              " 'Very cute, with alot of items to move about.  Would be awesome if the &#34;dr. said&#34;  was in a different voice and moved too.']"
            ]
          },
          "metadata": {
            "tags": []
          },
          "execution_count": 22
        }
      ]
    },
    {
      "cell_type": "code",
      "metadata": {
        "id": "Gio5SRq_sFYl",
        "colab_type": "code",
        "colab": {}
      },
      "source": [
        "def find_noise(reg, datalist):\n",
        "  count = 0\n",
        "  found_list = []\n",
        "\n",
        "  for i, row in enumerate(datalist):\n",
        "    found = re.findall(reg, row)\n",
        "\n",
        "    if found != []:\n",
        "      count += 1\n",
        "      found_list.append((i ,found))\n",
        "\n",
        "  return count, found_list"
      ],
      "execution_count": null,
      "outputs": []
    },
    {
      "cell_type": "markdown",
      "metadata": {
        "id": "NzZG1o6uq-eF",
        "colab_type": "text"
      },
      "source": [
        "## Find url in reviews"
      ]
    },
    {
      "cell_type": "code",
      "metadata": {
        "id": "cE1jNxU8wdcN",
        "colab_type": "code",
        "colab": {}
      },
      "source": [
        "count_url, found_url = find_noise(r\"(?i)\\b((?:https?://|www\\d{0,3}[.]|[a-z0-9.\\-]+[.][a-z]{2,4}/)(?:[^\\s()<>]+|\\(([^\\s()<>]+|(\\([^\\s()<>]+\\)))*\\))+(?:\\(([^\\s()<>]+|(\\([^\\s()<>]+\\)))*\\)|[^\\s`!()\\[\\]{};:'\\\".,<>?«»“”‘’]))\", text_ls)"
      ],
      "execution_count": null,
      "outputs": []
    },
    {
      "cell_type": "code",
      "metadata": {
        "id": "-JZWoYXcxrx8",
        "colab_type": "code",
        "colab": {
          "base_uri": "https://localhost:8080/",
          "height": 323
        },
        "outputId": "a655ab0d-2275-4a02-921b-5b444ec389cc"
      },
      "source": [
        "print(count_url, len(found_url))\n",
        "found_url[:5]"
      ],
      "execution_count": null,
      "outputs": [
        {
          "output_type": "stream",
          "text": [
            "1699 1699\n"
          ],
          "name": "stdout"
        },
        {
          "output_type": "execute_result",
          "data": {
            "text/plain": [
              "[(1072,\n",
              "  [('appaware.com/user/name/dyingjedi', '', '', '', ''),\n",
              "   ('appbrain.org/user/dyingjedi/apps-on-the-motorola-droid-x',\n",
              "    '',\n",
              "    '',\n",
              "    '',\n",
              "    '')]),\n",
              " (1450, [('bit.ly/kindlefix', '', '', '', '')]),\n",
              " (1600,\n",
              "  [('http://www.amazon.com/gp/feature.html/ref=kcp_pc_ln_ar?docId=1000426311',\n",
              "    '',\n",
              "    '',\n",
              "    '',\n",
              "    '')]),\n",
              " (3688, [('www.www', '', '', '', '')]),\n",
              " (16006, [('exm.nr/anthony-orale', '', '', '', '')])]"
            ]
          },
          "metadata": {
            "tags": []
          },
          "execution_count": 83
        }
      ]
    },
    {
      "cell_type": "code",
      "metadata": {
        "id": "znmAv5TuuA8g",
        "colab_type": "code",
        "colab": {}
      },
      "source": [
        "count_url_2, found_url_2 = find_noise(r'http.?://[^\\s]+[\\s]?', text_ls)"
      ],
      "execution_count": null,
      "outputs": []
    },
    {
      "cell_type": "code",
      "metadata": {
        "id": "2BjiffOujGqT",
        "colab_type": "code",
        "colab": {
          "base_uri": "https://localhost:8080/",
          "height": 143
        },
        "outputId": "90bcc077-b5a3-4b9a-c251-fca16cb58bce"
      },
      "source": [
        "print(count_url_2, len(found_url_2))\n",
        "found_url_2[:5]"
      ],
      "execution_count": null,
      "outputs": [
        {
          "output_type": "stream",
          "text": [
            "967 967\n"
          ],
          "name": "stdout"
        },
        {
          "output_type": "execute_result",
          "data": {
            "text/plain": [
              "[(1600,\n",
              "  ['http://www.amazon.com/gp/feature.html/ref=kcp_pc_ln_ar?docId=1000426311. ']),\n",
              " (17397, [\"https://' \"]),\n",
              " (17421, ['https://, ']),\n",
              " (21342, ['http://192.128.0.5:8000Once ']),\n",
              " (23138, ['http://1drv.ms/1ob463T'])]"
            ]
          },
          "metadata": {
            "tags": []
          },
          "execution_count": 88
        }
      ]
    },
    {
      "cell_type": "markdown",
      "metadata": {
        "id": "MPGfxI0irCEY",
        "colab_type": "text"
      },
      "source": [
        "## Find mentions (@...)"
      ]
    },
    {
      "cell_type": "code",
      "metadata": {
        "id": "ngwEeN9grETg",
        "colab_type": "code",
        "colab": {}
      },
      "source": [
        "count_men, found_men = find_noise(r'@\\w+', text_ls)"
      ],
      "execution_count": null,
      "outputs": []
    },
    {
      "cell_type": "code",
      "metadata": {
        "id": "dElE3iOoueTz",
        "colab_type": "code",
        "colab": {
          "base_uri": "https://localhost:8080/",
          "height": 215
        },
        "outputId": "c187144f-f208-4dc3-e0b4-6ee25387ff9d"
      },
      "source": [
        "print(count_men, len(found_men))\n",
        "found_men[:10]"
      ],
      "execution_count": null,
      "outputs": [
        {
          "output_type": "stream",
          "text": [
            "2390 2390\n"
          ],
          "name": "stdout"
        },
        {
          "output_type": "execute_result",
          "data": {
            "text/plain": [
              "[(1102, ['@Yahoo']),\n",
              " (1446, ['@Amazon']),\n",
              " (1454, ['@Kindle']),\n",
              " (2620, ['@300k', '@6']),\n",
              " (3924, ['@ahh']),\n",
              " (4844, ['@ss']),\n",
              " (5131, ['@hotmail']),\n",
              " (5149, ['@yahoo']),\n",
              " (5452, ['@ck']),\n",
              " (5491, ['@yahoo'])]"
            ]
          },
          "metadata": {
            "tags": []
          },
          "execution_count": 102
        }
      ]
    },
    {
      "cell_type": "markdown",
      "metadata": {
        "id": "UXlTUa8WrsE1",
        "colab_type": "text"
      },
      "source": [
        "## Find email in reviews"
      ]
    },
    {
      "cell_type": "code",
      "metadata": {
        "id": "Ch1WWc7UruLF",
        "colab_type": "code",
        "colab": {}
      },
      "source": [
        "count_em, found_em = find_noise(r'[\\w\\.-]+@[\\w\\.-]+\\.\\w+', text_ls)"
      ],
      "execution_count": null,
      "outputs": []
    },
    {
      "cell_type": "code",
      "metadata": {
        "id": "e4Bn2Qvi10zE",
        "colab_type": "code",
        "colab": {
          "base_uri": "https://localhost:8080/",
          "height": 215
        },
        "outputId": "5382b379-4bf8-4635-fe3f-fb3b31af4516"
      },
      "source": [
        "print(count_em, len(found_em))\n",
        "found_em[:10]"
      ],
      "execution_count": null,
      "outputs": [
        {
          "output_type": "stream",
          "text": [
            "1076 1076\n"
          ],
          "name": "stdout"
        },
        {
          "output_type": "execute_result",
          "data": {
            "text/plain": [
              "[(1102, ['ginaricec3@Yahoo.com']),\n",
              " (5131, ['atucker654@hotmail.com']),\n",
              " (5491, ['spamevader2002@yahoo.comThe']),\n",
              " (7266, ['wj112@comcast.net']),\n",
              " (27728, ['joshvogler@gmail.com']),\n",
              " (32138, ['pauldyble82@gmail.com']),\n",
              " (32935, ['IMHO.Lawson4Congress2012@gmail.com']),\n",
              " (42978, ['souponarm@yahoo.com', 'souponarm@yahoo.com']),\n",
              " (43508, ['calebr422@comcast.net']),\n",
              " (48077, ['xoxosweetshortie@gma-il.com'])]"
            ]
          },
          "metadata": {
            "tags": []
          },
          "execution_count": 103
        }
      ]
    },
    {
      "cell_type": "code",
      "metadata": {
        "id": "gxrcyNja6eHZ",
        "colab_type": "code",
        "colab": {}
      },
      "source": [
        "count_em_2, found_em_2 = find_noise(r'[\\w\\.-]+@[\\w\\.-]+', text_ls)"
      ],
      "execution_count": null,
      "outputs": []
    },
    {
      "cell_type": "code",
      "metadata": {
        "id": "UMCoV4Nh6lO8",
        "colab_type": "code",
        "colab": {
          "base_uri": "https://localhost:8080/",
          "height": 215
        },
        "outputId": "dbe91d3e-5f69-4894-d5cf-95793441b112"
      },
      "source": [
        "print(count_em_2, len(found_em_2))\n",
        "found_em_2[:10]"
      ],
      "execution_count": null,
      "outputs": [
        {
          "output_type": "stream",
          "text": [
            "1717 1717\n"
          ],
          "name": "stdout"
        },
        {
          "output_type": "execute_result",
          "data": {
            "text/plain": [
              "[(1102, ['ginaricec3@Yahoo.com.']),\n",
              " (2620, ['90k@300k', 'credit@6']),\n",
              " (5131, ['atucker654@hotmail.com']),\n",
              " (5149, ['beckbell06@yahoo.']),\n",
              " (5452, ['c@ck']),\n",
              " (5491, ['spamevader2002@yahoo.comThe']),\n",
              " (7266, ['wj112@comcast.net']),\n",
              " (8432, ['rfauth27@yahoo']),\n",
              " (16496, ['ttthis@ss']),\n",
              " (17926, ['Dam@it'])]"
            ]
          },
          "metadata": {
            "tags": []
          },
          "execution_count": 104
        }
      ]
    },
    {
      "cell_type": "markdown",
      "metadata": {
        "id": "NmZwi9518dWi",
        "colab_type": "text"
      },
      "source": [
        "## Find dollor sign in reviews"
      ]
    },
    {
      "cell_type": "code",
      "metadata": {
        "id": "ssTeZLK96omA",
        "colab_type": "code",
        "colab": {}
      },
      "source": [
        "count_doll, found_doll = find_noise(r'\\$[^\\]]+', text_ls)"
      ],
      "execution_count": null,
      "outputs": []
    },
    {
      "cell_type": "code",
      "metadata": {
        "id": "UNUGj4d49iS0",
        "colab_type": "code",
        "colab": {
          "base_uri": "https://localhost:8080/",
          "height": 361
        },
        "outputId": "b3fae28a-e8ea-4055-9cf1-0ba011d6db80"
      },
      "source": [
        "print(count_doll, len(found_doll))\n",
        "found_doll[:10]"
      ],
      "execution_count": null,
      "outputs": [
        {
          "output_type": "stream",
          "text": [
            "73217 73217\n"
          ],
          "name": "stdout"
        },
        {
          "output_type": "execute_result",
          "data": {
            "text/plain": [
              "[(1, ['$.99.']),\n",
              " (20,\n",
              "  ['$70 a year.  I would only pay $2 a month for the second player, so I got a huge capacity MP3 and share.  Easy to do with playlists.']),\n",
              " (21, ['$10 and up per month.']),\n",
              " (22,\n",
              "  ['$9.99 a month....but this app has helped keep my sanity. It is the first app that Amazon has put out for music that I have liked. I  have tried over 100 apps. from Amazon and they asked for my opinion....here it is.Rhaspody has an extremely large array of music.I had no problem finding all the different artists and albums that I love. You can even download music to play off- line . I can listen to my music all day and night long.Please get this app....you,ll love it!']),\n",
              " (29,\n",
              "  ['$10 per month. While they do have free trials, they do not currently have a free version of the service. So if you are not interested in subscribing or giving it a trial run, then this app is probably not for you.I use this app on my first generation Kindle Fire and so far no complaints.']),\n",
              " (63,\n",
              "  [\"$10 is a great price to get all of your favorite songs classic and modern. Don't go anywhere else. Falsify is the best\"]),\n",
              " (197,\n",
              "  ['$ on that over this anyday. To all BB devs... either step up your game or go down with the dieing BB ship.']),\n",
              " (207,\n",
              "  ['$ and I did not get it but theme I got it on the day it was free and I love it']),\n",
              " (210, ['$2.99 game.']),\n",
              " (227,\n",
              "  [\"$2.99. It isn't worth the ridiculous reviews from a bunch of morons who haven't given it more than 10 seconds worth of play time, either!\"])]"
            ]
          },
          "metadata": {
            "tags": []
          },
          "execution_count": 111
        }
      ]
    },
    {
      "cell_type": "code",
      "metadata": {
        "id": "DjPLip-897kd",
        "colab_type": "code",
        "colab": {}
      },
      "source": [
        "count_doll, found_doll = find_noise(r'\\$\\d+(?:\\.\\d+)?', text_ls)"
      ],
      "execution_count": null,
      "outputs": []
    },
    {
      "cell_type": "code",
      "metadata": {
        "id": "dXI25P6n8_Km",
        "colab_type": "code",
        "colab": {
          "base_uri": "https://localhost:8080/",
          "height": 215
        },
        "outputId": "13752146-220b-4180-8246-5860a68458ba"
      },
      "source": [
        "print(count_doll, len(found_doll))\n",
        "found_doll[:10]"
      ],
      "execution_count": null,
      "outputs": [
        {
          "output_type": "stream",
          "text": [
            "62629 62629\n"
          ],
          "name": "stdout"
        },
        {
          "output_type": "execute_result",
          "data": {
            "text/plain": [
              "[(20, ['$70', '$2']),\n",
              " (21, ['$10']),\n",
              " (22, ['$9.99']),\n",
              " (29, ['$10']),\n",
              " (63, ['$10']),\n",
              " (210, ['$2.99']),\n",
              " (227, ['$2.99']),\n",
              " (243, ['$3']),\n",
              " (259, ['$2.99']),\n",
              " (297, ['$4', '$4'])]"
            ]
          },
          "metadata": {
            "tags": []
          },
          "execution_count": 113
        }
      ]
    },
    {
      "cell_type": "markdown",
      "metadata": {
        "id": "X3pcfRjm0rQe",
        "colab_type": "text"
      },
      "source": [
        "About [contractions](https://stackoverflow.com/questions/19790188/expanding-english-language-contractions-in-python)\n",
        "\n",
        "https://stackoverflow.com/questions/44865840/how-to-treat-numbers-inside-text-strings-when-vectorizing-words\n",
        "\n",
        "https://www.w3schools.com/python/python_regex.asp#findall"
      ]
    },
    {
      "cell_type": "code",
      "metadata": {
        "id": "_OeH-QyhCmYk",
        "colab_type": "code",
        "colab": {}
      },
      "source": [
        ""
      ],
      "execution_count": null,
      "outputs": []
    }
  ]
}