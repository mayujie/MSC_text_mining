{
  "nbformat": 4,
  "nbformat_minor": 0,
  "metadata": {
    "colab": {
      "name": "RD_datasplit.ipynb",
      "provenance": [],
      "collapsed_sections": [],
      "toc_visible": true,
      "authorship_tag": "ABX9TyPpukcPi0YXykECzoX/80Hy",
      "include_colab_link": true
    },
    "kernelspec": {
      "name": "python3",
      "display_name": "Python 3"
    },
    "accelerator": "GPU"
  },
  "cells": [
    {
      "cell_type": "markdown",
      "metadata": {
        "id": "view-in-github",
        "colab_type": "text"
      },
      "source": [
        "<a href=\"https://colab.research.google.com/github/mayujie/MSC_text_mining/blob/master/RD_datasplit.ipynb\" target=\"_parent\"><img src=\"https://colab.research.google.com/assets/colab-badge.svg\" alt=\"Open In Colab\"/></a>"
      ]
    },
    {
      "cell_type": "markdown",
      "metadata": {
        "id": "CjKGV9IHab8r"
      },
      "source": [
        "# [Amazon product data](http://jmcauley.ucsd.edu/data/amazon/index_2014.html)\n",
        "# [Amazon product data Julian McAuley, UCSD](http://jmcauley.ucsd.edu/data/amazon/)\n",
        "Files\n",
        "\n",
        "\"Small\" subsets for experimentation\n"
      ]
    },
    {
      "cell_type": "code",
      "metadata": {
        "id": "_1ICU8miJ5nb",
        "outputId": "42050db7-9d1e-4609-ee25-d60848bb0e76",
        "colab": {
          "base_uri": "https://localhost:8080/"
        }
      },
      "source": [
        "from google.colab import drive\n",
        "drive.mount('/content/drive/')"
      ],
      "execution_count": null,
      "outputs": [
        {
          "output_type": "stream",
          "text": [
            "Mounted at /content/drive/\n"
          ],
          "name": "stdout"
        }
      ]
    },
    {
      "cell_type": "code",
      "metadata": {
        "id": "OZ1F1x-UKRWs",
        "outputId": "3412c306-cbd4-47ca-b9e9-63a826df9f3f",
        "colab": {
          "base_uri": "https://localhost:8080/",
          "height": 35
        }
      },
      "source": [
        "root_path = '/content/drive/My Drive/Colab/MSC_RD'\n",
        "root_path"
      ],
      "execution_count": null,
      "outputs": [
        {
          "output_type": "execute_result",
          "data": {
            "application/vnd.google.colaboratory.intrinsic+json": {
              "type": "string"
            },
            "text/plain": [
              "'/content/drive/My Drive/Colab/MSC_RD'"
            ]
          },
          "metadata": {
            "tags": []
          },
          "execution_count": 2
        }
      ]
    },
    {
      "cell_type": "code",
      "metadata": {
        "id": "XpeNBKRxaWiH",
        "outputId": "6615b80f-5641-418c-b326-bdf9547ea25b",
        "colab": {
          "base_uri": "https://localhost:8080/"
        }
      },
      "source": [
        "## 1 Amazon_Instant_Video\n",
        "!gdown https://drive.google.com/uc?id=1o_FtoFPIsMrp1OasIlI0iei3YwpwbbEr\n",
        "## 2 Automotive\n",
        "!gdown https://drive.google.com/uc?id=1K7hfkBHncuU7wJZI-_O2Dudbu0iooFjK\n",
        "## 3 Digital_Music\n",
        "!gdown https://drive.google.com/uc?id=1z-zq13KMRy9Pqr16JFy1zVM4Vn38Nbr4\n",
        "## 4 Musical_Instruments\n",
        "!gdown https://drive.google.com/uc?id=1sngyylNHtnFiBY3bCWsiFrAOi4tPrKHA\n",
        "## 5 Office_Products\n",
        "!gdown https://drive.google.com/uc?id=1PysGGXlLng3q0mMZUPcpz4b-Q5PIPJyS\n",
        "## 6 Patio_Lawn_and_Garden\n",
        "!gdown https://drive.google.com/uc?id=1VsT0d8-SBpov-ZeE4FzW8iN0YLI06LiO\n",
        "## 7 Grocery_and_Gourmet_Food\n",
        "!gdown https://drive.google.com/uc?id=1Dh-UwLi02GL-ibTO_PEc0W3RuhuNT5H6\n",
        "## 8 Tools_and_Home_Improvement\n",
        "!gdown https://drive.google.com/uc?id=1pMzpvtogZInF2YlX1ATtGBPh58B-lWgZ"
      ],
      "execution_count": null,
      "outputs": [
        {
          "output_type": "stream",
          "text": [
            "Downloading...\n",
            "From: https://drive.google.com/uc?id=1o_FtoFPIsMrp1OasIlI0iei3YwpwbbEr\n",
            "To: /content/reviews_Amazon_Instant_Video_5.json.gz\n",
            "9.52MB [00:00, 26.2MB/s]\n",
            "Downloading...\n",
            "From: https://drive.google.com/uc?id=1K7hfkBHncuU7wJZI-_O2Dudbu0iooFjK\n",
            "To: /content/reviews_Automotive_5.json.gz\n",
            "4.67MB [00:00, 16.9MB/s]\n",
            "Downloading...\n",
            "From: https://drive.google.com/uc?id=1z-zq13KMRy9Pqr16JFy1zVM4Vn38Nbr4\n",
            "To: /content/reviews_Digital_Music_5.json.gz\n",
            "32.1MB [00:00, 39.3MB/s]\n",
            "Downloading...\n",
            "From: https://drive.google.com/uc?id=1sngyylNHtnFiBY3bCWsiFrAOi4tPrKHA\n",
            "To: /content/reviews_Musical_Instruments_5.json.gz\n",
            "2.46MB [00:00, 78.6MB/s]\n",
            "Downloading...\n",
            "From: https://drive.google.com/uc?id=1PysGGXlLng3q0mMZUPcpz4b-Q5PIPJyS\n",
            "To: /content/reviews_Office_Products_5.json.gz\n",
            "18.5MB [00:00, 44.7MB/s]\n",
            "Downloading...\n",
            "From: https://drive.google.com/uc?id=1VsT0d8-SBpov-ZeE4FzW8iN0YLI06LiO\n",
            "To: /content/reviews_Patio_Lawn_and_Garden_5.json.gz\n",
            "4.95MB [00:00, 23.2MB/s]\n",
            "Downloading...\n",
            "From: https://drive.google.com/uc?id=1Dh-UwLi02GL-ibTO_PEc0W3RuhuNT5H6\n",
            "To: /content/reviews_Grocery_and_Gourmet_Food_5.json.gz\n",
            "36.8MB [00:00, 139MB/s] \n",
            "Downloading...\n",
            "From: https://drive.google.com/uc?id=1pMzpvtogZInF2YlX1ATtGBPh58B-lWgZ\n",
            "To: /content/reviews_Tools_and_Home_Improvement_5.json.gz\n",
            "37.7MB [00:01, 24.1MB/s]\n"
          ],
          "name": "stdout"
        }
      ]
    },
    {
      "cell_type": "code",
      "metadata": {
        "id": "bHTw4OWwGjtI"
      },
      "source": [
        "!gunzip reviews_Amazon_Instant_Video_5.json.gz\n",
        "!gunzip reviews_Automotive_5.json.gz\n",
        "!gunzip reviews_Digital_Music_5.json.gz\n",
        "!gunzip reviews_Musical_Instruments_5.json.gz\n",
        "!gunzip reviews_Office_Products_5.json.gz\n",
        "!gunzip reviews_Patio_Lawn_and_Garden_5.json.gz\n",
        "!gunzip reviews_Grocery_and_Gourmet_Food_5.json.gz\n",
        "!gunzip reviews_Tools_and_Home_Improvement_5.json.gz"
      ],
      "execution_count": null,
      "outputs": []
    },
    {
      "cell_type": "code",
      "metadata": {
        "id": "CR1J6-LGHMc9",
        "outputId": "b3b614ef-4b46-4e15-e843-76bf2c7aaefe",
        "colab": {
          "base_uri": "https://localhost:8080/"
        }
      },
      "source": [
        "!ls -lh *.json"
      ],
      "execution_count": null,
      "outputs": [
        {
          "output_type": "stream",
          "text": [
            "-rw-r--r-- 1 root root  27M Nov 13 11:28 reviews_Amazon_Instant_Video_5.json\n",
            "-rw-r--r-- 1 root root  14M Nov 13 11:28 reviews_Automotive_5.json\n",
            "-rw-r--r-- 1 root root  85M Nov 13 11:28 reviews_Digital_Music_5.json\n",
            "-rw-r--r-- 1 root root 109M Nov 13 11:28 reviews_Grocery_and_Gourmet_Food_5.json\n",
            "-rw-r--r-- 1 root root 7.2M Nov 13 11:28 reviews_Musical_Instruments_5.json\n",
            "-rw-r--r-- 1 root root  54M Nov 13 11:28 reviews_Office_Products_5.json\n",
            "-rw-r--r-- 1 root root  14M Nov 13 11:28 reviews_Patio_Lawn_and_Garden_5.json\n",
            "-rw-r--r-- 1 root root 108M Nov 13 11:28 reviews_Tools_and_Home_Improvement_5.json\n"
          ],
          "name": "stdout"
        }
      ]
    },
    {
      "cell_type": "code",
      "metadata": {
        "id": "7MafXVaKEYWC"
      },
      "source": [
        "import pandas as pd\n",
        "import numpy as np\n",
        "\n",
        "# Read in json data\n",
        "df_video = pd.read_json(\"/content/reviews_Amazon_Instant_Video_5.json\", lines=True)\n",
        "df_auto = pd.read_json(\"/content/reviews_Automotive_5.json\", lines=True)\n",
        "df_music = pd.read_json(\"/content/reviews_Digital_Music_5.json\", lines=True)\n",
        "df_musical = pd.read_json(\"/content/reviews_Musical_Instruments_5.json\", lines=True)\n",
        "df_office = pd.read_json(\"/content/reviews_Office_Products_5.json\", lines=True)\n",
        "df_patio = pd.read_json(\"/content/reviews_Patio_Lawn_and_Garden_5.json\", lines=True)\n",
        "df_food = pd.read_json(\"/content/reviews_Grocery_and_Gourmet_Food_5.json\", lines=True)\n",
        "df_tool = pd.read_json(\"/content/reviews_Tools_and_Home_Improvement_5.json\", lines=True)"
      ],
      "execution_count": null,
      "outputs": []
    },
    {
      "cell_type": "code",
      "metadata": {
        "id": "N_Pg3RFUnIYh"
      },
      "source": [
        "df_video['category'] = 'Amazon_Instant_Video'\n",
        "df_auto['category'] = 'Automotive'\n",
        "df_music['category'] = 'Digital_Music'\n",
        "df_musical['category'] = 'Musical_Instruments'\n",
        "df_office['category'] = 'Office_Products'\n",
        "df_patio['category'] = 'Patio_Lawn_and_Garden'\n",
        "df_food['category'] = 'Grocery_and_Gourmet_Food'\n",
        "df_tool['category'] = 'Tools_and_Home_Improvement'"
      ],
      "execution_count": null,
      "outputs": []
    },
    {
      "cell_type": "code",
      "metadata": {
        "id": "BzvsCSYmIF6Y",
        "outputId": "e6544132-57fc-46ee-ffe8-3124e510e82d",
        "colab": {
          "base_uri": "https://localhost:8080/"
        }
      },
      "source": [
        "print(df_video.columns)\n",
        "# Number of reviews: 2360871\n",
        "print(sum([len(df_video), len(df_auto), len(df_music), len(df_musical), len(df_office), len(df_patio), len(df_food), len(df_tool)])) ## , len(df_phones)\n",
        "# Each data's shape\n",
        "df_video.shape, df_auto.shape, df_music.shape, df_musical.shape, df_office.shape, df_patio.shape, df_food.shape, df_tool.shape ## , len(df_phones)"
      ],
      "execution_count": null,
      "outputs": [
        {
          "output_type": "stream",
          "text": [
            "Index(['reviewerID', 'asin', 'reviewerName', 'helpful', 'reviewText',\n",
            "       'overall', 'summary', 'unixReviewTime', 'reviewTime', 'category'],\n",
            "      dtype='object')\n",
            "484826\n"
          ],
          "name": "stdout"
        },
        {
          "output_type": "execute_result",
          "data": {
            "text/plain": [
              "((37126, 10),\n",
              " (20473, 10),\n",
              " (64706, 10),\n",
              " (10261, 10),\n",
              " (53258, 10),\n",
              " (13272, 10),\n",
              " (151254, 10),\n",
              " (134476, 10))"
            ]
          },
          "metadata": {
            "tags": []
          },
          "execution_count": 11
        }
      ]
    },
    {
      "cell_type": "code",
      "metadata": {
        "id": "p9p0WuOYrtWI",
        "outputId": "694f11e7-f4d4-4a07-ae97-8ceeee5f0809",
        "colab": {
          "base_uri": "https://localhost:8080/",
          "height": 589
        }
      },
      "source": [
        "# concatenate the first 5 dataframes\n",
        "df = pd.concat([df_video, df_auto, df_music, df_musical, df_office, df_patio, df_food, df_tool]) ## , df_phones\n",
        "df"
      ],
      "execution_count": null,
      "outputs": [
        {
          "output_type": "execute_result",
          "data": {
            "text/html": [
              "<div>\n",
              "<style scoped>\n",
              "    .dataframe tbody tr th:only-of-type {\n",
              "        vertical-align: middle;\n",
              "    }\n",
              "\n",
              "    .dataframe tbody tr th {\n",
              "        vertical-align: top;\n",
              "    }\n",
              "\n",
              "    .dataframe thead th {\n",
              "        text-align: right;\n",
              "    }\n",
              "</style>\n",
              "<table border=\"1\" class=\"dataframe\">\n",
              "  <thead>\n",
              "    <tr style=\"text-align: right;\">\n",
              "      <th></th>\n",
              "      <th>reviewerID</th>\n",
              "      <th>asin</th>\n",
              "      <th>reviewerName</th>\n",
              "      <th>helpful</th>\n",
              "      <th>reviewText</th>\n",
              "      <th>overall</th>\n",
              "      <th>summary</th>\n",
              "      <th>unixReviewTime</th>\n",
              "      <th>reviewTime</th>\n",
              "      <th>category</th>\n",
              "    </tr>\n",
              "  </thead>\n",
              "  <tbody>\n",
              "    <tr>\n",
              "      <th>0</th>\n",
              "      <td>A11N155CW1UV02</td>\n",
              "      <td>B000H00VBQ</td>\n",
              "      <td>AdrianaM</td>\n",
              "      <td>[0, 0]</td>\n",
              "      <td>I had big expectations because I love English ...</td>\n",
              "      <td>2</td>\n",
              "      <td>A little bit boring for me</td>\n",
              "      <td>1399075200</td>\n",
              "      <td>05 3, 2014</td>\n",
              "      <td>Amazon_Instant_Video</td>\n",
              "    </tr>\n",
              "    <tr>\n",
              "      <th>1</th>\n",
              "      <td>A3BC8O2KCL29V2</td>\n",
              "      <td>B000H00VBQ</td>\n",
              "      <td>Carol T</td>\n",
              "      <td>[0, 0]</td>\n",
              "      <td>I highly recommend this series. It is a must f...</td>\n",
              "      <td>5</td>\n",
              "      <td>Excellent Grown Up TV</td>\n",
              "      <td>1346630400</td>\n",
              "      <td>09 3, 2012</td>\n",
              "      <td>Amazon_Instant_Video</td>\n",
              "    </tr>\n",
              "    <tr>\n",
              "      <th>2</th>\n",
              "      <td>A60D5HQFOTSOM</td>\n",
              "      <td>B000H00VBQ</td>\n",
              "      <td>Daniel Cooper \"dancoopermedia\"</td>\n",
              "      <td>[0, 1]</td>\n",
              "      <td>This one is a real snoozer. Don't believe anyt...</td>\n",
              "      <td>1</td>\n",
              "      <td>Way too boring for me</td>\n",
              "      <td>1381881600</td>\n",
              "      <td>10 16, 2013</td>\n",
              "      <td>Amazon_Instant_Video</td>\n",
              "    </tr>\n",
              "    <tr>\n",
              "      <th>3</th>\n",
              "      <td>A1RJPIGRSNX4PW</td>\n",
              "      <td>B000H00VBQ</td>\n",
              "      <td>J. Kaplan \"JJ\"</td>\n",
              "      <td>[0, 0]</td>\n",
              "      <td>Mysteries are interesting.  The tension betwee...</td>\n",
              "      <td>4</td>\n",
              "      <td>Robson Green is mesmerizing</td>\n",
              "      <td>1383091200</td>\n",
              "      <td>10 30, 2013</td>\n",
              "      <td>Amazon_Instant_Video</td>\n",
              "    </tr>\n",
              "    <tr>\n",
              "      <th>4</th>\n",
              "      <td>A16XRPF40679KG</td>\n",
              "      <td>B000H00VBQ</td>\n",
              "      <td>Michael Dobey</td>\n",
              "      <td>[1, 1]</td>\n",
              "      <td>This show always is excellent, as far as briti...</td>\n",
              "      <td>5</td>\n",
              "      <td>Robson green and great writing</td>\n",
              "      <td>1234310400</td>\n",
              "      <td>02 11, 2009</td>\n",
              "      <td>Amazon_Instant_Video</td>\n",
              "    </tr>\n",
              "    <tr>\n",
              "      <th>...</th>\n",
              "      <td>...</td>\n",
              "      <td>...</td>\n",
              "      <td>...</td>\n",
              "      <td>...</td>\n",
              "      <td>...</td>\n",
              "      <td>...</td>\n",
              "      <td>...</td>\n",
              "      <td>...</td>\n",
              "      <td>...</td>\n",
              "      <td>...</td>\n",
              "    </tr>\n",
              "    <tr>\n",
              "      <th>134471</th>\n",
              "      <td>A1Q1Z7IR79G52A</td>\n",
              "      <td>B00LA96GLC</td>\n",
              "      <td>Ann Ingersoll Madison Rain \"Ann\"</td>\n",
              "      <td>[0, 0]</td>\n",
              "      <td>Super bright! Awesomely Comfortable. Easy to u...</td>\n",
              "      <td>5</td>\n",
              "      <td>Best headlamp you will ever buy!</td>\n",
              "      <td>1405468800</td>\n",
              "      <td>07 16, 2014</td>\n",
              "      <td>Tools_and_Home_Improvement</td>\n",
              "    </tr>\n",
              "    <tr>\n",
              "      <th>134472</th>\n",
              "      <td>A21T5C3KL41REL</td>\n",
              "      <td>B00LA96GLC</td>\n",
              "      <td>galbarran</td>\n",
              "      <td>[0, 0]</td>\n",
              "      <td>I got this headlamp for my daughter since we r...</td>\n",
              "      <td>5</td>\n",
              "      <td>Light my kid up!</td>\n",
              "      <td>1405987200</td>\n",
              "      <td>07 22, 2014</td>\n",
              "      <td>Tools_and_Home_Improvement</td>\n",
              "    </tr>\n",
              "    <tr>\n",
              "      <th>134473</th>\n",
              "      <td>A2I8KUDXTC9WYI</td>\n",
              "      <td>B00LA96GLC</td>\n",
              "      <td>theresa</td>\n",
              "      <td>[0, 0]</td>\n",
              "      <td>This is a real bright headlamp.  I bought it f...</td>\n",
              "      <td>5</td>\n",
              "      <td>Very Bright Light.</td>\n",
              "      <td>1405814400</td>\n",
              "      <td>07 20, 2014</td>\n",
              "      <td>Tools_and_Home_Improvement</td>\n",
              "    </tr>\n",
              "    <tr>\n",
              "      <th>134474</th>\n",
              "      <td>AAOYA0DKWED4W</td>\n",
              "      <td>B00LA96GLC</td>\n",
              "      <td>WombatComputing</td>\n",
              "      <td>[0, 0]</td>\n",
              "      <td>Easy to wear headlamp that's bright. Good for ...</td>\n",
              "      <td>5</td>\n",
              "      <td>Bright Lights</td>\n",
              "      <td>1405555200</td>\n",
              "      <td>07 17, 2014</td>\n",
              "      <td>Tools_and_Home_Improvement</td>\n",
              "    </tr>\n",
              "    <tr>\n",
              "      <th>134475</th>\n",
              "      <td>A18JF0T0GOCORW</td>\n",
              "      <td>B00LA96GLC</td>\n",
              "      <td>Y.Trinh \"U\"</td>\n",
              "      <td>[0, 0]</td>\n",
              "      <td>Very nice head lamp! Bright led. Fits head wit...</td>\n",
              "      <td>5</td>\n",
              "      <td>Great lamp!</td>\n",
              "      <td>1405728000</td>\n",
              "      <td>07 19, 2014</td>\n",
              "      <td>Tools_and_Home_Improvement</td>\n",
              "    </tr>\n",
              "  </tbody>\n",
              "</table>\n",
              "<p>484826 rows × 10 columns</p>\n",
              "</div>"
            ],
            "text/plain": [
              "            reviewerID        asin  ...   reviewTime                    category\n",
              "0       A11N155CW1UV02  B000H00VBQ  ...   05 3, 2014        Amazon_Instant_Video\n",
              "1       A3BC8O2KCL29V2  B000H00VBQ  ...   09 3, 2012        Amazon_Instant_Video\n",
              "2        A60D5HQFOTSOM  B000H00VBQ  ...  10 16, 2013        Amazon_Instant_Video\n",
              "3       A1RJPIGRSNX4PW  B000H00VBQ  ...  10 30, 2013        Amazon_Instant_Video\n",
              "4       A16XRPF40679KG  B000H00VBQ  ...  02 11, 2009        Amazon_Instant_Video\n",
              "...                ...         ...  ...          ...                         ...\n",
              "134471  A1Q1Z7IR79G52A  B00LA96GLC  ...  07 16, 2014  Tools_and_Home_Improvement\n",
              "134472  A21T5C3KL41REL  B00LA96GLC  ...  07 22, 2014  Tools_and_Home_Improvement\n",
              "134473  A2I8KUDXTC9WYI  B00LA96GLC  ...  07 20, 2014  Tools_and_Home_Improvement\n",
              "134474   AAOYA0DKWED4W  B00LA96GLC  ...  07 17, 2014  Tools_and_Home_Improvement\n",
              "134475  A18JF0T0GOCORW  B00LA96GLC  ...  07 19, 2014  Tools_and_Home_Improvement\n",
              "\n",
              "[484826 rows x 10 columns]"
            ]
          },
          "metadata": {
            "tags": []
          },
          "execution_count": 14
        }
      ]
    },
    {
      "cell_type": "code",
      "metadata": {
        "id": "9qQ3j57ddJtw",
        "outputId": "aa7b5c88-eddf-4065-a26a-894d163ee78d",
        "colab": {
          "base_uri": "https://localhost:8080/"
        }
      },
      "source": [
        "df['category'].unique()"
      ],
      "execution_count": null,
      "outputs": [
        {
          "output_type": "execute_result",
          "data": {
            "text/plain": [
              "array(['Amazon_Instant_Video', 'Automotive', 'Digital_Music',\n",
              "       'Musical_Instruments', 'Office_Products', 'Patio_Lawn_and_Garden',\n",
              "       'Grocery_and_Gourmet_Food', 'Tools_and_Home_Improvement'],\n",
              "      dtype=object)"
            ]
          },
          "metadata": {
            "tags": []
          },
          "execution_count": 16
        }
      ]
    },
    {
      "cell_type": "code",
      "metadata": {
        "id": "Ndb9yQSTqTsg",
        "outputId": "a7d12c74-4ab1-41f3-da17-5d3ab9f7b740",
        "colab": {
          "base_uri": "https://localhost:8080/"
        }
      },
      "source": [
        "['Amazon_Instant_Video', 'Automotive', 'Digital_Music', 'Musical_Instruments', 'Office_Products', 'Patio_Lawn_and_Garden', 'Grocery_and_Gourmet_Food', 'Tools_and_Home_Improvement'] ## , 'Cell_Phones_and_Accessories'"
      ],
      "execution_count": null,
      "outputs": [
        {
          "output_type": "execute_result",
          "data": {
            "text/plain": [
              "['Amazon_Instant_Video',\n",
              " 'Automotive',\n",
              " 'Digital_Music',\n",
              " 'Musical_Instruments',\n",
              " 'Office_Products',\n",
              " 'Patio_Lawn_and_Garden',\n",
              " 'Grocery_and_Gourmet_Food',\n",
              " 'Tools_and_Home_Improvement']"
            ]
          },
          "metadata": {
            "tags": []
          },
          "execution_count": 17
        }
      ]
    },
    {
      "cell_type": "code",
      "metadata": {
        "id": "WuXt8wKQsjaR",
        "outputId": "28826be7-6a66-4d4b-a9cb-ddc8fe7f4862",
        "colab": {
          "base_uri": "https://localhost:8080/"
        }
      },
      "source": [
        "del df_video, df_auto, df_music, df_musical, df_office, df_patio, df_food, df_tool ## , df_phones\n",
        "%whos"
      ],
      "execution_count": null,
      "outputs": [
        {
          "output_type": "stream",
          "text": [
            "Variable    Type         Data/Info\n",
            "----------------------------------\n",
            "df          DataFrame                reviewerID   <...>484826 rows x 10 columns]\n",
            "drive       module       <module 'google.colab.dri<...>s/google/colab/drive.py'>\n",
            "np          module       <module 'numpy' from '/us<...>kages/numpy/__init__.py'>\n",
            "pd          module       <module 'pandas' from '/u<...>ages/pandas/__init__.py'>\n",
            "root_path   str          /content/drive/My Drive/Colab/MSC_RD\n"
          ],
          "name": "stdout"
        }
      ]
    },
    {
      "cell_type": "code",
      "metadata": {
        "id": "H1STvGvYvK4O",
        "outputId": "60628f10-1b4e-493a-e607-1c7fbed1195b",
        "colab": {
          "base_uri": "https://localhost:8080/"
        }
      },
      "source": [
        "# text = df_1['reviewText']\n",
        "# print(text.iloc[1])\n",
        "# print()\n",
        "# print(text.iloc[[1]].values)\n",
        "\n",
        "## Get the review text from dataframe\n",
        "# review array\n",
        "text = df['reviewText'].values\n",
        "print(len(text))\n",
        "text"
      ],
      "execution_count": null,
      "outputs": [
        {
          "output_type": "stream",
          "text": [
            "484826\n"
          ],
          "name": "stdout"
        },
        {
          "output_type": "execute_result",
          "data": {
            "text/plain": [
              "array([\"I had big expectations because I love English TV, in particular Investigative and detective stuff but this guy is really boring. It didn't appeal to me at all.\",\n",
              "       'I highly recommend this series. It is a must for anyone who is yearning to watch \"grown up\" television. Complex characters and plots to keep one totally involved. Thank you Amazin Prime.',\n",
              "       \"This one is a real snoozer. Don't believe anything you read or hear, it's awful. I had no idea what the title means. Neither will you.\",\n",
              "       ...,\n",
              "       'This is a real bright headlamp.  I bought it for my husband and he really likes it.  He uses it for everything.  It is great for his bike rides when it is just starting to get dark. He also uses it when he fixes stuff and he needs a light to see.  It is adjustable and can fit anyone.  The headlamp can be moved at different angles.  This light is perfect for the hands free jobs I need to do.  Well worth the money and I highly recommend it.',\n",
              "       \"Easy to wear headlamp that's bright. Good for surgery, erm, I mean car work (but it would be good to have in surgery!). Convenient for hands free purposes. Comfortable to wear. Comes in handy when I need both hands free and extra lighting.\",\n",
              "       'Very nice head lamp! Bright led. Fits head with a elastic band, comfortably.  Light can be used to focus or zooms out. Can tilt the light at different angles up and down. Multi purpose light! I used to get a splinter out of my sons hands and was very helpful to be hands free. My husband was using it for working of the car. Very nice quality. Fixed light, dim light, and flashing modes too.'],\n",
              "      dtype=object)"
            ]
          },
          "metadata": {
            "tags": []
          },
          "execution_count": 19
        }
      ]
    },
    {
      "cell_type": "code",
      "metadata": {
        "id": "fE-BK69IvTJA",
        "outputId": "6bab5ad7-0b96-4e97-ba1b-fe44b103d3c1",
        "colab": {
          "base_uri": "https://localhost:8080/"
        }
      },
      "source": [
        "## review array to list\n",
        "text_ls = text.tolist()\n",
        "print(len(text_ls))\n",
        "text_ls[:5]"
      ],
      "execution_count": null,
      "outputs": [
        {
          "output_type": "stream",
          "text": [
            "484826\n"
          ],
          "name": "stdout"
        },
        {
          "output_type": "execute_result",
          "data": {
            "text/plain": [
              "[\"I had big expectations because I love English TV, in particular Investigative and detective stuff but this guy is really boring. It didn't appeal to me at all.\",\n",
              " 'I highly recommend this series. It is a must for anyone who is yearning to watch \"grown up\" television. Complex characters and plots to keep one totally involved. Thank you Amazin Prime.',\n",
              " \"This one is a real snoozer. Don't believe anything you read or hear, it's awful. I had no idea what the title means. Neither will you.\",\n",
              " 'Mysteries are interesting.  The tension between Robson and the tall blond is good but not always believable.  She often seemed uncomfortable.',\n",
              " 'This show always is excellent, as far as british crime or mystery showsgoes this is one of the best ever made.  The stories are well done and the acting is top notch with interesting twists in the realistic and brutal storylines.  This show pulls no punches as it enters into the twisted minds of criminals and the profiler psychiatrist who helps out in a northern english city police force. The show looks like it is shot in Manchester but it is called by another name in the show.  One episode is not on this disc the excellent \\'prayer of the bone\" which is on a seperate disc.  Still crime shows don\\'t get much better than this one on either side of the ocean.  It\\'s just a great show that never has had a less than well made episode. Unfortunately like all British shows you only get about five shows a year ,  but these are an hour and a half shows , still one could hope for at least 8 of these a year.  The realism and depth of the main character Tony Hill as protrayed by the excellent Robson Green is well worth viewing because he just makes this role truly part of himself in everyway.  I bet he went to crime scenes even in real life to research his role.  But the writers too must be applauded for their way above average stories.  Lets hope this show continues on for many years to come.']"
            ]
          },
          "metadata": {
            "tags": []
          },
          "execution_count": 20
        }
      ]
    },
    {
      "cell_type": "markdown",
      "metadata": {
        "id": "yqmf40oC7wPy"
      },
      "source": [
        "## **Write into text file**"
      ]
    },
    {
      "cell_type": "code",
      "metadata": {
        "id": "3diL07PXuywt"
      },
      "source": [
        "# write into text file\n",
        "with open('reviews_text.txt', 'w') as f:\n",
        "    for row in text_ls:\n",
        "        f.write(\"%s\\n\" % row)"
      ],
      "execution_count": null,
      "outputs": []
    },
    {
      "cell_type": "code",
      "metadata": {
        "id": "huX_nUUcwQ1d",
        "outputId": "a4d8b8d6-b512-4c0d-e7b0-30bf2a28f52d",
        "colab": {
          "base_uri": "https://localhost:8080/",
          "height": 35
        }
      },
      "source": [
        "root_path"
      ],
      "execution_count": null,
      "outputs": [
        {
          "output_type": "execute_result",
          "data": {
            "application/vnd.google.colaboratory.intrinsic+json": {
              "type": "string"
            },
            "text/plain": [
              "'/content/drive/My Drive/Colab/MSC_RD'"
            ]
          },
          "metadata": {
            "tags": []
          },
          "execution_count": 23
        }
      ]
    },
    {
      "cell_type": "code",
      "metadata": {
        "id": "8uyEEjNTu4sT",
        "outputId": "e9fa80ef-d59c-4334-e42f-20e39e3c9561",
        "colab": {
          "base_uri": "https://localhost:8080/"
        }
      },
      "source": [
        "## Compress review text into zip file\n",
        "!zip \"{root_path}\"/reviews_text.zip reviews_text.txt"
      ],
      "execution_count": null,
      "outputs": [
        {
          "output_type": "stream",
          "text": [
            "updating: reviews_text.txt (deflated 63%)\n"
          ],
          "name": "stdout"
        }
      ]
    },
    {
      "cell_type": "markdown",
      "metadata": {
        "id": "iK2UzChhSPbX"
      },
      "source": [
        "# Exploring dataset"
      ]
    },
    {
      "cell_type": "code",
      "metadata": {
        "id": "kIdBSTMyRsQ-",
        "outputId": "4efaed0a-574e-4ed5-8e79-e7ce212543f4",
        "colab": {
          "base_uri": "https://localhost:8080/"
        }
      },
      "source": [
        "print('Total number of reviews: ' ,len(df['reviewerID']))\n",
        "print('Number of unique reviewers: ',len(df['reviewerID'].unique()))\n",
        "print('Number of unique products: ',len(df['asin'].unique()))"
      ],
      "execution_count": null,
      "outputs": [
        {
          "output_type": "stream",
          "text": [
            "Total number of reviews:  484826\n",
            "Number of unique reviewers:  44025\n",
            "Number of unique products:  30292\n"
          ],
          "name": "stdout"
        }
      ]
    },
    {
      "cell_type": "code",
      "metadata": {
        "id": "J4651gMg6rfn",
        "outputId": "881a1353-83f1-4ed2-d5be-188e96bec66b",
        "colab": {
          "base_uri": "https://localhost:8080/",
          "height": 589
        }
      },
      "source": [
        "df"
      ],
      "execution_count": null,
      "outputs": [
        {
          "output_type": "execute_result",
          "data": {
            "text/html": [
              "<div>\n",
              "<style scoped>\n",
              "    .dataframe tbody tr th:only-of-type {\n",
              "        vertical-align: middle;\n",
              "    }\n",
              "\n",
              "    .dataframe tbody tr th {\n",
              "        vertical-align: top;\n",
              "    }\n",
              "\n",
              "    .dataframe thead th {\n",
              "        text-align: right;\n",
              "    }\n",
              "</style>\n",
              "<table border=\"1\" class=\"dataframe\">\n",
              "  <thead>\n",
              "    <tr style=\"text-align: right;\">\n",
              "      <th></th>\n",
              "      <th>reviewerID</th>\n",
              "      <th>asin</th>\n",
              "      <th>reviewerName</th>\n",
              "      <th>helpful</th>\n",
              "      <th>reviewText</th>\n",
              "      <th>overall</th>\n",
              "      <th>summary</th>\n",
              "      <th>unixReviewTime</th>\n",
              "      <th>reviewTime</th>\n",
              "      <th>category</th>\n",
              "    </tr>\n",
              "  </thead>\n",
              "  <tbody>\n",
              "    <tr>\n",
              "      <th>0</th>\n",
              "      <td>A11N155CW1UV02</td>\n",
              "      <td>B000H00VBQ</td>\n",
              "      <td>AdrianaM</td>\n",
              "      <td>[0, 0]</td>\n",
              "      <td>I had big expectations because I love English ...</td>\n",
              "      <td>2</td>\n",
              "      <td>A little bit boring for me</td>\n",
              "      <td>1399075200</td>\n",
              "      <td>05 3, 2014</td>\n",
              "      <td>Amazon_Instant_Video</td>\n",
              "    </tr>\n",
              "    <tr>\n",
              "      <th>1</th>\n",
              "      <td>A3BC8O2KCL29V2</td>\n",
              "      <td>B000H00VBQ</td>\n",
              "      <td>Carol T</td>\n",
              "      <td>[0, 0]</td>\n",
              "      <td>I highly recommend this series. It is a must f...</td>\n",
              "      <td>5</td>\n",
              "      <td>Excellent Grown Up TV</td>\n",
              "      <td>1346630400</td>\n",
              "      <td>09 3, 2012</td>\n",
              "      <td>Amazon_Instant_Video</td>\n",
              "    </tr>\n",
              "    <tr>\n",
              "      <th>2</th>\n",
              "      <td>A60D5HQFOTSOM</td>\n",
              "      <td>B000H00VBQ</td>\n",
              "      <td>Daniel Cooper \"dancoopermedia\"</td>\n",
              "      <td>[0, 1]</td>\n",
              "      <td>This one is a real snoozer. Don't believe anyt...</td>\n",
              "      <td>1</td>\n",
              "      <td>Way too boring for me</td>\n",
              "      <td>1381881600</td>\n",
              "      <td>10 16, 2013</td>\n",
              "      <td>Amazon_Instant_Video</td>\n",
              "    </tr>\n",
              "    <tr>\n",
              "      <th>3</th>\n",
              "      <td>A1RJPIGRSNX4PW</td>\n",
              "      <td>B000H00VBQ</td>\n",
              "      <td>J. Kaplan \"JJ\"</td>\n",
              "      <td>[0, 0]</td>\n",
              "      <td>Mysteries are interesting.  The tension betwee...</td>\n",
              "      <td>4</td>\n",
              "      <td>Robson Green is mesmerizing</td>\n",
              "      <td>1383091200</td>\n",
              "      <td>10 30, 2013</td>\n",
              "      <td>Amazon_Instant_Video</td>\n",
              "    </tr>\n",
              "    <tr>\n",
              "      <th>4</th>\n",
              "      <td>A16XRPF40679KG</td>\n",
              "      <td>B000H00VBQ</td>\n",
              "      <td>Michael Dobey</td>\n",
              "      <td>[1, 1]</td>\n",
              "      <td>This show always is excellent, as far as briti...</td>\n",
              "      <td>5</td>\n",
              "      <td>Robson green and great writing</td>\n",
              "      <td>1234310400</td>\n",
              "      <td>02 11, 2009</td>\n",
              "      <td>Amazon_Instant_Video</td>\n",
              "    </tr>\n",
              "    <tr>\n",
              "      <th>...</th>\n",
              "      <td>...</td>\n",
              "      <td>...</td>\n",
              "      <td>...</td>\n",
              "      <td>...</td>\n",
              "      <td>...</td>\n",
              "      <td>...</td>\n",
              "      <td>...</td>\n",
              "      <td>...</td>\n",
              "      <td>...</td>\n",
              "      <td>...</td>\n",
              "    </tr>\n",
              "    <tr>\n",
              "      <th>134471</th>\n",
              "      <td>A1Q1Z7IR79G52A</td>\n",
              "      <td>B00LA96GLC</td>\n",
              "      <td>Ann Ingersoll Madison Rain \"Ann\"</td>\n",
              "      <td>[0, 0]</td>\n",
              "      <td>Super bright! Awesomely Comfortable. Easy to u...</td>\n",
              "      <td>5</td>\n",
              "      <td>Best headlamp you will ever buy!</td>\n",
              "      <td>1405468800</td>\n",
              "      <td>07 16, 2014</td>\n",
              "      <td>Tools_and_Home_Improvement</td>\n",
              "    </tr>\n",
              "    <tr>\n",
              "      <th>134472</th>\n",
              "      <td>A21T5C3KL41REL</td>\n",
              "      <td>B00LA96GLC</td>\n",
              "      <td>galbarran</td>\n",
              "      <td>[0, 0]</td>\n",
              "      <td>I got this headlamp for my daughter since we r...</td>\n",
              "      <td>5</td>\n",
              "      <td>Light my kid up!</td>\n",
              "      <td>1405987200</td>\n",
              "      <td>07 22, 2014</td>\n",
              "      <td>Tools_and_Home_Improvement</td>\n",
              "    </tr>\n",
              "    <tr>\n",
              "      <th>134473</th>\n",
              "      <td>A2I8KUDXTC9WYI</td>\n",
              "      <td>B00LA96GLC</td>\n",
              "      <td>theresa</td>\n",
              "      <td>[0, 0]</td>\n",
              "      <td>This is a real bright headlamp.  I bought it f...</td>\n",
              "      <td>5</td>\n",
              "      <td>Very Bright Light.</td>\n",
              "      <td>1405814400</td>\n",
              "      <td>07 20, 2014</td>\n",
              "      <td>Tools_and_Home_Improvement</td>\n",
              "    </tr>\n",
              "    <tr>\n",
              "      <th>134474</th>\n",
              "      <td>AAOYA0DKWED4W</td>\n",
              "      <td>B00LA96GLC</td>\n",
              "      <td>WombatComputing</td>\n",
              "      <td>[0, 0]</td>\n",
              "      <td>Easy to wear headlamp that's bright. Good for ...</td>\n",
              "      <td>5</td>\n",
              "      <td>Bright Lights</td>\n",
              "      <td>1405555200</td>\n",
              "      <td>07 17, 2014</td>\n",
              "      <td>Tools_and_Home_Improvement</td>\n",
              "    </tr>\n",
              "    <tr>\n",
              "      <th>134475</th>\n",
              "      <td>A18JF0T0GOCORW</td>\n",
              "      <td>B00LA96GLC</td>\n",
              "      <td>Y.Trinh \"U\"</td>\n",
              "      <td>[0, 0]</td>\n",
              "      <td>Very nice head lamp! Bright led. Fits head wit...</td>\n",
              "      <td>5</td>\n",
              "      <td>Great lamp!</td>\n",
              "      <td>1405728000</td>\n",
              "      <td>07 19, 2014</td>\n",
              "      <td>Tools_and_Home_Improvement</td>\n",
              "    </tr>\n",
              "  </tbody>\n",
              "</table>\n",
              "<p>484826 rows × 10 columns</p>\n",
              "</div>"
            ],
            "text/plain": [
              "            reviewerID        asin  ...   reviewTime                    category\n",
              "0       A11N155CW1UV02  B000H00VBQ  ...   05 3, 2014        Amazon_Instant_Video\n",
              "1       A3BC8O2KCL29V2  B000H00VBQ  ...   09 3, 2012        Amazon_Instant_Video\n",
              "2        A60D5HQFOTSOM  B000H00VBQ  ...  10 16, 2013        Amazon_Instant_Video\n",
              "3       A1RJPIGRSNX4PW  B000H00VBQ  ...  10 30, 2013        Amazon_Instant_Video\n",
              "4       A16XRPF40679KG  B000H00VBQ  ...  02 11, 2009        Amazon_Instant_Video\n",
              "...                ...         ...  ...          ...                         ...\n",
              "134471  A1Q1Z7IR79G52A  B00LA96GLC  ...  07 16, 2014  Tools_and_Home_Improvement\n",
              "134472  A21T5C3KL41REL  B00LA96GLC  ...  07 22, 2014  Tools_and_Home_Improvement\n",
              "134473  A2I8KUDXTC9WYI  B00LA96GLC  ...  07 20, 2014  Tools_and_Home_Improvement\n",
              "134474   AAOYA0DKWED4W  B00LA96GLC  ...  07 17, 2014  Tools_and_Home_Improvement\n",
              "134475  A18JF0T0GOCORW  B00LA96GLC  ...  07 19, 2014  Tools_and_Home_Improvement\n",
              "\n",
              "[484826 rows x 10 columns]"
            ]
          },
          "metadata": {
            "tags": []
          },
          "execution_count": 27
        }
      ]
    },
    {
      "cell_type": "markdown",
      "metadata": {
        "id": "r4P-FfWQLHCe"
      },
      "source": [
        "# Sample data review:\n",
        "where\n",
        "\n",
        "* reviewerID - ID of the reviewer, e.g. A2SUAM1J3GNN3B\n",
        "* asin - ID of the product, e.g. 0000013714\n",
        "* reviewerName - name of the reviewer\n",
        "* helpful - helpfulness rating of the review, e.g. 2/3\n",
        "* reviewText - text of the review\n",
        "* overall - rating of the product\n",
        "* summary - summary of the review\n",
        "* unixReviewTime - time of the review (unix time)\n",
        "* reviewTime - time of the review (raw)"
      ]
    },
    {
      "cell_type": "markdown",
      "metadata": {
        "id": "ZKQUPvgYWkj7"
      },
      "source": [
        "For training embedding using word2vec, we only focus on 'reviewText'."
      ]
    },
    {
      "cell_type": "code",
      "metadata": {
        "id": "KRcnc16YZaBx",
        "outputId": "898d4835-04a9-45ed-a0d0-74e61d40ef35",
        "colab": {
          "base_uri": "https://localhost:8080/"
        }
      },
      "source": [
        "%whos"
      ],
      "execution_count": null,
      "outputs": [
        {
          "output_type": "stream",
          "text": [
            "Variable    Type             Data/Info\n",
            "--------------------------------------\n",
            "df          DataFrame                    reviewerID   <...>484826 rows x 10 columns]\n",
            "drive       module           <module 'google.colab.dri<...>s/google/colab/drive.py'>\n",
            "f           TextIOWrapper    <_io.TextIOWrapper name='<...>ode='w' encoding='UTF-8'>\n",
            "np          module           <module 'numpy' from '/us<...>kages/numpy/__init__.py'>\n",
            "pd          module           <module 'pandas' from '/u<...>ages/pandas/__init__.py'>\n",
            "root_path   str              /content/drive/My Drive/Colab/MSC_RD\n",
            "row         str              Very nice head lamp! Brig<...>, and flashing modes too.\n",
            "text        ndarray          484826: 484826 elems, type `object`, 3878608 bytes (3.6989288330078125 Mb)\n",
            "text_ls     list             n=484826\n"
          ],
          "name": "stdout"
        }
      ]
    },
    {
      "cell_type": "code",
      "metadata": {
        "id": "bu8X6B-aaxK5"
      },
      "source": [
        "## reduce memory\n",
        "del df"
      ],
      "execution_count": null,
      "outputs": []
    },
    {
      "cell_type": "code",
      "metadata": {
        "id": "8JZ5QTZPa9Ro",
        "outputId": "1594f3dd-003d-40af-a0ce-eb8f1fa28252",
        "colab": {
          "base_uri": "https://localhost:8080/"
        }
      },
      "source": [
        "print(text.tolist()[1])\n",
        "print(text.tolist()[11452])\n",
        "import re\n",
        "match = re.search(r'http.?://[^\\s]+[\\s]?', text.tolist()[11452])\n",
        "print('\\n', match)"
      ],
      "execution_count": null,
      "outputs": [
        {
          "output_type": "stream",
          "text": [
            "I highly recommend this series. It is a must for anyone who is yearning to watch \"grown up\" television. Complex characters and plots to keep one totally involved. Thank you Amazin Prime.\n",
            "I have always loved the imagination of Stephen King and this series on A&E; called the \"Bag of Bones\" relates to what I had been through with the loss of the only man I have ever loved.  The thinking they are there in a room with you or they have sent you a sign telling you how to handle their passing.  Pierce Bronson is perfect in the role and the rest of cast was chosen well.  That is one thing I like about Stephen King he does not let Hollywood or Television change his stories they are just like the books he writes.  Wonderful Series and I intend to buy it to see them all on my laptop to know how it ends is what makes King a great writer, as you never know how he will end his stories.  Great work this series is by a wonderful writer of so much that a world enjoys the challenge of how the story proceeds and ends.  Thank you Amazon for giving this to your customers to enjoy....Link to Bag of Bones Series -http://www.amazon.com/gp/product/B006I0GSZM/ref=cm_cr_rev_prod_title\n",
            "\n",
            " <_sre.SRE_Match object; span=(920, 988), match='http://www.amazon.com/gp/product/B006I0GSZM/ref=c>\n"
          ],
          "name": "stdout"
        }
      ]
    },
    {
      "cell_type": "markdown",
      "metadata": {
        "id": "dBulOdHrb7-B"
      },
      "source": [
        "**Remove all json file**"
      ]
    },
    {
      "cell_type": "code",
      "metadata": {
        "id": "OI9a_KRMb7Z8"
      },
      "source": [
        "!rm *.json"
      ],
      "execution_count": null,
      "outputs": []
    },
    {
      "cell_type": "code",
      "metadata": {
        "id": "1lrp-6q070rK",
        "outputId": "e9b27695-930b-44d5-b31c-1bb58ed27be6",
        "colab": {
          "base_uri": "https://localhost:8080/"
        }
      },
      "source": [
        "%whos"
      ],
      "execution_count": null,
      "outputs": [
        {
          "output_type": "stream",
          "text": [
            "Variable    Type             Data/Info\n",
            "--------------------------------------\n",
            "drive       module           <module 'google.colab.dri<...>s/google/colab/drive.py'>\n",
            "f           TextIOWrapper    <_io.TextIOWrapper name='<...>ode='w' encoding='UTF-8'>\n",
            "match       SRE_Match        <_sre.SRE_Match object; s<...>product/B006I0GSZM/ref=c>\n",
            "np          module           <module 'numpy' from '/us<...>kages/numpy/__init__.py'>\n",
            "pd          module           <module 'pandas' from '/u<...>ages/pandas/__init__.py'>\n",
            "re          module           <module 're' from '/usr/lib/python3.6/re.py'>\n",
            "root_path   str              /content/drive/My Drive/Colab/MSC_RD\n",
            "row         str              Very nice head lamp! Brig<...>, and flashing modes too.\n",
            "text        ndarray          484826: 484826 elems, type `object`, 3878608 bytes (3.6989288330078125 Mb)\n",
            "text_ls     list             n=484826\n"
          ],
          "name": "stdout"
        }
      ]
    },
    {
      "cell_type": "markdown",
      "metadata": {
        "id": "FlgJuxzLWHmJ"
      },
      "source": [
        "## **Read from text file**"
      ]
    },
    {
      "cell_type": "code",
      "metadata": {
        "id": "guhbYRwvf0yT",
        "outputId": "99d8c566-ba94-46b1-e603-69daa5f6d03a",
        "colab": {
          "base_uri": "https://localhost:8080/"
        }
      },
      "source": [
        "### download text data\n",
        "!gdown https://drive.google.com/uc?id=1PtUMY6KuShzR2lk_85VbNizGT_wciBNl"
      ],
      "execution_count": null,
      "outputs": [
        {
          "output_type": "stream",
          "text": [
            "Downloading...\n",
            "From: https://drive.google.com/uc?id=1PtUMY6KuShzR2lk_85VbNizGT_wciBNl\n",
            "To: /content/reviews_text.zip\n",
            "117MB [00:00, 190MB/s]\n"
          ],
          "name": "stdout"
        }
      ]
    },
    {
      "cell_type": "code",
      "metadata": {
        "id": "q0H52XaxgE3_",
        "outputId": "60ca77be-1f9d-4fa1-ef97-16337071b5a3",
        "colab": {
          "base_uri": "https://localhost:8080/"
        }
      },
      "source": [
        "!unzip reviews_text.zip "
      ],
      "execution_count": null,
      "outputs": [
        {
          "output_type": "stream",
          "text": [
            "Archive:  reviews_text.zip\n",
            "replace reviews_text.txt? [y]es, [n]o, [A]ll, [N]one, [r]ename: A\n",
            "  inflating: reviews_text.txt        \n"
          ],
          "name": "stdout"
        }
      ]
    },
    {
      "cell_type": "code",
      "metadata": {
        "id": "CMxjhQjwg-xp"
      },
      "source": [
        "!rm /content/reviews_text.zip"
      ],
      "execution_count": null,
      "outputs": []
    },
    {
      "cell_type": "code",
      "metadata": {
        "id": "Iqj_r2TMYbsx"
      },
      "source": [
        "handle_list = []\n",
        "with open('/content/reviews_text.txt', 'r') as file:\n",
        "  for line in file:\n",
        "    handle_list.append(line)"
      ],
      "execution_count": null,
      "outputs": []
    },
    {
      "cell_type": "code",
      "metadata": {
        "id": "dT_5bG8oaCHX",
        "outputId": "75147fe2-5ccf-4d7c-c298-bb37cdf31ce0",
        "colab": {
          "base_uri": "https://localhost:8080/",
          "height": 53
        }
      },
      "source": [
        "print(len(handle_list))\n",
        "handle_list[1]"
      ],
      "execution_count": null,
      "outputs": [
        {
          "output_type": "stream",
          "text": [
            "484826\n"
          ],
          "name": "stdout"
        },
        {
          "output_type": "execute_result",
          "data": {
            "application/vnd.google.colaboratory.intrinsic+json": {
              "type": "string"
            },
            "text/plain": [
              "'I highly recommend this series. It is a must for anyone who is yearning to watch \"grown up\" television. Complex characters and plots to keep one totally involved. Thank you Amazin Prime.\\n'"
            ]
          },
          "metadata": {
            "tags": []
          },
          "execution_count": 37
        }
      ]
    },
    {
      "cell_type": "code",
      "metadata": {
        "id": "mZj_pM9b97Yr",
        "outputId": "114fb900-fa22-4358-e61e-512388e24116",
        "colab": {
          "base_uri": "https://localhost:8080/"
        }
      },
      "source": [
        "handle_list[:5]"
      ],
      "execution_count": null,
      "outputs": [
        {
          "output_type": "execute_result",
          "data": {
            "text/plain": [
              "[\"I had big expectations because I love English TV, in particular Investigative and detective stuff but this guy is really boring. It didn't appeal to me at all.\\n\",\n",
              " 'I highly recommend this series. It is a must for anyone who is yearning to watch \"grown up\" television. Complex characters and plots to keep one totally involved. Thank you Amazin Prime.\\n',\n",
              " \"This one is a real snoozer. Don't believe anything you read or hear, it's awful. I had no idea what the title means. Neither will you.\\n\",\n",
              " 'Mysteries are interesting.  The tension between Robson and the tall blond is good but not always believable.  She often seemed uncomfortable.\\n',\n",
              " 'This show always is excellent, as far as british crime or mystery showsgoes this is one of the best ever made.  The stories are well done and the acting is top notch with interesting twists in the realistic and brutal storylines.  This show pulls no punches as it enters into the twisted minds of criminals and the profiler psychiatrist who helps out in a northern english city police force. The show looks like it is shot in Manchester but it is called by another name in the show.  One episode is not on this disc the excellent \\'prayer of the bone\" which is on a seperate disc.  Still crime shows don\\'t get much better than this one on either side of the ocean.  It\\'s just a great show that never has had a less than well made episode. Unfortunately like all British shows you only get about five shows a year ,  but these are an hour and a half shows , still one could hope for at least 8 of these a year.  The realism and depth of the main character Tony Hill as protrayed by the excellent Robson Green is well worth viewing because he just makes this role truly part of himself in everyway.  I bet he went to crime scenes even in real life to research his role.  But the writers too must be applauded for their way above average stories.  Lets hope this show continues on for many years to come.\\n']"
            ]
          },
          "metadata": {
            "tags": []
          },
          "execution_count": 38
        }
      ]
    },
    {
      "cell_type": "code",
      "metadata": {
        "id": "Jh9IgraJ--PV",
        "outputId": "236f900a-c3a9-4bcc-f45e-05130299d9fb",
        "colab": {
          "base_uri": "https://localhost:8080/"
        }
      },
      "source": [
        "text_ls = map(lambda s: s.strip(), handle_list)\n",
        "text_ls = list(text_ls)\n",
        "text_ls[:5]"
      ],
      "execution_count": null,
      "outputs": [
        {
          "output_type": "execute_result",
          "data": {
            "text/plain": [
              "[\"I had big expectations because I love English TV, in particular Investigative and detective stuff but this guy is really boring. It didn't appeal to me at all.\",\n",
              " 'I highly recommend this series. It is a must for anyone who is yearning to watch \"grown up\" television. Complex characters and plots to keep one totally involved. Thank you Amazin Prime.',\n",
              " \"This one is a real snoozer. Don't believe anything you read or hear, it's awful. I had no idea what the title means. Neither will you.\",\n",
              " 'Mysteries are interesting.  The tension between Robson and the tall blond is good but not always believable.  She often seemed uncomfortable.',\n",
              " 'This show always is excellent, as far as british crime or mystery showsgoes this is one of the best ever made.  The stories are well done and the acting is top notch with interesting twists in the realistic and brutal storylines.  This show pulls no punches as it enters into the twisted minds of criminals and the profiler psychiatrist who helps out in a northern english city police force. The show looks like it is shot in Manchester but it is called by another name in the show.  One episode is not on this disc the excellent \\'prayer of the bone\" which is on a seperate disc.  Still crime shows don\\'t get much better than this one on either side of the ocean.  It\\'s just a great show that never has had a less than well made episode. Unfortunately like all British shows you only get about five shows a year ,  but these are an hour and a half shows , still one could hope for at least 8 of these a year.  The realism and depth of the main character Tony Hill as protrayed by the excellent Robson Green is well worth viewing because he just makes this role truly part of himself in everyway.  I bet he went to crime scenes even in real life to research his role.  But the writers too must be applauded for their way above average stories.  Lets hope this show continues on for many years to come.']"
            ]
          },
          "metadata": {
            "tags": []
          },
          "execution_count": 39
        }
      ]
    },
    {
      "cell_type": "code",
      "metadata": {
        "id": "Eav3phnFbgxv",
        "outputId": "90d3232e-dc3a-4953-b270-7dcb7a9559dd",
        "colab": {
          "base_uri": "https://localhost:8080/",
          "height": 419
        }
      },
      "source": [
        "import pandas as pd\n",
        "data = pd.DataFrame(text_ls) \n",
        "data"
      ],
      "execution_count": null,
      "outputs": [
        {
          "output_type": "execute_result",
          "data": {
            "text/html": [
              "<div>\n",
              "<style scoped>\n",
              "    .dataframe tbody tr th:only-of-type {\n",
              "        vertical-align: middle;\n",
              "    }\n",
              "\n",
              "    .dataframe tbody tr th {\n",
              "        vertical-align: top;\n",
              "    }\n",
              "\n",
              "    .dataframe thead th {\n",
              "        text-align: right;\n",
              "    }\n",
              "</style>\n",
              "<table border=\"1\" class=\"dataframe\">\n",
              "  <thead>\n",
              "    <tr style=\"text-align: right;\">\n",
              "      <th></th>\n",
              "      <th>0</th>\n",
              "    </tr>\n",
              "  </thead>\n",
              "  <tbody>\n",
              "    <tr>\n",
              "      <th>0</th>\n",
              "      <td>I had big expectations because I love English ...</td>\n",
              "    </tr>\n",
              "    <tr>\n",
              "      <th>1</th>\n",
              "      <td>I highly recommend this series. It is a must f...</td>\n",
              "    </tr>\n",
              "    <tr>\n",
              "      <th>2</th>\n",
              "      <td>This one is a real snoozer. Don't believe anyt...</td>\n",
              "    </tr>\n",
              "    <tr>\n",
              "      <th>3</th>\n",
              "      <td>Mysteries are interesting.  The tension betwee...</td>\n",
              "    </tr>\n",
              "    <tr>\n",
              "      <th>4</th>\n",
              "      <td>This show always is excellent, as far as briti...</td>\n",
              "    </tr>\n",
              "    <tr>\n",
              "      <th>...</th>\n",
              "      <td>...</td>\n",
              "    </tr>\n",
              "    <tr>\n",
              "      <th>484821</th>\n",
              "      <td>Super bright! Awesomely Comfortable. Easy to u...</td>\n",
              "    </tr>\n",
              "    <tr>\n",
              "      <th>484822</th>\n",
              "      <td>I got this headlamp for my daughter since we r...</td>\n",
              "    </tr>\n",
              "    <tr>\n",
              "      <th>484823</th>\n",
              "      <td>This is a real bright headlamp.  I bought it f...</td>\n",
              "    </tr>\n",
              "    <tr>\n",
              "      <th>484824</th>\n",
              "      <td>Easy to wear headlamp that's bright. Good for ...</td>\n",
              "    </tr>\n",
              "    <tr>\n",
              "      <th>484825</th>\n",
              "      <td>Very nice head lamp! Bright led. Fits head wit...</td>\n",
              "    </tr>\n",
              "  </tbody>\n",
              "</table>\n",
              "<p>484826 rows × 1 columns</p>\n",
              "</div>"
            ],
            "text/plain": [
              "                                                        0\n",
              "0       I had big expectations because I love English ...\n",
              "1       I highly recommend this series. It is a must f...\n",
              "2       This one is a real snoozer. Don't believe anyt...\n",
              "3       Mysteries are interesting.  The tension betwee...\n",
              "4       This show always is excellent, as far as briti...\n",
              "...                                                   ...\n",
              "484821  Super bright! Awesomely Comfortable. Easy to u...\n",
              "484822  I got this headlamp for my daughter since we r...\n",
              "484823  This is a real bright headlamp.  I bought it f...\n",
              "484824  Easy to wear headlamp that's bright. Good for ...\n",
              "484825  Very nice head lamp! Bright led. Fits head wit...\n",
              "\n",
              "[484826 rows x 1 columns]"
            ]
          },
          "metadata": {
            "tags": []
          },
          "execution_count": 42
        }
      ]
    },
    {
      "cell_type": "markdown",
      "metadata": {
        "id": "yvJ5CpdPJ07r"
      },
      "source": [
        "stopwards removal will not consider in this case "
      ]
    },
    {
      "cell_type": "code",
      "metadata": {
        "id": "UGyZqIvJ0w9K"
      },
      "source": [
        "# from nltk.corpus import stopwords\n",
        "# import nltk\n",
        "# nltk.download('stopwords')\n",
        "# stopwords_list = stopwords.words('english')\n",
        "# print(stopwords_list)\n",
        "# len(stopwords_list)"
      ],
      "execution_count": null,
      "outputs": []
    },
    {
      "cell_type": "markdown",
      "metadata": {
        "id": "iD-7DJqQljDO"
      },
      "source": [
        "# Exploring noise in dataset"
      ]
    },
    {
      "cell_type": "code",
      "metadata": {
        "id": "mx2xoGEV1hYG",
        "outputId": "42581eb0-6f56-4010-cab4-74ea7175b48d",
        "colab": {
          "base_uri": "https://localhost:8080/"
        }
      },
      "source": [
        "%whos"
      ],
      "execution_count": null,
      "outputs": [
        {
          "output_type": "stream",
          "text": [
            "Variable      Type             Data/Info\n",
            "----------------------------------------\n",
            "data          DataFrame                                 <...>[484826 rows x 1 columns]\n",
            "drive         module           <module 'google.colab.dri<...>s/google/colab/drive.py'>\n",
            "f             TextIOWrapper    <_io.TextIOWrapper name='<...>ode='w' encoding='UTF-8'>\n",
            "file          TextIOWrapper    <_io.TextIOWrapper name='<...>ode='r' encoding='UTF-8'>\n",
            "handle_list   list             n=484826\n",
            "line          str              Very nice head lamp! Brig<...>and flashing modes too.\\n\n",
            "match         SRE_Match        <_sre.SRE_Match object; s<...>product/B006I0GSZM/ref=c>\n",
            "np            module           <module 'numpy' from '/us<...>kages/numpy/__init__.py'>\n",
            "pd            module           <module 'pandas' from '/u<...>ages/pandas/__init__.py'>\n",
            "re            module           <module 're' from '/usr/lib/python3.6/re.py'>\n",
            "root_path     str              /content/drive/My Drive/Colab/MSC_RD\n",
            "row           str              Very nice head lamp! Brig<...>, and flashing modes too.\n",
            "text          ndarray          484826: 484826 elems, type `object`, 3878608 bytes (3.6989288330078125 Mb)\n",
            "text_ls       list             n=484826\n"
          ],
          "name": "stdout"
        }
      ]
    },
    {
      "cell_type": "code",
      "metadata": {
        "id": "hVDn8FqUdXO2",
        "outputId": "6ca570dd-7208-41b8-f37c-772607430ba4",
        "colab": {
          "base_uri": "https://localhost:8080/"
        }
      },
      "source": [
        "text_ls[:10]"
      ],
      "execution_count": null,
      "outputs": [
        {
          "output_type": "execute_result",
          "data": {
            "text/plain": [
              "[\"I had big expectations because I love English TV, in particular Investigative and detective stuff but this guy is really boring. It didn't appeal to me at all.\",\n",
              " 'I highly recommend this series. It is a must for anyone who is yearning to watch \"grown up\" television. Complex characters and plots to keep one totally involved. Thank you Amazin Prime.',\n",
              " \"This one is a real snoozer. Don't believe anything you read or hear, it's awful. I had no idea what the title means. Neither will you.\",\n",
              " 'Mysteries are interesting.  The tension between Robson and the tall blond is good but not always believable.  She often seemed uncomfortable.',\n",
              " 'This show always is excellent, as far as british crime or mystery showsgoes this is one of the best ever made.  The stories are well done and the acting is top notch with interesting twists in the realistic and brutal storylines.  This show pulls no punches as it enters into the twisted minds of criminals and the profiler psychiatrist who helps out in a northern english city police force. The show looks like it is shot in Manchester but it is called by another name in the show.  One episode is not on this disc the excellent \\'prayer of the bone\" which is on a seperate disc.  Still crime shows don\\'t get much better than this one on either side of the ocean.  It\\'s just a great show that never has had a less than well made episode. Unfortunately like all British shows you only get about five shows a year ,  but these are an hour and a half shows , still one could hope for at least 8 of these a year.  The realism and depth of the main character Tony Hill as protrayed by the excellent Robson Green is well worth viewing because he just makes this role truly part of himself in everyway.  I bet he went to crime scenes even in real life to research his role.  But the writers too must be applauded for their way above average stories.  Lets hope this show continues on for many years to come.',\n",
              " 'I discovered this series quite by accident. Having watched and appreciated Masterpiece Contemporary: Place of Execution, I was keen to read the novel (which inspired the TV adaptation) by Val McDermid. The novel was very well-written, and a nail-biting suspense thriller. Then I discovered that Val McDermid wrote other novels as well, and a couple of them inspired the TV crime drama Wire in the Blood.I finished watching all of Season 1 and have become a fan of this gritty crime drama that follows the investigations led by DI Carol Jordan (Hermione Norris). She is assisted by clinical psychologist Dr. Tony Hill (Robson Green), a rather eccentric figure who delves deeply into the minds of serial killers, studies patterns of criminal behavior and profiles criminals. His methods may seem strange at times, but he always manages to get results. Both Jordan and Hill make a strange if compelling pair, with Jordan analyzing a case based on evidence, and Hill working based on his knowledge of deviant behavior and what makes people commit disturbing crimes.Unlike some of the \"cozy\" mysteries such as the long-running Midsomer Murders - Set One and The Complete Inspector Lynley Mysteries, Wire in the Blood is not for the faint of heart. The crimes are horrific, sometimes involving children, almost always patterned on deviant behavior and the suspects are almost always very disturbed individuals. The crime scenes are difficult to watch as are the way victims are found and even the forensic examinations are graphic and unsettling. Though compelling, this is not really a show to watch in one sitting, and may very well give viewers nightmares.The first season contains three main stories, each divided into two episodes:The Mermaids Singing - Hill is on the trail of a seriously disturbed serial killer who targets homosexuals.Shadows Rising - The skeletal remains of a young woman is found, and when further evidence turns up, DI Jordan and Hill realize they have a serial killer on their hands, one with a penchant for dark-haired young women.Justice Painted Blind - Another unsettling case, this time revolving around an old child abduction and murder case. A couple of apparently random murders turn out not to be so random after all when it is discovered that the victims do share a connection involving an old court case where the accused was found not guilty. This throws up a whole bunch of suspects, including the parents of the murdered girl.The writing on this crime drama is excellent, and Robson Green is credible as the clinical psychologist who has a rare knack for profiling and getting under the skin of some of the most dangerous criminals. The drama also explores the chemistry and tension between Hill and DI Jordan, all of which result in a riveting show that keeps viewers coming back for more.The streaming was good overall with only a little delayed streaming during Episode One. There were no glitches on the other episodes. The picture quality could be improved though as it did seem a bit grainy to me.',\n",
              " \"It beats watching a blank screen. However, I just don't seem to be in tune with to comedy of today.\",\n",
              " \"There are many episodes in this series, so I pretty-much just skip through them to try to find a description of something I think I would like.  It's kind of a crap shoot as to whether you'll be entertained or not, but hey, if you're just sitting around trying to kill 20-30 minutes while you're waiting for something else to do, it's worth a shot.\",\n",
              " 'This is the best of the best comedy Stand-up. The fact that I was able to just watch continuously one comedian after another was great. I had the best laughter I have had in a long time.',\n",
              " \"Not bad.  Didn't know any of the comedians but first time viewing put a smile on my face.  I'll check out the next season soon.\"]"
            ]
          },
          "metadata": {
            "tags": []
          },
          "execution_count": 45
        }
      ]
    },
    {
      "cell_type": "code",
      "metadata": {
        "id": "Gio5SRq_sFYl"
      },
      "source": [
        "def find_noise(reg, datalist):\n",
        "  count = 0\n",
        "  found_list = []\n",
        "\n",
        "  for i, row in enumerate(datalist):\n",
        "    found = re.findall(reg, row)\n",
        "\n",
        "    if found != []:\n",
        "      count += 1\n",
        "      found_list.append((i ,found))\n",
        "\n",
        "  return count, found_list"
      ],
      "execution_count": null,
      "outputs": []
    },
    {
      "cell_type": "markdown",
      "metadata": {
        "id": "NzZG1o6uq-eF"
      },
      "source": [
        "## Find url in reviews"
      ]
    },
    {
      "cell_type": "code",
      "metadata": {
        "id": "cE1jNxU8wdcN"
      },
      "source": [
        "count_url, found_url = find_noise(r\"(?i)\\b((?:https?://|www\\d{0,3}[.]|[a-z0-9.\\-]+[.][a-z]{2,4}/)(?:[^\\s()<>]+|\\(([^\\s()<>]+|(\\([^\\s()<>]+\\)))*\\))+(?:\\(([^\\s()<>]+|(\\([^\\s()<>]+\\)))*\\)|[^\\s`!()\\[\\]{};:'\\\".,<>?«»“”‘’]))\", text_ls)"
      ],
      "execution_count": null,
      "outputs": []
    },
    {
      "cell_type": "code",
      "metadata": {
        "id": "-JZWoYXcxrx8",
        "outputId": "d5adaefe-a75c-45cf-f214-da596b5f4567",
        "colab": {
          "base_uri": "https://localhost:8080/"
        }
      },
      "source": [
        "print(count_url, len(found_url))\n",
        "found_url[:5]"
      ],
      "execution_count": null,
      "outputs": [
        {
          "output_type": "stream",
          "text": [
            "692 692\n"
          ],
          "name": "stdout"
        },
        {
          "output_type": "execute_result",
          "data": {
            "text/plain": [
              "[(2167,\n",
              "  [('http://batmantheanimatedseries.wikia.com/wiki/Robinandhttp://batmantheanimatedseries.wikia.com/wiki/Batgirlinclude',\n",
              "    '',\n",
              "    '',\n",
              "    '',\n",
              "    '')]),\n",
              " (4065,\n",
              "  [('http://www.amazon.com/Burning-Plain/dp/B002N4QCTE/ref=pd_ys_ir__6',\n",
              "    '',\n",
              "    '',\n",
              "    '',\n",
              "    '')]),\n",
              " (6236,\n",
              "  [('http://www.forbes.com/sites/suwcharmananderson/2012/08/28/fake-reviews-amazons-rotten-core/http://www.wikihow.com/Spot-a-Fake-Review-on-Amazon.Comhttp://www.theguardian.com/world/2013/sep/23/new-york-fake-online-reviews-yoghurt',\n",
              "    '',\n",
              "    '',\n",
              "    '',\n",
              "    '')]),\n",
              " (7606,\n",
              "  [('http://www.amazon.com/gp/product/B004EKMIIY/ref=cm_cr_rev_prod_title',\n",
              "    '',\n",
              "    '',\n",
              "    '',\n",
              "    '')]),\n",
              " (8325, [('hate...love/hate', '', '', '', '')])]"
            ]
          },
          "metadata": {
            "tags": []
          },
          "execution_count": 48
        }
      ]
    },
    {
      "cell_type": "code",
      "metadata": {
        "id": "znmAv5TuuA8g"
      },
      "source": [
        "count_url_2, found_url_2 = find_noise(r'http.?://[^\\s]+[\\s]?', text_ls)"
      ],
      "execution_count": null,
      "outputs": []
    },
    {
      "cell_type": "code",
      "metadata": {
        "id": "2BjiffOujGqT",
        "outputId": "e9a8f46f-552a-4527-ee78-95b2327b6a88",
        "colab": {
          "base_uri": "https://localhost:8080/"
        }
      },
      "source": [
        "print(count_url_2, len(found_url_2))\n",
        "found_url_2[:5]"
      ],
      "execution_count": null,
      "outputs": [
        {
          "output_type": "stream",
          "text": [
            "509 509\n"
          ],
          "name": "stdout"
        },
        {
          "output_type": "execute_result",
          "data": {
            "text/plain": [
              "[(2167,\n",
              "  ['http://batmantheanimatedseries.wikia.com/wiki/Robinandhttp://batmantheanimatedseries.wikia.com/wiki/Batgirlinclude ']),\n",
              " (4065, ['http://www.amazon.com/Burning-Plain/dp/B002N4QCTE/ref=pd_ys_ir__6']),\n",
              " (6236,\n",
              "  ['http://www.forbes.com/sites/suwcharmananderson/2012/08/28/fake-reviews-amazons-rotten-core/http://www.wikihow.com/Spot-a-Fake-Review-on-Amazon.Comhttp://www.theguardian.com/world/2013/sep/23/new-york-fake-online-reviews-yoghurt']),\n",
              " (7606,\n",
              "  ['http://www.amazon.com/gp/product/B004EKMIIY/ref=cm_cr_rev_prod_title']),\n",
              " (11452,\n",
              "  ['http://www.amazon.com/gp/product/B006I0GSZM/ref=cm_cr_rev_prod_title'])]"
            ]
          },
          "metadata": {
            "tags": []
          },
          "execution_count": 50
        }
      ]
    },
    {
      "cell_type": "markdown",
      "metadata": {
        "id": "MPGfxI0irCEY"
      },
      "source": [
        "## Find mentions (@...)"
      ]
    },
    {
      "cell_type": "code",
      "metadata": {
        "id": "ngwEeN9grETg"
      },
      "source": [
        "count_men, found_men = find_noise(r'@\\w+', text_ls)"
      ],
      "execution_count": null,
      "outputs": []
    },
    {
      "cell_type": "code",
      "metadata": {
        "id": "dElE3iOoueTz",
        "outputId": "6423ff2c-ebf3-4c9f-ad2b-9f7ae3d31ce1",
        "colab": {
          "base_uri": "https://localhost:8080/"
        }
      },
      "source": [
        "print(count_men, len(found_men))\n",
        "found_men[:10]"
      ],
      "execution_count": null,
      "outputs": [
        {
          "output_type": "stream",
          "text": [
            "251 251\n"
          ],
          "name": "stdout"
        },
        {
          "output_type": "execute_result",
          "data": {
            "text/plain": [
              "[(3241, ['@ch']),\n",
              " (6228, ['@hg47']),\n",
              " (7994, ['@hg47']),\n",
              " (10323, ['@twisted_twins']),\n",
              " (10710, ['@hg47']),\n",
              " (10803, ['@hg47']),\n",
              " (10836, ['@hg47']),\n",
              " (15960, ['@res', '@res']),\n",
              " (16506, ['@ss']),\n",
              " (18173, ['@ss'])]"
            ]
          },
          "metadata": {
            "tags": []
          },
          "execution_count": 54
        }
      ]
    },
    {
      "cell_type": "markdown",
      "metadata": {
        "id": "UXlTUa8WrsE1"
      },
      "source": [
        "## Find email in reviews"
      ]
    },
    {
      "cell_type": "code",
      "metadata": {
        "id": "Ch1WWc7UruLF"
      },
      "source": [
        "count_em, found_em = find_noise(r'[\\w\\.-]+@[\\w\\.-]+\\.\\w+', text_ls)"
      ],
      "execution_count": null,
      "outputs": []
    },
    {
      "cell_type": "code",
      "metadata": {
        "id": "e4Bn2Qvi10zE",
        "outputId": "fb0cc568-ef0d-413c-99d3-51cf621ea7e9",
        "colab": {
          "base_uri": "https://localhost:8080/"
        }
      },
      "source": [
        "print(count_em, len(found_em))\n",
        "found_em[:10]"
      ],
      "execution_count": null,
      "outputs": [
        {
          "output_type": "stream",
          "text": [
            "64 64\n"
          ],
          "name": "stdout"
        },
        {
          "output_type": "execute_result",
          "data": {
            "text/plain": [
              "[(15960, ['wh@res...why']),\n",
              " (45487, ['C23flyboy@msn.com']),\n",
              " (50753, ['OBX411@HOTMAIL.COM']),\n",
              " (57176, ['enquiry@pretmanns.com']),\n",
              " (58169, ['ailuv@suomi24.fi']),\n",
              " (58197, ['yuckplace@hotmail.com']),\n",
              " (58218, ['yuckplace@hotmail.com']),\n",
              " (59608, ['crome06@hotmail.com']),\n",
              " (59612, ['yuckplace@hotmail.com']),\n",
              " (62475, ['wstrnlibwarrior@yahoo.com'])]"
            ]
          },
          "metadata": {
            "tags": []
          },
          "execution_count": 56
        }
      ]
    },
    {
      "cell_type": "code",
      "metadata": {
        "id": "gxrcyNja6eHZ"
      },
      "source": [
        "count_em_2, found_em_2 = find_noise(r'[\\w\\.-]+@[\\w\\.-]+', text_ls)"
      ],
      "execution_count": null,
      "outputs": []
    },
    {
      "cell_type": "code",
      "metadata": {
        "id": "UMCoV4Nh6lO8",
        "outputId": "f302fac4-30a1-479d-bf29-a1513a1665d7",
        "colab": {
          "base_uri": "https://localhost:8080/"
        }
      },
      "source": [
        "print(count_em_2, len(found_em_2))\n",
        "found_em_2[:10]"
      ],
      "execution_count": null,
      "outputs": [
        {
          "output_type": "stream",
          "text": [
            "144 144\n"
          ],
          "name": "stdout"
        },
        {
          "output_type": "execute_result",
          "data": {
            "text/plain": [
              "[(10803, ['too.@hg47']),\n",
              " (15960, ['wh@res', 'wh@res...why']),\n",
              " (16506, ['Jack@ss']),\n",
              " (18173, ['bad@ss']),\n",
              " (20340, ['outcome.@hg47']),\n",
              " (22216, ['d@mn']),\n",
              " (31397, ['Bad@ss']),\n",
              " (35393, ['t0t@l-b']),\n",
              " (35602, ['A@E']),\n",
              " (36431, ['bad@ss'])]"
            ]
          },
          "metadata": {
            "tags": []
          },
          "execution_count": 58
        }
      ]
    },
    {
      "cell_type": "markdown",
      "metadata": {
        "id": "NmZwi9518dWi"
      },
      "source": [
        "## Find dollor sign in reviews"
      ]
    },
    {
      "cell_type": "code",
      "metadata": {
        "id": "ssTeZLK96omA"
      },
      "source": [
        "count_doll, found_doll = find_noise(r'\\$[^\\]]+', text_ls)"
      ],
      "execution_count": null,
      "outputs": []
    },
    {
      "cell_type": "code",
      "metadata": {
        "id": "UNUGj4d49iS0",
        "outputId": "d820c751-f610-47b8-9b6c-eecdf2daa071",
        "colab": {
          "base_uri": "https://localhost:8080/"
        }
      },
      "source": [
        "print(count_doll, len(found_doll))\n",
        "found_doll[:10]"
      ],
      "execution_count": null,
      "outputs": [
        {
          "output_type": "stream",
          "text": [
            "20435 20435\n"
          ],
          "name": "stdout"
        },
        {
          "output_type": "execute_result",
          "data": {
            "text/plain": [
              "[(49,\n",
              "  [\"$25!! Way pumped!The discs were clean, no scratches, worked perfectly. No problems at allAs for the first seasons of it's always sunny, you either like it or you don't. I used to hate this show, but it's now one of my favorite shows. If you haven't seen it yet, then get on it player!\"]),\n",
              " (225,\n",
              "  [\"$29! I'd rather buy two copies of Season 1! How do I pick zero stars?\"]),\n",
              " (288,\n",
              "  ['$$ nature, and the plot continues to thicken with \"The Company\". I\\'ll warn you, you\\'re not going to want to stop here, you might want to just get the entire collection and take a vacation so you can watch it all.']),\n",
              " (593, ['$9.00 each right around Christmas the last couple years.']),\n",
              " (705,\n",
              "  ['$2 million goal in the first day of the campaign and went on to triple the thing at $5.7 million. The behind-the-scenes story is so feel good. Veronica Mars, the movie, is essentially a love letter from the cast & crew to the fans.A long time ago, we used to be friendsBut I haven\\'t thought of you lately at all...It\\'s been roughly ten years since we last saw Veronica, back when she was a teenaged private eye poking her nose in everyone\\'s biz in Neptune, Cali. The movie\\'s opening sequence fills us in on what she\\'s been up to. Veronica is interviewing for a place in a prestigious New York law firm that especializes in dumping frivolous cases before they get to court. (So much for what would\\'ve been the 4th Season premise of her landing in the FBI.) Veronica confides that she got out of Neptune when she was 19, got herself a B.A. in psychology at Stanford, was near the top of her class in Columbia law. Interview over, Veronica hopes for the best.She claims that her amateur sleuthing days are in the rear view and her nosy disposition tamped down. And when her bad boy ex Logan Echolls (Jason Dohring) is implicated in murder and he calls her, pleading for her help, she assures her current beau that she\\'s only going to provide Logan with lawyery advise. So it\\'s back home for Veronica, a reunion with her ex with the baggage and a dive back into a posh but then scuzzy space redolent of leftover angst and reputations ruined and inner demons outed but never exorcised. That unknown murderer lurking in the midst - because it can\\'t possibly be Logan, right? - almost seems a footnote. Just another day in Neptune.The best bits about the television show get reincarnated. It\\'s still ultimately about the underdog, the perceived loser, putting one over the bullies. Very much intact is that marvelous father-daughter synergy between Kristen Bell and the fantastic Enrico Colantoni. Veronica and Logan\\'s relationship is still... complicated. Veronica still cracks wise. She\\'s still incredibly dogged. There\\'s huge gratification in catching up with a host of familiar faces. Everyone came back! Plus, there\\'s a surprise cameo or three. Okay, if you don\\'t know Veronica Mars from Bruno Mars, you won\\'t get it. But this isn\\'t about luring in the uninitiated. See, you\\'ve caught me in mid-celebration. I\\'m still gobsmacked that there\\'s a Veronica Mars movie, and I think we marshmallows suspected it wasn\\'t gonna make tons of money, but so what? Maybe tomorrow I\\'ll watch this again and then I\\'ll notice flaws. But that\\'s tomorrow. This movie is a collaborative labor of love among the filmmakers, the cast, and the ardent, mobilized fans. For now, I\\'m keeping it on the pedestal.The DVD\\'s bonus stuff:- \"By the Fans: The Making of the Veronica Mars Movie\" - a very cool documentary in which Rob thomas, Kristen Bell and the entire Veronica Mars cast take you from its record-breaking Kickstarter launch to pre-production to the first day on set and beyond! Includes a segment from the backers\\' perspectives as they show up as extras on the set (00:55:36 minutes long)']),\n",
              " (795,\n",
              "  ['$!!*() #%!($#@@&/.\"\"More Crap\"--Randy Marsh passes a world record size BM.  when his record is broken, his life\\'s quest is to get it back--but Bono is bound (if you will) to stop him.  I actually agree with the point they make about Bono, but this episode has a very nasty part--and I\\'m not talking about the BMs.Disc 3:\"Imaginationland\"--OK, the bet Cartman made with Kyle is hilarious.  I laughed to tears when I first saw it on TV, but what does it say about Cartman\\'s sexuality?  Is that a prize a straight guy would want?  I mean, another guy performing the task?  What\\'s up with that?  Anyway, the boys go on a trip to a land of imaginary characters--including my favorite, Pac-Man, though I don\\'t like that he\\'s sometimes given teeth--and it\\'s hit with a terrorist attack.  Yes, terrorists have now attacked our imaginations.  Meanwhile, Cartman takes Kyle to court and Stan and Kyle are taken to the Pentagon for questioning.\"Imaginationland, Episode II\"--That opening dream sequence is from Monty Python.  The terrorists break down a wall and unleash the evil characters of our imagination and now imaginations are really running wild, especially when Cartman\\'s demented Christmas woodland critters show up.  Stan and Kyle help the feds break through the portal to Imaginationland but, just before the troops charge in, Kyle may finally have to pay his debt to Cartman.\"Imaginationland, Episode III\"--With the help of Butters, the good imaginary characters set out to battle the evil ones.  Kyle has to stop the Pentagon from destroying Imaginationland before the good characters have a chance to win.  Al Gore, however, might doom everyone when he sees the evil character from his imagination.  Oh, and the Cartman/Kyle bet finally gets settled...sort of.\"Guitar Queer-o\"--Great!  In typical SP fashion, the importance of Guitar Hero is built up all out of proportion.  This episode shows how Matt and Trey keep up with the fads of pop culture.  I also like this episode because I\\'m a Kansas fan.\"The List\"--There\\'s a list the girls created ranking the boys in their class from cutest to ugliest and Kyle is ranked last.  That can\\'t be right!  Kyle is adorable!  Something must be wrong!']),\n",
              " (1149,\n",
              "  ['$100 with shipping.  It seems to have all the same extrasas the US box set.  Well worth considering as long as the price holds up.']),\n",
              " (1213,\n",
              "  ['$2 plus meaning about $100. Feel like this is a bait and switch. Amazon Prime offered me $5 and told me to complain to the studio. Feels like reading half a book and losing it.']),\n",
              " (1423,\n",
              "  [\"$50,000 dollars worth of bionics parts, up from the 1970's amount of six million..inflation, inflation, inflation!I am sadden that only eight episodes (which are all presented here) were made of this series before the writer's strike of TV season 2007-2008. It had promise, but we may never know if it could have developed. NBC Network  has not stated if this show has been renewed for the next season. So these eight episodes may be the only  episodes of this seriesI can only wish that someone would release the classic Six Million Dollar man or the original Bionic woman on DVD...Now that was great television!Bennet Pomerantz AUDIOWORLD\"]),\n",
              " (1433,\n",
              "  [\"$6 million. Times have changed and so has this show. But that's a good thing. While the original seems silly to look back on now, science fiction fans can find much to enjoy in this one. Look for it on your shelves or add it to your own. It's a series worth having.\"])]"
            ]
          },
          "metadata": {
            "tags": []
          },
          "execution_count": 60
        }
      ]
    },
    {
      "cell_type": "code",
      "metadata": {
        "id": "DjPLip-897kd"
      },
      "source": [
        "count_doll, found_doll = find_noise(r'\\$\\d+(?:\\.\\d+)?', text_ls)"
      ],
      "execution_count": null,
      "outputs": []
    },
    {
      "cell_type": "code",
      "metadata": {
        "id": "dXI25P6n8_Km",
        "outputId": "cd422895-6d66-4b68-82b4-6e810e9eb9c6",
        "colab": {
          "base_uri": "https://localhost:8080/"
        }
      },
      "source": [
        "print(count_doll, len(found_doll))\n",
        "found_doll[:10]"
      ],
      "execution_count": null,
      "outputs": [
        {
          "output_type": "stream",
          "text": [
            "18563 18563\n"
          ],
          "name": "stdout"
        },
        {
          "output_type": "execute_result",
          "data": {
            "text/plain": [
              "[(49, ['$25']),\n",
              " (225, ['$29']),\n",
              " (593, ['$9.00']),\n",
              " (705, ['$2', '$5.7']),\n",
              " (1149, ['$100']),\n",
              " (1213, ['$2', '$100', '$5']),\n",
              " (1423, ['$50']),\n",
              " (1433, ['$6']),\n",
              " (1666, ['$10']),\n",
              " (1925, ['$2'])]"
            ]
          },
          "metadata": {
            "tags": []
          },
          "execution_count": 62
        }
      ]
    },
    {
      "cell_type": "markdown",
      "metadata": {
        "id": "X3pcfRjm0rQe"
      },
      "source": [
        "About [contractions](https://stackoverflow.com/questions/19790188/expanding-english-language-contractions-in-python)\n",
        "\n",
        "https://stackoverflow.com/questions/44865840/how-to-treat-numbers-inside-text-strings-when-vectorizing-words\n",
        "\n",
        "https://www.w3schools.com/python/python_regex.asp#findall"
      ]
    },
    {
      "cell_type": "code",
      "metadata": {
        "id": "_OeH-QyhCmYk"
      },
      "source": [
        ""
      ],
      "execution_count": null,
      "outputs": []
    }
  ]
}