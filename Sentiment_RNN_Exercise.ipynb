{
  "nbformat": 4,
  "nbformat_minor": 0,
  "metadata": {
    "kernelspec": {
      "name": "python3",
      "display_name": "Python 3"
    },
    "language_info": {
      "codemirror_mode": {
        "name": "ipython",
        "version": 3
      },
      "file_extension": ".py",
      "mimetype": "text/x-python",
      "name": "python",
      "nbconvert_exporter": "python",
      "pygments_lexer": "ipython3",
      "version": "3.7.4"
    },
    "colab": {
      "name": "Sentiment_RNN_Exercise.ipynb",
      "provenance": [],
      "collapsed_sections": [],
      "include_colab_link": true
    },
    "accelerator": "GPU"
  },
  "cells": [
    {
      "cell_type": "markdown",
      "metadata": {
        "id": "view-in-github",
        "colab_type": "text"
      },
      "source": [
        "<a href=\"https://colab.research.google.com/github/mayujie/MSC_text_mining/blob/master/Sentiment_RNN_Exercise.ipynb\" target=\"_parent\"><img src=\"https://colab.research.google.com/assets/colab-badge.svg\" alt=\"Open In Colab\"/></a>"
      ]
    },
    {
      "cell_type": "code",
      "metadata": {
        "id": "vu-7uNMyjMUM",
        "outputId": "877bcda7-0acf-4a8d-b1f1-349d7bc7b319",
        "colab": {
          "base_uri": "https://localhost:8080/",
          "height": 84
        }
      },
      "source": [
        "!gdown https://drive.google.com/uc?id=1_1TllbB1pdowmZ2LE1PL3moh1x3trCp6"
      ],
      "execution_count": null,
      "outputs": [
        {
          "output_type": "stream",
          "text": [
            "Downloading...\n",
            "From: https://drive.google.com/uc?id=1_1TllbB1pdowmZ2LE1PL3moh1x3trCp6\n",
            "To: /content/data.zip\n",
            "\r0.00B [00:00, ?B/s]\r12.0MB [00:00, 188MB/s]\n"
          ],
          "name": "stdout"
        }
      ]
    },
    {
      "cell_type": "code",
      "metadata": {
        "id": "dNHSdu18koR1",
        "outputId": "659cf4cd-5fc7-441c-f5d0-8078b5fe8458",
        "colab": {
          "base_uri": "https://localhost:8080/",
          "height": 84
        }
      },
      "source": [
        "!unzip data.zip"
      ],
      "execution_count": null,
      "outputs": [
        {
          "output_type": "stream",
          "text": [
            "Archive:  data.zip\n",
            "   creating: data/\n",
            "  inflating: data/labels.txt         \n",
            "  inflating: data/reviews.txt        \n"
          ],
          "name": "stdout"
        }
      ]
    },
    {
      "cell_type": "markdown",
      "metadata": {
        "id": "riTXquokjFef"
      },
      "source": [
        "# Sentiment Analysis with an RNN\n",
        "\n",
        "In this notebook, you'll implement a recurrent neural network that performs sentiment analysis. \n",
        ">Using an RNN rather than a strictly feedforward network is more accurate since we can include information about the *sequence* of words. \n",
        "\n",
        "Here we'll use a dataset of movie reviews, accompanied by sentiment labels: positive or negative.\n",
        "\n",
        "![alt text](https://drive.google.com/uc?id=1TkHLK9_aME3VmlZ5vB2wZC4gjTTSOB4w)\n",
        "<img src=\"assets/reviews_ex.png\" width=40%>\n",
        "\n",
        "### Network Architecture\n",
        "\n",
        "The architecture for this network is shown below.\n",
        "\n",
        "![alt text](https://drive.google.com/uc?id=1B4fdKBByMFTjJ2LJv_oqmeTV4n62jn7S)\n",
        "<img src=\"assets/network_diagram.png\" width=40%>\n",
        "\n",
        ">**First, we'll pass in words to an embedding layer.** We need an embedding layer because we have tens of thousands of words, so we'll need a more efficient representation for our input data than one-hot encoded vectors. You should have seen this before from the Word2Vec lesson. You can actually train an embedding with the Skip-gram Word2Vec model and use those embeddings as input, here. However, it's good enough to just have an embedding layer and let the network learn a different embedding table on its own. *In this case, the embedding layer is for dimensionality reduction, rather than for learning semantic representations.*\n",
        "\n",
        ">**After input words are passed to an embedding layer, the new embeddings will be passed to LSTM cells.** The LSTM cells will add *recurrent* connections to the network and give us the ability to include information about the *sequence* of words in the movie review data. \n",
        "\n",
        ">**Finally, the LSTM outputs will go to a sigmoid output layer.** We're using a sigmoid function because positive and negative = 1 and 0, respectively, and a sigmoid will output predicted, sentiment values between 0-1. \n",
        "\n",
        "We don't care about the sigmoid outputs except for the **very last one**; we can ignore the rest. We'll calculate the loss by comparing the output at the last time step and the training label (pos or neg)."
      ]
    },
    {
      "cell_type": "markdown",
      "metadata": {
        "id": "lDBXWGaSjFei"
      },
      "source": [
        "---\n",
        "### Load in and visualize the data"
      ]
    },
    {
      "cell_type": "code",
      "metadata": {
        "id": "NQ0qODWPjFej"
      },
      "source": [
        "import numpy as np\n",
        "\n",
        "# read data from text files\n",
        "with open('data/reviews.txt', 'r') as f:\n",
        "    reviews = f.read()\n",
        "with open('data/labels.txt', 'r') as f:\n",
        "    labels = f.read()"
      ],
      "execution_count": null,
      "outputs": []
    },
    {
      "cell_type": "code",
      "metadata": {
        "id": "mq7sEf41jFen",
        "outputId": "2142a758-902e-40b4-9caa-15d70aa4630f",
        "colab": {
          "base_uri": "https://localhost:8080/",
          "height": 154
        }
      },
      "source": [
        "print(reviews[:2000])\n",
        "print()\n",
        "print(labels[:20])"
      ],
      "execution_count": null,
      "outputs": [
        {
          "output_type": "stream",
          "text": [
            "bromwell high is a cartoon comedy . it ran at the same time as some other programs about school life  such as  teachers  . my   years in the teaching profession lead me to believe that bromwell high  s satire is much closer to reality than is  teachers  . the scramble to survive financially  the insightful students who can see right through their pathetic teachers  pomp  the pettiness of the whole situation  all remind me of the schools i knew and their students . when i saw the episode in which a student repeatedly tried to burn down the school  i immediately recalled . . . . . . . . . at . . . . . . . . . . high . a classic line inspector i  m here to sack one of your teachers . student welcome to bromwell high . i expect that many adults of my age think that bromwell high is far fetched . what a pity that it isn  t   \n",
            "story of a man who has unnatural feelings for a pig . starts out with a opening scene that is a terrific example of absurd comedy . a formal orchestra audience is turned into an insane  violent mob by the crazy chantings of it  s singers . unfortunately it stays absurd the whole time with no general narrative eventually making it just too off putting . even those from the era should be turned off . the cryptic dialogue would make shakespeare seem easy to a third grader . on a technical level it  s better than you might think with some good cinematography by future great vilmos zsigmond . future stars sally kirkland and frederic forrest can be seen briefly .  \n",
            "homelessness  or houselessness as george carlin stated  has been an issue for years but never a plan to help those on the street that were once considered human who did everything from going to school  work  or vote for the matter . most people think of the homeless as just a lost cause while worrying about things such as racism  the war on iraq  pressuring kids to succeed  technology  the elections  inflation  or worrying if they  ll be next to end up on the streets .  br    br   but what if y\n",
            "\n",
            "positive\n",
            "negative\n",
            "po\n"
          ],
          "name": "stdout"
        }
      ]
    },
    {
      "cell_type": "markdown",
      "metadata": {
        "id": "UdSA_EjhjFeq"
      },
      "source": [
        "**we need to pre-process this data and tokenize(to organize) all of words in our vocabulary so that we have numerical data to feed to our model later. Since we're using an embedding layer, we'll need to encode each word as an integer and we'll also want to clean up our data a bit.**"
      ]
    },
    {
      "cell_type": "markdown",
      "metadata": {
        "id": "6jbn7RjjjFer"
      },
      "source": [
        "## Data pre-processing\n",
        "\n",
        "The first step when building a neural network model is getting your data into the proper form to feed into the network. Since we're using embedding layers, we'll need to encode each word with an integer. We'll also want to clean it up a bit.\n",
        "\n",
        "You can see an example of the reviews data above. Here are the processing steps, we'll want to take:\n",
        ">* We'll want to get rid of periods and extraneous punctuation.\n",
        "* Also, you might notice that the reviews are delimited with newline characters `\\n`. To deal with those, I'm going to split the text into each review using `\\n` as the delimiter. \n",
        "* Then I can combined all the reviews back together into one big string.\n",
        "\n",
        "First, let's remove all punctuation. Then get all the text without the newlines and split it into individual words."
      ]
    },
    {
      "cell_type": "code",
      "metadata": {
        "id": "suvc1T4UjFes",
        "outputId": "0a8a4eee-e4de-467e-bb76-0ab6d6e94c71",
        "colab": {
          "base_uri": "https://localhost:8080/",
          "height": 34
        }
      },
      "source": [
        "from string import punctuation\n",
        "\n",
        "print(punctuation)\n",
        "\n",
        "# get rid of punctuation\n",
        "reviews = reviews.lower() # turn our text to lowercase, standardize\n",
        "all_text = ''.join([c for c in reviews if c not in punctuation])\n",
        "# if it's not in the punctuation list, we keep it "
      ],
      "execution_count": null,
      "outputs": [
        {
          "output_type": "stream",
          "text": [
            "!\"#$%&'()*+,-./:;<=>?@[\\]^_`{|}~\n"
          ],
          "name": "stdout"
        }
      ]
    },
    {
      "cell_type": "code",
      "metadata": {
        "id": "9Bo_CGdNjFew",
        "outputId": "4d40ff6a-bb1c-4ca7-f3c8-adabb039195a",
        "colab": {
          "base_uri": "https://localhost:8080/",
          "height": 87
        }
      },
      "source": [
        "# this gives me a version of the review text that is all text no punctuation \n",
        "print(all_text[:2000])\n",
        "# Punctuation that in this case, will not really have any bearing on whether our review is classifed as positive or negative."
      ],
      "execution_count": null,
      "outputs": [
        {
          "output_type": "stream",
          "text": [
            "bromwell high is a cartoon comedy  it ran at the same time as some other programs about school life  such as  teachers   my   years in the teaching profession lead me to believe that bromwell high  s satire is much closer to reality than is  teachers   the scramble to survive financially  the insightful students who can see right through their pathetic teachers  pomp  the pettiness of the whole situation  all remind me of the schools i knew and their students  when i saw the episode in which a student repeatedly tried to burn down the school  i immediately recalled          at           high  a classic line inspector i  m here to sack one of your teachers  student welcome to bromwell high  i expect that many adults of my age think that bromwell high is far fetched  what a pity that it isn  t   \n",
            "story of a man who has unnatural feelings for a pig  starts out with a opening scene that is a terrific example of absurd comedy  a formal orchestra audience is turned into an insane  violent mob by the crazy chantings of it  s singers  unfortunately it stays absurd the whole time with no general narrative eventually making it just too off putting  even those from the era should be turned off  the cryptic dialogue would make shakespeare seem easy to a third grader  on a technical level it  s better than you might think with some good cinematography by future great vilmos zsigmond  future stars sally kirkland and frederic forrest can be seen briefly   \n",
            "homelessness  or houselessness as george carlin stated  has been an issue for years but never a plan to help those on the street that were once considered human who did everything from going to school  work  or vote for the matter  most people think of the homeless as just a lost cause while worrying about things such as racism  the war on iraq  pressuring kids to succeed  technology  the elections  inflation  or worrying if they  ll be next to end up on the streets   br    br   but what if you were given a bet to live on the st\n"
          ],
          "name": "stdout"
        }
      ]
    },
    {
      "cell_type": "markdown",
      "metadata": {
        "id": "ssl-YSGTjFez"
      },
      "source": [
        "**Next, i know that my reviews are separated by a new line characters \\n. So to separate out our reviews, im going to split the text into each review using \\n as the delimiter here. Then i can combine all the review back together as one big string. **\n",
        "\n",
        "Finally, splitting that text into individual words. "
      ]
    },
    {
      "cell_type": "code",
      "metadata": {
        "id": "VJUo-tgYjFez"
      },
      "source": [
        "# split by new lines and spaces\n",
        "reviews_split = all_text.split('\\n')\n",
        "all_text = ' '.join(reviews_split)\n",
        "\n",
        "# create a list of words\n",
        "words = all_text.split()"
      ],
      "execution_count": null,
      "outputs": []
    },
    {
      "cell_type": "code",
      "metadata": {
        "id": "b4ZQ6XEsjFe3",
        "outputId": "6bbedff8-938f-44c2-9209-a2968a9b3590",
        "colab": {
          "base_uri": "https://localhost:8080/",
          "height": 521
        }
      },
      "source": [
        "words[:30]\n",
        "# Essentially, the original text that i printed out only all the punctuation is removed and we've separated everything into \n",
        "# idividual words."
      ],
      "execution_count": null,
      "outputs": [
        {
          "output_type": "execute_result",
          "data": {
            "text/plain": [
              "['bromwell',\n",
              " 'high',\n",
              " 'is',\n",
              " 'a',\n",
              " 'cartoon',\n",
              " 'comedy',\n",
              " 'it',\n",
              " 'ran',\n",
              " 'at',\n",
              " 'the',\n",
              " 'same',\n",
              " 'time',\n",
              " 'as',\n",
              " 'some',\n",
              " 'other',\n",
              " 'programs',\n",
              " 'about',\n",
              " 'school',\n",
              " 'life',\n",
              " 'such',\n",
              " 'as',\n",
              " 'teachers',\n",
              " 'my',\n",
              " 'years',\n",
              " 'in',\n",
              " 'the',\n",
              " 'teaching',\n",
              " 'profession',\n",
              " 'lead',\n",
              " 'me']"
            ]
          },
          "metadata": {
            "tags": []
          },
          "execution_count": 8
        }
      ]
    },
    {
      "cell_type": "markdown",
      "metadata": {
        "id": "D4LbE9EzjFe6"
      },
      "source": [
        "**Next, we have to take our \"word data\" and our \"label text data\" convert this into numerical data.**\n",
        "\n",
        "1st task of exercises will be to create a dictionary that can convert any unique word into an integer token. Then using this dictionary, you need to create a list of tokenized words, all the words in our data but converted into their integer values. \n",
        "\n",
        "i'd also like it so that our dictionary maps more frequent words to lower integer tokens. One important thing to note here is that later, we gonna pad our input vector with zeros. So i actually don't want 0 as a word token. I want the tokenized values to start at one. \n",
        "\n",
        "And so, the most common word in our vocabulary should be mapped to the integer value 1. So create that dictionary, use it to tokenize our words, and then store those tokens in a list."
      ]
    },
    {
      "cell_type": "markdown",
      "metadata": {
        "id": "rNKxE3GBjFe6"
      },
      "source": [
        "### Encoding the words\n",
        "\n",
        "The embedding lookup requires that we pass in integers to our network. The easiest way to do this is to create dictionaries that map the words in the vocabulary to integers. Then we can convert each of our reviews into integers so they can be passed into the network.\n",
        "\n",
        "> **Exercise:** Now you're going to encode the words with integers. Build a dictionary that maps words to integers. Later we're going to pad our input vectors with zeros, so make sure the integers **start at 1, not 0**.\n",
        "> Also, convert the reviews to integers and store the reviews in a new list called `reviews_ints`. "
      ]
    },
    {
      "cell_type": "code",
      "metadata": {
        "id": "l-6mPIPyjFe7",
        "outputId": "ad0440b8-3d8a-480c-db2d-b7a324863a54",
        "colab": {
          "base_uri": "https://localhost:8080/",
          "height": 34
        }
      },
      "source": [
        "# feel free to use this import \n",
        "from collections import Counter\n",
        "\n",
        "## Build a dictionary that maps words to integers\n",
        "# counting how many times each word appeared\n",
        "counts = Counter(words)\n",
        "print(counts.most_common(5))"
      ],
      "execution_count": null,
      "outputs": [
        {
          "output_type": "stream",
          "text": [
            "[('the', 336713), ('and', 164107), ('a', 163009), ('of', 145864), ('to', 135720)]\n"
          ],
          "name": "stdout"
        }
      ]
    },
    {
      "cell_type": "code",
      "metadata": {
        "id": "U9m2nFO2jFe-",
        "outputId": "3ebde964-3033-4dcf-d799-3221e305afd9",
        "colab": {
          "base_uri": "https://localhost:8080/",
          "height": 1000
        }
      },
      "source": [
        "# this sorts each unique word by its frequency of occurrence, \n",
        "# so this vocab should hold all the unique words that make up our word data without any repeats\n",
        "vocab = sorted(counts, key=counts.get, reverse=True) # sort descending\n",
        "# shows the key of sorted word by number of appeared\n",
        "print(vocab[:10])\n",
        "# encode words with integer start from 1\n",
        "vocab_to_int = {word: ii for ii, word in enumerate(vocab, 1)} # default start from 1\n",
        "vocab_to_int"
      ],
      "execution_count": null,
      "outputs": [
        {
          "output_type": "stream",
          "text": [
            "['the', 'and', 'a', 'of', 'to', 'is', 'br', 'it', 'in', 'i']\n"
          ],
          "name": "stdout"
        },
        {
          "output_type": "execute_result",
          "data": {
            "text/plain": [
              "{'the': 1,\n",
              " 'and': 2,\n",
              " 'a': 3,\n",
              " 'of': 4,\n",
              " 'to': 5,\n",
              " 'is': 6,\n",
              " 'br': 7,\n",
              " 'it': 8,\n",
              " 'in': 9,\n",
              " 'i': 10,\n",
              " 'this': 11,\n",
              " 'that': 12,\n",
              " 's': 13,\n",
              " 'was': 14,\n",
              " 'as': 15,\n",
              " 'for': 16,\n",
              " 'with': 17,\n",
              " 'movie': 18,\n",
              " 'but': 19,\n",
              " 'film': 20,\n",
              " 'you': 21,\n",
              " 'on': 22,\n",
              " 't': 23,\n",
              " 'not': 24,\n",
              " 'he': 25,\n",
              " 'are': 26,\n",
              " 'his': 27,\n",
              " 'have': 28,\n",
              " 'be': 29,\n",
              " 'one': 30,\n",
              " 'all': 31,\n",
              " 'at': 32,\n",
              " 'they': 33,\n",
              " 'by': 34,\n",
              " 'an': 35,\n",
              " 'who': 36,\n",
              " 'so': 37,\n",
              " 'from': 38,\n",
              " 'like': 39,\n",
              " 'there': 40,\n",
              " 'her': 41,\n",
              " 'or': 42,\n",
              " 'just': 43,\n",
              " 'about': 44,\n",
              " 'out': 45,\n",
              " 'if': 46,\n",
              " 'has': 47,\n",
              " 'what': 48,\n",
              " 'some': 49,\n",
              " 'good': 50,\n",
              " 'can': 51,\n",
              " 'more': 52,\n",
              " 'she': 53,\n",
              " 'when': 54,\n",
              " 'very': 55,\n",
              " 'up': 56,\n",
              " 'time': 57,\n",
              " 'no': 58,\n",
              " 'even': 59,\n",
              " 'my': 60,\n",
              " 'would': 61,\n",
              " 'which': 62,\n",
              " 'story': 63,\n",
              " 'only': 64,\n",
              " 'really': 65,\n",
              " 'see': 66,\n",
              " 'their': 67,\n",
              " 'had': 68,\n",
              " 'we': 69,\n",
              " 'were': 70,\n",
              " 'me': 71,\n",
              " 'well': 72,\n",
              " 'than': 73,\n",
              " 'much': 74,\n",
              " 'get': 75,\n",
              " 'bad': 76,\n",
              " 'been': 77,\n",
              " 'people': 78,\n",
              " 'will': 79,\n",
              " 'do': 80,\n",
              " 'other': 81,\n",
              " 'also': 82,\n",
              " 'into': 83,\n",
              " 'first': 84,\n",
              " 'great': 85,\n",
              " 'because': 86,\n",
              " 'how': 87,\n",
              " 'him': 88,\n",
              " 'don': 89,\n",
              " 'most': 90,\n",
              " 'made': 91,\n",
              " 'its': 92,\n",
              " 'then': 93,\n",
              " 'make': 94,\n",
              " 'way': 95,\n",
              " 'them': 96,\n",
              " 'could': 97,\n",
              " 'too': 98,\n",
              " 'movies': 99,\n",
              " 'any': 100,\n",
              " 'after': 101,\n",
              " 'think': 102,\n",
              " 'characters': 103,\n",
              " 'character': 104,\n",
              " 'watch': 105,\n",
              " 'two': 106,\n",
              " 'films': 107,\n",
              " 'seen': 108,\n",
              " 'many': 109,\n",
              " 'life': 110,\n",
              " 'being': 111,\n",
              " 'plot': 112,\n",
              " 'acting': 113,\n",
              " 'never': 114,\n",
              " 'love': 115,\n",
              " 'little': 116,\n",
              " 'best': 117,\n",
              " 'where': 118,\n",
              " 'over': 119,\n",
              " 'did': 120,\n",
              " 'show': 121,\n",
              " 'know': 122,\n",
              " 'off': 123,\n",
              " 'ever': 124,\n",
              " 'man': 125,\n",
              " 'does': 126,\n",
              " 'here': 127,\n",
              " 'better': 128,\n",
              " 'your': 129,\n",
              " 'end': 130,\n",
              " 'still': 131,\n",
              " 'these': 132,\n",
              " 'say': 133,\n",
              " 'scene': 134,\n",
              " 'why': 135,\n",
              " 'while': 136,\n",
              " 'scenes': 137,\n",
              " 'go': 138,\n",
              " 've': 139,\n",
              " 'such': 140,\n",
              " 'something': 141,\n",
              " 'should': 142,\n",
              " 'm': 143,\n",
              " 'back': 144,\n",
              " 'through': 145,\n",
              " 'real': 146,\n",
              " 'those': 147,\n",
              " 'watching': 148,\n",
              " 'now': 149,\n",
              " 'though': 150,\n",
              " 'doesn': 151,\n",
              " 'thing': 152,\n",
              " 'old': 153,\n",
              " 'years': 154,\n",
              " 're': 155,\n",
              " 'actors': 156,\n",
              " 'director': 157,\n",
              " 'work': 158,\n",
              " 'another': 159,\n",
              " 'before': 160,\n",
              " 'didn': 161,\n",
              " 'new': 162,\n",
              " 'nothing': 163,\n",
              " 'funny': 164,\n",
              " 'actually': 165,\n",
              " 'makes': 166,\n",
              " 'look': 167,\n",
              " 'find': 168,\n",
              " 'going': 169,\n",
              " 'few': 170,\n",
              " 'same': 171,\n",
              " 'part': 172,\n",
              " 'again': 173,\n",
              " 'every': 174,\n",
              " 'lot': 175,\n",
              " 'world': 176,\n",
              " 'cast': 177,\n",
              " 'us': 178,\n",
              " 'quite': 179,\n",
              " 'down': 180,\n",
              " 'want': 181,\n",
              " 'things': 182,\n",
              " 'pretty': 183,\n",
              " 'young': 184,\n",
              " 'seems': 185,\n",
              " 'around': 186,\n",
              " 'horror': 187,\n",
              " 'got': 188,\n",
              " 'however': 189,\n",
              " 'fact': 190,\n",
              " 'take': 191,\n",
              " 'big': 192,\n",
              " 'enough': 193,\n",
              " 'long': 194,\n",
              " 'thought': 195,\n",
              " 'series': 196,\n",
              " 'both': 197,\n",
              " 'between': 198,\n",
              " 'may': 199,\n",
              " 'give': 200,\n",
              " 'original': 201,\n",
              " 'action': 202,\n",
              " 'own': 203,\n",
              " 'right': 204,\n",
              " 'without': 205,\n",
              " 'must': 206,\n",
              " 'comedy': 207,\n",
              " 'always': 208,\n",
              " 'times': 209,\n",
              " 'point': 210,\n",
              " 'gets': 211,\n",
              " 'family': 212,\n",
              " 'come': 213,\n",
              " 'role': 214,\n",
              " 'isn': 215,\n",
              " 'saw': 216,\n",
              " 'almost': 217,\n",
              " 'interesting': 218,\n",
              " 'least': 219,\n",
              " 'done': 220,\n",
              " 'whole': 221,\n",
              " 'd': 222,\n",
              " 'bit': 223,\n",
              " 'music': 224,\n",
              " 'guy': 225,\n",
              " 'script': 226,\n",
              " 'far': 227,\n",
              " 'making': 228,\n",
              " 'minutes': 229,\n",
              " 'feel': 230,\n",
              " 'anything': 231,\n",
              " 'last': 232,\n",
              " 'might': 233,\n",
              " 'since': 234,\n",
              " 'performance': 235,\n",
              " 'll': 236,\n",
              " 'girl': 237,\n",
              " 'probably': 238,\n",
              " 'am': 239,\n",
              " 'woman': 240,\n",
              " 'kind': 241,\n",
              " 'tv': 242,\n",
              " 'away': 243,\n",
              " 'yet': 244,\n",
              " 'day': 245,\n",
              " 'rather': 246,\n",
              " 'worst': 247,\n",
              " 'fun': 248,\n",
              " 'sure': 249,\n",
              " 'hard': 250,\n",
              " 'anyone': 251,\n",
              " 'played': 252,\n",
              " 'each': 253,\n",
              " 'found': 254,\n",
              " 'having': 255,\n",
              " 'although': 256,\n",
              " 'especially': 257,\n",
              " 'our': 258,\n",
              " 'course': 259,\n",
              " 'believe': 260,\n",
              " 'screen': 261,\n",
              " 'comes': 262,\n",
              " 'looking': 263,\n",
              " 'trying': 264,\n",
              " 'set': 265,\n",
              " 'goes': 266,\n",
              " 'book': 267,\n",
              " 'looks': 268,\n",
              " 'place': 269,\n",
              " 'actor': 270,\n",
              " 'different': 271,\n",
              " 'put': 272,\n",
              " 'money': 273,\n",
              " 'year': 274,\n",
              " 'ending': 275,\n",
              " 'dvd': 276,\n",
              " 'maybe': 277,\n",
              " 'let': 278,\n",
              " 'someone': 279,\n",
              " 'true': 280,\n",
              " 'once': 281,\n",
              " 'sense': 282,\n",
              " 'everything': 283,\n",
              " 'reason': 284,\n",
              " 'wasn': 285,\n",
              " 'shows': 286,\n",
              " 'three': 287,\n",
              " 'worth': 288,\n",
              " 'job': 289,\n",
              " 'main': 290,\n",
              " 'together': 291,\n",
              " 'play': 292,\n",
              " 'watched': 293,\n",
              " 'american': 294,\n",
              " 'everyone': 295,\n",
              " 'plays': 296,\n",
              " 'john': 297,\n",
              " 'effects': 298,\n",
              " 'later': 299,\n",
              " 'audience': 300,\n",
              " 'said': 301,\n",
              " 'takes': 302,\n",
              " 'instead': 303,\n",
              " 'house': 304,\n",
              " 'beautiful': 305,\n",
              " 'seem': 306,\n",
              " 'night': 307,\n",
              " 'high': 308,\n",
              " 'himself': 309,\n",
              " 'version': 310,\n",
              " 'wife': 311,\n",
              " 'during': 312,\n",
              " 'left': 313,\n",
              " 'father': 314,\n",
              " 'special': 315,\n",
              " 'seeing': 316,\n",
              " 'half': 317,\n",
              " 'star': 318,\n",
              " 'excellent': 319,\n",
              " 'war': 320,\n",
              " 'shot': 321,\n",
              " 'idea': 322,\n",
              " 'black': 323,\n",
              " 'nice': 324,\n",
              " 'less': 325,\n",
              " 'else': 326,\n",
              " 'mind': 327,\n",
              " 'simply': 328,\n",
              " 'read': 329,\n",
              " 'second': 330,\n",
              " 'fan': 331,\n",
              " 'men': 332,\n",
              " 'death': 333,\n",
              " 'hollywood': 334,\n",
              " 'poor': 335,\n",
              " 'help': 336,\n",
              " 'completely': 337,\n",
              " 'used': 338,\n",
              " 'home': 339,\n",
              " 'dead': 340,\n",
              " 'line': 341,\n",
              " 'short': 342,\n",
              " 'either': 343,\n",
              " 'given': 344,\n",
              " 'top': 345,\n",
              " 'kids': 346,\n",
              " 'budget': 347,\n",
              " 'try': 348,\n",
              " 'classic': 349,\n",
              " 'wrong': 350,\n",
              " 'performances': 351,\n",
              " 'women': 352,\n",
              " 'enjoy': 353,\n",
              " 'boring': 354,\n",
              " 'need': 355,\n",
              " 'use': 356,\n",
              " 'rest': 357,\n",
              " 'low': 358,\n",
              " 'friends': 359,\n",
              " 'production': 360,\n",
              " 'full': 361,\n",
              " 'camera': 362,\n",
              " 'until': 363,\n",
              " 'along': 364,\n",
              " 'truly': 365,\n",
              " 'video': 366,\n",
              " 'awful': 367,\n",
              " 'couple': 368,\n",
              " 'tell': 369,\n",
              " 'next': 370,\n",
              " 'remember': 371,\n",
              " 'stupid': 372,\n",
              " 'start': 373,\n",
              " 'stars': 374,\n",
              " 'perhaps': 375,\n",
              " 'sex': 376,\n",
              " 'mean': 377,\n",
              " 'won': 378,\n",
              " 'came': 379,\n",
              " 'recommend': 380,\n",
              " 'moments': 381,\n",
              " 'school': 382,\n",
              " 'episode': 383,\n",
              " 'wonderful': 384,\n",
              " 'small': 385,\n",
              " 'face': 386,\n",
              " 'understand': 387,\n",
              " 'terrible': 388,\n",
              " 'playing': 389,\n",
              " 'getting': 390,\n",
              " 'written': 391,\n",
              " 'early': 392,\n",
              " 'name': 393,\n",
              " 'doing': 394,\n",
              " 'often': 395,\n",
              " 'style': 396,\n",
              " 'keep': 397,\n",
              " 'perfect': 398,\n",
              " 'human': 399,\n",
              " 'others': 400,\n",
              " 'person': 401,\n",
              " 'definitely': 402,\n",
              " 'gives': 403,\n",
              " 'itself': 404,\n",
              " 'boy': 405,\n",
              " 'lines': 406,\n",
              " 'lost': 407,\n",
              " 'live': 408,\n",
              " 'become': 409,\n",
              " 'dialogue': 410,\n",
              " 'head': 411,\n",
              " 'piece': 412,\n",
              " 'finally': 413,\n",
              " 'case': 414,\n",
              " 'yes': 415,\n",
              " 'felt': 416,\n",
              " 'mother': 417,\n",
              " 'liked': 418,\n",
              " 'supposed': 419,\n",
              " 'children': 420,\n",
              " 'title': 421,\n",
              " 'couldn': 422,\n",
              " 'cinema': 423,\n",
              " 'white': 424,\n",
              " 'absolutely': 425,\n",
              " 'picture': 426,\n",
              " 'against': 427,\n",
              " 'sort': 428,\n",
              " 'worse': 429,\n",
              " 'certainly': 430,\n",
              " 'went': 431,\n",
              " 'entire': 432,\n",
              " 'waste': 433,\n",
              " 'killer': 434,\n",
              " 'problem': 435,\n",
              " 'oh': 436,\n",
              " 'mr': 437,\n",
              " 'hope': 438,\n",
              " 'evil': 439,\n",
              " 'entertaining': 440,\n",
              " 'friend': 441,\n",
              " 'overall': 442,\n",
              " 'called': 443,\n",
              " 'based': 444,\n",
              " 'loved': 445,\n",
              " 'fans': 446,\n",
              " 'several': 447,\n",
              " 'drama': 448,\n",
              " 'beginning': 449,\n",
              " 'lives': 450,\n",
              " 'direction': 451,\n",
              " 'care': 452,\n",
              " 'already': 453,\n",
              " 'dark': 454,\n",
              " 'becomes': 455,\n",
              " 'laugh': 456,\n",
              " 'example': 457,\n",
              " 'under': 458,\n",
              " 'despite': 459,\n",
              " 'seemed': 460,\n",
              " 'throughout': 461,\n",
              " 'turn': 462,\n",
              " 'son': 463,\n",
              " 'unfortunately': 464,\n",
              " 'wanted': 465,\n",
              " 'michael': 466,\n",
              " 'history': 467,\n",
              " 'heart': 468,\n",
              " 'final': 469,\n",
              " 'fine': 470,\n",
              " 'child': 471,\n",
              " 'sound': 472,\n",
              " 'amazing': 473,\n",
              " 'guess': 474,\n",
              " 'lead': 475,\n",
              " 'humor': 476,\n",
              " 'totally': 477,\n",
              " 'writing': 478,\n",
              " 'guys': 479,\n",
              " 'quality': 480,\n",
              " 'close': 481,\n",
              " 'art': 482,\n",
              " 'wants': 483,\n",
              " 'game': 484,\n",
              " 'behind': 485,\n",
              " 'works': 486,\n",
              " 'town': 487,\n",
              " 'side': 488,\n",
              " 'tries': 489,\n",
              " 'days': 490,\n",
              " 'past': 491,\n",
              " 'viewer': 492,\n",
              " 'able': 493,\n",
              " 'flick': 494,\n",
              " 'hand': 495,\n",
              " 'genre': 496,\n",
              " 'turns': 497,\n",
              " 'act': 498,\n",
              " 'enjoyed': 499,\n",
              " 'today': 500,\n",
              " 'kill': 501,\n",
              " 'favorite': 502,\n",
              " 'car': 503,\n",
              " 'soon': 504,\n",
              " 'starts': 505,\n",
              " 'run': 506,\n",
              " 'actress': 507,\n",
              " 'sometimes': 508,\n",
              " 'gave': 509,\n",
              " 'eyes': 510,\n",
              " 'b': 511,\n",
              " 'late': 512,\n",
              " 'girls': 513,\n",
              " 'etc': 514,\n",
              " 'god': 515,\n",
              " 'directed': 516,\n",
              " 'horrible': 517,\n",
              " 'kid': 518,\n",
              " 'city': 519,\n",
              " 'brilliant': 520,\n",
              " 'parts': 521,\n",
              " 'hour': 522,\n",
              " 'blood': 523,\n",
              " 'self': 524,\n",
              " 'themselves': 525,\n",
              " 'stories': 526,\n",
              " 'thinking': 527,\n",
              " 'expect': 528,\n",
              " 'stuff': 529,\n",
              " 'obviously': 530,\n",
              " 'decent': 531,\n",
              " 'voice': 532,\n",
              " 'writer': 533,\n",
              " 'fight': 534,\n",
              " 'highly': 535,\n",
              " 'myself': 536,\n",
              " 'feeling': 537,\n",
              " 'daughter': 538,\n",
              " 'slow': 539,\n",
              " 'except': 540,\n",
              " 'matter': 541,\n",
              " 'type': 542,\n",
              " 'age': 543,\n",
              " 'anyway': 544,\n",
              " 'roles': 545,\n",
              " 'moment': 546,\n",
              " 'killed': 547,\n",
              " 'heard': 548,\n",
              " 'says': 549,\n",
              " 'leave': 550,\n",
              " 'brother': 551,\n",
              " 'took': 552,\n",
              " 'strong': 553,\n",
              " 'cannot': 554,\n",
              " 'police': 555,\n",
              " 'violence': 556,\n",
              " 'hit': 557,\n",
              " 'stop': 558,\n",
              " 'happens': 559,\n",
              " 'known': 560,\n",
              " 'particularly': 561,\n",
              " 'involved': 562,\n",
              " 'happened': 563,\n",
              " 'chance': 564,\n",
              " 'extremely': 565,\n",
              " 'james': 566,\n",
              " 'obvious': 567,\n",
              " 'murder': 568,\n",
              " 'told': 569,\n",
              " 'living': 570,\n",
              " 'coming': 571,\n",
              " 'alone': 572,\n",
              " 'experience': 573,\n",
              " 'lack': 574,\n",
              " 'hero': 575,\n",
              " 'wouldn': 576,\n",
              " 'including': 577,\n",
              " 'attempt': 578,\n",
              " 'please': 579,\n",
              " 'happen': 580,\n",
              " 'gore': 581,\n",
              " 'crap': 582,\n",
              " 'wonder': 583,\n",
              " 'cut': 584,\n",
              " 'group': 585,\n",
              " 'complete': 586,\n",
              " 'ago': 587,\n",
              " 'interest': 588,\n",
              " 'none': 589,\n",
              " 'score': 590,\n",
              " 'husband': 591,\n",
              " 'hell': 592,\n",
              " 'save': 593,\n",
              " 'david': 594,\n",
              " 'simple': 595,\n",
              " 'ok': 596,\n",
              " 'looked': 597,\n",
              " 'song': 598,\n",
              " 'career': 599,\n",
              " 'number': 600,\n",
              " 'seriously': 601,\n",
              " 'possible': 602,\n",
              " 'annoying': 603,\n",
              " 'sad': 604,\n",
              " 'exactly': 605,\n",
              " 'shown': 606,\n",
              " 'king': 607,\n",
              " 'running': 608,\n",
              " 'musical': 609,\n",
              " 'yourself': 610,\n",
              " 'serious': 611,\n",
              " 'scary': 612,\n",
              " 'reality': 613,\n",
              " 'taken': 614,\n",
              " 'whose': 615,\n",
              " 'released': 616,\n",
              " 'cinematography': 617,\n",
              " 'english': 618,\n",
              " 'ends': 619,\n",
              " 'hours': 620,\n",
              " 'usually': 621,\n",
              " 'opening': 622,\n",
              " 'jokes': 623,\n",
              " 'light': 624,\n",
              " 'hilarious': 625,\n",
              " 'across': 626,\n",
              " 'cool': 627,\n",
              " 'body': 628,\n",
              " 'somewhat': 629,\n",
              " 'usual': 630,\n",
              " 'happy': 631,\n",
              " 'relationship': 632,\n",
              " 'ridiculous': 633,\n",
              " 'view': 634,\n",
              " 'level': 635,\n",
              " 'started': 636,\n",
              " 'change': 637,\n",
              " 'opinion': 638,\n",
              " 'wish': 639,\n",
              " 'novel': 640,\n",
              " 'middle': 641,\n",
              " 'talking': 642,\n",
              " 'taking': 643,\n",
              " 'documentary': 644,\n",
              " 'ones': 645,\n",
              " 'robert': 646,\n",
              " 'order': 647,\n",
              " 'shots': 648,\n",
              " 'finds': 649,\n",
              " 'power': 650,\n",
              " 'saying': 651,\n",
              " 'female': 652,\n",
              " 'huge': 653,\n",
              " 'room': 654,\n",
              " 'mostly': 655,\n",
              " 'episodes': 656,\n",
              " 'country': 657,\n",
              " 'five': 658,\n",
              " 'talent': 659,\n",
              " 'important': 660,\n",
              " 'rating': 661,\n",
              " 'modern': 662,\n",
              " 'earth': 663,\n",
              " 'strange': 664,\n",
              " 'major': 665,\n",
              " 'word': 666,\n",
              " 'turned': 667,\n",
              " 'call': 668,\n",
              " 'jack': 669,\n",
              " 'apparently': 670,\n",
              " 'single': 671,\n",
              " 'disappointed': 672,\n",
              " 'events': 673,\n",
              " 'four': 674,\n",
              " 'due': 675,\n",
              " 'songs': 676,\n",
              " 'basically': 677,\n",
              " 'attention': 678,\n",
              " 'television': 679,\n",
              " 'comic': 680,\n",
              " 'knows': 681,\n",
              " 'future': 682,\n",
              " 'non': 683,\n",
              " 'supporting': 684,\n",
              " 'clearly': 685,\n",
              " 'knew': 686,\n",
              " 'british': 687,\n",
              " 'fast': 688,\n",
              " 'thriller': 689,\n",
              " 'paul': 690,\n",
              " 'class': 691,\n",
              " 'easily': 692,\n",
              " 'cheap': 693,\n",
              " 'silly': 694,\n",
              " 'problems': 695,\n",
              " 'aren': 696,\n",
              " 'words': 697,\n",
              " 'miss': 698,\n",
              " 'tells': 699,\n",
              " 'entertainment': 700,\n",
              " 'local': 701,\n",
              " 'sequence': 702,\n",
              " 'rock': 703,\n",
              " 'bring': 704,\n",
              " 'beyond': 705,\n",
              " 'george': 706,\n",
              " 'straight': 707,\n",
              " 'oscar': 708,\n",
              " 'o': 709,\n",
              " 'upon': 710,\n",
              " 'romantic': 711,\n",
              " 'whether': 712,\n",
              " 'predictable': 713,\n",
              " 'moving': 714,\n",
              " 'sets': 715,\n",
              " 'similar': 716,\n",
              " 'review': 717,\n",
              " 'eye': 718,\n",
              " 'falls': 719,\n",
              " 'mystery': 720,\n",
              " 'lady': 721,\n",
              " 'richard': 722,\n",
              " 'talk': 723,\n",
              " 'enjoyable': 724,\n",
              " 'appears': 725,\n",
              " 'needs': 726,\n",
              " 'giving': 727,\n",
              " 'within': 728,\n",
              " 'message': 729,\n",
              " 'theater': 730,\n",
              " 'ten': 731,\n",
              " 'animation': 732,\n",
              " 'near': 733,\n",
              " 'team': 734,\n",
              " 'above': 735,\n",
              " 'sequel': 736,\n",
              " 'red': 737,\n",
              " 'sister': 738,\n",
              " 'dull': 739,\n",
              " 'theme': 740,\n",
              " 'stand': 741,\n",
              " 'nearly': 742,\n",
              " 'lee': 743,\n",
              " 'bunch': 744,\n",
              " 'points': 745,\n",
              " 'mention': 746,\n",
              " 'add': 747,\n",
              " 'york': 748,\n",
              " 'feels': 749,\n",
              " 'herself': 750,\n",
              " 'haven': 751,\n",
              " 'release': 752,\n",
              " 'ways': 753,\n",
              " 'storyline': 754,\n",
              " 'easy': 755,\n",
              " 'surprised': 756,\n",
              " 'using': 757,\n",
              " 'named': 758,\n",
              " 'fantastic': 759,\n",
              " 'lots': 760,\n",
              " 'begins': 761,\n",
              " 'working': 762,\n",
              " 'die': 763,\n",
              " 'actual': 764,\n",
              " 'effort': 765,\n",
              " 'feature': 766,\n",
              " 'tale': 767,\n",
              " 'french': 768,\n",
              " 'minute': 769,\n",
              " 'hate': 770,\n",
              " 'stay': 771,\n",
              " 'follow': 772,\n",
              " 'viewers': 773,\n",
              " 'clear': 774,\n",
              " 'tom': 775,\n",
              " 'elements': 776,\n",
              " 'among': 777,\n",
              " 'comments': 778,\n",
              " 'typical': 779,\n",
              " 'editing': 780,\n",
              " 'avoid': 781,\n",
              " 'showing': 782,\n",
              " 'tried': 783,\n",
              " 'season': 784,\n",
              " 'famous': 785,\n",
              " 'sorry': 786,\n",
              " 'fall': 787,\n",
              " 'dialog': 788,\n",
              " 'check': 789,\n",
              " 'peter': 790,\n",
              " 'period': 791,\n",
              " 'form': 792,\n",
              " 'certain': 793,\n",
              " 'general': 794,\n",
              " 'filmed': 795,\n",
              " 'buy': 796,\n",
              " 'soundtrack': 797,\n",
              " 'parents': 798,\n",
              " 'weak': 799,\n",
              " 'means': 800,\n",
              " 'material': 801,\n",
              " 'realistic': 802,\n",
              " 'figure': 803,\n",
              " 'doubt': 804,\n",
              " 'somehow': 805,\n",
              " 'crime': 806,\n",
              " 'space': 807,\n",
              " 'gone': 808,\n",
              " 'disney': 809,\n",
              " 'kept': 810,\n",
              " 'viewing': 811,\n",
              " 'leads': 812,\n",
              " 'greatest': 813,\n",
              " 'th': 814,\n",
              " 'dance': 815,\n",
              " 'lame': 816,\n",
              " 'suspense': 817,\n",
              " 'zombie': 818,\n",
              " 'third': 819,\n",
              " 'brought': 820,\n",
              " 'imagine': 821,\n",
              " 'atmosphere': 822,\n",
              " 'hear': 823,\n",
              " 'whatever': 824,\n",
              " 'particular': 825,\n",
              " 'de': 826,\n",
              " 'america': 827,\n",
              " 'sequences': 828,\n",
              " 'move': 829,\n",
              " 'indeed': 830,\n",
              " 'rent': 831,\n",
              " 'eventually': 832,\n",
              " 'average': 833,\n",
              " 'learn': 834,\n",
              " 'wait': 835,\n",
              " 'forget': 836,\n",
              " 'reviews': 837,\n",
              " 'deal': 838,\n",
              " 'note': 839,\n",
              " 'japanese': 840,\n",
              " 'surprise': 841,\n",
              " 'stage': 842,\n",
              " 'sexual': 843,\n",
              " 'poorly': 844,\n",
              " 'okay': 845,\n",
              " 'premise': 846,\n",
              " 'believable': 847,\n",
              " 'sit': 848,\n",
              " 'nature': 849,\n",
              " 'possibly': 850,\n",
              " 'subject': 851,\n",
              " 'decided': 852,\n",
              " 'expected': 853,\n",
              " 'truth': 854,\n",
              " 'imdb': 855,\n",
              " 'dr': 856,\n",
              " 'street': 857,\n",
              " 'free': 858,\n",
              " 'became': 859,\n",
              " 'screenplay': 860,\n",
              " 'difficult': 861,\n",
              " 'romance': 862,\n",
              " 'killing': 863,\n",
              " 'baby': 864,\n",
              " 'joe': 865,\n",
              " 'dog': 866,\n",
              " 'nor': 867,\n",
              " 'hot': 868,\n",
              " 'reading': 869,\n",
              " 'question': 870,\n",
              " 'needed': 871,\n",
              " 'leaves': 872,\n",
              " 'begin': 873,\n",
              " 'meets': 874,\n",
              " 'society': 875,\n",
              " 'directors': 876,\n",
              " 'unless': 877,\n",
              " 'credits': 878,\n",
              " 'shame': 879,\n",
              " 'superb': 880,\n",
              " 'otherwise': 881,\n",
              " 'write': 882,\n",
              " 'situation': 883,\n",
              " 'meet': 884,\n",
              " 'dramatic': 885,\n",
              " 'male': 886,\n",
              " 'memorable': 887,\n",
              " 'open': 888,\n",
              " 'badly': 889,\n",
              " 'earlier': 890,\n",
              " 'writers': 891,\n",
              " 'weird': 892,\n",
              " 'dream': 893,\n",
              " 'forced': 894,\n",
              " 'fi': 895,\n",
              " 'acted': 896,\n",
              " 'sci': 897,\n",
              " 'crazy': 898,\n",
              " 'laughs': 899,\n",
              " 'emotional': 900,\n",
              " 'jane': 901,\n",
              " 'older': 902,\n",
              " 'monster': 903,\n",
              " 'beauty': 904,\n",
              " 'realize': 905,\n",
              " 'comment': 906,\n",
              " 'deep': 907,\n",
              " 'footage': 908,\n",
              " 'forward': 909,\n",
              " 'interested': 910,\n",
              " 'ask': 911,\n",
              " 'fantasy': 912,\n",
              " 'whom': 913,\n",
              " 'plus': 914,\n",
              " 'sounds': 915,\n",
              " 'mark': 916,\n",
              " 'directing': 917,\n",
              " 'keeps': 918,\n",
              " 'development': 919,\n",
              " 'features': 920,\n",
              " 'mess': 921,\n",
              " 'air': 922,\n",
              " 'quickly': 923,\n",
              " 'creepy': 924,\n",
              " 'box': 925,\n",
              " 'towards': 926,\n",
              " 'girlfriend': 927,\n",
              " 'perfectly': 928,\n",
              " 'worked': 929,\n",
              " 'cheesy': 930,\n",
              " 'unique': 931,\n",
              " 'setting': 932,\n",
              " 'effect': 933,\n",
              " 'plenty': 934,\n",
              " 'total': 935,\n",
              " 'hands': 936,\n",
              " 'bill': 937,\n",
              " 'result': 938,\n",
              " 'previous': 939,\n",
              " 'fire': 940,\n",
              " 'brings': 941,\n",
              " 'personal': 942,\n",
              " 'incredibly': 943,\n",
              " 'rate': 944,\n",
              " 'business': 945,\n",
              " 'joke': 946,\n",
              " 'doctor': 947,\n",
              " 'casting': 948,\n",
              " 'return': 949,\n",
              " 'apart': 950,\n",
              " 'christmas': 951,\n",
              " 'leading': 952,\n",
              " 'e': 953,\n",
              " 'admit': 954,\n",
              " 'powerful': 955,\n",
              " 'appear': 956,\n",
              " 'cop': 957,\n",
              " 'background': 958,\n",
              " 'boys': 959,\n",
              " 'ben': 960,\n",
              " 'present': 961,\n",
              " 'meant': 962,\n",
              " 'era': 963,\n",
              " 'telling': 964,\n",
              " 'battle': 965,\n",
              " 'hardly': 966,\n",
              " 'break': 967,\n",
              " 'create': 968,\n",
              " 'masterpiece': 969,\n",
              " 'potential': 970,\n",
              " 'secret': 971,\n",
              " 'pay': 972,\n",
              " 'political': 973,\n",
              " 'gay': 974,\n",
              " 'fighting': 975,\n",
              " 'dumb': 976,\n",
              " 'fails': 977,\n",
              " 'twist': 978,\n",
              " 'various': 979,\n",
              " 'co': 980,\n",
              " 'portrayed': 981,\n",
              " 'inside': 982,\n",
              " 'villain': 983,\n",
              " 'western': 984,\n",
              " 'nudity': 985,\n",
              " 'outside': 986,\n",
              " 'reasons': 987,\n",
              " 'william': 988,\n",
              " 'ideas': 989,\n",
              " 'front': 990,\n",
              " 'match': 991,\n",
              " 'missing': 992,\n",
              " 'deserves': 993,\n",
              " 'married': 994,\n",
              " 'expecting': 995,\n",
              " 'rich': 996,\n",
              " 'fairly': 997,\n",
              " 'talented': 998,\n",
              " 'list': 999,\n",
              " 'success': 1000,\n",
              " ...}"
            ]
          },
          "metadata": {
            "tags": []
          },
          "execution_count": 10
        }
      ]
    },
    {
      "cell_type": "markdown",
      "metadata": {
        "id": "ubcab345jFfB"
      },
      "source": [
        "Next, using this dictionary to tokenize all of our word data. So here looking at each individual review. Each of these is one item and review split from before when i separated reviews by '\\n'.\n",
        "\n",
        "Then for each word in a review, using my dictionary to convert that word into its integer value, and appending the token as review to review_ints. So the edn result will be a list of tokenized reviews."
      ]
    },
    {
      "cell_type": "code",
      "metadata": {
        "id": "MLyFu1YIjFfC"
      },
      "source": [
        "## use the dict to tokenize each review in reviews_split\n",
        "## store the tokenized reviews in reviews_ints\n",
        "reviews_ints = []\n",
        "for review in reviews_split:\n",
        "    reviews_ints.append([vocab_to_int[word] for word in review.split()])"
      ],
      "execution_count": null,
      "outputs": []
    },
    {
      "cell_type": "markdown",
      "metadata": {
        "id": "0IeJhaJBjFfE"
      },
      "source": [
        "**Test your code**\n",
        "\n",
        "As a text that you've implemented the dictionary correctly, print out the number of unique words in your vocabulary and the contents of the first, tokenized review."
      ]
    },
    {
      "cell_type": "code",
      "metadata": {
        "id": "DLtwGSfyjFfF",
        "outputId": "878c617a-b0dd-4150-871d-8d7c93d5c3be",
        "colab": {
          "base_uri": "https://localhost:8080/",
          "height": 138
        }
      },
      "source": [
        "# stats about vocabulary, it will print the length of dictionary\n",
        "print('Unique words: ', len((vocab_to_int)))  # should ~ 74000+\n",
        "# which means that we have this many unique words that make up our reviews data.\n",
        "print()\n",
        "\n",
        "# print tokens in first review// it will print the 1st review in your tokenized review list.\n",
        "print('Number of reviews: ', len(reviews_split))\n",
        "print('Number of reviews: ', len(reviews_ints))\n",
        "print('Tokenized review: \\n', reviews_ints[:1])\n",
        "# this tokenized review without any 0 value which is good, and these encoded values look as expect. "
      ],
      "execution_count": null,
      "outputs": [
        {
          "output_type": "stream",
          "text": [
            "Unique words:  74072\n",
            "\n",
            "Number of reviews:  25001\n",
            "Number of reviews:  25001\n",
            "Tokenized review: \n",
            " [[21025, 308, 6, 3, 1050, 207, 8, 2138, 32, 1, 171, 57, 15, 49, 81, 5785, 44, 382, 110, 140, 15, 5194, 60, 154, 9, 1, 4975, 5852, 475, 71, 5, 260, 12, 21025, 308, 13, 1978, 6, 74, 2395, 5, 613, 73, 6, 5194, 1, 24103, 5, 1983, 10166, 1, 5786, 1499, 36, 51, 66, 204, 145, 67, 1199, 5194, 19869, 1, 37442, 4, 1, 221, 883, 31, 2988, 71, 4, 1, 5787, 10, 686, 2, 67, 1499, 54, 10, 216, 1, 383, 9, 62, 3, 1406, 3686, 783, 5, 3483, 180, 1, 382, 10, 1212, 13583, 32, 308, 3, 349, 341, 2913, 10, 143, 127, 5, 7690, 30, 4, 129, 5194, 1406, 2326, 5, 21025, 308, 10, 528, 12, 109, 1448, 4, 60, 543, 102, 12, 21025, 308, 6, 227, 4146, 48, 3, 2211, 12, 8, 215, 23]]\n"
          ],
          "name": "stdout"
        }
      ]
    },
    {
      "cell_type": "markdown",
      "metadata": {
        "id": "6Wouy5ikjFfI"
      },
      "source": [
        "**Your next similar task is gonna be to encode our label text into numerical values. We saw that this text was just lines of \"positive\" or \"negative\", and we need to create an array encoded labels that converts the word postive to 1 and negative to 0.**"
      ]
    },
    {
      "cell_type": "markdown",
      "metadata": {
        "id": "6adSoSCzjFfI"
      },
      "source": [
        "### Encoding the labels\n",
        "\n",
        "Our labels are \"positive\" or \"negative\". To use these labels in our network, we need to convert them to 0 and 1.\n",
        "\n",
        "> **Exercise:** Convert labels from `positive` and `negative` to 1 and 0, respectively, and place those in a new list, `encoded_labels`."
      ]
    },
    {
      "cell_type": "markdown",
      "metadata": {
        "id": "rhIw44YVjFfJ"
      },
      "source": [
        "like the reviews text that a new label is one every new line in this file. So i can get a list of labels by spliting ourn loaded data using the newline character as a delimiter. \n",
        "\n",
        "For every label in the spilt list, i'm gonna add 1 to my array if it reads as positive, and a 0 otherwise."
      ]
    },
    {
      "cell_type": "code",
      "metadata": {
        "id": "Y3aMG-xEjFfK",
        "outputId": "f30a2adb-ac9a-4322-c082-e635ff3d8c67",
        "colab": {
          "base_uri": "https://localhost:8080/",
          "height": 34
        }
      },
      "source": [
        "# 1=positive, 0=negative label conversion\n",
        "labels_split = labels.split(\"\\n\")\n",
        "labels_split[:5]"
      ],
      "execution_count": null,
      "outputs": [
        {
          "output_type": "execute_result",
          "data": {
            "text/plain": [
              "['positive', 'negative', 'positive', 'negative', 'positive']"
            ]
          },
          "metadata": {
            "tags": []
          },
          "execution_count": 13
        }
      ]
    },
    {
      "cell_type": "code",
      "metadata": {
        "id": "nI0QwUqWjFfP",
        "outputId": "27345946-c2d5-4d17-de0d-1023850e63a1",
        "colab": {
          "base_uri": "https://localhost:8080/",
          "height": 50
        }
      },
      "source": [
        "\n",
        "encoded_labels = np.array([1 if label=='positive' else 0 for label in labels_split])\n",
        "print(len(encoded_labels))\n",
        "encoded_labels"
      ],
      "execution_count": null,
      "outputs": [
        {
          "output_type": "stream",
          "text": [
            "25001\n"
          ],
          "name": "stdout"
        },
        {
          "output_type": "execute_result",
          "data": {
            "text/plain": [
              "array([1, 0, 1, ..., 1, 0, 0])"
            ]
          },
          "metadata": {
            "tags": []
          },
          "execution_count": 14
        }
      ]
    },
    {
      "cell_type": "markdown",
      "metadata": {
        "id": "h43OqifojFfS"
      },
      "source": [
        "**After encoding all our word and label data as an additional pre-processing step, we want to make sure that our reviews are in good shape for standard processing. That is, our network will expect a standard input text size, and so we'll want to shape our reviews into a consistent specific length.**\n",
        "\n",
        "There are two things we'll need to do to approach this task.\n",
        "\n",
        "- 1st, take a look at the review data and see do we have any especially sure longer reviews that might mess with our training process. i'll especially look to see if we have any reviews of length 0 which will not provide any text information and will just act as **noisy data**. If i find any those 0 length reviews, i'll want to remove them from our data entirely.\n",
        "\n",
        "- 2nd, i'll look at the remaining reviews, and for really long reviews, i'll actually truncate them at a specific length. i'll do something similar for shortest reviews and make sure that i'm creating a set of reviews that are all the same length.\n",
        "\n",
        "This will be our **padding** and **truncation** step, where we basically pad our data with columns of zeros or remove columns until we get our desired input shape. "
      ]
    },
    {
      "cell_type": "markdown",
      "metadata": {
        "id": "D6-AtElujFfT"
      },
      "source": [
        "### Removing Outliers\n",
        "\n",
        "As an additional pre-processing step, we want to make sure that our reviews are in good shape for standard processing. That is, our network will expect a standard input text size, and so, we'll want to shape our reviews into a specific length. We'll approach this task in two main steps:\n",
        "\n",
        "1. Getting rid of extremely long or short reviews; the outliers\n",
        "2. Padding/truncating the remaining data so that we have reviews of the same length.\n",
        "\n",
        "![alt text](https://drive.google.com/uc?id=177smc0HLAOX8qFCKIRv9Fr8hVHyaXopn)\n",
        "<img src=\"assets/outliers_padding_ex.png\" width=40%>\n",
        "\n",
        "Before we pad our review text, we should check for reviews of extremely short or long lengths; outliers that may mess with our training."
      ]
    },
    {
      "cell_type": "markdown",
      "metadata": {
        "id": "P4QVsKgXjFfU"
      },
      "source": [
        "Before we pad our review text, we should check for reviews of length 0. The way i'm gonna do this is to use a counter. For each review length that's currently in our data, whether that's a length of 0 or thousands of words, i'll look at how many reviews are of that length. So this returns a dictionary of review lengths and account for how many our reviews fail into those lengths. \n",
        "\n",
        "So here i'm looking at how many of our reviews are 0 length and i'll also print out the longest review length just to see."
      ]
    },
    {
      "cell_type": "code",
      "metadata": {
        "id": "oZS3MrtNjFfV",
        "outputId": "cfe03417-7ce0-40a8-f87b-0d5c82543175",
        "colab": {
          "base_uri": "https://localhost:8080/",
          "height": 1000
        }
      },
      "source": [
        "reviews_ints[:1]"
      ],
      "execution_count": null,
      "outputs": [
        {
          "output_type": "execute_result",
          "data": {
            "text/plain": [
              "[[21025,\n",
              "  308,\n",
              "  6,\n",
              "  3,\n",
              "  1050,\n",
              "  207,\n",
              "  8,\n",
              "  2138,\n",
              "  32,\n",
              "  1,\n",
              "  171,\n",
              "  57,\n",
              "  15,\n",
              "  49,\n",
              "  81,\n",
              "  5785,\n",
              "  44,\n",
              "  382,\n",
              "  110,\n",
              "  140,\n",
              "  15,\n",
              "  5194,\n",
              "  60,\n",
              "  154,\n",
              "  9,\n",
              "  1,\n",
              "  4975,\n",
              "  5852,\n",
              "  475,\n",
              "  71,\n",
              "  5,\n",
              "  260,\n",
              "  12,\n",
              "  21025,\n",
              "  308,\n",
              "  13,\n",
              "  1978,\n",
              "  6,\n",
              "  74,\n",
              "  2395,\n",
              "  5,\n",
              "  613,\n",
              "  73,\n",
              "  6,\n",
              "  5194,\n",
              "  1,\n",
              "  24103,\n",
              "  5,\n",
              "  1983,\n",
              "  10166,\n",
              "  1,\n",
              "  5786,\n",
              "  1499,\n",
              "  36,\n",
              "  51,\n",
              "  66,\n",
              "  204,\n",
              "  145,\n",
              "  67,\n",
              "  1199,\n",
              "  5194,\n",
              "  19869,\n",
              "  1,\n",
              "  37442,\n",
              "  4,\n",
              "  1,\n",
              "  221,\n",
              "  883,\n",
              "  31,\n",
              "  2988,\n",
              "  71,\n",
              "  4,\n",
              "  1,\n",
              "  5787,\n",
              "  10,\n",
              "  686,\n",
              "  2,\n",
              "  67,\n",
              "  1499,\n",
              "  54,\n",
              "  10,\n",
              "  216,\n",
              "  1,\n",
              "  383,\n",
              "  9,\n",
              "  62,\n",
              "  3,\n",
              "  1406,\n",
              "  3686,\n",
              "  783,\n",
              "  5,\n",
              "  3483,\n",
              "  180,\n",
              "  1,\n",
              "  382,\n",
              "  10,\n",
              "  1212,\n",
              "  13583,\n",
              "  32,\n",
              "  308,\n",
              "  3,\n",
              "  349,\n",
              "  341,\n",
              "  2913,\n",
              "  10,\n",
              "  143,\n",
              "  127,\n",
              "  5,\n",
              "  7690,\n",
              "  30,\n",
              "  4,\n",
              "  129,\n",
              "  5194,\n",
              "  1406,\n",
              "  2326,\n",
              "  5,\n",
              "  21025,\n",
              "  308,\n",
              "  10,\n",
              "  528,\n",
              "  12,\n",
              "  109,\n",
              "  1448,\n",
              "  4,\n",
              "  60,\n",
              "  543,\n",
              "  102,\n",
              "  12,\n",
              "  21025,\n",
              "  308,\n",
              "  6,\n",
              "  227,\n",
              "  4146,\n",
              "  48,\n",
              "  3,\n",
              "  2211,\n",
              "  12,\n",
              "  8,\n",
              "  215,\n",
              "  23]]"
            ]
          },
          "metadata": {
            "tags": []
          },
          "execution_count": 15
        }
      ]
    },
    {
      "cell_type": "code",
      "metadata": {
        "id": "lR0I8KrljFfX",
        "outputId": "91c1d490-f093-4393-fe45-4a74321bac80",
        "colab": {
          "base_uri": "https://localhost:8080/",
          "height": 67
        }
      },
      "source": [
        "# outlier review stats\n",
        "review_lens = Counter([len(x) for x in reviews_ints])\n",
        "print(type(review_lens), '   ', review_lens[123])\n",
        "# this 0 length review is just going to add noise into our dataset\n",
        "print(\"Zero-length reviews: {}\".format(review_lens[0]))\n",
        "# longest review has over 2000 words in it.\n",
        "print(\"Maximum review length: {}\".format(max(review_lens)))"
      ],
      "execution_count": null,
      "outputs": [
        {
          "output_type": "stream",
          "text": [
            "<class 'collections.Counter'>     136\n",
            "Zero-length reviews: 1\n",
            "Maximum review length: 2514\n"
          ],
          "name": "stdout"
        }
      ]
    },
    {
      "cell_type": "markdown",
      "metadata": {
        "id": "WD6GN4RRjFfZ"
      },
      "source": [
        "Okay, a couple issues here. We seem to have one review with zero length. And, the maximum review length is way too many steps for our RNN. We'll have to remove any super short reviews and truncate super long reviews. This removes outliers and should allow our model to train more efficiently.\n",
        "\n",
        "> **Exercise:** First, remove *any* reviews with zero length from the `reviews_ints` list and their corresponding label in `encoded_labels`."
      ]
    },
    {
      "cell_type": "code",
      "metadata": {
        "id": "0q_aUzqRjFfa",
        "outputId": "ff800e52-09be-491e-bdcf-a1ae56a84a80",
        "colab": {
          "base_uri": "https://localhost:8080/",
          "height": 84
        }
      },
      "source": [
        "print('Number of reviews before removing outliers: ', len(reviews_ints))\n",
        "print('Number of labels before removing outliers: ', len(encoded_labels))\n",
        "## remove any reviews/labels with zero length from the reviews_ints list.\n",
        "\n",
        "# get indices of any reviews with length 0\n",
        "non_zero_idx = [ii for ii, review in enumerate(reviews_ints) if len(review) != 0]\n",
        "\n",
        "# remove 0-length reviews and their labels\n",
        "reviews_ints = [reviews_ints[ii] for ii in non_zero_idx]\n",
        "encoded_labels = np.array([encoded_labels[ii] for ii in non_zero_idx])\n",
        "\n",
        "print('Number of reviews after removing outliers: ', len(reviews_ints))\n",
        "print('Number of labels after removing outliers: ', len(encoded_labels))"
      ],
      "execution_count": null,
      "outputs": [
        {
          "output_type": "stream",
          "text": [
            "Number of reviews before removing outliers:  25001\n",
            "Number of labels before removing outliers:  25001\n",
            "Number of reviews after removing outliers:  25000\n",
            "Number of labels after removing outliers:  25000\n"
          ],
          "name": "stdout"
        }
      ]
    },
    {
      "cell_type": "markdown",
      "metadata": {
        "id": "MLlMrJN0jFfd"
      },
      "source": [
        "Now the next thing i want to deal with is very long review text data and standardizing the length of our reviews in general. we saw that the maximum revealing was about 2500 words and that's gonna be too many steps for our RNN. In cases like this i want to truncate this data to a resonable size and number of steps.  "
      ]
    },
    {
      "cell_type": "markdown",
      "metadata": {
        "id": "k5EuD-1UjFfe"
      },
      "source": [
        "---\n",
        "## Padding sequences\n",
        "\n",
        "To deal with both short and very long reviews, we'll pad or truncate all our reviews to a specific length. For reviews shorter than some `seq_length`, we'll pad with 0s. For reviews longer than `seq_length`, we can truncate them to the first `seq_length` words. A good `seq_length`, in this case, is 200.\n",
        "\n",
        "> **Exercise:** Define a function that returns an array `features` that contains the padded data, of a standard size, that we'll pass to the network. \n",
        "* The data should come from `review_ints`, since we want to feed integers to the network. \n",
        "* Each row should be `seq_length` elements long. \n",
        "* For reviews shorter than `seq_length` words, **left pad** with 0s. That is, if the review is `['best', 'movie', 'ever']`, `[117, 18, 128]` as integers, the row will look like `[0, 0, 0, ..., 0, 117, 18, 128]`. \n",
        "* For reviews longer than `seq_length`, use only the first `seq_length` words as the feature vector.\n",
        "\n",
        "As a small example, if the `seq_length=10` and an input review is: \n",
        "```\n",
        "[117, 18, 128]\n",
        "```\n",
        "The resultant, padded sequence should be: \n",
        "\n",
        "```\n",
        "[0, 0, 0, 0, 0, 0, 0, 117, 18, 128]\n",
        "```\n",
        "\n",
        "**Your final `features` array should be a 2D array, with as many rows as there are reviews, and as many columns as the specified `seq_length`.**\n",
        "\n",
        "This isn't trivial and there are a bunch of ways to do this. But, if you're going to be building your own deep learning networks, you're going to have to get used to preparing your data."
      ]
    },
    {
      "cell_type": "code",
      "metadata": {
        "id": "6s8_I_QcjFff",
        "outputId": "88cb77ab-7132-4f7b-ff19-3dfe8da4aedb",
        "colab": {
          "base_uri": "https://localhost:8080/",
          "height": 50
        }
      },
      "source": [
        "print(len(reviews_ints[0]))\n",
        "print(len(reviews_ints[2]))"
      ],
      "execution_count": null,
      "outputs": [
        {
          "output_type": "stream",
          "text": [
            "140\n",
            "447\n"
          ],
          "name": "stdout"
        }
      ]
    },
    {
      "cell_type": "code",
      "metadata": {
        "id": "2slIBsI1jFfi",
        "outputId": "7b70f257-8ecc-4b7e-f7ef-031fef3e26cb",
        "colab": {
          "base_uri": "https://localhost:8080/",
          "height": 571
        }
      },
      "source": [
        "print(type(reviews_ints))\n",
        "k = np.zeros((4, 15), dtype=int)\n",
        "print(k,'\\n')\n",
        "m = [[21025,   308 ,    6 ,    3 , 1050   ,207 ,    8 , 2138,    32 ,    1, 34],\n",
        "     [  63 ,   4   , 3 , 125  , 36  , 47, 7472 ,1395],\n",
        "     [22382,    42, 46418   , 15,   706, 17139 , 3389 ,  22, 33, 11, 55, 47,    77  ,  35, 3, 1, 55, 29],\n",
        "     [4505,  505  , 15 ,   3, 3342 , 162, 8312, 1652,    6 ,4819]]\n",
        "for i, row in enumerate(m):\n",
        "    if i < 4:\n",
        "        print(len(row))\n",
        "        print(i ,np.array(row)[:15], len(np.array(row)[:15]))\n",
        "        print(i ,np.array(row)[-5:], '\\n')\n",
        "        k[i, -len(row):] = np.array(row)[:15]\n",
        "        \n",
        "print(len(k[0]), '\\n')\n",
        "print(k)"
      ],
      "execution_count": null,
      "outputs": [
        {
          "output_type": "stream",
          "text": [
            "<class 'list'>\n",
            "[[0 0 0 0 0 0 0 0 0 0 0 0 0 0 0]\n",
            " [0 0 0 0 0 0 0 0 0 0 0 0 0 0 0]\n",
            " [0 0 0 0 0 0 0 0 0 0 0 0 0 0 0]\n",
            " [0 0 0 0 0 0 0 0 0 0 0 0 0 0 0]] \n",
            "\n",
            "11\n",
            "0 [21025   308     6     3  1050   207     8  2138    32     1    34] 11\n",
            "0 [   8 2138   32    1   34] \n",
            "\n",
            "8\n",
            "1 [  63    4    3  125   36   47 7472 1395] 8\n",
            "1 [ 125   36   47 7472 1395] \n",
            "\n",
            "18\n",
            "2 [22382    42 46418    15   706 17139  3389    22    33    11    55    47\n",
            "    77    35     3] 15\n",
            "2 [35  3  1 55 29] \n",
            "\n",
            "10\n",
            "3 [4505  505   15    3 3342  162 8312 1652    6 4819] 10\n",
            "3 [ 162 8312 1652    6 4819] \n",
            "\n",
            "15 \n",
            "\n",
            "[[    0     0     0     0 21025   308     6     3  1050   207     8  2138\n",
            "     32     1    34]\n",
            " [    0     0     0     0     0     0     0    63     4     3   125    36\n",
            "     47  7472  1395]\n",
            " [22382    42 46418    15   706 17139  3389    22    33    11    55    47\n",
            "     77    35     3]\n",
            " [    0     0     0     0     0  4505   505    15     3  3342   162  8312\n",
            "   1652     6  4819]]\n"
          ],
          "name": "stdout"
        }
      ]
    },
    {
      "cell_type": "markdown",
      "metadata": {
        "id": "-qgyTs0WjFfk"
      },
      "source": [
        "solution for creating an array of features, reviews that have either been padded on the left with 0s until their sequence length on or truncated at that length. \n",
        "\n",
        "1st creating an array of 0s, that's just the final shape that i know i want. That is, it should have as many rows as i have reviews in the input reviews_ints data into as many columns as the specified sequence length, and this will just hold all the 0 integers for now.\n",
        "\n",
        "Then for each review in my list, i'll put it as a row in my features array. The 1st review is gonna go on the 1st row, and 2nd in the 2nd row, and so on. I started out thinking of my short review case. I want to keep a left padding of 0s up until i reach where that review can fill the remaining values.\n",
        "\n",
        "So i'm looking at filling my features, starting at the index that's at the end of the features row, (minus the length of the input review). so if a review is short, this means our features are gonna keep the zeros which are padding on the left, and review tokens will be on the right side.\n",
        "\n",
        "It turns out that i only have to add one more piece to this line to make this work for a long reviews too. here for annual review including those longer than the given senquence length, I'm truncating them at that sequence length, and this should fill the corresponding features row. So, this loop will do this for every review in reviews_ints, and then it returns these features. "
      ]
    },
    {
      "cell_type": "code",
      "metadata": {
        "id": "t77mzeR4jFfl"
      },
      "source": [
        "def pad_features(reviews_ints, seq_length):\n",
        "    ''' Return features of review_ints, where each review is padded with 0's \n",
        "        or truncated to the input seq_length.\n",
        "    '''\n",
        "    ## implement function\n",
        "    # getting the correct rows x cols shape     \n",
        "    features=np.zeros((len(reviews_ints), seq_length), dtype=int)\n",
        "    \n",
        "    for i, row in enumerate(reviews_ints):\n",
        "        features[i, -len(row):] = np.array(row)[:seq_length]\n",
        "    \n",
        "    return features"
      ],
      "execution_count": null,
      "outputs": []
    },
    {
      "cell_type": "code",
      "metadata": {
        "id": "dXPapd2RjFfm",
        "outputId": "7a749451-5b8b-4884-de61-e84b08eeac10",
        "colab": {
          "base_uri": "https://localhost:8080/",
          "height": 521
        }
      },
      "source": [
        "# Test your implementation!\n",
        "# set sequence length to 200\n",
        "seq_length = 200\n",
        "\n",
        "features = pad_features(reviews_ints, seq_length=seq_length)\n",
        "\n",
        "# it don't trigger any of these error messages, so dimensions are correct\n",
        "## test statements - do not change - ##\n",
        "assert len(features)==len(reviews_ints), \"Your features should have as many rows as reviews.\"\n",
        "assert len(features[0])==seq_length, \"Each feature row should contain seq_length values.\"\n",
        "\n",
        "# print first 10 values of the first 30 batches(rows) \n",
        "print(features[:30,:10])"
      ],
      "execution_count": null,
      "outputs": [
        {
          "output_type": "stream",
          "text": [
            "[[    0     0     0     0     0     0     0     0     0     0]\n",
            " [    0     0     0     0     0     0     0     0     0     0]\n",
            " [22382    42 46418    15   706 17139  3389    47    77    35]\n",
            " [ 4505   505    15     3  3342   162  8312  1652     6  4819]\n",
            " [    0     0     0     0     0     0     0     0     0     0]\n",
            " [    0     0     0     0     0     0     0     0     0     0]\n",
            " [    0     0     0     0     0     0     0     0     0     0]\n",
            " [    0     0     0     0     0     0     0     0     0     0]\n",
            " [    0     0     0     0     0     0     0     0     0     0]\n",
            " [   54    10    14   116    60   798   552    71   364     5]\n",
            " [    0     0     0     0     0     0     0     0     0     0]\n",
            " [    0     0     0     0     0     0     0     0     0     0]\n",
            " [    0     0     0     0     0     0     0     0     0     0]\n",
            " [    1   330   578    34     3   162   748  2731     9   325]\n",
            " [    9    11 10171  5305  1946   689   444    22   280   673]\n",
            " [    0     0     0     0     0     0     0     0     0     0]\n",
            " [    1   307 10399  2069  1565  6202  6528  3288 17946 10628]\n",
            " [    0     0     0     0     0     0     0     0     0     0]\n",
            " [   21   122  2069  1565   515  8181    88     6  1325  1182]\n",
            " [    1    20     6    76    40     6    58    81    95     5]\n",
            " [   54    10    84   329 26230 46427    63    10    14   614]\n",
            " [   11    20     6    30  1436 32317  3769   690 15100     6]\n",
            " [    0     0     0     0     0     0     0     0     0     0]\n",
            " [    0     0     0     0     0     0     0     0     0     0]\n",
            " [   40    26   109 17952  1422     9     1   327     4   125]\n",
            " [    0     0     0     0     0     0     0     0     0     0]\n",
            " [   10   499     1   307 10399    55    74     8    13    30]\n",
            " [    0     0     0     0     0     0     0     0     0     0]\n",
            " [    0     0     0     0     0     0     0     0     0     0]\n",
            " [    0     0     0     0     0     0     0     0     0     0]]\n"
          ],
          "name": "stdout"
        }
      ]
    },
    {
      "cell_type": "markdown",
      "metadata": {
        "id": "Lr3Q5ob6jFfp"
      },
      "source": [
        "As shown above, A lot of these start with 0s, which is what i expect for left padding, and others have filled up these rows with various token values. And i'll also add that, in this step, we've actually introduced a new token into our review features. \n",
        "\n",
        "Remember before, all words in our vocabulary hadn't associated integer value, and we started organizing with value 1. So in our vocab_to_int dictionary, we had integers from 1 up to 74000 also. And here by adding 0 as padding, i've effectively inserted the 0 token into our vocabulary. "
      ]
    },
    {
      "cell_type": "markdown",
      "metadata": {
        "id": "hIC4H0pAjFfq"
      },
      "source": [
        "**Next, we need to split the features and encoded labels into three different datasets: Training, Validation and test sets. We need to create datasets for grouping our features and labels like train_x and train_y, for example. And we'll use these different sets to train and test our model.**"
      ]
    },
    {
      "cell_type": "markdown",
      "metadata": {
        "id": "bTDNqhnNjFfq"
      },
      "source": [
        "## Training, Validation, Test\n",
        "\n",
        "With our data in nice shape, we'll split it into training, validation, and test sets.\n",
        "\n",
        "> **Exercise:** Create the training, validation, and test sets. \n",
        "* You'll need to create sets for the features and the labels, `train_x` and `train_y`, for example. \n",
        "* Define a split fraction, `split_frac` as the fraction of data to **keep** in the training set. Usually this is set to 0.8 or 0.9. \n",
        "* (the 20% of the data) Whatever data is left will be split in half to create the validation and *testing* data respectively."
      ]
    },
    {
      "cell_type": "markdown",
      "metadata": {
        "id": "flOqFFiBjFfr"
      },
      "source": [
        "Pytorch resources we can use to effectively batch and iterate through these different datasets."
      ]
    },
    {
      "cell_type": "code",
      "metadata": {
        "id": "AnUjQrLYjFfs",
        "outputId": "5bf573c8-e5cc-46e8-83a9-fe8998408d81",
        "colab": {
          "base_uri": "https://localhost:8080/",
          "height": 151
        }
      },
      "source": [
        "split_frac = 0.8\n",
        "\n",
        "## split data into training, validation, and test data (features and labels, x and y)\n",
        "# 0.8 --> take 80% of data and label as training data\n",
        "split_idx = int(len(features)* split_frac)\n",
        "\n",
        "train_x, remaining_x = features[:split_idx], features[split_idx:]\n",
        "train_y, remaining_y = encoded_labels[:split_idx], encoded_labels[split_idx:]\n",
        "\n",
        "# split rest 20% data and labels to half as validation and testing data\n",
        "test_idx = int(len(remaining_x)* 0.5)\n",
        "val_x, test_x = remaining_x[:test_idx], remaining_x[test_idx:]\n",
        "val_y, test_y = remaining_y[:test_idx], remaining_y[test_idx:]\n",
        "\n",
        "## print out the shapes of your resultant feature data\n",
        "print(\"\\t\\t\\tFeature Shapes: (number of reviews, sequence length)\")\n",
        "print(\"Train set: \\t\\t{}\".format(train_x.shape),\n",
        "      \"\\nValidation set: \\t{}\".format(val_x.shape),\n",
        "      \"\\nTest set: \\t\\t{}\".format(test_x.shape))\n",
        "print()\n",
        "print(\"Train label: \\t\\t{}\".format(train_y.shape),\n",
        "      \"\\nValidation label: \\t{}\".format(val_y.shape),\n",
        "      \"\\nTest label: \\t\\t{}\".format(test_y.shape))"
      ],
      "execution_count": null,
      "outputs": [
        {
          "output_type": "stream",
          "text": [
            "\t\t\tFeature Shapes: (number of reviews, sequence length)\n",
            "Train set: \t\t(20000, 200) \n",
            "Validation set: \t(2500, 200) \n",
            "Test set: \t\t(2500, 200)\n",
            "\n",
            "Train label: \t\t(20000,) \n",
            "Validation label: \t(2500,) \n",
            "Test label: \t\t(2500,)\n"
          ],
          "name": "stdout"
        }
      ]
    },
    {
      "cell_type": "markdown",
      "metadata": {
        "id": "8qDZRVmyjFfu"
      },
      "source": [
        "**Check your work**\n",
        "\n",
        "With train, validation, and test fractions equal to 0.8, 0.1, 0.1, respectively, the final, feature data shapes should look like:\n",
        "```\n",
        "                    Feature Shapes:\n",
        "Train set: \t\t (20000, 200) \n",
        "Validation set: \t(2500, 200) \n",
        "Test set: \t\t  (2500, 200)\n",
        "```"
      ]
    },
    {
      "cell_type": "markdown",
      "metadata": {
        "id": "W8Btv1YdjFfu"
      },
      "source": [
        "---\n",
        "## DataLoaders and Batching\n",
        "\n",
        "After creating training, test, and validation data, we can create DataLoaders for this data by following two steps:\n",
        "1. Create a known format for accessing our data, using [TensorDataset](https://pytorch.org/docs/stable/data.html#) which takes in an input set of data and a target set of data with the same first dimension, and creates a dataset.\n",
        "2. Create DataLoaders and batch our training, validation, and test Tensor datasets.\n",
        "\n",
        "```\n",
        "train_data = TensorDataset(torch.from_numpy(train_x), torch.from_numpy(train_y))\n",
        "train_loader = DataLoader(train_data, batch_size=batch_size)\n",
        "```\n",
        "\n",
        "This is an alternative to creating a generator function for batching our data into full batches."
      ]
    },
    {
      "cell_type": "markdown",
      "metadata": {
        "id": "oRV6fTYZjFfv"
      },
      "source": [
        "We can actually create data loaders for our data by following a couple of steps.\n",
        "\n",
        "- 1st, we can use pytorch's tensor dataset to wrap tensor data into a known format. This dataset basically takes any amount of tensors with the same 1st dimension, so the same number of rows, and in our case this is out input features and the label tensors and it creats a dataset that can be processed and batched by pytorch's dataloader class. So once we create our data wrapping it in a tensor dataset, we can then pass that to a data loader as usual. \n",
        "\n",
        "- Dataloader just takes in some data and a batch size and it returns a dataloader that batches our data as we typically might. This is a great alternative to creating a generator function for batching our data into full batches. The dataloader class is gonna take care of a lot of behind-the-scenes work for us and here's what this look like in code.\n",
        "\n",
        "1st, creating tensor datasets by passing in the tensor version of x and y that i created from above, and torch.from_numpy just takes in numpy arrays and convert them into tensors. So doing that for training, validation and test data.\n",
        "\n",
        "**In fact, we can do these steps the other way. Creating a tesnor dataset for all my data and then splitting the data into different sets. Both approachs work.**\n",
        "\n",
        "Then for each tensor dataset that i just created, I'm passing it into pytorch's dataloader or i can specify a batch size parameter = 50 in this case.This defines training, validation and test dataloaders that i can use in my train loop to batch data into the size i want. \n",
        "\n",
        "So this gives me 3 different iterators and i just want to show what a sample of data from this dataloader looks like. "
      ]
    },
    {
      "cell_type": "code",
      "metadata": {
        "id": "ODOjS841jFfw"
      },
      "source": [
        "import torch\n",
        "from torch.utils.data import TensorDataset, DataLoader\n",
        "\n",
        "# create Tensor datasets\n",
        "train_data = TensorDataset(torch.from_numpy(train_x), torch.from_numpy(train_y))\n",
        "valid_data = TensorDataset(torch.from_numpy(val_x), torch.from_numpy(val_y))\n",
        "test_data = TensorDataset(torch.from_numpy(test_x), torch.from_numpy(test_y))\n",
        "\n",
        "# dataloaders\n",
        "batch_size = 50\n",
        "\n",
        "# make sure to SHUFFLE your data\n",
        "train_loader = DataLoader(train_data, shuffle=True, batch_size=batch_size)\n",
        "valid_loader = DataLoader(valid_data, shuffle=True, batch_size=batch_size)\n",
        "test_loader = DataLoader(test_data, shuffle=True, batch_size=batch_size)"
      ],
      "execution_count": null,
      "outputs": []
    },
    {
      "cell_type": "code",
      "metadata": {
        "id": "8jppln_ajFfz",
        "outputId": "98cdfad6-7f97-48c7-c9d6-d5a7a7c06748",
        "colab": {
          "base_uri": "https://localhost:8080/",
          "height": 34
        }
      },
      "source": [
        "print(len(train_loader), len(valid_loader), len(test_loader) )"
      ],
      "execution_count": null,
      "outputs": [
        {
          "output_type": "stream",
          "text": [
            "400 50 50\n"
          ],
          "name": "stdout"
        }
      ]
    },
    {
      "cell_type": "markdown",
      "metadata": {
        "id": "U-NDlpbIjFf1"
      },
      "source": [
        "**Omission: shuffling data**\n",
        "\n",
        "Make sure to shuffle your data, so that your model doesn't learn anything about the ordering of the data, and instead can focus on the content. We can do this with a DataLoader by setting shuffle=True. You'll find this updated code in the exercise and solution notebooks.\n",
        "\n",
        "**TensorDataset**\n",
        "\n",
        "Take a look at the source code for [**the TensorDataset class**](https://github.com/pytorch/tnt/blob/master/torchnet/dataset/tensordataset.py), you can see that it's \"purpose\" is to provide an easy way to create a dataset out of standard data structures.\n",
        "\n",
        "Below, looking at our train_loader and getting an iterator, then grabbing one batch of data using a call to next. so this should return some sample input features and some sample labels."
      ]
    },
    {
      "cell_type": "code",
      "metadata": {
        "id": "F7edQRCijFf2",
        "outputId": "678ae710-8bec-4b3a-d837-6b7b4989bc4d",
        "colab": {
          "base_uri": "https://localhost:8080/",
          "height": 269
        }
      },
      "source": [
        "# obtain one batch of training data\n",
        "dataiter = iter(train_loader)\n",
        "sample_x, sample_y = dataiter.next()\n",
        "\n",
        "print('Sample input size: ', sample_x.size()) # batch_size, seq_length\n",
        "print('Sample input: \\n', sample_x)\n",
        "print()\n",
        "print('Sample label size: ', sample_y.size()) # batch_size\n",
        "print('Sample label: \\n', sample_y)"
      ],
      "execution_count": null,
      "outputs": [
        {
          "output_type": "stream",
          "text": [
            "Sample input size:  torch.Size([50, 200])\n",
            "Sample input: \n",
            " tensor([[    0,     0,     0,  ...,  5276, 30229,  2409],\n",
            "        [    0,     0,     0,  ...,    15,     3,  1607],\n",
            "        [    0,     0,     0,  ...,   136,    21,    51],\n",
            "        ...,\n",
            "        [    0,     0,     0,  ...,   944,     8,     3],\n",
            "        [    0,     0,     0,  ...,  3330,    95,    56],\n",
            "        [    0,     0,     0,  ...,    13,   651,   141]])\n",
            "\n",
            "Sample label size:  torch.Size([50])\n",
            "Sample label: \n",
            " tensor([0, 1, 1, 1, 1, 1, 1, 0, 1, 1, 1, 0, 0, 1, 0, 0, 1, 1, 1, 1, 0, 0, 1, 0,\n",
            "        1, 0, 0, 0, 1, 1, 0, 0, 1, 0, 0, 0, 0, 0, 0, 0, 0, 0, 0, 1, 1, 1, 0, 0,\n",
            "        1, 0])\n"
          ],
          "name": "stdout"
        }
      ]
    },
    {
      "cell_type": "markdown",
      "metadata": {
        "id": "yjqhHhwojFf4"
      },
      "source": [
        "Then printing out the size of my input which i can see is the batch size 50 and sequence length 200 and the label size which is just 50, one label for each review in the input batch and i see my tokens and encoded label as well."
      ]
    },
    {
      "cell_type": "markdown",
      "metadata": {
        "id": "tl-8N7lUjFf5"
      },
      "source": [
        "---\n",
        "By now, you've had a lot of practice with data processing and with defining RNNs. Below is what it should look like generally. The model should be able to take in our word tokens, and the first thing that these go through will be an **embedding layer**.\n",
        "\n",
        "We have about 74000 different words, and so this layer is gonna be responsible for converting our word tokens, our integers into embeddings of a specific size. Now, you could train a Word2Vec model separately, and actually just use the learnd word embeddings as input to an LSTM. **But it turns out that these embedding layers are still useful even if they haven't been trained to learn the semantic relationships between words.** \n",
        "\n",
        "So in this case, what we're mainly using this **embedding layer for is dimensionality reduction**. It will learn to look at our large vocabulary and map each word into a vector of specified embedding dimension. Then after our embedding layer, we have an LSTM layer. This is defined by a hidden state size and number of layers as you know.\n",
        "\n",
        "At each step, these LSTM cells will produce an output and a new hidden state. The hidden state will be passed to the next cell as input, and this is how we represent a memory in this model. The output is going to be fed into a Sigmoid activated fully connected output layer. This layer will be responsible for mapping the LSTM outputs to a desired output size. In this case, this should be the number of our sentiment classes, postive or negative. \n",
        "\n",
        "Then the Sigmoid activation function is responsible for turning all of those outputs into a value between 0 or 1. This is the range we expect for our encoded sentiment labels. 0 is negative and 1 is a postive review. So this model is going to look at a sequence of words that make up a review. **Here, we're interested in only the last Sigmoid output because this will produce the one label we're looking for at the end of processing a sequence of words in a review.** "
      ]
    },
    {
      "cell_type": "markdown",
      "metadata": {
        "id": "6iYxotTljFf5"
      },
      "source": [
        "---\n",
        "# Sentiment Network with PyTorch\n",
        "\n",
        "Below is where you'll define the network.\n",
        "\n",
        "![alt text](https://drive.google.com/uc?id=1B4fdKBByMFTjJ2LJv_oqmeTV4n62jn7S)\n",
        "<img src=\"assets/network_diagram.png\" width=40%>\n",
        "\n",
        "The layers are as follows:\n",
        "1. An [embedding layer](https://pytorch.org/docs/stable/nn.html#embedding) that converts our word tokens (integers) into embeddings of a specific size.\n",
        "2. An [LSTM layer](https://pytorch.org/docs/stable/nn.html#lstm) defined by a hidden_state size and number of layers\n",
        "3. A fully-connected output layer that maps the LSTM layer outputs to a desired output_size\n",
        "4. A sigmoid activation layer which turns all outputs into a value 0-1; return **only the last sigmoid output** as the output of this network.\n",
        "\n",
        "### The Embedding Layer\n",
        "\n",
        "We need to add an [embedding layer](https://pytorch.org/docs/stable/nn.html#embedding) because there are 74000+ words in our vocabulary. It is massively inefficient to one-hot encode that many classes. So, instead of one-hot encoding, we can have an embedding layer and use that layer as a lookup table. You could train an embedding layer using Word2Vec, then load it here. But, it's fine to just make a new layer, using it for only dimensionality reduction, and let the network learn the weights.\n",
        "\n",
        "\n",
        "### The LSTM Layer(s)\n",
        "\n",
        "We'll create an [LSTM](https://pytorch.org/docs/stable/nn.html#lstm) to use in our recurrent network, which takes in an input_size, a hidden_dim, a number of layers, a dropout probability (for dropout between multiple layers), and a batch_first parameter.\n",
        "\n",
        "Most of the time, you're network will have better performance with more layers; between 2-3. Adding more layers allows the network to learn really complex relationships. \n",
        "\n",
        "> **Exercise:** Complete the `__init__`, `forward`, and `init_hidden` functions for the SentimentRNN model class.\n",
        "\n",
        "Note: `init_hidden` should initialize the hidden and cell state of an lstm layer to all zeros, and move those state to GPU, if available."
      ]
    },
    {
      "cell_type": "code",
      "metadata": {
        "id": "XifK5HZBjFf6",
        "outputId": "ceeb2be9-f06d-4f87-86ff-933d1e9de347",
        "colab": {
          "base_uri": "https://localhost:8080/",
          "height": 34
        }
      },
      "source": [
        "# First checking if GPU is available\n",
        "train_on_gpu=torch.cuda.is_available()\n",
        "\n",
        "if(train_on_gpu):\n",
        "    print('Training on GPU.')\n",
        "else:\n",
        "    print('No GPU available, training on CPU.')"
      ],
      "execution_count": null,
      "outputs": [
        {
          "output_type": "stream",
          "text": [
            "Training on GPU.\n"
          ],
          "name": "stdout"
        }
      ]
    },
    {
      "cell_type": "markdown",
      "metadata": {
        "id": "YpFYHYL-jFf-"
      },
      "source": [
        "**`__init__` explanation**\n",
        "\n",
        "First I have an **embedding layer**, which should take in the size of our vocabulary (our number of integer tokens) and produce an embedding of `embedding_dim` size. So, as this model trains, this is going to create and embedding lookup table that has as many rows as we have word integers, and as many columns as the embedding dimension.\n",
        "\n",
        "Then, I have an **LSTM layer**, which takes in inputs of `embedding_dim` size. So, it's accepting embeddings as inputs, and producing an output and hidden state of a hidden size. I am also specifying a number of layers, and a dropout value, and finally, I’m setting `batch_first` to True because we are using DataLoaders to batch our data like that!\n",
        "\n",
        "Then, the LSTM outputs are passed to a dropout layer and then a fully-connected, linear layer that will produce `output_size` number of outputs. And finally, I’ve defined a sigmoid layer to convert the output to a value between 0-1.\n",
        "\n",
        "**Feedforward behavior**\n",
        "\n",
        "Moving on to the `forward` function, which takes in an input `x` and a `hidden` state, I am going to pass an input through these layers in sequence."
      ]
    },
    {
      "cell_type": "code",
      "metadata": {
        "id": "jNFkMcPIjFf_"
      },
      "source": [
        "import torch.nn as nn\n",
        "\n",
        "class SentimentRNN(nn.Module):\n",
        "    \"\"\"\n",
        "    The RNN model that will be used to perform Sentiment analysis.\n",
        "    \"\"\"\n",
        "\n",
        "    def __init__(self, vocab_size, output_size, embedding_dim, hidden_dim, n_layers, drop_prob=0.5):\n",
        "        \"\"\"\n",
        "        Initialize the model by setting up the layers.\n",
        "        \"\"\"\n",
        "        super(SentimentRNN, self).__init__()\n",
        "\n",
        "        self.output_size = output_size\n",
        "        self.n_layers = n_layers\n",
        "        self.hidden_dim = hidden_dim\n",
        "        \n",
        "        # define all layers\n",
        "        self.embedding = nn.Embedding(vocab_size, embedding_dim)\n",
        "        self.lstm = nn.LSTM(embedding_dim, hidden_dim, n_layers, dropout=drop_prob, batch_first=True)\n",
        "        \n",
        "        # dropout layer\n",
        "        self.dropout = nn.Dropout(0.5)\n",
        "        \n",
        "        # linear layer\n",
        "        self.fc = nn.Linear(hidden_dim, output_size)\n",
        "        self.sig = nn.Sigmoid()\n",
        "        \n",
        "\n",
        "    def forward(self, x, hidden):\n",
        "        \"\"\"\n",
        "        Perform a forward pass of our model on some input and hidden state.\n",
        "        \"\"\"\n",
        "        # getting the batch_size of my input x\n",
        "        batch_size = x.size(0)\n",
        "        \n",
        "        # embeddings and lstm_out\n",
        "        embeds = self.embedding(x)\n",
        "        lstm_out, hidden = self.lstm(embeds, hidden)\n",
        "        \n",
        "        # stack up lstm outpus\n",
        "        lstm_out = lstm_out.contiguous().view(-1, self.hidden_dim)\n",
        "        \n",
        "        # dropout and fully-connected layer\n",
        "        out = self.dropout(lstm_out)\n",
        "        out = self.fc(out)\n",
        "        # sigmoid function\n",
        "        sig_out = self.sig(out)\n",
        "        \n",
        "        # reshape to be batch_size first\n",
        "        sig_out = sig_out.view(batch_size, -1)\n",
        "        sig_out = sig_out[:, -1] # get last batch of labels\n",
        "                \n",
        "        # return last sigmoid output and hidden state\n",
        "        return sig_out, hidden\n",
        "    \n",
        "    \n",
        "    def init_hidden(self, batch_size):\n",
        "        ''' Initializes hidden state '''\n",
        "        # Create two new tensors with sizes n_layers x batch_size x hidden_dim,\n",
        "        # initialized to zero, for hidden state and cell state of LSTM\n",
        "        weight = next(self.parameters()).data\n",
        "\n",
        "        if (train_on_gpu):\n",
        "            hidden = (weight.new(self.n_layers, batch_size, self.hidden_dim).zero_().cuda(), \n",
        "                     weight.new(self.n_layers, batch_size, self.hidden_dim).zero_().cuda())\n",
        "        else:\n",
        "            hidden = (weight.new(self.n_layers, batch_size, self.hidden_dim).zero_(), \n",
        "                     weight.new(self.n_layers, batch_size, self.hidden_dim).zero_())\n",
        "        \n",
        "        return hidden\n"
      ],
      "execution_count": null,
      "outputs": []
    },
    {
      "cell_type": "markdown",
      "metadata": {
        "id": "K5bIH9pmjFgB"
      },
      "source": [
        "---\n",
        "**`forward` explanation**\n",
        "\n",
        "So, first, I'm getting the `batch_size` of my input x, which I’ll use for shaping my data. Then, I'm passing x through the embedding layer first, to get my embeddings as output\n",
        "\n",
        "These embeddings are passed to my lstm layer, alongside a hidden state, and this returns an `lstm_output` and a new `hidden` state! Then I'm going to stack up the outputs of my LSTM to pass to my last linear layer.\n",
        "\n",
        "Then I keep going, passing the reshaped lstm_output to a dropout layer and my linear layer, which should return a specified number of outputs that I will pass to my sigmoid activation function.\n",
        "\n",
        "Now, I want to make sure that I’m returning only the **last** of these sigmoid outputs for a batch of input data, so, I’m going to shape these outputs into a shape that is batch_size first. Then I'm getting the last bacth by called `sig_out[:, -1]`, and that’s going to give me the batch of last labels that I want!\n",
        "\n",
        "Finally, I am returning that output and the hidden state produced by the LSTM layer.\n",
        "\n",
        "**`init_hidden`**\n",
        "\n",
        "That completes my forward function and then I have one more: `init_hidden` and this is just the same as you’ve seen before. The hidden and cell states of an LSTM are a tuple of values and each of these is size (n_layers by batch_size, by hidden_dim). I’m initializing these hidden weights to all zeros, and moving to a gpu if available.\n",
        "\n",
        "---"
      ]
    },
    {
      "cell_type": "markdown",
      "metadata": {
        "id": "WyUT_w2pjFgC"
      },
      "source": [
        "## Instantiate the network\n",
        "\n",
        "Here, we'll instantiate the network. First up, defining the hyperparameters.\n",
        "\n",
        "* `vocab_size`: Size of our vocabulary or the range of values for our input, word tokens.\n",
        "* `output_size`: Size of our desired output; the number of class scores we want to output (pos/neg).\n",
        "* `embedding_dim`: Number of columns in the embedding lookup table; size of our embeddings.\n",
        "* `hidden_dim`: Number of units in the hidden layers of our LSTM cells. Usually larger is better performance wise. Common values are 128, 256, 512, etc.\n",
        "* `n_layers`: Number of LSTM layers in the network. Typically between 1-3\n",
        "\n",
        "> **Exercise:** Define the model  hyperparameters.\n"
      ]
    },
    {
      "cell_type": "code",
      "metadata": {
        "id": "qZ70Lj4XjFgD",
        "outputId": "d8cb52ea-5bad-482e-f08d-a73718ebd377",
        "colab": {
          "base_uri": "https://localhost:8080/",
          "height": 134
        }
      },
      "source": [
        "# Instantiate the model w/ hyperparams\n",
        "vocab_size = len(vocab_to_int)+1 # +1 for the padding + our word tokens\n",
        "output_size = 1\n",
        "embedding_dim = 400 \n",
        "hidden_dim = 256\n",
        "n_layers = 2\n",
        "\n",
        "net = SentimentRNN(vocab_size, output_size, embedding_dim, hidden_dim, n_layers)\n",
        "\n",
        "print(net)"
      ],
      "execution_count": null,
      "outputs": [
        {
          "output_type": "stream",
          "text": [
            "SentimentRNN(\n",
            "  (embedding): Embedding(74073, 400)\n",
            "  (lstm): LSTM(400, 256, num_layers=2, batch_first=True, dropout=0.5)\n",
            "  (dropout): Dropout(p=0.5, inplace=False)\n",
            "  (fc): Linear(in_features=256, out_features=1, bias=True)\n",
            "  (sig): Sigmoid()\n",
            ")\n"
          ],
          "name": "stdout"
        }
      ]
    },
    {
      "cell_type": "markdown",
      "metadata": {
        "id": "YXE1T1K4jFgF"
      },
      "source": [
        "This should look familiar, but the main thing to note here is our vocab_size.\n",
        "\n",
        "This is actually the length of our `vocab_to_int` dictionary (all our unique words) **plus one** to account for the `0`-token that we added, when we padded our input features. So, if you do data pre-processing, you may end up with one or two extra, special tokens that you’ll need to account for, in this parameter!\n",
        "\n",
        "Then, I want my `output_size` to be 1; this will be a sigmoid value between 0 and 1, indicating whether a review is positive or negative.\n",
        "\n",
        "Then I have my embedding and hidden dimension. The embedding dimension is just a smaller representation of my vocabulary of 70k words and I think any value between like 200 and 500 or so would work, here. I’ve chosen 400. Similarly, for our hidden dimension, I think 256 hidden features should be enough to distinguish between positive and negative reviews.\n",
        "\n",
        "I’m also choosing to make a 2 layer LSTM. Finally, I’m instantiating my model and printing it out to make sure everything looks good."
      ]
    },
    {
      "cell_type": "markdown",
      "metadata": {
        "id": "21BEYWGRjFgF"
      },
      "source": [
        "---\n",
        "Training and Optimization\n",
        "The training code, should look pretty familiar. One new detail is that, we'll be using a new kind of cross entropy loss that is designed to work with a single Sigmoid output.\n",
        "\n",
        "- [BCELoss](https://pytorch.org/docs/stable/nn.html#bceloss), or Binary Cross Entropy Loss, applies cross entropy loss to a single value between 0 and 1.\n",
        "\n",
        "We'll define an Adam optimizer, as usual."
      ]
    },
    {
      "cell_type": "markdown",
      "metadata": {
        "id": "esWVP7rFjFgG"
      },
      "source": [
        "---\n",
        "## Training\n",
        "\n",
        "Below is the typical training code. If you want to do this yourself, feel free to delete all this code and implement it yourself. You can also add code to save a model by name.\n",
        "\n",
        ">We'll also be using a new kind of cross entropy loss, which is designed to work with a single Sigmoid output. [BCELoss](https://pytorch.org/docs/stable/nn.html#bceloss), or **Binary Cross Entropy Loss**, applies cross entropy loss to a single value between 0 and 1.\n",
        "\n",
        "We also have some data and training hyparameters:\n",
        "\n",
        "* `lr`: Learning rate for our optimizer.\n",
        "* `epochs`: Number of times to iterate through the training dataset.\n",
        "* `clip`: The maximum gradient value to clip at (to prevent exploding gradients)."
      ]
    },
    {
      "cell_type": "code",
      "metadata": {
        "id": "pZ3LjR2CjFgH"
      },
      "source": [
        "# loss and optimization functions\n",
        "lr=0.001\n",
        "\n",
        "criterion = nn.BCELoss()\n",
        "optimizer = torch.optim.Adam(net.parameters(), lr=lr)\n"
      ],
      "execution_count": null,
      "outputs": []
    },
    {
      "cell_type": "markdown",
      "metadata": {
        "id": "q6kqA8E5jFgJ"
      },
      "source": [
        "**Output, target format**\n",
        "\n",
        "You should also notice that, in the training loop, we are making sure that our outputs are squeezed so that they do not have an empty dimension **output.squeeze()** and the labels are float tensors, **labels.float()**. Then we perform backpropagation as usual.\n",
        "\n",
        "**Train and eval mode**\n",
        "\n",
        "Below, you can also see that we switch between train and evaluation mode when the model is training versus when it is being evaluated on validation data!\n",
        "\n",
        "**Training Loop**\n",
        "\n",
        "Below, you’ll see a usual training loop.\n",
        "\n",
        "I’m actually only going to do four epochs of training because that's about when I noticed the validation loss stop decreasing.\n",
        "\n",
        "- You can see that I am initializing my hidden state before entering the batch loop then have my usual detachment from history for the hidden state and backpropagation steps.\n",
        "- I’m getting my input and label data from my train_dataloader. Then applying my model to the inputs and comparing the outputs and the true labels.\n",
        "- I also have some code that checks performance on my validation set, which, if you want, may be a great thing to use to decide when to stop training or which best model to save!"
      ]
    },
    {
      "cell_type": "code",
      "metadata": {
        "id": "4cT7f1_EjFgJ",
        "outputId": "9226b721-1e38-475f-821a-2cac3e43a1a5",
        "colab": {
          "base_uri": "https://localhost:8080/",
          "height": 286
        }
      },
      "source": [
        "# training params\n",
        "\n",
        "epochs = 4 # 3-4 is approx where I noticed the validation loss stop decreasing\n",
        "\n",
        "counter = 0\n",
        "print_every = 100\n",
        "clip=5 # gradient clipping\n",
        "\n",
        "# move model to GPU, if available\n",
        "if(train_on_gpu):\n",
        "    net.cuda()\n",
        "\n",
        "net.train()\n",
        "# train for some number of epochs\n",
        "for e in range(epochs):\n",
        "    # initialize hidden state\n",
        "    h = net.init_hidden(batch_size)\n",
        "\n",
        "    # batch loop\n",
        "    for inputs, labels in train_loader:\n",
        "        counter += 1\n",
        "\n",
        "        if(train_on_gpu):\n",
        "            inputs, labels = inputs.cuda(), labels.cuda()\n",
        "\n",
        "        # Creating new variables for the hidden state, otherwise\n",
        "        # we'd backprop through the entire training history\n",
        "        h = tuple([each.data for each in h])\n",
        "\n",
        "        # zero accumulated gradients\n",
        "        net.zero_grad()\n",
        "\n",
        "        # get the output from the model\n",
        "        output, h = net(inputs, h)\n",
        "\n",
        "        # calculate the loss and perform backprop\n",
        "        loss = criterion(output.squeeze(), labels.float())\n",
        "        loss.backward()\n",
        "        # `clip_grad_norm` helps prevent the exploding gradient problem in RNNs / LSTMs.\n",
        "        nn.utils.clip_grad_norm_(net.parameters(), clip)\n",
        "        optimizer.step()\n",
        "\n",
        "        # loss stats\n",
        "        if counter % print_every == 0:\n",
        "            # Get validation loss\n",
        "            val_h = net.init_hidden(batch_size)\n",
        "            val_losses = []\n",
        "            net.eval()\n",
        "            for inputs, labels in valid_loader:\n",
        "\n",
        "                # Creating new variables for the hidden state, otherwise\n",
        "                # we'd backprop through the entire training history\n",
        "                val_h = tuple([each.data for each in val_h])\n",
        "\n",
        "                if(train_on_gpu):\n",
        "                    inputs, labels = inputs.cuda(), labels.cuda()\n",
        "\n",
        "                output, val_h = net(inputs, val_h)\n",
        "                val_loss = criterion(output.squeeze(), labels.float())\n",
        "\n",
        "                val_losses.append(val_loss.item())\n",
        "\n",
        "            net.train()\n",
        "            print(\"Epoch: {}/{}...\".format(e+1, epochs),\n",
        "                  \"Step: {}...\".format(counter),\n",
        "                  \"Loss: {:.6f}...\".format(loss.item()),\n",
        "                  \"Val Loss: {:.6f}\".format(np.mean(val_losses)))"
      ],
      "execution_count": null,
      "outputs": [
        {
          "output_type": "stream",
          "text": [
            "Epoch: 1/4... Step: 100... Loss: 0.655416... Val Loss: 0.658124\n",
            "Epoch: 1/4... Step: 200... Loss: 0.670902... Val Loss: 0.639982\n",
            "Epoch: 1/4... Step: 300... Loss: 0.635361... Val Loss: 0.584437\n",
            "Epoch: 1/4... Step: 400... Loss: 0.690364... Val Loss: 0.636807\n",
            "Epoch: 2/4... Step: 500... Loss: 0.454073... Val Loss: 0.594098\n",
            "Epoch: 2/4... Step: 600... Loss: 0.702295... Val Loss: 0.586064\n",
            "Epoch: 2/4... Step: 700... Loss: 0.441579... Val Loss: 0.540988\n",
            "Epoch: 2/4... Step: 800... Loss: 0.609320... Val Loss: 0.594099\n",
            "Epoch: 3/4... Step: 900... Loss: 0.361510... Val Loss: 0.504463\n",
            "Epoch: 3/4... Step: 1000... Loss: 0.329989... Val Loss: 0.558757\n",
            "Epoch: 3/4... Step: 1100... Loss: 0.167394... Val Loss: 0.484343\n",
            "Epoch: 3/4... Step: 1200... Loss: 0.333570... Val Loss: 0.478562\n",
            "Epoch: 4/4... Step: 1300... Loss: 0.229571... Val Loss: 0.517741\n",
            "Epoch: 4/4... Step: 1400... Loss: 0.375394... Val Loss: 0.542310\n",
            "Epoch: 4/4... Step: 1500... Loss: 0.201725... Val Loss: 0.497360\n",
            "Epoch: 4/4... Step: 1600... Loss: 0.146708... Val Loss: 0.530321\n"
          ],
          "name": "stdout"
        }
      ]
    },
    {
      "cell_type": "markdown",
      "metadata": {
        "id": "bk6DWcKRjFgL"
      },
      "source": [
        "Make sure to take a look at how training **and** validation loss decrease during training! Then, once you're satisfied with your trained model, you can test it out in a couple ways to see how it behaves on new data!"
      ]
    },
    {
      "cell_type": "markdown",
      "metadata": {
        "id": "vvUl3i8QjFgL"
      },
      "source": [
        "---\n",
        "## Testing\n",
        "\n",
        "There are a few ways to test your network.\n",
        "\n",
        "* **Test data performance:** First, we'll see how our trained model performs on all of our defined test_data, above. We'll calculate the average loss and accuracy over the test data.\n",
        "\n",
        "* **Inference on user-generated data:** Second, we'll see if we can input just one example review at a time (without a label), and see what the trained model predicts. Looking at new, user input data like this, and predicting an output label, is called **inference**."
      ]
    },
    {
      "cell_type": "markdown",
      "metadata": {
        "id": "l8_8H8U6jFgM"
      },
      "source": [
        "**Testing the Trained Model**\n",
        "\n",
        "I want to show you two great ways to test: using test data and using inference. The first is similar to what you’ve seen in our CNN lessons. I am iterating through the test data in the **`test_loader`**, recording the test loss and calculating the accuracy based on how many labels this model got correct!\n",
        "\n",
        "I’m doing this by looking at the **rounded value** of our output. Recall that this is a sigmoid output between 0-1 and so rounding this value will give us an integer that is the most likely label: 0 or 1. Then I’m comparing that predicted label to the true label; if it matches, I record that as a correctly-labeled test review."
      ]
    },
    {
      "cell_type": "code",
      "metadata": {
        "id": "Tf7Oo2ikjFgN",
        "outputId": "8a4cb88b-742a-4532-85a7-4be0195b2a2b",
        "colab": {
          "base_uri": "https://localhost:8080/",
          "height": 50
        }
      },
      "source": [
        "# Get test data loss and accuracy\n",
        "\n",
        "test_losses = [] # track loss\n",
        "num_correct = 0\n",
        "\n",
        "# init hidden state\n",
        "h = net.init_hidden(batch_size)\n",
        "\n",
        "net.eval()\n",
        "# iterate over test data\n",
        "for inputs, labels in test_loader:\n",
        "\n",
        "    # Creating new variables for the hidden state, otherwise\n",
        "    # we'd backprop through the entire training history\n",
        "    h = tuple([each.data for each in h])\n",
        "\n",
        "    if(train_on_gpu):\n",
        "        inputs, labels = inputs.cuda(), labels.cuda()\n",
        "    \n",
        "    # get predicted outputs\n",
        "    output, h = net(inputs, h)\n",
        "    \n",
        "    # calculate loss\n",
        "    test_loss = criterion(output.squeeze(), labels.float())\n",
        "    test_losses.append(test_loss.item())\n",
        "    \n",
        "    # convert output probabilities to predicted class (0 or 1)\n",
        "    pred = torch.round(output.squeeze())  # rounds to the nearest integer\n",
        "    \n",
        "    # compare predictions to true label\n",
        "    correct_tensor = pred.eq(labels.float().view_as(pred))\n",
        "    correct = np.squeeze(correct_tensor.numpy()) if not train_on_gpu else np.squeeze(correct_tensor.cpu().numpy())\n",
        "    num_correct += np.sum(correct)\n",
        "\n",
        "\n",
        "# -- stats! -- ##\n",
        "# avg test loss\n",
        "print(\"Test loss: {:.3f}\".format(np.mean(test_losses)))\n",
        "\n",
        "# accuracy over all test data\n",
        "test_acc = num_correct/len(test_loader.dataset)\n",
        "print(\"Test accuracy: {:.3f}\".format(test_acc))"
      ],
      "execution_count": null,
      "outputs": [
        {
          "output_type": "stream",
          "text": [
            "Test loss: 0.487\n",
            "Test accuracy: 0.810\n"
          ],
          "name": "stdout"
        }
      ]
    },
    {
      "cell_type": "markdown",
      "metadata": {
        "id": "V_5zl_xpjFgQ"
      },
      "source": [
        "Below, I’m printing out the average test loss and the accuracy, which is just the number of correctly classified items divided by the number of pieces of test data,total.\n",
        "\n",
        "We can see that the test loss is **`0.516`** and the accuracy is about **81.1%** !\n",
        "\n",
        "Next, you're ready for your last task! Which is to define a **`predict`** function to perform inference on any given text review!"
      ]
    },
    {
      "cell_type": "markdown",
      "metadata": {
        "id": "6l_Px-xcjFgQ"
      },
      "source": [
        "### Inference on a test review\n",
        "\n",
        "You can change this **`test_review`** to any text that you want. Read it and think: is it pos or neg? Then see if your model predicts correctly!\n",
        "    \n",
        "> **Exercise:** Write a `predict` function that takes in a trained net, a plain text_review, and a sequence length, and prints out a custom statement for a positive or negative review!\n",
        "* You can use any functions that you've already defined or define any helper functions you want to complete `predict`, but it should just take in a trained net, a text review, and a sequence length.\n"
      ]
    },
    {
      "cell_type": "markdown",
      "metadata": {
        "id": "tnknBLZFjFgR"
      },
      "source": [
        "**Inference**\n",
        "\n",
        "Let's put all these pieces together! One of the coolest ways to test a model like this is to give it user-generated data, without any true label, and see what happens. So, in this case, that data will just be a single string: a review that you can write and here’s just one test_reviewas an example:"
      ]
    },
    {
      "cell_type": "code",
      "metadata": {
        "id": "7ZqZ0OGXjFgS"
      },
      "source": [
        "# negative test review\n",
        "test_review_neg = 'The worst movie I have seen; acting was terrible and I want my money back. This movie had bad acting and the dialogue was slow.'\n"
      ],
      "execution_count": null,
      "outputs": []
    },
    {
      "cell_type": "markdown",
      "metadata": {
        "id": "z7VL9jLojFgV"
      },
      "source": [
        "We can see that this review is a negative one, but let's see if our model can identify it's sentiment correctly!\n",
        "\n",
        "Our task is to write a `predict` function that takes in a trained model, a `test_review` like this one that is just normal text and punctuation, a `sequence_length` for padding.\n",
        "\n",
        "The process by which you make predictions based on user data, is called **`inference`**."
      ]
    },
    {
      "cell_type": "markdown",
      "metadata": {
        "id": "aWXqW9mIjFgW"
      },
      "source": [
        "Pre-process the `test_review`\n",
        "The first thing we'll have to do it to process the `test_review`, so that it is converted into a tensor that our model can see as input. In fact, this involves quite a lot of pre-processing, but nothing that you haven't seen before!\n",
        "\n",
        "I broke this down into a series of steps.\n",
        "\n",
        "I have a helper function `tokenize_review` that is responsible for doing some data processing on my test_review.\n",
        "\n",
        "It takes in my `test_review`, and then does a couple of things:\n",
        "\n",
        "1. First, I convert my test_review to lowercase, and remove any punctuation, so I’m left with all text.\n",
        "2. Then I breaks it into individual words with split(), and I’m left with a list of words in the review.\n",
        "3. I encode those words using the `vocab_to_int` dictionary that we already defined, near the start of this lesson.\n",
        "\n",
        "Now, I am assuming a few things here, including: this review is one review, not a batch, and that this review only includes words already in our dictionary, and in this case that will be true, but you can add code to handle unknown characters, I just didn’t do that in my model."
      ]
    },
    {
      "cell_type": "code",
      "metadata": {
        "id": "vqd1KPaHjFgW"
      },
      "source": [
        "from string import punctuation\n",
        "\n",
        "def tokenize_review(test_review):\n",
        "    test_review = test_review.lower() # Lowercase\n",
        "    # get rid of punctuation\n",
        "    test_text = ''.join([c for c in test_review if c not in punctuation])\n",
        "    \n",
        "    # splitting by spaces\n",
        "    text_words = test_text.split()\n",
        "    \n",
        "    # tokens\n",
        "    test_ints = []\n",
        "    test_ints.append([vocab_to_int[word] for word in text_words])\n",
        "    \n",
        "    return test_ints\n"
      ],
      "execution_count": null,
      "outputs": []
    },
    {
      "cell_type": "code",
      "metadata": {
        "id": "vIm_sz6gjFgZ",
        "outputId": "56001024-f320-4b4d-b940-d8270b1658b7",
        "colab": {
          "base_uri": "https://localhost:8080/",
          "height": 34
        }
      },
      "source": [
        "# test code and generate tokenized review\n",
        "test_ints = tokenize_review(test_review_neg)\n",
        "print(test_ints)"
      ],
      "execution_count": null,
      "outputs": [
        {
          "output_type": "stream",
          "text": [
            "[[1, 247, 18, 10, 28, 108, 113, 14, 388, 2, 10, 181, 60, 273, 144, 11, 18, 68, 76, 113, 2, 1, 410, 14, 539]]\n"
          ],
          "name": "stdout"
        }
      ]
    },
    {
      "cell_type": "code",
      "metadata": {
        "id": "h-6XLGP3jFga",
        "outputId": "13487070-ada6-4e66-8060-246d2b8653e6",
        "colab": {
          "base_uri": "https://localhost:8080/",
          "height": 218
        }
      },
      "source": [
        "# test sequence padding\n",
        "seq_length=200\n",
        "features = pad_features(test_ints, seq_length)\n",
        "\n",
        "print(features)"
      ],
      "execution_count": null,
      "outputs": [
        {
          "output_type": "stream",
          "text": [
            "[[  0   0   0   0   0   0   0   0   0   0   0   0   0   0   0   0   0   0\n",
            "    0   0   0   0   0   0   0   0   0   0   0   0   0   0   0   0   0   0\n",
            "    0   0   0   0   0   0   0   0   0   0   0   0   0   0   0   0   0   0\n",
            "    0   0   0   0   0   0   0   0   0   0   0   0   0   0   0   0   0   0\n",
            "    0   0   0   0   0   0   0   0   0   0   0   0   0   0   0   0   0   0\n",
            "    0   0   0   0   0   0   0   0   0   0   0   0   0   0   0   0   0   0\n",
            "    0   0   0   0   0   0   0   0   0   0   0   0   0   0   0   0   0   0\n",
            "    0   0   0   0   0   0   0   0   0   0   0   0   0   0   0   0   0   0\n",
            "    0   0   0   0   0   0   0   0   0   0   0   0   0   0   0   0   0   0\n",
            "    0   0   0   0   0   0   0   0   0   0   0   0   0   1 247  18  10  28\n",
            "  108 113  14 388   2  10 181  60 273 144  11  18  68  76 113   2   1 410\n",
            "   14 539]]\n"
          ],
          "name": "stdout"
        }
      ]
    },
    {
      "cell_type": "code",
      "metadata": {
        "id": "HPlegbI7jFgc",
        "outputId": "b9b49865-d2d7-4041-b9e8-ae2ad2432fea",
        "colab": {
          "base_uri": "https://localhost:8080/",
          "height": 34
        }
      },
      "source": [
        "# test conversion to tensor and pass into your model\n",
        "feature_tensor = torch.from_numpy(features)\n",
        "print(feature_tensor.size())"
      ],
      "execution_count": null,
      "outputs": [
        {
          "output_type": "stream",
          "text": [
            "torch.Size([1, 200])\n"
          ],
          "name": "stdout"
        }
      ]
    },
    {
      "cell_type": "markdown",
      "metadata": {
        "id": "0S00f8B5jFgf"
      },
      "source": [
        "Okay, so this tokenize function returns a list of integers; my tokenized review!\n",
        "\n",
        "**Padding and converting into a Tensor**\n",
        "\n",
        "For my next couple of steps, I’m going to pad the ints, returned by the `tokenize_review` function and shape them into our `sequence_length` size; since our model was trained on sequence lengths of 200, I’m going to use the same length, here. I'll pad it using the `pad_features` function that we defined earlier.\n",
        "\n",
        "Finally, I’m going to convert the padded result into a Tensor. So, these are all the steps, and I’m going to wrap this all up in my predict function."
      ]
    },
    {
      "cell_type": "code",
      "metadata": {
        "id": "jdsW1Hv1jFgf"
      },
      "source": [
        "def predict(net, test_review, sequence_length=200):\n",
        "    ''' Prints out whether a give review is predicted to be \n",
        "        positive or negative in sentiment, using a trained model.\n",
        "        \n",
        "        params:\n",
        "        net - A trained net \n",
        "        test_review - a review made of normal text and punctuation\n",
        "        sequence_length - the padded length of a review\n",
        "        '''\n",
        "    net.eval()\n",
        "    \n",
        "    # tokenize review\n",
        "    test_ints = tokenize_review(test_review)\n",
        "    \n",
        "    # pad tokenized sequence\n",
        "    seq_length=sequence_length\n",
        "    features = pad_features(test_ints, seq_length)\n",
        "    \n",
        "    # convert to tensor to pass into your model\n",
        "    feature_tensor = torch.from_numpy(features)\n",
        "    \n",
        "    batch_size = feature_tensor.size(0)\n",
        "    \n",
        "    # initialize hidden state\n",
        "    h = net.init_hidden(batch_size)\n",
        "    \n",
        "    if(train_on_gpu):\n",
        "        feature_tensor = feature_tensor.cuda()\n",
        "    \n",
        "    # get the output from the model\n",
        "    output, h = net(feature_tensor, h)\n",
        "    \n",
        "    # convert output probabilities to predicted class (0 or 1)\n",
        "    pred = torch.round(output.squeeze())\n",
        "    \n",
        "    # print output value, before rounding\n",
        "    print('Prediction value, pre-rounding: {:.6f}'.format(output.item()))\n",
        "    \n",
        "    \n",
        "    # print custom response based on whether test_review is pos/neg\n",
        "    if(pred.item()==1):\n",
        "        print(\"Positive review detected!\")\n",
        "    else:\n",
        "        print(\"Negative review detected!\")\n",
        "        "
      ],
      "execution_count": null,
      "outputs": []
    },
    {
      "cell_type": "markdown",
      "metadata": {
        "id": "2xVnqPsbjFgi"
      },
      "source": [
        "So, using the passed in arguments, I’m tokenizing my review using my helper function, then padding it using my pad function, and converting it into a Tensor that can be seen by my model.\n",
        "\n",
        "Then, I’m passing this tensor into my trained net which will return an output of length one. With this output, I can grab the most likely class, which will be the rounded value 0 or 1; this is my prediction!\n",
        "\n",
        "Lastly, I want to print out a custom message for a positive or negative detected review, and I’m doing that at the bottom of the above function!\n",
        "\n",
        "**You can test this out on sample positive and negative text reviews to see how this trained model behaves!** Below, you can see how it identifies our negative test review correctly."
      ]
    },
    {
      "cell_type": "code",
      "metadata": {
        "id": "hRTYwB0-jFgj",
        "outputId": "70c06267-82a6-4ed2-9426-9e227ca67c91",
        "colab": {
          "base_uri": "https://localhost:8080/",
          "height": 50
        }
      },
      "source": [
        "# call function\n",
        "# try negative and positive reviews!\n",
        "seq_length=200 # good to use the length that was trained on\n",
        "predict(net, test_review_neg, seq_length)"
      ],
      "execution_count": null,
      "outputs": [
        {
          "output_type": "stream",
          "text": [
            "Prediction value, pre-rounding: 0.003804\n",
            "Negative review detected!\n"
          ],
          "name": "stdout"
        }
      ]
    },
    {
      "cell_type": "markdown",
      "metadata": {
        "id": "DhzwZXLTjFgm"
      },
      "source": [
        "**Conclusion**\n",
        "\n",
        "Now that you have a trained model and a predict function, you can pass in any kind of text and this model will predict whether the text has a positive or negative sentiment. You can use this to try to find what words it associates with positive or negative sentiment.\n",
        "\n",
        "Later, you'll learn how to deploy a model like this to a production environment so that it can respond to any kind of user data put into a web app!"
      ]
    },
    {
      "cell_type": "markdown",
      "metadata": {
        "id": "Pzh1ZEN7jFgm"
      },
      "source": [
        "### Try out test_reviews of your own!\n",
        "\n",
        "Now that you have a trained model and a predict function, you can pass in _any_ kind of text and this model will predict whether the text has a positive or negative sentiment. Push this model to its limits and try to find what words it associates with positive or negative.\n",
        "\n",
        "Later, you'll learn how to deploy a model like this to a production environment so that it can respond to any kind of user data put into a web app!"
      ]
    },
    {
      "cell_type": "code",
      "metadata": {
        "id": "vu79AoPRjFgm"
      },
      "source": [
        "# positive test review\n",
        "test_review_pos = 'This movie had the best acting and the dialogue was so good. I loved it.'\n"
      ],
      "execution_count": null,
      "outputs": []
    },
    {
      "cell_type": "code",
      "metadata": {
        "id": "xApCqjU6jFgo",
        "outputId": "a3430953-e9bd-43bc-e3e4-6df4ddedc77b",
        "colab": {
          "base_uri": "https://localhost:8080/",
          "height": 34
        }
      },
      "source": [
        "# test code and generate tokenized review\n",
        "test_ints2 = tokenize_review(test_review_neg)\n",
        "print(test_ints2)"
      ],
      "execution_count": null,
      "outputs": [
        {
          "output_type": "stream",
          "text": [
            "[[1, 247, 18, 10, 28, 108, 113, 14, 388, 2, 10, 181, 60, 273, 144, 11, 18, 68, 76, 113, 2, 1, 410, 14, 539]]\n"
          ],
          "name": "stdout"
        }
      ]
    },
    {
      "cell_type": "code",
      "metadata": {
        "id": "HboOk3S4q1vY",
        "outputId": "f8932d98-d4d0-4cf7-97f5-91a731e3dc61",
        "colab": {
          "base_uri": "https://localhost:8080/",
          "height": 218
        }
      },
      "source": [
        "# test sequence padding\n",
        "seq_length=200\n",
        "features2 = pad_features(test_ints2, seq_length)\n",
        "\n",
        "print(features2)"
      ],
      "execution_count": null,
      "outputs": [
        {
          "output_type": "stream",
          "text": [
            "[[  0   0   0   0   0   0   0   0   0   0   0   0   0   0   0   0   0   0\n",
            "    0   0   0   0   0   0   0   0   0   0   0   0   0   0   0   0   0   0\n",
            "    0   0   0   0   0   0   0   0   0   0   0   0   0   0   0   0   0   0\n",
            "    0   0   0   0   0   0   0   0   0   0   0   0   0   0   0   0   0   0\n",
            "    0   0   0   0   0   0   0   0   0   0   0   0   0   0   0   0   0   0\n",
            "    0   0   0   0   0   0   0   0   0   0   0   0   0   0   0   0   0   0\n",
            "    0   0   0   0   0   0   0   0   0   0   0   0   0   0   0   0   0   0\n",
            "    0   0   0   0   0   0   0   0   0   0   0   0   0   0   0   0   0   0\n",
            "    0   0   0   0   0   0   0   0   0   0   0   0   0   0   0   0   0   0\n",
            "    0   0   0   0   0   0   0   0   0   0   0   0   0   1 247  18  10  28\n",
            "  108 113  14 388   2  10 181  60 273 144  11  18  68  76 113   2   1 410\n",
            "   14 539]]\n"
          ],
          "name": "stdout"
        }
      ]
    },
    {
      "cell_type": "code",
      "metadata": {
        "id": "vscBZZviq50n",
        "outputId": "099d2441-d274-4cc9-9f74-cd87a0205648",
        "colab": {
          "base_uri": "https://localhost:8080/",
          "height": 34
        }
      },
      "source": [
        "# test conversion to tensor and pass into your model\n",
        "feature_tensor2 = torch.from_numpy(features2)\n",
        "print(feature_tensor2.size())"
      ],
      "execution_count": null,
      "outputs": [
        {
          "output_type": "stream",
          "text": [
            "torch.Size([1, 200])\n"
          ],
          "name": "stdout"
        }
      ]
    },
    {
      "cell_type": "code",
      "metadata": {
        "id": "05DTYpf4rK-6",
        "outputId": "618631f7-7efe-4bb5-c042-3f37b6f6c777",
        "colab": {
          "base_uri": "https://localhost:8080/",
          "height": 50
        }
      },
      "source": [
        "# call function\n",
        "# try positive reviews!\n",
        "seq_length=200 # good to use the length that was trained on\n",
        "predict(net, test_review_pos, seq_length)"
      ],
      "execution_count": null,
      "outputs": [
        {
          "output_type": "stream",
          "text": [
            "Prediction value, pre-rounding: 0.978377\n",
            "Positive review detected!\n"
          ],
          "name": "stdout"
        }
      ]
    },
    {
      "cell_type": "code",
      "metadata": {
        "id": "m7GuZ3ZRrOR7"
      },
      "source": [
        ""
      ],
      "execution_count": null,
      "outputs": []
    }
  ]
}