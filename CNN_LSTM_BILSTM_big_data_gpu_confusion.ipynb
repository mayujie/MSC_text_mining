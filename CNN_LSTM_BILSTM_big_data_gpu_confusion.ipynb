{
  "nbformat": 4,
  "nbformat_minor": 0,
  "metadata": {
    "kernelspec": {
      "display_name": "Python 3",
      "language": "python",
      "name": "python3"
    },
    "language_info": {
      "codemirror_mode": {
        "name": "ipython",
        "version": 3
      },
      "file_extension": ".py",
      "mimetype": "text/x-python",
      "name": "python",
      "nbconvert_exporter": "python",
      "pygments_lexer": "ipython3",
      "version": "3.7.3"
    },
    "colab": {
      "name": "CNN-LSTM-BILSTM-big_data-gpu_confusion.ipynb",
      "provenance": [],
      "include_colab_link": true
    }
  },
  "cells": [
    {
      "cell_type": "markdown",
      "metadata": {
        "id": "view-in-github",
        "colab_type": "text"
      },
      "source": [
        "<a href=\"https://colab.research.google.com/github/mayujie/MSC_text_mining/blob/master/CNN_LSTM_BILSTM_big_data_gpu_confusion.ipynb\" target=\"_parent\"><img src=\"https://colab.research.google.com/assets/colab-badge.svg\" alt=\"Open In Colab\"/></a>"
      ]
    },
    {
      "cell_type": "markdown",
      "metadata": {
        "id": "lvCN0yqe9z_b",
        "colab_type": "text"
      },
      "source": [
        "# Emotion Analysis with Python"
      ]
    },
    {
      "cell_type": "markdown",
      "metadata": {
        "id": "QYpjkjc59z_d",
        "colab_type": "text"
      },
      "source": [
        "# 1) Importing the data"
      ]
    },
    {
      "cell_type": "code",
      "metadata": {
        "id": "CnLpba4B9z_e",
        "colab_type": "code",
        "colab": {},
        "outputId": "b51b784e-3e5c-4d63-9954-59b191fd12c5"
      },
      "source": [
        "import pandas as pd\n",
        "\n",
        "file_name = 'concatenated.csv'\n",
        "pd.set_option('display.max_colwidth', -1)\n",
        "\n",
        "# assign emotion and text to the file\n",
        "df = pd.read_csv(file_name, names=['text','emotion'], delimiter=\"\\t\", header=None)\n",
        "df.columns = df.iloc[0]\n",
        "df = df[0:]\n",
        "from sklearn.utils import shuffle\n",
        "df = shuffle(df)\n",
        "print('The data set contains these emotions: {}'.format(set(df['emotion'])))\n",
        "df = df.sample(frac=1).reset_index(drop=True)\n",
        "# print out the size of the dataset\n",
        "print('Size of the dataset: {}'.format(len(df['text'])))"
      ],
      "execution_count": null,
      "outputs": [
        {
          "output_type": "stream",
          "text": [
            "The data set contains these emotions: {'shame', 'sadness', 'joy', 'anger', 'fear', 'disgust', 'guilt'}\n",
            "Size of the dataset: 100520\n"
          ],
          "name": "stdout"
        }
      ]
    },
    {
      "cell_type": "code",
      "metadata": {
        "id": "CM0TOh_l9z_k",
        "colab_type": "code",
        "colab": {},
        "outputId": "61bc9728-a92b-4c8b-fe4b-476a67e06e5c"
      },
      "source": [
        "df.groupby('emotion').count()\n"
      ],
      "execution_count": null,
      "outputs": [
        {
          "output_type": "execute_result",
          "data": {
            "text/html": [
              "<div>\n",
              "<style scoped>\n",
              "    .dataframe tbody tr th:only-of-type {\n",
              "        vertical-align: middle;\n",
              "    }\n",
              "\n",
              "    .dataframe tbody tr th {\n",
              "        vertical-align: top;\n",
              "    }\n",
              "\n",
              "    .dataframe thead th {\n",
              "        text-align: right;\n",
              "    }\n",
              "</style>\n",
              "<table border=\"1\" class=\"dataframe\">\n",
              "  <thead>\n",
              "    <tr style=\"text-align: right;\">\n",
              "      <th>nan</th>\n",
              "      <th>text</th>\n",
              "    </tr>\n",
              "    <tr>\n",
              "      <th>emotion</th>\n",
              "      <th></th>\n",
              "    </tr>\n",
              "  </thead>\n",
              "  <tbody>\n",
              "    <tr>\n",
              "      <th>anger</th>\n",
              "      <td>14360</td>\n",
              "    </tr>\n",
              "    <tr>\n",
              "      <th>disgust</th>\n",
              "      <td>14360</td>\n",
              "    </tr>\n",
              "    <tr>\n",
              "      <th>fear</th>\n",
              "      <td>14360</td>\n",
              "    </tr>\n",
              "    <tr>\n",
              "      <th>guilt</th>\n",
              "      <td>14360</td>\n",
              "    </tr>\n",
              "    <tr>\n",
              "      <th>joy</th>\n",
              "      <td>14360</td>\n",
              "    </tr>\n",
              "    <tr>\n",
              "      <th>sadness</th>\n",
              "      <td>14360</td>\n",
              "    </tr>\n",
              "    <tr>\n",
              "      <th>shame</th>\n",
              "      <td>14360</td>\n",
              "    </tr>\n",
              "  </tbody>\n",
              "</table>\n",
              "</div>"
            ],
            "text/plain": [
              "nan       text\n",
              "emotion       \n",
              "anger    14360\n",
              "disgust  14360\n",
              "fear     14360\n",
              "guilt    14360\n",
              "joy      14360\n",
              "sadness  14360\n",
              "shame    14360"
            ]
          },
          "metadata": {
            "tags": []
          },
          "execution_count": 2
        }
      ]
    },
    {
      "cell_type": "markdown",
      "metadata": {
        "id": "pC9OMRm39z_o",
        "colab_type": "text"
      },
      "source": [
        "Show a sample:"
      ]
    },
    {
      "cell_type": "code",
      "metadata": {
        "id": "rJXr8tVg9z_p",
        "colab_type": "code",
        "colab": {},
        "outputId": "869412d7-5072-4a02-e6ec-4d7122f3b11f"
      },
      "source": [
        "df['text'][10]"
      ],
      "execution_count": null,
      "outputs": [
        {
          "output_type": "execute_result",
          "data": {
            "text/plain": [
              "'@eucopresident Maybe the EU should give France a “ little gift “ 👍🇪🇺🇳🇱🇪🇺'"
            ]
          },
          "metadata": {
            "tags": []
          },
          "execution_count": 3
        }
      ]
    },
    {
      "cell_type": "markdown",
      "metadata": {
        "id": "B0I-ewL39z_t",
        "colab_type": "text"
      },
      "source": [
        "## Show frequency of each class"
      ]
    },
    {
      "cell_type": "code",
      "metadata": {
        "id": "I8DjaL289z_u",
        "colab_type": "code",
        "colab": {},
        "outputId": "551ea813-4a43-4347-f191-093ffe908e74"
      },
      "source": [
        "import matplotlib.pyplot as plt\n",
        "import seaborn as sns\n",
        "\n",
        "sns.catplot(x=\"emotion\", data=df, kind=\"count\", height=6, aspect=1.5, palette=\"husl\")\n",
        "plt.show()"
      ],
      "execution_count": null,
      "outputs": [
        {
          "output_type": "display_data",
          "data": {
            "text/plain": [
              "<Figure size 900x600 with 1 Axes>"
            ]
          },
          "metadata": {
            "tags": []
          }
        }
      ]
    },
    {
      "cell_type": "markdown",
      "metadata": {
        "id": "yB_ydBI59z_y",
        "colab_type": "text"
      },
      "source": [
        "## Extra information on the dataset"
      ]
    },
    {
      "cell_type": "code",
      "metadata": {
        "id": "x5rWZ5_d9z_y",
        "colab_type": "code",
        "colab": {}
      },
      "source": [
        "from sklearn.base import BaseEstimator, TransformerMixin\n",
        "import re\n",
        "import emoji\n",
        "import numpy as np\n",
        "\n",
        "class TextCounts(BaseEstimator, TransformerMixin):\n",
        "    \n",
        "    def count_regex(self, pattern, tweet):\n",
        "        return len(re.findall(pattern, tweet))\n",
        "\n",
        "    def fit(self, X, y=None, **fit_params):\n",
        "        return self\n",
        "\n",
        "    def transform(self, X, **transform_params):\n",
        "        count_words = X.apply(lambda x: self.count_regex(r'\\w+', x))\n",
        "        count_mentions = X.apply(lambda x: self.count_regex(r'@\\w+', x))\n",
        "        count_hashtags = X.apply(lambda x: self.count_regex(r'#\\w+', x))\n",
        "        count_capital_words = X.apply(lambda x: self.count_regex(r'\\b[A-Z]{2,}\\b', x))\n",
        "        count_excl_quest_marks = X.apply(lambda x: self.count_regex(r'!|\\?', x))\n",
        "        count_urls = X.apply(lambda x: self.count_regex(r'http.?://[^\\s]+[\\s]?', x))\n",
        "        count_emojis = X.apply(lambda x: emoji.demojize(x)).apply(lambda x: self.count_regex(r':[a-z_&]+:', x))\n",
        "\n",
        "        df = pd.DataFrame({'count_words': count_words\n",
        "                           , 'count_mentions': count_mentions\n",
        "                           , 'count_hashtags': count_hashtags\n",
        "                           , 'count_capital_words': count_capital_words\n",
        "                           , 'count_excl_quest_marks': count_excl_quest_marks\n",
        "                           , 'count_urls': count_urls\n",
        "                           , 'count_emojis': count_emojis\n",
        "                          })\n",
        "        return df"
      ],
      "execution_count": null,
      "outputs": []
    },
    {
      "cell_type": "code",
      "metadata": {
        "id": "MVir-l8F9z_2",
        "colab_type": "code",
        "colab": {}
      },
      "source": [
        "tc = TextCounts()\n",
        "df_eda = tc.fit_transform(df.text)\n",
        "df_eda['emotion'] = df.emotion"
      ],
      "execution_count": null,
      "outputs": []
    },
    {
      "cell_type": "code",
      "metadata": {
        "id": "seEutvG49z_6",
        "colab_type": "code",
        "colab": {},
        "outputId": "6517b4ef-e968-4203-97c4-a9a125d9e141"
      },
      "source": [
        "def show_dist(df, col):\n",
        "    print('Descriptive stats for {}'.format(col))\n",
        "    print('-'*(len(col)+70))\n",
        "    print(df.groupby('emotion')[col].describe())\n",
        "    bins = np.arange(df[col].min(), df[col].max() + 1)\n",
        "    g = sns.FacetGrid(df, col='emotion', height=5, hue='emotion', palette=\"PuBuGn_d\")\n",
        "    g = g.map(sns.distplot, col, kde=False, norm_hist=True, bins=bins)\n",
        "    plt.show()\n",
        "\n",
        "show_dist(df_eda, 'count_words')"
      ],
      "execution_count": null,
      "outputs": [
        {
          "output_type": "stream",
          "text": [
            "Descriptive stats for count_words\n",
            "---------------------------------------------------------------------------------\n",
            "           count       mean       std  min   25%   50%   75%   max\n",
            "emotion                                                           \n",
            "anger    14360.0  13.975000  6.177911  1.0  9.0   13.0  18.0  43.0\n",
            "disgust  14360.0  13.587047  6.594200  2.0  9.0   12.0  18.0  34.0\n",
            "fear     14360.0  12.081894  5.745585  1.0  9.0   9.0   15.0  32.0\n",
            "guilt    14360.0  14.679457  7.203515  2.0  9.0   14.0  20.0  35.0\n",
            "joy      14360.0  14.724164  6.578250  2.0  9.0   14.0  20.0  34.0\n",
            "sadness  14360.0  13.562326  5.872441  1.0  9.0   13.0  17.0  34.0\n",
            "shame    14360.0  14.986908  6.276747  2.0  10.0  15.0  18.0  34.0\n"
          ],
          "name": "stdout"
        },
        {
          "output_type": "display_data",
          "data": {
            "image/png": "[encoded data removed]",
            "text/plain": [
              "<Figure size 2520x360 with 7 Axes>"
            ]
          },
          "metadata": {
            "tags": [],
            "needs_background": "light"
          }
        }
      ]
    },
    {
      "cell_type": "markdown",
      "metadata": {
        "id": "j8fhCWXk9z_-",
        "colab_type": "text"
      },
      "source": [
        "# 2°) Data Preprocessing"
      ]
    },
    {
      "cell_type": "code",
      "metadata": {
        "id": "IVrks4gk9z_-",
        "colab_type": "code",
        "colab": {},
        "outputId": "5f84c930-54ed-4813-d1e1-795bf6e6c905"
      },
      "source": [
        "import string\n",
        "from nltk.corpus import stopwords\n",
        "from nltk.stem import PorterStemmer\n",
        "from nltk.stem import WordNetLemmatizer\n",
        "import contractions\n",
        "\n",
        "class CleanText(BaseEstimator, TransformerMixin):\n",
        "    def __init__(self, neural_network=False):\n",
        "        self.neural_network = neural_network\n",
        "    # Remove mentions (@...)\n",
        "    def remove_mentions(self, input_text):\n",
        "        return re.sub(r'@\\w+', '', input_text)\n",
        "    \n",
        "    # Remove potential urls\n",
        "    def remove_urls(self, input_text):\n",
        "        return re.sub(r'http.?://[^\\s]+[\\s]?', '', input_text)\n",
        "    \n",
        "    # Transform emojis to text\n",
        "    def emoji_oneword(self, input_text):\n",
        "        # By compressing the underscore, the emoji is kept as one word\n",
        "        input_text = emoji.demojize(input_text)\n",
        "        return input_text.replace('_',' ')\n",
        "\n",
        "    # Remove punctuation\n",
        "    def remove_punctuation(self, input_text):\n",
        "        # Make translation table\n",
        "        punct = string.punctuation\n",
        "        trantab = str.maketrans(punct, len(punct)*' ')  # Every punctuation symbol will be replaced by a space\n",
        "        return input_text.translate(trantab)\n",
        "    \n",
        "    # Remove extra letters\n",
        "    def reduce_lengthening(self, input_text):\n",
        "        pattern = re.compile(r\"(.)\\1{2,}\")\n",
        "        return pattern.sub(r\"\\1\\1\", input_text)\n",
        "    \n",
        "    # Remove contractions\n",
        "    def remove_contractions(self, input_text):\n",
        "        return contractions.fix(input_text)\n",
        "    \n",
        "    # Remove digits\n",
        "    def remove_digits(self, input_text):\n",
        "        return re.sub(r'\\d+', '', input_text)\n",
        "\n",
        "    # Lower case all the words\n",
        "    def to_lower(self, input_text):\n",
        "        return input_text.lower()\n",
        "\n",
        "    # Remove stopwords or words smaller than 1 character\n",
        "    def remove_stopwords(self, input_text):\n",
        "        stopwords_list = stopwords.words('english')\n",
        "        # Some words which might indicate a certain sentiment are kept via a whitelist\n",
        "        whitelist = [\"n't\", \"not\", \"no\"]\n",
        "        words = input_text.split() \n",
        "        clean_words = [word for word in words if (word not in stopwords_list or word in whitelist) and len(word) > 1] \n",
        "        return \" \".join(clean_words) \n",
        "\n",
        "    # Stemming (not used for Neural Network)\n",
        "    def stemming(self, input_text):\n",
        "        porter = PorterStemmer()\n",
        "        words = input_text.split() \n",
        "        stemmed_words = [porter.stem(word) for word in words]\n",
        "        return \" \".join(stemmed_words)\n",
        "    \n",
        "    # Lemmatizing (not used for Neural Network)\n",
        "    def lemmatizing(self, input_text):\n",
        "        wordnet_lemmatizer = WordNetLemmatizer()\n",
        "        words = input_text.split() \n",
        "        lemmatized_words = [wordnet_lemmatizer.lemmatize(word) for word in words]\n",
        "        return \" \".join(lemmatized_words)\n",
        "\n",
        "    def fit(self, X, y=None, **fit_params):\n",
        "        return self\n",
        "\n",
        "    def transform(self, X, **transform_params):\n",
        "        if(self.neural_network):\n",
        "            clean_X = X.apply(self.remove_mentions).apply(self.remove_urls).apply(self.emoji_oneword).apply(self.remove_contractions).apply(self.remove_punctuation).apply(self.to_lower).apply(self.reduce_lengthening).apply(self.remove_digits)\n",
        "        else:\n",
        "            clean_X = X.apply(self.remove_mentions).apply(self.remove_urls).apply(self.emoji_oneword).apply(self.remove_punctuation).apply(self.remove_digits).apply(self.to_lower).apply(self.remove_stopwords).apply(self.lemmatizing)\n",
        "        return clean_X\n",
        "\n",
        "ct = CleanText(neural_network=True)\n",
        "#ct = CleanText()\n",
        "sr_clean = ct.fit_transform(df.text)\n",
        "sr_clean.sample(5)"
      ],
      "execution_count": null,
      "outputs": [
        {
          "output_type": "execute_result",
          "data": {
            "text/plain": [
              "43470     pleading face  pleading face  pleading face  pleading face  pleading face  pleading face  zany face  zany face  zany face  zany face  zany face  zany face you socialists are truly  insane  \n",
              "30536    love is nothing stronger than a boy with lovee monkey  backhand index pointing left  grinning face  mouth  saxophone  postal horn  thumbs up  droplet  eyes                                   \n",
              "82848    where is my number one stevetony hype person jan i miss jan can she pls come thru                                                                                                             \n",
              "62502    rt  look what george bear has been up to today  sun  doughnut                                                                                                                                 \n",
              "85745    nighttime healy is back                                                                                                                                                                       \n",
              "Name: text, dtype: object"
            ]
          },
          "metadata": {
            "tags": []
          },
          "execution_count": 8
        }
      ]
    },
    {
      "cell_type": "code",
      "metadata": {
        "id": "uKI9P2ar90AC",
        "colab_type": "code",
        "colab": {},
        "outputId": "aaf4c61a-186b-449f-eed2-e1ae685900e1"
      },
      "source": [
        "empty_clean = sr_clean == ''\n",
        "print('{} records have no words left after text cleaning'.format(sr_clean[empty_clean].count()))\n",
        "sr_clean.loc[empty_clean] = '[no_text]'"
      ],
      "execution_count": null,
      "outputs": [
        {
          "output_type": "stream",
          "text": [
            "0 records have no words left after text cleaning\n"
          ],
          "name": "stdout"
        }
      ]
    },
    {
      "cell_type": "markdown",
      "metadata": {
        "id": "wtHy7tbq90AF",
        "colab_type": "text"
      },
      "source": [
        "## Stats after preprocessing"
      ]
    },
    {
      "cell_type": "code",
      "metadata": {
        "id": "yEv2a4k390AG",
        "colab_type": "code",
        "colab": {},
        "outputId": "facc39da-b14d-43a6-ad31-c4e6e38b9d8a"
      },
      "source": [
        "from sklearn.feature_extraction.text import CountVectorizer\n",
        "import collections\n",
        "\n",
        "# create a bag of words\n",
        "cv = CountVectorizer()\n",
        "bow = cv.fit_transform(sr_clean)\n",
        "\n",
        "# Count occurences\n",
        "word_freq = dict(zip(cv.get_feature_names(), np.asarray(bow.sum(axis=0)).ravel()))\n",
        "word_counter = collections.Counter(word_freq)\n",
        "word_counter_df = pd.DataFrame(word_counter.most_common(20), columns = ['word', 'freq'])\n",
        "fig, ax = plt.subplots(figsize=(12, 10))\n",
        "sns.barplot(x=\"word\", y=\"freq\", data=word_counter_df, palette=\"PuBuGn_d\", ax=ax)\n",
        "plt.show();"
      ],
      "execution_count": null,
      "outputs": [
        {
          "output_type": "display_data",
          "data": {
            "image/png": "[encoded data removed]",
            "text/plain": [
              "<Figure size 864x720 with 1 Axes>"
            ]
          },
          "metadata": {
            "tags": [],
            "needs_background": "light"
          }
        }
      ]
    },
    {
      "cell_type": "code",
      "metadata": {
        "id": "0GpRU_Xv90AK",
        "colab_type": "code",
        "colab": {}
      },
      "source": [
        "df_model = df_eda\n",
        "df_model['clean_text'] = sr_clean"
      ],
      "execution_count": null,
      "outputs": []
    },
    {
      "cell_type": "code",
      "metadata": {
        "id": "viGkXbrm90AN",
        "colab_type": "code",
        "colab": {}
      },
      "source": [
        "df_model.to_csv(r'./clean_text.csv')"
      ],
      "execution_count": null,
      "outputs": []
    },
    {
      "cell_type": "code",
      "metadata": {
        "id": "PFHqGbJg90AQ",
        "colab_type": "code",
        "colab": {},
        "outputId": "f5beb270-2788-40f6-d75c-d637c6f1153d"
      },
      "source": [
        "df_model.dtypes"
      ],
      "execution_count": null,
      "outputs": [
        {
          "output_type": "execute_result",
          "data": {
            "text/plain": [
              "count_words               int64 \n",
              "count_mentions            int64 \n",
              "count_hashtags            int64 \n",
              "count_capital_words       int64 \n",
              "count_excl_quest_marks    int64 \n",
              "count_urls                int64 \n",
              "count_emojis              int64 \n",
              "emotion                   object\n",
              "clean_text                object\n",
              "dtype: object"
            ]
          },
          "metadata": {
            "tags": []
          },
          "execution_count": 13
        }
      ]
    },
    {
      "cell_type": "code",
      "metadata": {
        "id": "mWNOBpFJ90AT",
        "colab_type": "code",
        "colab": {},
        "outputId": "3982da5e-74dd-426c-cba3-53992ecd0dc9"
      },
      "source": [
        "df_model['emotion'].value_counts()"
      ],
      "execution_count": null,
      "outputs": [
        {
          "output_type": "execute_result",
          "data": {
            "text/plain": [
              "disgust    14360\n",
              "joy        14360\n",
              "fear       14360\n",
              "guilt      14360\n",
              "sadness    14360\n",
              "anger      14360\n",
              "shame      14360\n",
              "Name: emotion, dtype: int64"
            ]
          },
          "metadata": {
            "tags": []
          },
          "execution_count": 14
        }
      ]
    },
    {
      "cell_type": "code",
      "metadata": {
        "id": "cuy5_oql90AX",
        "colab_type": "code",
        "colab": {},
        "outputId": "da93b517-0c1b-4212-b5e9-68121a96d79a"
      },
      "source": [
        "text_list = df_model['clean_text'].tolist()\n",
        "label_list = df_model['emotion'].tolist()\n",
        "print(\"texts {}, labels {}\".format(len(text_list),len(label_list)))"
      ],
      "execution_count": null,
      "outputs": [
        {
          "output_type": "stream",
          "text": [
            "texts 100520, labels 100520\n"
          ],
          "name": "stdout"
        }
      ]
    },
    {
      "cell_type": "code",
      "metadata": {
        "id": "hUZKDDKn90Aa",
        "colab_type": "code",
        "colab": {}
      },
      "source": [
        "import os\n",
        "BASE_DIR = ''\n",
        "GLOVE_DIR = os.path.join(BASE_DIR, 'glove.6B')          # set up glove directory\n",
        "MAX_SEQUENCE_LENGTH = 350                              # maximum length of a sequence\n",
        "MAX_NUM_WORDS = 20000                                   # maximum number of words\n",
        "#MAX_NUM_WORDS = 40000  \n",
        "EMBEDDING_DIM = 100                                     # number of dimensions for the embedding layer\n",
        "TESTING_SPLIT = 0.2"
      ],
      "execution_count": null,
      "outputs": []
    },
    {
      "cell_type": "code",
      "metadata": {
        "id": "UtCzFD4d90Ad",
        "colab_type": "code",
        "colab": {},
        "outputId": "fabd9f27-d516-4c3d-8faf-cee1b18dfbc6"
      },
      "source": [
        "print('Indexing word vectors.')\n",
        "\n",
        "# Create a dictionnary (key = word, value = its vector)\n",
        "embeddings_index = {}                                           \n",
        "with open(os.path.join(GLOVE_DIR, 'glove.6B.100d.txt'), encoding=\"utf8\") as f:\n",
        "    for line in f:\n",
        "        values = line.split()\n",
        "        word = values[0] # word is the first item in the list\n",
        "        coefs = np.asarray(values[1:], dtype='float32') # the rest is its vector\n",
        "        embeddings_index[word] = coefs # assign the work to its vector\n",
        "\n",
        "print('Found %s word vectors.' % len(embeddings_index))"
      ],
      "execution_count": null,
      "outputs": [
        {
          "output_type": "stream",
          "text": [
            "Indexing word vectors.\n",
            "Found 400000 word vectors.\n"
          ],
          "name": "stdout"
        }
      ]
    },
    {
      "cell_type": "code",
      "metadata": {
        "id": "iwiuvFAS90Ah",
        "colab_type": "code",
        "colab": {}
      },
      "source": [
        "#embeddings_index['the']"
      ],
      "execution_count": null,
      "outputs": []
    },
    {
      "cell_type": "code",
      "metadata": {
        "id": "sUC3Z0rM90Ak",
        "colab_type": "code",
        "colab": {},
        "outputId": "924135a4-5e44-4186-9d7a-a778b03abc6c"
      },
      "source": [
        "print('Processing text dataset')\n",
        "from keras.preprocessing.text import Tokenizer\n",
        "from keras.preprocessing.sequence import pad_sequences\n",
        "# finally, vectorize the text samples into a 2D integer tensor\n",
        "tokenizer = Tokenizer(num_words=MAX_NUM_WORDS)\n",
        "tokenizer.fit_on_texts(text_list)\n",
        "\n",
        "sequences = tokenizer.texts_to_sequences(text_list)\n",
        "print(\"Example: \\n{} becomes: \\n{} \".format(text_list[0],sequences[0]))\n",
        "max = 0\n",
        "for sentence in sequences:\n",
        "    if len(sentence) > max:\n",
        "        max = len(sentence)\n",
        "    \n",
        "print(\"The longest sequence has {} words\".format(max))"
      ],
      "execution_count": null,
      "outputs": [
        {
          "output_type": "stream",
          "text": [
            "Processing text dataset\n"
          ],
          "name": "stdout"
        },
        {
          "output_type": "stream",
          "text": [
            "Using TensorFlow backend.\n"
          ],
          "name": "stderr"
        },
        {
          "output_type": "stream",
          "text": [
            "Example: \n",
            "so you going to let your friend nyam fungus and old bacteria   becomes: \n",
            "[23, 8, 102, 6, 190, 55, 415, 12334, 6816, 13, 277, 7413] \n",
            "The longest sequence has 337 words\n"
          ],
          "name": "stdout"
        }
      ]
    },
    {
      "cell_type": "code",
      "metadata": {
        "id": "HyCy4hMD90An",
        "colab_type": "code",
        "colab": {},
        "outputId": "5c094b5a-ca03-44ba-8f2c-d07ddb7fa252"
      },
      "source": [
        "index = tokenizer.word_index\n",
        "print(len(index))"
      ],
      "execution_count": null,
      "outputs": [
        {
          "output_type": "stream",
          "text": [
            "39059\n"
          ],
          "name": "stdout"
        }
      ]
    },
    {
      "cell_type": "code",
      "metadata": {
        "id": "W7g8yr9b90Aq",
        "colab_type": "code",
        "colab": {}
      },
      "source": [
        "import json \n",
        "with open( 'word_dict.json' , 'w' ) as file:    \n",
        "    json.dump( tokenizer.word_index , file )"
      ],
      "execution_count": null,
      "outputs": []
    },
    {
      "cell_type": "code",
      "metadata": {
        "id": "zwz1u3fM90At",
        "colab_type": "code",
        "colab": {}
      },
      "source": [
        "# Pad sequences to have the same shape of 350 \n",
        "data = pad_sequences(sequences, maxlen=MAX_SEQUENCE_LENGTH)"
      ],
      "execution_count": null,
      "outputs": []
    },
    {
      "cell_type": "code",
      "metadata": {
        "id": "H0pUfK6Y90Aw",
        "colab_type": "code",
        "colab": {},
        "outputId": "383b8544-f2a0-4ab0-e2e8-163075b87828"
      },
      "source": [
        "print(text_list[1])\n",
        "print(data[1])\n"
      ],
      "execution_count": null,
      "outputs": [
        {
          "output_type": "stream",
          "text": [
            "rt  heartbreaking  \n",
            "[  0   0   0   0   0   0   0   0   0   0   0   0   0   0   0   0   0   0\n",
            "   0   0   0   0   0   0   0   0   0   0   0   0   0   0   0   0   0   0\n",
            "   0   0   0   0   0   0   0   0   0   0   0   0   0   0   0   0   0   0\n",
            "   0   0   0   0   0   0   0   0   0   0   0   0   0   0   0   0   0   0\n",
            "   0   0   0   0   0   0   0   0   0   0   0   0   0   0   0   0   0   0\n",
            "   0   0   0   0   0   0   0   0   0   0   0   0   0   0   0   0   0   0\n",
            "   0   0   0   0   0   0   0   0   0   0   0   0   0   0   0   0   0   0\n",
            "   0   0   0   0   0   0   0   0   0   0   0   0   0   0   0   0   0   0\n",
            "   0   0   0   0   0   0   0   0   0   0   0   0   0   0   0   0   0   0\n",
            "   0   0   0   0   0   0   0   0   0   0   0   0   0   0   0   0   0   0\n",
            "   0   0   0   0   0   0   0   0   0   0   0   0   0   0   0   0   0   0\n",
            "   0   0   0   0   0   0   0   0   0   0   0   0   0   0   0   0   0   0\n",
            "   0   0   0   0   0   0   0   0   0   0   0   0   0   0   0   0   0   0\n",
            "   0   0   0   0   0   0   0   0   0   0   0   0   0   0   0   0   0   0\n",
            "   0   0   0   0   0   0   0   0   0   0   0   0   0   0   0   0   0   0\n",
            "   0   0   0   0   0   0   0   0   0   0   0   0   0   0   0   0   0   0\n",
            "   0   0   0   0   0   0   0   0   0   0   0   0   0   0   0   0   0   0\n",
            "   0   0   0   0   0   0   0   0   0   0   0   0   0   0   0   0   0   0\n",
            "   0   0   0   0   0   0   0   0   0   0   0   0   0   0   0   0   0   0\n",
            "   0   0   0   0   0   0   2 169]\n"
          ],
          "name": "stdout"
        }
      ]
    },
    {
      "cell_type": "code",
      "metadata": {
        "id": "xydUARrP90Az",
        "colab_type": "code",
        "colab": {},
        "outputId": "db2958f6-d5be-46a3-df2a-9bfcb85bd356"
      },
      "source": [
        "word_index = tokenizer.word_index\n",
        "print('Found %s unique tokens.' % len(word_index))"
      ],
      "execution_count": null,
      "outputs": [
        {
          "output_type": "stream",
          "text": [
            "Found 39059 unique tokens.\n"
          ],
          "name": "stdout"
        }
      ]
    },
    {
      "cell_type": "code",
      "metadata": {
        "id": "FVuD2JLS90A3",
        "colab_type": "code",
        "colab": {},
        "outputId": "eb6c9342-139b-4d02-accb-c3eaab88d32b"
      },
      "source": [
        "from keras.utils import to_categorical\n",
        "labels_dict = {\n",
        "    'disgust':0,\n",
        "    'sadness':1, \n",
        "    'shame':2, \n",
        "    'joy':3, \n",
        "    'guilt':4, \n",
        "    'fear':5, \n",
        "    'anger':6\n",
        "}\n",
        "\n",
        "# create a list of all the samples labels\n",
        "for i in range(0,len(label_list)):\n",
        "    label_list[i] = labels_dict[label_list[i]]\n",
        "    \n",
        "\n",
        "#label_list = np.array(label_list).astype(np.int32)\n",
        "# create one-hot representati\n",
        "labels = to_categorical(np.asarray(label_list))\n",
        "print(labels[0])\n",
        "print('Shape of data tensor:', data.shape)\n",
        "print('Shape of label tensor:', labels.shape)"
      ],
      "execution_count": null,
      "outputs": [
        {
          "output_type": "stream",
          "text": [
            "[1. 0. 0. 0. 0. 0. 0.]\n",
            "Shape of data tensor: (100520, 350)\n",
            "Shape of label tensor: (100520, 7)\n"
          ],
          "name": "stdout"
        }
      ]
    },
    {
      "cell_type": "code",
      "metadata": {
        "id": "qPC_c9v790A6",
        "colab_type": "code",
        "colab": {}
      },
      "source": [
        "# split the data into a training set and a validation set\n",
        "#indices = np.arange(data.shape[0])\n",
        "#np.random.shuffle(indices)\n",
        "#data = data[indices]\n",
        "#labels = labels[indices]\n",
        "#num_test_samples = int(TESTING_SPLIT * data.shape[0])\n",
        "\n",
        "#x_train = data[:-num_test_samples]\n",
        "#y_train = labels[:-num_test_samples]\n",
        "#x_test = data[-num_test_samples:]\n",
        "#y_test = labels[-num_test_samples:]\n",
        "from sklearn.model_selection import train_test_split\n",
        "\n",
        "x_train, x_test, y_train, y_test = train_test_split(data, labels, test_size=0.2, random_state=42)"
      ],
      "execution_count": null,
      "outputs": []
    },
    {
      "cell_type": "code",
      "metadata": {
        "id": "zJepCx_K90A9",
        "colab_type": "code",
        "colab": {},
        "outputId": "a7b63ad7-5551-4890-f9d4-7e3023744918"
      },
      "source": [
        "# Inspect the dimenstions of our training and test data (this is helpful to debug)\n",
        "print('x_train shape:', x_train.shape)\n",
        "print('x_test shape:', x_test.shape)\n",
        "print('y_train shape:', y_train.shape)\n",
        "print('y_test shape:', y_test.shape)"
      ],
      "execution_count": null,
      "outputs": [
        {
          "output_type": "stream",
          "text": [
            "x_train shape: (80416, 350)\n",
            "x_test shape: (20104, 350)\n",
            "y_train shape: (80416, 7)\n",
            "y_test shape: (20104, 7)\n"
          ],
          "name": "stdout"
        }
      ]
    },
    {
      "cell_type": "code",
      "metadata": {
        "id": "zKF6G_NX90BA",
        "colab_type": "code",
        "colab": {},
        "outputId": "a749b999-a64a-411a-b028-3d64afa2ea69"
      },
      "source": [
        "print('Preparing embedding matrix.')\n",
        "\n",
        "# prepare embedding matrix\n",
        "num_words = min(MAX_NUM_WORDS, len(word_index)) + 1\n",
        "\n",
        "# matrix of 20001 by 350\n",
        "embedding_matrix = np.zeros((num_words, EMBEDDING_DIM))\n",
        "\n",
        "# fill the new matrix with dict words\n",
        "for word, i in word_index.items():\n",
        "    # if the index is superior to 20 000\n",
        "    if i > MAX_NUM_WORDS:\n",
        "        continue\n",
        "    # get the word\n",
        "    embedding_vector = embeddings_index.get(word)\n",
        "    # if the word is not None (aka word is found)\n",
        "    if embedding_vector is not None:\n",
        "        # words not found in embedding index will be all-zeros.\n",
        "        embedding_matrix[i] = embedding_vector\n",
        "print(num_words)\n",
        "print(embeddings_index.get('face'))"
      ],
      "execution_count": null,
      "outputs": [
        {
          "output_type": "stream",
          "text": [
            "Preparing embedding matrix.\n",
            "20001\n",
            "[-0.13234    0.31691    0.67548   -0.29082    0.11674    0.5846\n",
            " -0.6859     0.32639   -0.58656   -0.01109   -0.43636    0.34629\n",
            "  0.1791     0.40488    0.14535   -0.067507  -0.16316    0.43279\n",
            " -0.4294    -0.33912   -0.0082742  0.015646   0.068038   0.63244\n",
            "  0.84129    0.5936     0.27984   -0.61928    0.26884   -0.5104\n",
            "  0.37507   -0.16799   -0.064193  -0.32503    0.39594   -0.19061\n",
            " -0.21194   -0.39461   -0.074421   0.15468   -0.61194   -0.82561\n",
            "  0.52164   -0.36033   -0.012684   0.30484    0.3812     0.42642\n",
            " -0.14906   -0.52745    0.1869    -0.2185    -0.19862    1.6634\n",
            "  0.26929   -2.0333     0.24169   -0.42761    1.2361     0.43777\n",
            "  0.25898    0.66032   -0.94538   -0.48365    0.58104   -0.15643\n",
            "  0.58868    0.47956   -0.64341   -0.21091    0.13704   -0.047705\n",
            " -0.63857   -0.37545    0.44312   -0.12098   -0.36055    0.02521\n",
            " -0.27534    0.019602   1.4573    -0.093716  -0.39097   -0.056688\n",
            " -1.4474    -1.2793    -0.64762    0.57562    0.088322  -0.30151\n",
            "  0.059259  -0.16416    0.11098    0.12604   -0.063207   0.068378\n",
            " -0.016925   0.0039704  0.79428   -0.3847   ]\n"
          ],
          "name": "stdout"
        }
      ]
    },
    {
      "cell_type": "code",
      "metadata": {
        "id": "kBYWQFbR90BD",
        "colab_type": "code",
        "colab": {},
        "outputId": "3c402a18-9e2b-4806-add0-29a3baad3086"
      },
      "source": [
        "embedding_matrix[0]"
      ],
      "execution_count": null,
      "outputs": [
        {
          "output_type": "execute_result",
          "data": {
            "text/plain": [
              "array([0., 0., 0., 0., 0., 0., 0., 0., 0., 0., 0., 0., 0., 0., 0., 0., 0.,\n",
              "       0., 0., 0., 0., 0., 0., 0., 0., 0., 0., 0., 0., 0., 0., 0., 0., 0.,\n",
              "       0., 0., 0., 0., 0., 0., 0., 0., 0., 0., 0., 0., 0., 0., 0., 0., 0.,\n",
              "       0., 0., 0., 0., 0., 0., 0., 0., 0., 0., 0., 0., 0., 0., 0., 0., 0.,\n",
              "       0., 0., 0., 0., 0., 0., 0., 0., 0., 0., 0., 0., 0., 0., 0., 0., 0.,\n",
              "       0., 0., 0., 0., 0., 0., 0., 0., 0., 0., 0., 0., 0., 0., 0.])"
            ]
          },
          "metadata": {
            "tags": []
          },
          "execution_count": 29
        }
      ]
    },
    {
      "cell_type": "code",
      "metadata": {
        "id": "eale1fs990BK",
        "colab_type": "code",
        "colab": {}
      },
      "source": [
        "from keras.initializers import Constant\n",
        "from keras.layers import Embedding\n",
        "# load pre-trained word embeddings into an Embedding layer\n",
        "# note that we set trainable = False so as to keep the embeddings fixed\n",
        "\n",
        "\"\"\"\n",
        "num_words => input_dim: int > 0. Size of the vocabulary, i.e. maximum integer index + 1. (20001)\n",
        "EMBEDDING_DIM => 100 (length of a word-vector)\n",
        "embeddings_initializer: our representation\n",
        "input_length: Length of input sequences, when it is constant. \n",
        "\"\"\"\n",
        "\n",
        "\n",
        "embedding_layer = Embedding(num_words,\n",
        "                            EMBEDDING_DIM,\n",
        "                            embeddings_initializer=Constant(embedding_matrix),\n",
        "                            input_length=MAX_SEQUENCE_LENGTH,\n",
        "                            trainable=False)"
      ],
      "execution_count": null,
      "outputs": []
    },
    {
      "cell_type": "code",
      "metadata": {
        "id": "6Kf14MYr90BN",
        "colab_type": "code",
        "colab": {}
      },
      "source": [
        "from keras import backend as K\n",
        "\n",
        "def f1(y_true, y_pred):\n",
        "    def recall(y_true, y_pred):\n",
        "        \"\"\"Recall metric.\n",
        "\n",
        "        Only computes a batch-wise average of recall.\n",
        "\n",
        "        Computes the recall, a metric for multi-label classification of\n",
        "        how many relevant items are selected.\n",
        "        \"\"\"\n",
        "        true_positives = K.sum(K.round(K.clip(y_true * y_pred, 0, 1)))\n",
        "        possible_positives = K.sum(K.round(K.clip(y_true, 0, 1)))\n",
        "        recall = true_positives / (possible_positives + K.epsilon())\n",
        "        return recall\n",
        "\n",
        "    def precision(y_true, y_pred):\n",
        "        \"\"\"Precision metric.\n",
        "\n",
        "        Only computes a batch-wise average of precision.\n",
        "\n",
        "        Computes the precision, a metric for multi-label classification of\n",
        "        how many selected items are relevant.\n",
        "        \"\"\"\n",
        "        true_positives = K.sum(K.round(K.clip(y_true * y_pred, 0, 1)))\n",
        "        predicted_positives = K.sum(K.round(K.clip(y_pred, 0, 1)))\n",
        "        precision = true_positives / (predicted_positives + K.epsilon())\n",
        "        return precision\n",
        "    precision = precision(y_true, y_pred)\n",
        "    recall = recall(y_true, y_pred)\n",
        "    return 2*((precision*recall)/(precision+recall+K.epsilon()))"
      ],
      "execution_count": null,
      "outputs": []
    },
    {
      "cell_type": "code",
      "metadata": {
        "id": "YOyGjED_90BP",
        "colab_type": "code",
        "colab": {}
      },
      "source": [
        "import tensorflow as tf\n",
        "from keras import backend as K\n",
        "\n",
        "def auc(y_true, y_pred):\n",
        "    auc = tf.metrics.auc(y_true, y_pred)[1]\n",
        "    K.get_session().run(tf.local_variables_initializer())\n",
        "    return auc"
      ],
      "execution_count": null,
      "outputs": []
    },
    {
      "cell_type": "code",
      "metadata": {
        "scrolled": false,
        "id": "uZB51T1090BS",
        "colab_type": "code",
        "colab": {},
        "outputId": "c2bf7107-bbb2-402a-d07e-a0555074d4be"
      },
      "source": [
        "print('Training model.')\n",
        "from keras.models import Sequential\n",
        "from keras.layers import Dense, Input, GlobalMaxPooling1D, Dropout, Flatten\n",
        "from keras.layers import Conv1D, MaxPooling1D, Embedding\n",
        "from keras.models import Model\n",
        "from keras.callbacks import EarlyStopping\n",
        "from keras.models import load_model\n",
        "import keras_metrics\n",
        "# train a 1D convnet with global maxpooling\n",
        "sequence_input = Input(shape=(MAX_SEQUENCE_LENGTH,), dtype='int32')\n",
        "print(np.shape(sequence_input))\n",
        "embedded_sequences = embedding_layer(sequence_input)\n",
        "print(np.shape(embedded_sequences))\n",
        "epochs = 15\n",
        "batch_size = 100\n",
        "model = Sequential()\n",
        "model.add(embedding_layer)\n",
        "model.add(Conv1D(256,7, activation='relu'))\n",
        "model.add(MaxPooling1D(7))\n",
        "model.add(Conv1D(256, 7, activation='relu'))\n",
        "model.add(GlobalMaxPooling1D())\n",
        "#model.add(Flatten())\n",
        "#model.add(Dense(256))\n",
        "#model.add(Dropout(0.5))\n",
        "#model.add(Dense(128, activation='relu'))\n",
        "model.add(Dense(7, activation='softmax'))\n",
        "#model = load_model('cnn_model_100d.h5')\n",
        "model.compile(optimizer='adam', loss='categorical_crossentropy', metrics=['acc',keras_metrics.precision(),keras_metrics.recall(),f1,auc])\n",
        "print(model.summary())\n",
        "history = model.fit(x_train, y_train, epochs=epochs, batch_size=batch_size,validation_split=0.1,callbacks=[EarlyStopping(monitor='val_loss',patience=2, min_delta=0.0001)])\n",
        "\n",
        "#model.save('cnn_model_100d.h5')"
      ],
      "execution_count": null,
      "outputs": [
        {
          "output_type": "stream",
          "text": [
            "Training model.\n",
            "(?, 350)\n",
            "WARNING:tensorflow:From C:\\Users\\Clement\\Anaconda3\\envs\\PythonGPU\\lib\\site-packages\\tensorflow\\python\\framework\\op_def_library.py:263: colocate_with (from tensorflow.python.framework.ops) is deprecated and will be removed in a future version.\n",
            "Instructions for updating:\n",
            "Colocations handled automatically by placer.\n",
            "(?, 350, 100)\n",
            "WARNING:tensorflow:From C:\\Users\\Clement\\Anaconda3\\envs\\PythonGPU\\lib\\site-packages\\tensorflow\\python\\ops\\metrics_impl.py:526: to_float (from tensorflow.python.ops.math_ops) is deprecated and will be removed in a future version.\n",
            "Instructions for updating:\n",
            "Use tf.cast instead.\n",
            "WARNING:tensorflow:From C:\\Users\\Clement\\Anaconda3\\envs\\PythonGPU\\lib\\site-packages\\tensorflow\\python\\ops\\metrics_impl.py:788: div (from tensorflow.python.ops.math_ops) is deprecated and will be removed in a future version.\n",
            "Instructions for updating:\n",
            "Deprecated in favor of operator or tf.math.divide.\n",
            "_________________________________________________________________\n",
            "Layer (type)                 Output Shape              Param #   \n",
            "=================================================================\n",
            "embedding_1 (Embedding)      (None, 350, 100)          2000100   \n",
            "_________________________________________________________________\n",
            "conv1d_1 (Conv1D)            (None, 344, 256)          179456    \n",
            "_________________________________________________________________\n",
            "max_pooling1d_1 (MaxPooling1 (None, 49, 256)           0         \n",
            "_________________________________________________________________\n",
            "conv1d_2 (Conv1D)            (None, 43, 256)           459008    \n",
            "_________________________________________________________________\n",
            "global_max_pooling1d_1 (Glob (None, 256)               0         \n",
            "_________________________________________________________________\n",
            "dense_1 (Dense)              (None, 7)                 1799      \n",
            "=================================================================\n",
            "Total params: 2,640,363\n",
            "Trainable params: 640,263\n",
            "Non-trainable params: 2,000,100\n",
            "_________________________________________________________________\n",
            "None\n",
            "WARNING:tensorflow:From C:\\Users\\Clement\\Anaconda3\\envs\\PythonGPU\\lib\\site-packages\\tensorflow\\python\\ops\\math_ops.py:3066: to_int32 (from tensorflow.python.ops.math_ops) is deprecated and will be removed in a future version.\n",
            "Instructions for updating:\n",
            "Use tf.cast instead.\n",
            "Train on 72374 samples, validate on 8042 samples\n",
            "Epoch 1/15\n",
            "72374/72374 [==============================] - 22s 303us/step - loss: 1.3205 - acc: 0.5053 - precision: 0.8606 - recall: 0.3309 - f1: 0.4520 - auc: 0.7816 - val_loss: 1.1858 - val_acc: 0.5591 - val_precision: 0.7808 - val_recall: 0.5000 - val_f1: 0.5433 - val_auc: 0.8369\n",
            "Epoch 2/15\n",
            "72374/72374 [==============================] - 18s 255us/step - loss: 1.0472 - acc: 0.6164 - precision: 0.8612 - recall: 0.5340 - f1: 0.6014 - auc: 0.8582 - val_loss: 1.0878 - val_acc: 0.6018 - val_precision: 0.8366 - val_recall: 0.5614 - val_f1: 0.5994 - val_auc: 0.8715\n",
            "Epoch 3/15\n",
            "72374/72374 [==============================] - 18s 254us/step - loss: 0.8768 - acc: 0.6823 - precision: 0.8925 - recall: 0.6614 - f1: 0.6789 - auc: 0.8843 - val_loss: 1.0587 - val_acc: 0.6206 - val_precision: 0.8719 - val_recall: 0.5789 - val_f1: 0.6260 - val_auc: 0.8933\n",
            "Epoch 4/15\n",
            "72374/72374 [==============================] - 18s 255us/step - loss: 0.7438 - acc: 0.7342 - precision: 0.9102 - recall: 0.7374 - f1: 0.7348 - auc: 0.9024 - val_loss: 1.0954 - val_acc: 0.6331 - val_precision: 0.7791 - val_recall: 0.6526 - val_f1: 0.6469 - val_auc: 0.9091\n",
            "Epoch 5/15\n",
            "72374/72374 [==============================] - 19s 261us/step - loss: 0.6371 - acc: 0.7718 - precision: 0.9277 - recall: 0.7862 - f1: 0.7772 - auc: 0.9160 - val_loss: 1.1943 - val_acc: 0.6359 - val_precision: 0.6434 - val_recall: 0.7439 - val_f1: 0.6462 - val_auc: 0.9211\n"
          ],
          "name": "stdout"
        }
      ]
    },
    {
      "cell_type": "code",
      "metadata": {
        "id": "LyB8CVcx90BV",
        "colab_type": "code",
        "colab": {},
        "outputId": "333a2af5-bc9f-4085-f2bf-0cdce4074f54"
      },
      "source": [
        "# Evaluate the accuracy of our trained model\n",
        "score = model.evaluate(x_test, y_test,\n",
        "                       batch_size=batch_size, verbose=1)\n",
        "print('Test loss score:', score[0])\n",
        "print('Test accuracy:', score[1])\n",
        "print('Test precision:',score[2])\n",
        "print('Test recall:', score[3])\n",
        "print('Test F1', score[4])\n",
        "print('Test AUC', score[5])"
      ],
      "execution_count": null,
      "outputs": [
        {
          "output_type": "stream",
          "text": [
            "20104/20104 [==============================] - 2s 111us/step\n",
            "Test loss score: 1.1647984943231453\n",
            "Test accuracy: 0.6455929158955895\n",
            "Test precision: 0.6693325130523121\n",
            "Test recall: 0.7597765362863207\n",
            "Test F1 0.6581784979997286\n",
            "Test AUC 0.9199856446883236\n"
          ],
          "name": "stdout"
        }
      ]
    },
    {
      "cell_type": "code",
      "metadata": {
        "id": "cT5nr1HJ90BY",
        "colab_type": "code",
        "colab": {},
        "outputId": "79319d36-4b8a-408e-daf2-073a0990dee2"
      },
      "source": [
        "my_sentences = [\"This thesis is terrible. I  need to finish it.\"]\n",
        "\n",
        "my_sequences = tokenizer.texts_to_sequences(my_sentences)\n",
        "my_data = pad_sequences(my_sequences, maxlen=MAX_SEQUENCE_LENGTH)\n",
        "np.shape(my_data)\n",
        "pretty_list = ['{}'.format(i) for i in my_data[0]]\n",
        "new_list = list(map(int, pretty_list))\n",
        "print(new_list)\n",
        "\n",
        "pred = model.predict(my_data)\n",
        "\n",
        "y_classes = pred.argmax(axis=-1)\n",
        "for emotion, age in labels_dict.items():\n",
        "    if age == y_classes:\n",
        "        print(emotion)"
      ],
      "execution_count": null,
      "outputs": [
        {
          "output_type": "stream",
          "text": [
            "[0, 0, 0, 0, 0, 0, 0, 0, 0, 0, 0, 0, 0, 0, 0, 0, 0, 0, 0, 0, 0, 0, 0, 0, 0, 0, 0, 0, 0, 0, 0, 0, 0, 0, 0, 0, 0, 0, 0, 0, 0, 0, 0, 0, 0, 0, 0, 0, 0, 0, 0, 0, 0, 0, 0, 0, 0, 0, 0, 0, 0, 0, 0, 0, 0, 0, 0, 0, 0, 0, 0, 0, 0, 0, 0, 0, 0, 0, 0, 0, 0, 0, 0, 0, 0, 0, 0, 0, 0, 0, 0, 0, 0, 0, 0, 0, 0, 0, 0, 0, 0, 0, 0, 0, 0, 0, 0, 0, 0, 0, 0, 0, 0, 0, 0, 0, 0, 0, 0, 0, 0, 0, 0, 0, 0, 0, 0, 0, 0, 0, 0, 0, 0, 0, 0, 0, 0, 0, 0, 0, 0, 0, 0, 0, 0, 0, 0, 0, 0, 0, 0, 0, 0, 0, 0, 0, 0, 0, 0, 0, 0, 0, 0, 0, 0, 0, 0, 0, 0, 0, 0, 0, 0, 0, 0, 0, 0, 0, 0, 0, 0, 0, 0, 0, 0, 0, 0, 0, 0, 0, 0, 0, 0, 0, 0, 0, 0, 0, 0, 0, 0, 0, 0, 0, 0, 0, 0, 0, 0, 0, 0, 0, 0, 0, 0, 0, 0, 0, 0, 0, 0, 0, 0, 0, 0, 0, 0, 0, 0, 0, 0, 0, 0, 0, 0, 0, 0, 0, 0, 0, 0, 0, 0, 0, 0, 0, 0, 0, 0, 0, 0, 0, 0, 0, 0, 0, 0, 0, 0, 0, 0, 0, 0, 0, 0, 0, 0, 0, 0, 0, 0, 0, 0, 0, 0, 0, 0, 0, 0, 0, 0, 0, 0, 0, 0, 0, 0, 0, 0, 0, 0, 0, 0, 0, 0, 0, 0, 0, 0, 0, 0, 0, 0, 0, 0, 0, 0, 0, 0, 0, 0, 0, 0, 0, 0, 0, 0, 0, 0, 0, 0, 0, 0, 0, 0, 0, 0, 0, 0, 0, 0, 0, 0, 0, 0, 0, 0, 0, 0, 0, 0, 12, 7378, 7, 400, 3, 150, 6, 1764, 14]\n",
            "shame\n"
          ],
          "name": "stdout"
        }
      ]
    },
    {
      "cell_type": "code",
      "metadata": {
        "id": "tgWwJB_W90Bc",
        "colab_type": "code",
        "colab": {}
      },
      "source": [
        "text_labels = list(labels_dict.keys())"
      ],
      "execution_count": null,
      "outputs": []
    },
    {
      "cell_type": "code",
      "metadata": {
        "id": "s1_Za_O_90Bg",
        "colab_type": "code",
        "colab": {}
      },
      "source": [
        "y_softmax = model.predict(x_test)\n",
        "\n",
        "y_test_1d = []\n",
        "y_pred_1d = []\n",
        "\n",
        "for i in range(len(y_test)):\n",
        "    probs = y_test[i]\n",
        "    index_arr = np.nonzero(probs)\n",
        "    one_hot_index = index_arr[0].item(0)\n",
        "    y_test_1d.append(one_hot_index)\n",
        "\n",
        "for i in range(0, len(y_softmax)):\n",
        "    probs = y_softmax[i]\n",
        "    predicted_index = np.argmax(probs)\n",
        "    y_pred_1d.append(predicted_index)"
      ],
      "execution_count": null,
      "outputs": []
    },
    {
      "cell_type": "code",
      "metadata": {
        "id": "O79XAY0q90Bj",
        "colab_type": "code",
        "colab": {}
      },
      "source": [
        "from sklearn.metrics import confusion_matrix\n",
        "import itertools\n",
        "# This utility function is from the sklearn docs: http://scikit-learn.org/stable/auto_examples/model_selection/plot_confusion_matrix.html\n",
        "def plot_confusion_matrix(cm, classes,\n",
        "                          title='Confusion matrix',\n",
        "                          cmap=plt.cm.Blues):\n",
        "    \"\"\"\n",
        "    This function prints and plots the confusion matrix.\n",
        "    Normalization can be applied by setting `normalize=True`.\n",
        "    \"\"\"\n",
        "\n",
        "    cm = cm.astype('float') / cm.sum(axis=1)[:, np.newaxis]\n",
        "\n",
        "    plt.imshow(cm, interpolation='nearest', cmap=cmap)\n",
        "    plt.title(title, fontsize=30)\n",
        "    plt.colorbar()\n",
        "    tick_marks = np.arange(len(classes))\n",
        "    plt.xticks(tick_marks, classes, rotation=45, fontsize=22)\n",
        "    plt.yticks(tick_marks, classes, fontsize=22)\n",
        "\n",
        "    fmt = '.2f'\n",
        "    thresh = cm.max() / 2.\n",
        "    for i, j in itertools.product(range(cm.shape[0]), range(cm.shape[1])):\n",
        "        plt.text(j, i, format(cm[i, j], fmt),\n",
        "                 horizontalalignment=\"center\",\n",
        "                 color=\"white\" if cm[i, j] > thresh else \"black\")\n",
        "\n",
        "    plt.ylabel('True label', fontsize=25)\n",
        "    plt.xlabel('Predicted label', fontsize=25)"
      ],
      "execution_count": null,
      "outputs": []
    },
    {
      "cell_type": "code",
      "metadata": {
        "id": "41BuJM8L90Bm",
        "colab_type": "code",
        "colab": {},
        "outputId": "c0e6ece4-97c7-4732-f8ed-03cf2938a739"
      },
      "source": [
        "cnf_matrix = confusion_matrix(y_test_1d, y_pred_1d)\n",
        "plt.figure(figsize=(24,20))\n",
        "plot_confusion_matrix(cnf_matrix, classes=text_labels, title=\"Confusion matrix\")\n",
        "plt.show()"
      ],
      "execution_count": null,
      "outputs": [
        {
          "output_type": "display_data",
          "data": {
            "image/png": "[encoded data removed]",
            "text/plain": [
              "<Figure size 1728x1440 with 2 Axes>"
            ]
          },
          "metadata": {
            "tags": [],
            "needs_background": "light"
          }
        }
      ]
    },
    {
      "cell_type": "code",
      "metadata": {
        "id": "v2Be8sjx90Bp",
        "colab_type": "code",
        "colab": {}
      },
      "source": [
        "model.save('CNN_100D_2Conv.h5')"
      ],
      "execution_count": null,
      "outputs": []
    },
    {
      "cell_type": "code",
      "metadata": {
        "scrolled": false,
        "id": "dJkbzzpB90Bt",
        "colab_type": "code",
        "colab": {},
        "outputId": "bac52ced-89f9-4d30-ff46-f6bd7893ba1f"
      },
      "source": [
        "from keras.models import Sequential\n",
        "from keras.layers import Dense\n",
        "from keras.layers import CuDNNLSTM, SpatialDropout1D\n",
        "#from keras.layers import LSTM, SpatialDropout1D\n",
        "from keras.callbacks import EarlyStopping\n",
        "\n",
        "\n",
        "epochs = 15\n",
        "batch_size = 64\n",
        "lstm_size = 100\n",
        "model = Sequential()\n",
        "model.add(embedding_layer)\n",
        "model.add(SpatialDropout1D(0.5))\n",
        "#model.add(CuDNNLSTM(lstm_size,return_sequences=True))\n",
        "#model.add(CuDNNLSTM(lstm_size))\n",
        "model.add(CuDNNLSTM(lstm_size))\n",
        "model.add(Dense(128, activation='relu'))\n",
        "model.add(Dense(7, activation='softmax'))\n",
        "model.compile(optimizer='adam', loss='categorical_crossentropy', metrics=['acc',keras_metrics.precision(),keras_metrics.recall(),f1])\n",
        "print(model.summary())\n",
        "history = model.fit(x_train, y_train, epochs=epochs, batch_size=batch_size,validation_split=0.1,callbacks=[EarlyStopping(monitor='val_loss',patience=2, min_delta=0.0001)])"
      ],
      "execution_count": null,
      "outputs": [
        {
          "output_type": "stream",
          "text": [
            "WARNING:tensorflow:From C:\\Users\\Clement\\Anaconda3\\envs\\PythonGPU\\lib\\site-packages\\keras\\backend\\tensorflow_backend.py:3445: calling dropout (from tensorflow.python.ops.nn_ops) with keep_prob is deprecated and will be removed in a future version.\n",
            "Instructions for updating:\n",
            "Please use `rate` instead of `keep_prob`. Rate should be set to `rate = 1 - keep_prob`.\n",
            "_________________________________________________________________\n",
            "Layer (type)                 Output Shape              Param #   \n",
            "=================================================================\n",
            "embedding_1 (Embedding)      (None, 350, 200)          7812000   \n",
            "_________________________________________________________________\n",
            "spatial_dropout1d_1 (Spatial (None, 350, 200)          0         \n",
            "_________________________________________________________________\n",
            "cu_dnnlstm_1 (CuDNNLSTM)     (None, 100)               120800    \n",
            "_________________________________________________________________\n",
            "dense_2 (Dense)              (None, 128)               12928     \n",
            "_________________________________________________________________\n",
            "dense_3 (Dense)              (None, 7)                 903       \n",
            "=================================================================\n",
            "Total params: 7,946,631\n",
            "Trainable params: 134,631\n",
            "Non-trainable params: 7,812,000\n",
            "_________________________________________________________________\n",
            "None\n",
            "Train on 72374 samples, validate on 8042 samples\n",
            "Epoch 1/15\n",
            "72374/72374 [==============================] - 27s 370us/step - loss: 1.5009 - acc: 0.4275 - precision: 0.8010 - recall: 0.2228 - f1: 0.3246 - val_loss: 1.2818 - val_acc: 0.5214 - val_precision: 0.8274 - val_recall: 0.3525 - val_f1: 0.4726\n",
            "Epoch 2/15\n",
            "72374/72374 [==============================] - 26s 361us/step - loss: 1.2935 - acc: 0.5149 - precision: 0.8072 - recall: 0.3549 - f1: 0.4706 - val_loss: 1.1898 - val_acc: 0.5587 - val_precision: 0.8563 - val_recall: 0.4066 - val_f1: 0.5180\n",
            "Epoch 3/15\n",
            "72374/72374 [==============================] - 26s 359us/step - loss: 1.2179 - acc: 0.5457 - precision: 0.8162 - recall: 0.4065 - f1: 0.5115 - val_loss: 1.1446 - val_acc: 0.5739 - val_precision: 0.8709 - val_recall: 0.4420 - val_f1: 0.5502\n",
            "Epoch 4/15\n",
            "72374/72374 [==============================] - 26s 360us/step - loss: 1.1716 - acc: 0.5613 - precision: 0.8298 - recall: 0.4411 - f1: 0.5346 - val_loss: 1.1213 - val_acc: 0.5892 - val_precision: 0.8414 - val_recall: 0.4934 - val_f1: 0.5664\n",
            "Epoch 5/15\n",
            "72374/72374 [==============================] - 26s 361us/step - loss: 1.1407 - acc: 0.5758 - precision: 0.8240 - recall: 0.4526 - f1: 0.5513 - val_loss: 1.1029 - val_acc: 0.5934 - val_precision: 0.8797 - val_recall: 0.4597 - val_f1: 0.5680\n",
            "Epoch 6/15\n",
            "72374/72374 [==============================] - 26s 361us/step - loss: 1.1117 - acc: 0.5869 - precision: 0.8336 - recall: 0.4818 - f1: 0.5655 - val_loss: 1.0811 - val_acc: 0.6057 - val_precision: 0.8728 - val_recall: 0.4863 - val_f1: 0.5873\n",
            "Epoch 7/15\n",
            "72374/72374 [==============================] - 26s 362us/step - loss: 1.0909 - acc: 0.5938 - precision: 0.8333 - recall: 0.4889 - f1: 0.5739 - val_loss: 1.0684 - val_acc: 0.6088 - val_precision: 0.8521 - val_recall: 0.5359 - val_f1: 0.5923\n",
            "Epoch 8/15\n",
            "72374/72374 [==============================] - 26s 360us/step - loss: 1.0739 - acc: 0.6016 - precision: 0.8403 - recall: 0.5061 - f1: 0.5820 - val_loss: 1.0608 - val_acc: 0.6128 - val_precision: 0.8604 - val_recall: 0.5350 - val_f1: 0.5959\n",
            "Epoch 9/15\n",
            "72374/72374 [==============================] - 26s 359us/step - loss: 1.0590 - acc: 0.6066 - precision: 0.8390 - recall: 0.5204 - f1: 0.5890 - val_loss: 1.0588 - val_acc: 0.6190 - val_precision: 0.8505 - val_recall: 0.5642 - val_f1: 0.6107\n",
            "Epoch 10/15\n",
            "72374/72374 [==============================] - 26s 359us/step - loss: 1.0466 - acc: 0.6125 - precision: 0.8391 - recall: 0.5334 - f1: 0.5955 - val_loss: 1.0518 - val_acc: 0.6134 - val_precision: 0.8815 - val_recall: 0.5270 - val_f1: 0.6082\n",
            "Epoch 11/15\n",
            "72374/72374 [==============================] - 26s 359us/step - loss: 1.0312 - acc: 0.6178 - precision: 0.8451 - recall: 0.5395 - f1: 0.6010 - val_loss: 1.0430 - val_acc: 0.6209 - val_precision: 0.8763 - val_recall: 0.5332 - val_f1: 0.6025\n",
            "Epoch 12/15\n",
            "72374/72374 [==============================] - 26s 359us/step - loss: 1.0237 - acc: 0.6184 - precision: 0.8440 - recall: 0.5454 - f1: 0.6047 - val_loss: 1.0386 - val_acc: 0.6199 - val_precision: 0.9046 - val_recall: 0.5376 - val_f1: 0.6156\n",
            "Epoch 13/15\n",
            "72374/72374 [==============================] - 26s 360us/step - loss: 1.0143 - acc: 0.6233 - precision: 0.8447 - recall: 0.5483 - f1: 0.6075 - val_loss: 1.0251 - val_acc: 0.6288 - val_precision: 0.8747 - val_recall: 0.5562 - val_f1: 0.6205\n",
            "Epoch 14/15\n",
            "72374/72374 [==============================] - 26s 360us/step - loss: 1.0047 - acc: 0.6283 - precision: 0.8405 - recall: 0.5549 - f1: 0.6135 - val_loss: 1.0262 - val_acc: 0.6317 - val_precision: 0.8801 - val_recall: 0.5589 - val_f1: 0.6215\n",
            "Epoch 15/15\n",
            "72374/72374 [==============================] - 26s 360us/step - loss: 0.9963 - acc: 0.6312 - precision: 0.8472 - recall: 0.5674 - f1: 0.6177 - val_loss: 1.0223 - val_acc: 0.6337 - val_precision: 0.8407 - val_recall: 0.6032 - val_f1: 0.6284\n"
          ],
          "name": "stdout"
        }
      ]
    },
    {
      "cell_type": "code",
      "metadata": {
        "id": "K4Y5WL9J90Bw",
        "colab_type": "code",
        "colab": {},
        "outputId": "cd2da96f-136e-4a3e-bf10-9aca2fea3f15"
      },
      "source": [
        "# Evaluate the accuracy of our trained model\n",
        "score = model.evaluate(x_test, y_test,\n",
        "                       batch_size=batch_size, verbose=1)\n",
        "print('Test loss score:', score[0])\n",
        "print('Test accuracy:', score[1])\n",
        "print('Test precision:',score[2])\n",
        "print('Test recall:', score[3])\n",
        "print('Test F1', score[4])"
      ],
      "execution_count": null,
      "outputs": [
        {
          "output_type": "stream",
          "text": [
            "20104/20104 [==============================] - 3s 150us/step\n",
            "Test loss score: 1.014233331873841\n",
            "Test accuracy: 0.6294269797055312\n",
            "Test precision: 0.8397870280329243\n",
            "Test recall: 0.5993091536925973\n",
            "Test F1 0.6273005823250838\n"
          ],
          "name": "stdout"
        }
      ]
    },
    {
      "cell_type": "code",
      "metadata": {
        "id": "AS4OJBw390B0",
        "colab_type": "code",
        "colab": {}
      },
      "source": [
        "y_softmax = model.predict(x_test)\n",
        "\n",
        "y_test_1d = []\n",
        "y_pred_1d = []\n",
        "\n",
        "for i in range(len(y_test)):\n",
        "    probs = y_test[i]\n",
        "    index_arr = np.nonzero(probs)\n",
        "    one_hot_index = index_arr[0].item(0)\n",
        "    y_test_1d.append(one_hot_index)\n",
        "\n",
        "for i in range(0, len(y_softmax)):\n",
        "    probs = y_softmax[i]\n",
        "    predicted_index = np.argmax(probs)\n",
        "    y_pred_1d.append(predicted_index)"
      ],
      "execution_count": null,
      "outputs": []
    },
    {
      "cell_type": "code",
      "metadata": {
        "id": "MGymWPLv90B4",
        "colab_type": "code",
        "colab": {},
        "outputId": "55235729-0f65-4d02-a33e-e7effc873c9d"
      },
      "source": [
        "cnf_matrix = confusion_matrix(y_test_1d, y_pred_1d)\n",
        "plt.figure(figsize=(24,20))\n",
        "plot_confusion_matrix(cnf_matrix, classes=text_labels, title=\"Confusion matrix\")\n",
        "plt.show()"
      ],
      "execution_count": null,
      "outputs": [
        {
          "output_type": "display_data",
          "data": {
            "image/png": "[encoded data removed]",
            "text/plain": [
              "<Figure size 1728x1440 with 2 Axes>"
            ]
          },
          "metadata": {
            "tags": [],
            "needs_background": "light"
          }
        }
      ]
    },
    {
      "cell_type": "code",
      "metadata": {
        "scrolled": false,
        "id": "eS2JRGVK90B8",
        "colab_type": "code",
        "colab": {},
        "outputId": "94251cbe-1b0f-4c0f-8c97-66f79e0a81e6"
      },
      "source": [
        "from keras.models import Sequential\n",
        "from keras.layers import Dense\n",
        "from keras.layers import CuDNNLSTM, SpatialDropout1D\n",
        "#from keras.layers import LSTM, SpatialDropout1D\n",
        "from keras.callbacks import EarlyStopping\n",
        "\n",
        "\n",
        "epochs = 15\n",
        "batch_size = 64\n",
        "lstm_size = 100\n",
        "model = Sequential()\n",
        "model.add(embedding_layer)\n",
        "model.add(SpatialDropout1D(0.5))\n",
        "model.add(CuDNNLSTM(lstm_size,return_sequences=True))\n",
        "model.add(Conv1D(128,5, activation='relu'))\n",
        "model.add(MaxPooling1D(5))\n",
        "model.add(Conv1D(128, 5, activation='relu'))\n",
        "model.add(GlobalMaxPooling1D())\n",
        "model.add(Dense(128, activation='relu'))\n",
        "model.add(Dense(7, activation='softmax'))\n",
        "model.compile(optimizer='adam', loss='categorical_crossentropy', metrics=['acc'])\n",
        "print(model.summary())\n",
        "history = model.fit(x_train, y_train, epochs=epochs, batch_size=batch_size,validation_split=0.1,callbacks=[EarlyStopping(monitor='val_loss',patience=2, min_delta=0.0001)])"
      ],
      "execution_count": null,
      "outputs": [
        {
          "output_type": "stream",
          "text": [
            "_________________________________________________________________\n",
            "Layer (type)                 Output Shape              Param #   \n",
            "=================================================================\n",
            "embedding_3 (Embedding)      (None, 350, 200)          7812000   \n",
            "_________________________________________________________________\n",
            "spatial_dropout1d_5 (Spatial (None, 350, 200)          0         \n",
            "_________________________________________________________________\n",
            "cu_dnnlstm_6 (CuDNNLSTM)     (None, 350, 100)          120800    \n",
            "_________________________________________________________________\n",
            "conv1d_4 (Conv1D)            (None, 346, 128)          64128     \n",
            "_________________________________________________________________\n",
            "max_pooling1d_3 (MaxPooling1 (None, 69, 128)           0         \n",
            "_________________________________________________________________\n",
            "conv1d_5 (Conv1D)            (None, 65, 128)           82048     \n",
            "_________________________________________________________________\n",
            "global_max_pooling1d_2 (Glob (None, 128)               0         \n",
            "_________________________________________________________________\n",
            "dense_11 (Dense)             (None, 128)               16512     \n",
            "_________________________________________________________________\n",
            "dense_12 (Dense)             (None, 7)                 903       \n",
            "=================================================================\n",
            "Total params: 8,096,391\n",
            "Trainable params: 284,391\n",
            "Non-trainable params: 7,812,000\n",
            "_________________________________________________________________\n",
            "None\n",
            "Train on 72374 samples, validate on 8042 samples\n",
            "Epoch 1/15\n",
            "36288/72374 [==============>...............] - ETA: 18s - loss: 1.6109 - acc: 0.3717"
          ],
          "name": "stdout"
        },
        {
          "output_type": "error",
          "ename": "KeyboardInterrupt",
          "evalue": "",
          "traceback": [
            "\u001b[1;31m---------------------------------------------------------------------------\u001b[0m",
            "\u001b[1;31mKeyboardInterrupt\u001b[0m                         Traceback (most recent call last)",
            "\u001b[1;32m<ipython-input-106-58ba26f47b5e>\u001b[0m in \u001b[0;36m<module>\u001b[1;34m\u001b[0m\n\u001b[0;32m     21\u001b[0m \u001b[0mmodel\u001b[0m\u001b[1;33m.\u001b[0m\u001b[0mcompile\u001b[0m\u001b[1;33m(\u001b[0m\u001b[0moptimizer\u001b[0m\u001b[1;33m=\u001b[0m\u001b[1;34m'adam'\u001b[0m\u001b[1;33m,\u001b[0m \u001b[0mloss\u001b[0m\u001b[1;33m=\u001b[0m\u001b[1;34m'categorical_crossentropy'\u001b[0m\u001b[1;33m,\u001b[0m \u001b[0mmetrics\u001b[0m\u001b[1;33m=\u001b[0m\u001b[1;33m[\u001b[0m\u001b[1;34m'acc'\u001b[0m\u001b[1;33m]\u001b[0m\u001b[1;33m)\u001b[0m\u001b[1;33m\u001b[0m\u001b[1;33m\u001b[0m\u001b[0m\n\u001b[0;32m     22\u001b[0m \u001b[0mprint\u001b[0m\u001b[1;33m(\u001b[0m\u001b[0mmodel\u001b[0m\u001b[1;33m.\u001b[0m\u001b[0msummary\u001b[0m\u001b[1;33m(\u001b[0m\u001b[1;33m)\u001b[0m\u001b[1;33m)\u001b[0m\u001b[1;33m\u001b[0m\u001b[1;33m\u001b[0m\u001b[0m\n\u001b[1;32m---> 23\u001b[1;33m \u001b[0mhistory\u001b[0m \u001b[1;33m=\u001b[0m \u001b[0mmodel\u001b[0m\u001b[1;33m.\u001b[0m\u001b[0mfit\u001b[0m\u001b[1;33m(\u001b[0m\u001b[0mx_train\u001b[0m\u001b[1;33m,\u001b[0m \u001b[0my_train\u001b[0m\u001b[1;33m,\u001b[0m \u001b[0mepochs\u001b[0m\u001b[1;33m=\u001b[0m\u001b[0mepochs\u001b[0m\u001b[1;33m,\u001b[0m \u001b[0mbatch_size\u001b[0m\u001b[1;33m=\u001b[0m\u001b[0mbatch_size\u001b[0m\u001b[1;33m,\u001b[0m\u001b[0mvalidation_split\u001b[0m\u001b[1;33m=\u001b[0m\u001b[1;36m0.1\u001b[0m\u001b[1;33m,\u001b[0m\u001b[0mcallbacks\u001b[0m\u001b[1;33m=\u001b[0m\u001b[1;33m[\u001b[0m\u001b[0mEarlyStopping\u001b[0m\u001b[1;33m(\u001b[0m\u001b[0mmonitor\u001b[0m\u001b[1;33m=\u001b[0m\u001b[1;34m'val_loss'\u001b[0m\u001b[1;33m,\u001b[0m\u001b[0mpatience\u001b[0m\u001b[1;33m=\u001b[0m\u001b[1;36m2\u001b[0m\u001b[1;33m,\u001b[0m \u001b[0mmin_delta\u001b[0m\u001b[1;33m=\u001b[0m\u001b[1;36m0.0001\u001b[0m\u001b[1;33m)\u001b[0m\u001b[1;33m]\u001b[0m\u001b[1;33m)\u001b[0m\u001b[1;33m\u001b[0m\u001b[1;33m\u001b[0m\u001b[0m\n\u001b[0m",
            "\u001b[1;32m~\\Anaconda3\\envs\\PythonGPU\\lib\\site-packages\\keras\\engine\\training.py\u001b[0m in \u001b[0;36mfit\u001b[1;34m(self, x, y, batch_size, epochs, verbose, callbacks, validation_split, validation_data, shuffle, class_weight, sample_weight, initial_epoch, steps_per_epoch, validation_steps, **kwargs)\u001b[0m\n\u001b[0;32m   1037\u001b[0m                                         \u001b[0minitial_epoch\u001b[0m\u001b[1;33m=\u001b[0m\u001b[0minitial_epoch\u001b[0m\u001b[1;33m,\u001b[0m\u001b[1;33m\u001b[0m\u001b[1;33m\u001b[0m\u001b[0m\n\u001b[0;32m   1038\u001b[0m                                         \u001b[0msteps_per_epoch\u001b[0m\u001b[1;33m=\u001b[0m\u001b[0msteps_per_epoch\u001b[0m\u001b[1;33m,\u001b[0m\u001b[1;33m\u001b[0m\u001b[1;33m\u001b[0m\u001b[0m\n\u001b[1;32m-> 1039\u001b[1;33m                                         validation_steps=validation_steps)\n\u001b[0m\u001b[0;32m   1040\u001b[0m \u001b[1;33m\u001b[0m\u001b[0m\n\u001b[0;32m   1041\u001b[0m     def evaluate(self, x=None, y=None,\n",
            "\u001b[1;32m~\\Anaconda3\\envs\\PythonGPU\\lib\\site-packages\\keras\\engine\\training_arrays.py\u001b[0m in \u001b[0;36mfit_loop\u001b[1;34m(model, f, ins, out_labels, batch_size, epochs, verbose, callbacks, val_f, val_ins, shuffle, callback_metrics, initial_epoch, steps_per_epoch, validation_steps)\u001b[0m\n\u001b[0;32m    197\u001b[0m                     \u001b[0mins_batch\u001b[0m\u001b[1;33m[\u001b[0m\u001b[0mi\u001b[0m\u001b[1;33m]\u001b[0m \u001b[1;33m=\u001b[0m \u001b[0mins_batch\u001b[0m\u001b[1;33m[\u001b[0m\u001b[0mi\u001b[0m\u001b[1;33m]\u001b[0m\u001b[1;33m.\u001b[0m\u001b[0mtoarray\u001b[0m\u001b[1;33m(\u001b[0m\u001b[1;33m)\u001b[0m\u001b[1;33m\u001b[0m\u001b[1;33m\u001b[0m\u001b[0m\n\u001b[0;32m    198\u001b[0m \u001b[1;33m\u001b[0m\u001b[0m\n\u001b[1;32m--> 199\u001b[1;33m                 \u001b[0mouts\u001b[0m \u001b[1;33m=\u001b[0m \u001b[0mf\u001b[0m\u001b[1;33m(\u001b[0m\u001b[0mins_batch\u001b[0m\u001b[1;33m)\u001b[0m\u001b[1;33m\u001b[0m\u001b[1;33m\u001b[0m\u001b[0m\n\u001b[0m\u001b[0;32m    200\u001b[0m                 \u001b[0mouts\u001b[0m \u001b[1;33m=\u001b[0m \u001b[0mto_list\u001b[0m\u001b[1;33m(\u001b[0m\u001b[0mouts\u001b[0m\u001b[1;33m)\u001b[0m\u001b[1;33m\u001b[0m\u001b[1;33m\u001b[0m\u001b[0m\n\u001b[0;32m    201\u001b[0m                 \u001b[1;32mfor\u001b[0m \u001b[0ml\u001b[0m\u001b[1;33m,\u001b[0m \u001b[0mo\u001b[0m \u001b[1;32min\u001b[0m \u001b[0mzip\u001b[0m\u001b[1;33m(\u001b[0m\u001b[0mout_labels\u001b[0m\u001b[1;33m,\u001b[0m \u001b[0mouts\u001b[0m\u001b[1;33m)\u001b[0m\u001b[1;33m:\u001b[0m\u001b[1;33m\u001b[0m\u001b[1;33m\u001b[0m\u001b[0m\n",
            "\u001b[1;32m~\\Anaconda3\\envs\\PythonGPU\\lib\\site-packages\\keras\\backend\\tensorflow_backend.py\u001b[0m in \u001b[0;36m__call__\u001b[1;34m(self, inputs)\u001b[0m\n\u001b[0;32m   2713\u001b[0m                 \u001b[1;32mreturn\u001b[0m \u001b[0mself\u001b[0m\u001b[1;33m.\u001b[0m\u001b[0m_legacy_call\u001b[0m\u001b[1;33m(\u001b[0m\u001b[0minputs\u001b[0m\u001b[1;33m)\u001b[0m\u001b[1;33m\u001b[0m\u001b[1;33m\u001b[0m\u001b[0m\n\u001b[0;32m   2714\u001b[0m \u001b[1;33m\u001b[0m\u001b[0m\n\u001b[1;32m-> 2715\u001b[1;33m             \u001b[1;32mreturn\u001b[0m \u001b[0mself\u001b[0m\u001b[1;33m.\u001b[0m\u001b[0m_call\u001b[0m\u001b[1;33m(\u001b[0m\u001b[0minputs\u001b[0m\u001b[1;33m)\u001b[0m\u001b[1;33m\u001b[0m\u001b[1;33m\u001b[0m\u001b[0m\n\u001b[0m\u001b[0;32m   2716\u001b[0m         \u001b[1;32melse\u001b[0m\u001b[1;33m:\u001b[0m\u001b[1;33m\u001b[0m\u001b[1;33m\u001b[0m\u001b[0m\n\u001b[0;32m   2717\u001b[0m             \u001b[1;32mif\u001b[0m \u001b[0mpy_any\u001b[0m\u001b[1;33m(\u001b[0m\u001b[0mis_tensor\u001b[0m\u001b[1;33m(\u001b[0m\u001b[0mx\u001b[0m\u001b[1;33m)\u001b[0m \u001b[1;32mfor\u001b[0m \u001b[0mx\u001b[0m \u001b[1;32min\u001b[0m \u001b[0minputs\u001b[0m\u001b[1;33m)\u001b[0m\u001b[1;33m:\u001b[0m\u001b[1;33m\u001b[0m\u001b[1;33m\u001b[0m\u001b[0m\n",
            "\u001b[1;32m~\\Anaconda3\\envs\\PythonGPU\\lib\\site-packages\\keras\\backend\\tensorflow_backend.py\u001b[0m in \u001b[0;36m_call\u001b[1;34m(self, inputs)\u001b[0m\n\u001b[0;32m   2653\u001b[0m                 array_vals.append(\n\u001b[0;32m   2654\u001b[0m                     np.asarray(value,\n\u001b[1;32m-> 2655\u001b[1;33m                                dtype=tf.as_dtype(tensor.dtype).as_numpy_dtype))\n\u001b[0m\u001b[0;32m   2656\u001b[0m         \u001b[1;32mif\u001b[0m \u001b[0mself\u001b[0m\u001b[1;33m.\u001b[0m\u001b[0mfeed_dict\u001b[0m\u001b[1;33m:\u001b[0m\u001b[1;33m\u001b[0m\u001b[1;33m\u001b[0m\u001b[0m\n\u001b[0;32m   2657\u001b[0m             \u001b[1;32mfor\u001b[0m \u001b[0mkey\u001b[0m \u001b[1;32min\u001b[0m \u001b[0msorted\u001b[0m\u001b[1;33m(\u001b[0m\u001b[0mself\u001b[0m\u001b[1;33m.\u001b[0m\u001b[0mfeed_dict\u001b[0m\u001b[1;33m.\u001b[0m\u001b[0mkeys\u001b[0m\u001b[1;33m(\u001b[0m\u001b[1;33m)\u001b[0m\u001b[1;33m)\u001b[0m\u001b[1;33m:\u001b[0m\u001b[1;33m\u001b[0m\u001b[1;33m\u001b[0m\u001b[0m\n",
            "\u001b[1;32m~\\AppData\\Roaming\\Python\\Python37\\site-packages\\numpy\\core\\numeric.py\u001b[0m in \u001b[0;36masarray\u001b[1;34m(a, dtype, order)\u001b[0m\n\u001b[0;32m    536\u001b[0m \u001b[1;33m\u001b[0m\u001b[0m\n\u001b[0;32m    537\u001b[0m     \"\"\"\n\u001b[1;32m--> 538\u001b[1;33m     \u001b[1;32mreturn\u001b[0m \u001b[0marray\u001b[0m\u001b[1;33m(\u001b[0m\u001b[0ma\u001b[0m\u001b[1;33m,\u001b[0m \u001b[0mdtype\u001b[0m\u001b[1;33m,\u001b[0m \u001b[0mcopy\u001b[0m\u001b[1;33m=\u001b[0m\u001b[1;32mFalse\u001b[0m\u001b[1;33m,\u001b[0m \u001b[0morder\u001b[0m\u001b[1;33m=\u001b[0m\u001b[0morder\u001b[0m\u001b[1;33m)\u001b[0m\u001b[1;33m\u001b[0m\u001b[1;33m\u001b[0m\u001b[0m\n\u001b[0m\u001b[0;32m    539\u001b[0m \u001b[1;33m\u001b[0m\u001b[0m\n\u001b[0;32m    540\u001b[0m \u001b[1;33m\u001b[0m\u001b[0m\n",
            "\u001b[1;31mKeyboardInterrupt\u001b[0m: "
          ]
        }
      ]
    },
    {
      "cell_type": "code",
      "metadata": {
        "id": "b8OF54uN90B_",
        "colab_type": "code",
        "colab": {}
      },
      "source": [
        "# Evaluate the accuracy of our trained model\n",
        "score = model.evaluate(x_test, y_test,\n",
        "                       batch_size=batch_size, verbose=1)\n",
        "print('Test loss score:', score[0])\n",
        "print('Test accuracy:', score[1])"
      ],
      "execution_count": null,
      "outputs": []
    },
    {
      "cell_type": "code",
      "metadata": {
        "id": "msu54sgy90CC",
        "colab_type": "code",
        "colab": {}
      },
      "source": [
        "y_softmax = model.predict(x_test)\n",
        "\n",
        "y_test_1d = []\n",
        "y_pred_1d = []\n",
        "\n",
        "for i in range(len(y_test)):\n",
        "    probs = y_test[i]\n",
        "    index_arr = np.nonzero(probs)\n",
        "    one_hot_index = index_arr[0].item(0)\n",
        "    y_test_1d.append(one_hot_index)\n",
        "\n",
        "for i in range(0, len(y_softmax)):\n",
        "    probs = y_softmax[i]\n",
        "    predicted_index = np.argmax(probs)\n",
        "    y_pred_1d.append(predicted_index)"
      ],
      "execution_count": null,
      "outputs": []
    },
    {
      "cell_type": "code",
      "metadata": {
        "id": "OtJTBbCe90CE",
        "colab_type": "code",
        "colab": {}
      },
      "source": [
        "cnf_matrix = confusion_matrix(y_test_1d, y_pred_1d)\n",
        "plt.figure(figsize=(24,20))\n",
        "plot_confusion_matrix(cnf_matrix, classes=text_labels, title=\"Confusion matrix\")\n",
        "plt.show()"
      ],
      "execution_count": null,
      "outputs": []
    },
    {
      "cell_type": "code",
      "metadata": {
        "scrolled": false,
        "id": "UPO6tXqQ90CH",
        "colab_type": "code",
        "colab": {},
        "outputId": "812f263f-bf64-4995-c140-3a39413b96d9"
      },
      "source": [
        "from keras.models import Sequential\n",
        "import keras_metrics\n",
        "from keras.layers import CuDNNLSTM, SpatialDropout1D, Conv1D, MaxPooling1D, Dropout, GlobalMaxPooling1D, Dense\n",
        "from keras.callbacks import EarlyStopping\n",
        "\n",
        "epochs = 25\n",
        "batch_size = 100\n",
        "lstm_size = 150\n",
        "model = Sequential()\n",
        "model.add(embedding_layer)\n",
        "model.add(Conv1D(256, 3, activation='relu'))\n",
        "model.add(GlobalMaxPooling1D())\n",
        "model.add(Dropout(0.5))\n",
        "model.add(Dense(7, activation='softmax'))\n",
        "model.compile(optimizer='adam', loss='categorical_crossentropy', metrics=['acc',keras_metrics.precision(),keras_metrics.recall(),f1])\n",
        "print(model.summary())\n",
        "history = model.fit(x_train, y_train, epochs=epochs, batch_size=batch_size,validation_split=0.1,callbacks=[EarlyStopping(monitor='val_loss',patience=2, min_delta=0.0001)])"
      ],
      "execution_count": null,
      "outputs": [
        {
          "output_type": "stream",
          "text": [
            "WARNING:tensorflow:From C:\\Users\\Clement\\Anaconda3\\envs\\PythonGPU\\lib\\site-packages\\keras\\backend\\tensorflow_backend.py:3445: calling dropout (from tensorflow.python.ops.nn_ops) with keep_prob is deprecated and will be removed in a future version.\n",
            "Instructions for updating:\n",
            "Please use `rate` instead of `keep_prob`. Rate should be set to `rate = 1 - keep_prob`.\n",
            "_________________________________________________________________\n",
            "Layer (type)                 Output Shape              Param #   \n",
            "=================================================================\n",
            "embedding_1 (Embedding)      (None, 350, 100)          2000100   \n",
            "_________________________________________________________________\n",
            "conv1d_3 (Conv1D)            (None, 348, 256)          77056     \n",
            "_________________________________________________________________\n",
            "global_max_pooling1d_2 (Glob (None, 256)               0         \n",
            "_________________________________________________________________\n",
            "dropout_1 (Dropout)          (None, 256)               0         \n",
            "_________________________________________________________________\n",
            "dense_2 (Dense)              (None, 7)                 1799      \n",
            "=================================================================\n",
            "Total params: 2,078,955\n",
            "Trainable params: 78,855\n",
            "Non-trainable params: 2,000,100\n",
            "_________________________________________________________________\n",
            "None\n",
            "Train on 72374 samples, validate on 8042 samples\n",
            "Epoch 1/25\n",
            "72374/72374 [==============================] - 11s 158us/step - loss: 1.4500 - acc: 0.4601 - precision: 0.8226 - recall: 0.2431 - f1: 0.3728 - val_loss: 1.2562 - val_acc: 0.5415 - val_precision: 0.9217 - val_recall: 0.3096 - val_f1: 0.4728\n",
            "Epoch 2/25\n",
            "72374/72374 [==============================] - 11s 153us/step - loss: 1.2609 - acc: 0.5368 - precision: 0.8297 - recall: 0.3636 - f1: 0.4899 - val_loss: 1.1923 - val_acc: 0.5598 - val_precision: 0.8837 - val_recall: 0.3798 - val_f1: 0.514237 - precision: 0.8446 - recall: 0.3521 - f1: 0.4 - ETA: 5s - loss: 1.2687 - acc - ETA: 1s - loss: 1.2640 - acc: 0.5357 - precision: 0.8290 - re\n",
            "Epoch 3/25\n",
            "72374/72374 [==============================] - 11s 151us/step - loss: 1.1940 - acc: 0.5649 - precision: 0.8281 - recall: 0.4126 - f1: 0.5249 - val_loss: 1.1517 - val_acc: 0.5796 - val_precision: 0.8569 - val_recall: 0.4675 - val_f1: 0.5410\n",
            "Epoch 4/25\n",
            "72374/72374 [==============================] - 11s 151us/step - loss: 1.1539 - acc: 0.5798 - precision: 0.8303 - recall: 0.4523 - f1: 0.5461 - val_loss: 1.1221 - val_acc: 0.5981 - val_precision: 0.9005 - val_recall: 0.4526 - val_f1: 0.5552\n",
            "Epoch 5/25\n",
            "72374/72374 [==============================] - 11s 155us/step - loss: 1.1180 - acc: 0.5933 - precision: 0.8394 - recall: 0.4844 - f1: 0.5627 - val_loss: 1.1070 - val_acc: 0.5951 - val_precision: 0.8553 - val_recall: 0.5184 - val_f1: 0.5671\n",
            "Epoch 6/25\n",
            "72374/72374 [==============================] - 11s 155us/step - loss: 1.0927 - acc: 0.6026 - precision: 0.8419 - recall: 0.5066 - f1: 0.5762 - val_loss: 1.0885 - val_acc: 0.6031 - val_precision: 0.8783 - val_recall: 0.5254 - val_f1: 0.5789\n",
            "Epoch 7/25\n",
            "72374/72374 [==============================] - 11s 151us/step - loss: 1.0732 - acc: 0.6103 - precision: 0.8423 - recall: 0.5271 - f1: 0.5863 - val_loss: 1.0784 - val_acc: 0.6108 - val_precision: 0.8929 - val_recall: 0.5412 - val_f1: 0.5831\n",
            "Epoch 8/25\n",
            "72374/72374 [==============================] - 11s 148us/step - loss: 1.0479 - acc: 0.6189 - precision: 0.8453 - recall: 0.5389 - f1: 0.5953 - val_loss: 1.0696 - val_acc: 0.6154 - val_precision: 0.8839 - val_recall: 0.5544 - val_f1: 0.5920\n",
            "Epoch 9/25\n",
            "72374/72374 [==============================] - 11s 148us/step - loss: 1.0351 - acc: 0.6248 - precision: 0.8463 - recall: 0.5510 - f1: 0.6012 - val_loss: 1.0620 - val_acc: 0.6168 - val_precision: 0.9167 - val_recall: 0.5114 - val_f1: 0.5960 - precision: 0.8497  - ETA: 3s - loss: 1.0291 - acc: 0.6\n",
            "Epoch 10/25\n",
            "72374/72374 [==============================] - 11s 148us/step - loss: 1.0211 - acc: 0.6291 - precision: 0.8483 - recall: 0.5610 - f1: 0.6083 - val_loss: 1.0547 - val_acc: 0.6216 - val_precision: 0.8953 - val_recall: 0.5553 - val_f1: 0.6053\n",
            "Epoch 11/25\n",
            "72374/72374 [==============================] - 11s 152us/step - loss: 1.0050 - acc: 0.6371 - precision: 0.8537 - recall: 0.5772 - f1: 0.6180 - val_loss: 1.0457 - val_acc: 0.6271 - val_precision: 0.8750 - val_recall: 0.5956 - val_f1: 0.6118\n",
            "Epoch 12/25\n",
            "72374/72374 [==============================] - 11s 155us/step - loss: 0.9930 - acc: 0.6415 - precision: 0.8542 - recall: 0.5832 - f1: 0.6218 - val_loss: 1.0404 - val_acc: 0.6286 - val_precision: 0.8767 - val_recall: 0.6237 - val_f1: 0.6139\n",
            "Epoch 13/25\n",
            "72374/72374 [==============================] - 11s 154us/step - loss: 0.9818 - acc: 0.6442 - precision: 0.8598 - recall: 0.5922 - f1: 0.6264 - val_loss: 1.0326 - val_acc: 0.6334 - val_precision: 0.8974 - val_recall: 0.5833 - val_f1: 0.6183\n",
            "Epoch 14/25\n",
            "72374/72374 [==============================] - 11s 154us/step - loss: 0.9729 - acc: 0.6467 - precision: 0.8614 - recall: 0.5979 - f1: 0.6310 - val_loss: 1.0280 - val_acc: 0.6363 - val_precision: 0.8686 - val_recall: 0.6088 - val_f1: 0.6192ecall: 0\n",
            "Epoch 15/25\n",
            "72374/72374 [==============================] - 11s 155us/step - loss: 0.9655 - acc: 0.6493 - precision: 0.8583 - recall: 0.6093 - f1: 0.6348 - val_loss: 1.0288 - val_acc: 0.6378 - val_precision: 0.9147 - val_recall: 0.5553 - val_f1: 0.6172\n",
            "Epoch 16/25\n",
            "72374/72374 [==============================] - 11s 154us/step - loss: 0.9532 - acc: 0.6552 - precision: 0.8591 - recall: 0.6116 - f1: 0.6394 - val_loss: 1.0281 - val_acc: 0.6303 - val_precision: 0.8921 - val_recall: 0.6018 - val_f1: 0.6186\n"
          ],
          "name": "stdout"
        }
      ]
    },
    {
      "cell_type": "code",
      "metadata": {
        "id": "3I1VX4kh90CL",
        "colab_type": "code",
        "colab": {},
        "outputId": "72ab3c82-c9b3-4f2e-b6d3-8e85960cc488"
      },
      "source": [
        "# Evaluate the accuracy of our trained model\n",
        "score = model.evaluate(x_test, y_test,\n",
        "                       batch_size=batch_size, verbose=1)\n",
        "print('Test loss score:', score[0])\n",
        "print('Test accuracy:', score[1])"
      ],
      "execution_count": null,
      "outputs": [
        {
          "output_type": "stream",
          "text": [
            "20104/20104 [==============================] - 1s 55us/step\n",
            "Test loss score: 1.0068377212751354\n",
            "Test accuracy: 0.6440509383392865\n"
          ],
          "name": "stdout"
        }
      ]
    },
    {
      "cell_type": "code",
      "metadata": {
        "id": "1hW6bvzI90CN",
        "colab_type": "code",
        "colab": {}
      },
      "source": [
        "y_softmax = model.predict(x_test)\n",
        "\n",
        "y_test_1d = []\n",
        "y_pred_1d = []\n",
        "\n",
        "for i in range(len(y_test)):\n",
        "    probs = y_test[i]\n",
        "    index_arr = np.nonzero(probs)\n",
        "    one_hot_index = index_arr[0].item(0)\n",
        "    y_test_1d.append(one_hot_index)\n",
        "\n",
        "for i in range(0, len(y_softmax)):\n",
        "    probs = y_softmax[i]\n",
        "    predicted_index = np.argmax(probs)\n",
        "    y_pred_1d.append(predicted_index)"
      ],
      "execution_count": null,
      "outputs": []
    },
    {
      "cell_type": "code",
      "metadata": {
        "scrolled": false,
        "id": "xy_hxwcY90CT",
        "colab_type": "code",
        "colab": {},
        "outputId": "172a519d-2871-47aa-c37e-c656f5a19226"
      },
      "source": [
        "cnf_matrix = confusion_matrix(y_test_1d, y_pred_1d)\n",
        "plt.figure(figsize=(24,20))\n",
        "plot_confusion_matrix(cnf_matrix, classes=text_labels, title=\"Confusion matrix\")\n",
        "plt.show()"
      ],
      "execution_count": null,
      "outputs": [
        {
          "output_type": "display_data",
          "data": {
            "image/png": "[encoded data removed]",
            "text/plain": [
              "<Figure size 1728x1440 with 2 Axes>"
            ]
          },
          "metadata": {
            "tags": [],
            "needs_background": "light"
          }
        }
      ]
    },
    {
      "cell_type": "code",
      "metadata": {
        "id": "5eWYtrvK90CV",
        "colab_type": "code",
        "colab": {}
      },
      "source": [
        "import contractions\n",
        "import re\n",
        "import emoji\n",
        "import string\n",
        "def remove_mentions(input_text):\n",
        "    return re.sub(r'@\\w+', '', input_text)\n",
        "    \n",
        "    # Remove potential urls\n",
        "def remove_urls(input_text):\n",
        "    return re.sub(r'http.?://[^\\s]+[\\s]?', '', input_text)\n",
        "    \n",
        "    # Transform emojis to text\n",
        "def emoji_oneword(input_text):\n",
        "    # By compressing the underscore, the emoji is kept as one word\n",
        "    input_text = emoji.demojize(input_text)\n",
        "    return input_text.replace('_',' ')\n",
        "\n",
        "    # Remove punctuation\n",
        "def remove_punctuation(input_text):\n",
        "        # Make translation table\n",
        "    punct = string.punctuation\n",
        "    trantab = str.maketrans(punct, len(punct)*' ')  # Every punctuation symbol will be replaced by a space\n",
        "    return input_text.translate(trantab)\n",
        "    \n",
        "    # Remove extra letters\n",
        "def reduce_lengthening(input_text):\n",
        "    pattern = re.compile(r\"(.)\\1{2,}\")\n",
        "    return pattern.sub(r\"\\1\\1\", input_text)\n",
        "    \n",
        "# Remove contractions\n",
        "def remove_contractions(input_text):\n",
        "    return contractions.fix(input_text)\n",
        "    \n",
        "# Remove digits\n",
        "def remove_digits(input_text):\n",
        "    return re.sub(r'\\d+', '', input_text)\n",
        "\n",
        "# Lower case all the words\n",
        "def to_lower(input_text):\n",
        "    return input_text.lower()"
      ],
      "execution_count": null,
      "outputs": []
    },
    {
      "cell_type": "code",
      "metadata": {
        "id": "kPEOckd890CZ",
        "colab_type": "code",
        "colab": {},
        "outputId": "2e50a035-7c1b-45c9-eb5f-8cf0cda6d02b"
      },
      "source": [
        "from keras.utils import np_utils\n",
        "sentence = \"I am so happy summer is coming !!!\"\n",
        "sentence = remove_mentions(sentence)\n",
        "sentence = remove_urls(sentence)\n",
        "sentence = emoji_oneword(sentence)\n",
        "sentence = remove_contractions(sentence)\n",
        "sentence = remove_punctuation(sentence)\n",
        "sentence = reduce_lengthening(sentence)\n",
        "sentence = remove_digits(sentence)\n",
        "sentence = to_lower(sentence)\n",
        "print(\"Sentence:\",sentence)\n",
        "my_sentences = []\n",
        "my_sentences.append(sentence)\n",
        "\n",
        "my_sequences = tokenizer.texts_to_sequences(my_sentences)\n",
        "my_data = pad_sequences(my_sequences, maxlen=MAX_SEQUENCE_LENGTH)\n",
        "\n",
        "#print(tf.keras.backend.shape(my_data))\n",
        "#print(np.shape(my_data))\n",
        "print(my_data[0])\n",
        "pred = model.predict(my_data)\n",
        "\n",
        "y_classes = pred.argmax(axis=-1)\n"
      ],
      "execution_count": null,
      "outputs": [
        {
          "output_type": "stream",
          "text": [
            "Sentence: i am so happy summer is coming  \n",
            "[  0   0   0   0   0   0   0   0   0   0   0   0   0   0   0   0   0   0\n",
            "   0   0   0   0   0   0   0   0   0   0   0   0   0   0   0   0   0   0\n",
            "   0   0   0   0   0   0   0   0   0   0   0   0   0   0   0   0   0   0\n",
            "   0   0   0   0   0   0   0   0   0   0   0   0   0   0   0   0   0   0\n",
            "   0   0   0   0   0   0   0   0   0   0   0   0   0   0   0   0   0   0\n",
            "   0   0   0   0   0   0   0   0   0   0   0   0   0   0   0   0   0   0\n",
            "   0   0   0   0   0   0   0   0   0   0   0   0   0   0   0   0   0   0\n",
            "   0   0   0   0   0   0   0   0   0   0   0   0   0   0   0   0   0   0\n",
            "   0   0   0   0   0   0   0   0   0   0   0   0   0   0   0   0   0   0\n",
            "   0   0   0   0   0   0   0   0   0   0   0   0   0   0   0   0   0   0\n",
            "   0   0   0   0   0   0   0   0   0   0   0   0   0   0   0   0   0   0\n",
            "   0   0   0   0   0   0   0   0   0   0   0   0   0   0   0   0   0   0\n",
            "   0   0   0   0   0   0   0   0   0   0   0   0   0   0   0   0   0   0\n",
            "   0   0   0   0   0   0   0   0   0   0   0   0   0   0   0   0   0   0\n",
            "   0   0   0   0   0   0   0   0   0   0   0   0   0   0   0   0   0   0\n",
            "   0   0   0   0   0   0   0   0   0   0   0   0   0   0   0   0   0   0\n",
            "   0   0   0   0   0   0   0   0   0   0   0   0   0   0   0   0   0   0\n",
            "   0   0   0   0   0   0   0   0   0   0   0   0   0   0   0   0   0   0\n",
            "   0   0   0   0   0   0   0   0   0   0   0   0   0   0   0   0   0   0\n",
            "   0   3  21  23 254 815   7 425]\n"
          ],
          "name": "stdout"
        }
      ]
    },
    {
      "cell_type": "code",
      "metadata": {
        "id": "eR71Vc8h90Cb",
        "colab_type": "code",
        "colab": {},
        "outputId": "25e10ea9-5bd6-4b49-cefc-9fef892e7efa"
      },
      "source": [
        "import collections\n",
        "from collections import Counter \n",
        "def pred_2_emotions(y_classes):\n",
        "    emotion_dict = {\n",
        "        'disgust':0,\n",
        "        'sadness':1, \n",
        "        'shame':2, \n",
        "        'joy':3, \n",
        "        'guilt':4, \n",
        "        'fear':5, \n",
        "        'anger':6\n",
        "    }\n",
        "    new_dict = {}\n",
        "    for emo, index in emotion_dict.items():\n",
        "        new_dict[emo] = pred[0][index]\n",
        "    \n",
        "    k = Counter(new_dict) \n",
        "    high = k.most_common(2)\n",
        "    return high\n",
        "    \n",
        "result = pred_2_emotions(y_classes)\n",
        "print(\"Result: for {}\\n{} with {} % \\n{} with {} %\".format(sentence, result[0][0],round(result[0][1]*100,2), result[1][0],round(result[1][1]*100,2)))"
      ],
      "execution_count": null,
      "outputs": [
        {
          "output_type": "stream",
          "text": [
            "Result: for i am so happy summer is coming  \n",
            "joy with 52.06 % \n",
            "guilt with 13.58 %\n"
          ],
          "name": "stdout"
        }
      ]
    },
    {
      "cell_type": "code",
      "metadata": {
        "id": "v-F_2_xx90Ce",
        "colab_type": "code",
        "colab": {}
      },
      "source": [
        "model.save(\"CNN_100D_1Conv.h5\")"
      ],
      "execution_count": null,
      "outputs": []
    },
    {
      "cell_type": "code",
      "metadata": {
        "id": "y20WTirs90Cg",
        "colab_type": "code",
        "colab": {}
      },
      "source": [
        ""
      ],
      "execution_count": null,
      "outputs": []
    }
  ]
}