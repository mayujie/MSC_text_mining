{
  "nbformat": 4,
  "nbformat_minor": 0,
  "metadata": {
    "colab": {
      "name": "RD_Embedding.ipynb",
      "provenance": [],
      "collapsed_sections": [],
      "toc_visible": true,
      "authorship_tag": "ABX9TyOsCROV57tEcdGaSw1xHDLy",
      "include_colab_link": true
    },
    "kernelspec": {
      "name": "python3",
      "display_name": "Python 3"
    }
  },
  "cells": [
    {
      "cell_type": "markdown",
      "metadata": {
        "id": "view-in-github",
        "colab_type": "text"
      },
      "source": [
        "<a href=\"https://colab.research.google.com/github/mayujie/MSC_text_mining/blob/master/RD_Embedding.ipynb\" target=\"_parent\"><img src=\"https://colab.research.google.com/assets/colab-badge.svg\" alt=\"Open In Colab\"/></a>"
      ]
    },
    {
      "cell_type": "markdown",
      "metadata": {
        "id": "ud8lapzrrDn2"
      },
      "source": [
        "# [Amazon product data](http://jmcauley.ucsd.edu/data/amazon/index_2014.html)\n",
        "# [Amazon product data Julian McAuley, UCSD](http://jmcauley.ucsd.edu/data/amazon/)\n",
        "Files\n",
        "\n",
        "\"Small\" subsets for experimentation\n"
      ]
    },
    {
      "cell_type": "code",
      "metadata": {
        "id": "WAvkno2sq6Kp",
        "outputId": "41028e99-cf4a-4f96-9f76-67604ae086d4",
        "colab": {
          "base_uri": "https://localhost:8080/"
        }
      },
      "source": [
        "from google.colab import drive\n",
        "drive.mount('/content/drive/')"
      ],
      "execution_count": null,
      "outputs": [
        {
          "output_type": "stream",
          "text": [
            "Mounted at /content/drive/\n"
          ],
          "name": "stdout"
        }
      ]
    },
    {
      "cell_type": "code",
      "metadata": {
        "id": "nmzIno3HrGLf",
        "outputId": "a94e110e-8e34-4dd3-a047-7117383551a3",
        "colab": {
          "base_uri": "https://localhost:8080/",
          "height": 35
        }
      },
      "source": [
        "root_path = '/content/drive/My Drive/Colab/MSC_RD'\n",
        "root_path"
      ],
      "execution_count": null,
      "outputs": [
        {
          "output_type": "execute_result",
          "data": {
            "application/vnd.google.colaboratory.intrinsic+json": {
              "type": "string"
            },
            "text/plain": [
              "'/content/drive/My Drive/Colab/MSC_RD'"
            ]
          },
          "metadata": {
            "tags": []
          },
          "execution_count": 3
        }
      ]
    },
    {
      "cell_type": "markdown",
      "metadata": {
        "id": "P0SJ5HGJrTOa"
      },
      "source": [
        "## **Read from cleaned text file**"
      ]
    },
    {
      "cell_type": "code",
      "metadata": {
        "id": "g-uZcnjVrKT7",
        "outputId": "a4b8950b-0bb6-4370-87d1-dd5c43b44e1f",
        "colab": {
          "base_uri": "https://localhost:8080/"
        }
      },
      "source": [
        "### download text data\n",
        "!gdown https://drive.google.com/uc?id=1Kb8ApeUYUDMOO39utV-dQ00PZ0s8yOAb "
      ],
      "execution_count": null,
      "outputs": [
        {
          "output_type": "stream",
          "text": [
            "Downloading...\n",
            "From: https://drive.google.com/uc?id=1Kb8ApeUYUDMOO39utV-dQ00PZ0s8yOAb\n",
            "To: /content/cleaned_reviews_text.zip\n",
            "310MB [00:02, 114MB/s]\n"
          ],
          "name": "stdout"
        }
      ]
    },
    {
      "cell_type": "code",
      "metadata": {
        "id": "p8s86Ve3rV56",
        "outputId": "ccf19682-214f-4ca4-a89f-5058d55f5594",
        "colab": {
          "base_uri": "https://localhost:8080/"
        }
      },
      "source": [
        "!unzip cleaned_reviews_text.zip"
      ],
      "execution_count": null,
      "outputs": [
        {
          "output_type": "stream",
          "text": [
            "Archive:  cleaned_reviews_text.zip\n",
            "  inflating: cleaned_reviews_text.txt  \n"
          ],
          "name": "stdout"
        }
      ]
    },
    {
      "cell_type": "code",
      "metadata": {
        "id": "n2x8l3FDriHM"
      },
      "source": [
        "!rm /content/cleaned_reviews_text.zip"
      ],
      "execution_count": null,
      "outputs": []
    },
    {
      "cell_type": "code",
      "metadata": {
        "id": "llO11sB7roHz",
        "outputId": "ffa6c662-b418-4bb9-9afe-69cdee06bb8f",
        "colab": {
          "base_uri": "https://localhost:8080/"
        }
      },
      "source": [
        "!ls -lh *.txt"
      ],
      "execution_count": null,
      "outputs": [
        {
          "output_type": "stream",
          "text": [
            "-rw-r--r-- 1 root root 969M Nov  3 00:18 cleaned_reviews_text.txt\n"
          ],
          "name": "stdout"
        }
      ]
    },
    {
      "cell_type": "code",
      "metadata": {
        "id": "aDSgqIL2rrXY"
      },
      "source": [
        "handle_list = []\n",
        "with open('/content/cleaned_reviews_text.txt', 'r') as file:\n",
        "  for line in file:\n",
        "    handle_list.append(line)"
      ],
      "execution_count": 19,
      "outputs": []
    },
    {
      "cell_type": "code",
      "metadata": {
        "id": "E_M3Wmwzr2Dz",
        "outputId": "bb2a4baa-5101-49f0-fe55-e99a1375c126",
        "colab": {
          "base_uri": "https://localhost:8080/",
          "height": 70
        }
      },
      "source": [
        "print(len(handle_list))\n",
        "handle_list[1]"
      ],
      "execution_count": 20,
      "outputs": [
        {
          "output_type": "stream",
          "text": [
            "2360871\n"
          ],
          "name": "stdout"
        },
        {
          "output_type": "execute_result",
          "data": {
            "application/vnd.google.colaboratory.intrinsic+json": {
              "type": "string"
            },
            "text/plain": [
              "'highly recommend series <PERIOD> must anyone yearning watch grown television <PERIOD> complex characters plots keep one totally involved <PERIOD> thank amazin prime <PERIOD>\\n'"
            ]
          },
          "metadata": {
            "tags": []
          },
          "execution_count": 20
        }
      ]
    },
    {
      "cell_type": "markdown",
      "metadata": {
        "id": "3jLCSNs6sL12"
      },
      "source": [
        "## remove newline '\\n' from each row"
      ]
    },
    {
      "cell_type": "code",
      "metadata": {
        "id": "upkxGUq6r35r",
        "outputId": "1e780b35-10ec-4826-c448-38662706d8bd",
        "colab": {
          "base_uri": "https://localhost:8080/"
        }
      },
      "source": [
        "cleaned_text_ls = map(lambda s: s.strip(), handle_list)\n",
        "cleaned_text_ls = list(cleaned_text_ls)\n",
        "cleaned_text_ls[:5]"
      ],
      "execution_count": 21,
      "outputs": [
        {
          "output_type": "execute_result",
          "data": {
            "text/plain": [
              "['big expectations love english tv <COMMA> particular investigative detective stuff guy really boring <PERIOD> not appeal <PERIOD>',\n",
              " 'highly recommend series <PERIOD> must anyone yearning watch grown television <PERIOD> complex characters plots keep one totally involved <PERIOD> thank amazin prime <PERIOD>',\n",
              " 'one real snoozer <PERIOD> not believe anything read hear <COMMA> awful <PERIOD> no idea title means <PERIOD> neither <PERIOD>',\n",
              " 'mysteries interesting <PERIOD> tension robson tall blond good not always believable <PERIOD> often seemed uncomfortable <PERIOD>',\n",
              " 'show always excellent <COMMA> far british crime mystery showsgoes one best ever made <PERIOD> stories well done acting top notch interesting twists realistic brutal storylines <PERIOD> show pulls no punches enters twisted minds criminals profiler psychiatrist helps northern english city police force <PERIOD> show looks like shot manchester called another name show <PERIOD> one episode not disc excellent prayer bone seperate disc <PERIOD> still crime shows not get much better one either side ocean <PERIOD> just great show never less well made episode <PERIOD> unfortunately like british shows get five shows year <COMMA> hour half shows <COMMA> still one could hope least year <PERIOD> realism depth main character tony hill protrayed excellent robson green well worth viewing just makes role truly part everyway <PERIOD> bet went crime scenes even real life research role <PERIOD> writers must applauded way average stories <PERIOD> let us hope show continues many years come <PERIOD>']"
            ]
          },
          "metadata": {
            "tags": []
          },
          "execution_count": 21
        }
      ]
    },
    {
      "cell_type": "code",
      "metadata": {
        "id": "6dIwOqVwsRPg",
        "outputId": "17213059-babe-45bd-cc02-398c6781d82e",
        "colab": {
          "base_uri": "https://localhost:8080/",
          "height": 415
        }
      },
      "source": [
        "## read data into dataframe\n",
        "import pandas as pd\n",
        "df_review = pd.DataFrame(cleaned_text_ls) \n",
        "df_review"
      ],
      "execution_count": 22,
      "outputs": [
        {
          "output_type": "execute_result",
          "data": {
            "text/html": [
              "<div>\n",
              "<style scoped>\n",
              "    .dataframe tbody tr th:only-of-type {\n",
              "        vertical-align: middle;\n",
              "    }\n",
              "\n",
              "    .dataframe tbody tr th {\n",
              "        vertical-align: top;\n",
              "    }\n",
              "\n",
              "    .dataframe thead th {\n",
              "        text-align: right;\n",
              "    }\n",
              "</style>\n",
              "<table border=\"1\" class=\"dataframe\">\n",
              "  <thead>\n",
              "    <tr style=\"text-align: right;\">\n",
              "      <th></th>\n",
              "      <th>0</th>\n",
              "    </tr>\n",
              "  </thead>\n",
              "  <tbody>\n",
              "    <tr>\n",
              "      <th>0</th>\n",
              "      <td>big expectations love english tv &lt;COMMA&gt; parti...</td>\n",
              "    </tr>\n",
              "    <tr>\n",
              "      <th>1</th>\n",
              "      <td>highly recommend series &lt;PERIOD&gt; must anyone y...</td>\n",
              "    </tr>\n",
              "    <tr>\n",
              "      <th>2</th>\n",
              "      <td>one real snoozer &lt;PERIOD&gt; not believe anything...</td>\n",
              "    </tr>\n",
              "    <tr>\n",
              "      <th>3</th>\n",
              "      <td>mysteries interesting &lt;PERIOD&gt; tension robson ...</td>\n",
              "    </tr>\n",
              "    <tr>\n",
              "      <th>4</th>\n",
              "      <td>show always excellent &lt;COMMA&gt; far british crim...</td>\n",
              "    </tr>\n",
              "    <tr>\n",
              "      <th>...</th>\n",
              "      <td>...</td>\n",
              "    </tr>\n",
              "    <tr>\n",
              "      <th>2360866</th>\n",
              "      <td>funny people rating sellers ripping supposedly...</td>\n",
              "    </tr>\n",
              "    <tr>\n",
              "      <th>2360867</th>\n",
              "      <td>deluxe gb wii mario kart &lt;PERIOD&gt; get separate...</td>\n",
              "    </tr>\n",
              "    <tr>\n",
              "      <th>2360868</th>\n",
              "      <td>package red show steering wheel &lt;PERIOD&gt; retai...</td>\n",
              "    </tr>\n",
              "    <tr>\n",
              "      <th>2360869</th>\n",
              "      <td>get newegg &lt;PRICE&gt; packaging alittle &lt;PERIOD&gt; ...</td>\n",
              "    </tr>\n",
              "    <tr>\n",
              "      <th>2360870</th>\n",
              "      <td>not real &lt;COMMA&gt; go retail store just &lt;COMMA&gt; ...</td>\n",
              "    </tr>\n",
              "  </tbody>\n",
              "</table>\n",
              "<p>2360871 rows × 1 columns</p>\n",
              "</div>"
            ],
            "text/plain": [
              "                                                         0\n",
              "0        big expectations love english tv <COMMA> parti...\n",
              "1        highly recommend series <PERIOD> must anyone y...\n",
              "2        one real snoozer <PERIOD> not believe anything...\n",
              "3        mysteries interesting <PERIOD> tension robson ...\n",
              "4        show always excellent <COMMA> far british crim...\n",
              "...                                                    ...\n",
              "2360866  funny people rating sellers ripping supposedly...\n",
              "2360867  deluxe gb wii mario kart <PERIOD> get separate...\n",
              "2360868  package red show steering wheel <PERIOD> retai...\n",
              "2360869  get newegg <PRICE> packaging alittle <PERIOD> ...\n",
              "2360870  not real <COMMA> go retail store just <COMMA> ...\n",
              "\n",
              "[2360871 rows x 1 columns]"
            ]
          },
          "metadata": {
            "tags": []
          },
          "execution_count": 22
        }
      ]
    },
    {
      "cell_type": "code",
      "metadata": {
        "id": "7j1ab3lHsVfu"
      },
      "source": [
        "del handle_list"
      ],
      "execution_count": 23,
      "outputs": []
    },
    {
      "cell_type": "code",
      "metadata": {
        "id": "lx2DtR3-r5Na",
        "outputId": "34de8528-e061-41a1-c9d6-f97fdfb347af",
        "colab": {
          "base_uri": "https://localhost:8080/",
          "height": 191
        }
      },
      "source": [
        "cleaned_text_ls[2360363]"
      ],
      "execution_count": 24,
      "outputs": [
        {
          "output_type": "execute_result",
          "data": {
            "application/vnd.google.colaboratory.intrinsic+json": {
              "type": "string"
            },
            "text/plain": [
              "'negative review game informer almost kept buying game <COMMA> glad decided buy anyway <PERIOD> go core aspects game give liked not <PERIOD> combat god war like feel <PERIOD> fact <COMMA> much game <PERIOD> feel god war style presentation combat system strays far castlevania roots may not like <COMMA> enjoyed combat god war like well <PERIOD> main melee weapons <PERIOD> shadow whip weapon use often best range <PERIOD> void sword shorter range replenishes health strike enemies <PERIOD> chaos claws deal damage short range <COMMA> weapons deal damage shielded foes <PERIOD> weapon skill tree <PERIOD> skill trees progress gain experience points <PERIOD> also master certain skills using <PERIOD> mastered <COMMA> become effective combat <PERIOD> encourages use combos skills may not otherwise used often <COMMA> so master well <PERIOD> also access projectiles like daggers <COMMA> different things depending melee weapon equipped <COMMA> send swarm bats distract enemies stealth sections <COMMA> several relics exist used limited items classic hourglass slows enemies movement <COMMA> bird reveal secret locations <COMMA> health replenishing flask <COMMA> others <PERIOD> camera bit annoyance times tends leave enemies screen may not realize attack <COMMA> leaves vulnerable <PERIOD> complaint sometimes difficult perform lengthy combo enemies not get stun locked attacks break combo hitting <COMMA> even hitting <PERIOD> story game almost story heavy first <COMMA> forcing sit quite narrated scenes <PERIOD> important <COMMA> however <COMMA> belmont lineage place story needs examined <PERIOD> artful presentation least makes scenes interesting look fill back story <PERIOD> ultimately story pretty interesting especially followed along lords shadow mirror fate <PERIOD> graphics not bad looking game <COMMA> not top line either <PERIOD> meshes pretty jagged edges <COMMA> particularly distance <COMMA> even settings maxed <PERIOD> shadows light cut scenes appear unrealistic distracting jagged edged shadows tend spill curvature characters faces <COMMA> etc <PERIOD> not uncommon gaming moment however <PERIOD> game heavy blood expected <COMMA> moments blood shooting exploding <COMMA> not look fluid <PERIOD> <COMMA> not easy thing model animate <COMMA> still needs pointed <PERIOD> gameplay much criticism leveled game stealth sections <COMMA> although not find overly unpleasant <PERIOD> changing rat form explore air vents tunnels actually fairly fun <PERIOD> biggest complaint stealth sections not allowed engage combat <COMMA> game shines <PERIOD> almost seems arbitrarily thrown <COMMA> developers wanted another aspect gameplay besides combat exploration <PERIOD> much worse stealth sections platforming sections <PERIOD> swinging chandeliers series staple <COMMA> game feels clunky bothersome <PERIOD> climbing feels fairly natural though compared games like uncharted god war <PERIOD> game allow metroidvania style exploration however <PERIOD> although environments not truly open world <COMMA> large enough allow exploration finding secrets <PERIOD> many secret areas cannot accessed appropriate skill item <COMMA> much like castlevania games <COMMA> metroid games zelda games <PERIOD> art presentation applaud designers thinking outside box bringing series modern era <COMMA> biggest complaint setting <PERIOD> although much game modern times <COMMA> still find gothic environments old dilapidated castles <COMMA> cathedrals buildings <COMMA> keeps futuristic <PERIOD> think agree dracula fighting enemies times square would huge mistake <COMMA> developers avoided pitfall <PERIOD> still <COMMA> seeing electronic billboard steel doors opened retina scanner just not feel like belong <PERIOD> make no mistake though <COMMA> plenty dark imagery <COMMA> horrific grotesque monsters <COMMA> dim hallways flickering candlelight <PERIOD> audio soundtrack fantastic <PERIOD> sound effects feel right home <PERIOD> one complaint characters voice actors not quite par <COMMA> major characters good job <COMMA> especially patrick stewart voices zobek <PERIOD> conclusion <COMMA> enjoyable game brings lords shadow series close style <PERIOD> stealth platforming sections keep true masterpiece <COMMA> not so frequent ruin rest great things game offer <PERIOD> buy confidence enjoy <EXCLAMATION>'"
            ]
          },
          "metadata": {
            "tags": []
          },
          "execution_count": 24
        }
      ]
    },
    {
      "cell_type": "code",
      "metadata": {
        "id": "-oG7nOGir78k",
        "outputId": "5f20bc28-1f03-4f1a-a865-170225c36046",
        "colab": {
          "base_uri": "https://localhost:8080/",
          "height": 191
        }
      },
      "source": [
        "cleaned_text_ls[9568]"
      ],
      "execution_count": 25,
      "outputs": [
        {
          "output_type": "execute_result",
          "data": {
            "application/vnd.google.colaboratory.intrinsic+json": {
              "type": "string"
            },
            "text/plain": [
              "'man phones lawyer asks <COMMA> much would charge just answering three simple questions <QUESTION> lawyer replies <COMMA> thousand dollars <PERIOD> thousand dollars <EXCLAMATION> exclaims man <PERIOD> expensive not <QUESTION> certainly <COMMA> says lawyer <PERIOD> <COMMA> third question <QUESTION> one <PERIOD> three lawyers buried necks cement <QUESTION> not enough cement <PERIOD> usa network keeps not effing <PERIOD> far concerned <COMMA> suits newest addictive show television <COMMA> not normally drawn legal dramas <PERIOD> witty funny smart loaded patented easy breezy sense fun usa network nowadays specializes <PERIOD> premise irresistible <COMMA> cast irrepressible <PERIOD> two leads <COMMA> gabriel macht patrick <PERIOD> adams <COMMA> so good <PERIOD> not not rave <PERIOD> suits chronicles exploits prestigious new york corporate law firm pearson hardman <PERIOD> pointedly <COMMA> catchy premise revolves around sleek newly made senior partner harvey specter macht dips shady shenanigans takes wing college dropout running away law happened stumble across harvey office just harvey middle interviewing first year associates <PERIOD> turns <COMMA> mike ross adams just slacker weed merchant <PERIOD> mike boasts eidetic memory <PERIOD> reads something <COMMA> understands <PERIOD> understands <COMMA> never forgets <PERIOD> neat party trick <PERIOD> intrigues harvey enough <COMMA> impresses enough <COMMA> decides gamble mike <PERIOD> since pearson hardman ever hires pool harvard law graduates <COMMA> begins big fib mike ross <COMMA> harvey new associate recent harvard alumni <PERIOD> mike ross resourceful <COMMA> idealistic cat whole weed thing one time mistake <PERIOD> makes terrific point view character <PERIOD> navigates way around new environment <COMMA> learns <COMMA> learn <PERIOD> mike sink swim shark infested waters <QUESTION> part fun <PERIOD> just episode <COMMA> mike thrown curve <COMMA> put situation could get exposed <PERIOD> sometimes <COMMA> quick thinking immaculate sense recall get predicament <PERIOD> sometimes <COMMA> harvey <COMMA> cool side pillow <COMMA> steps <PERIOD> long two keep charade <QUESTION> show dares step away <PERIOD> macht <COMMA> gleam wicked eye so much hair gel headrest barcalounger afraid <COMMA> embodies harvey specter supreme swagger <COMMA> cocky ruthless unruffled <PERIOD> blue moon exhibits begrudgingly compassionate side <PERIOD> harvey touted firm go closer <COMMA> heralded gunslinger <PERIOD> competitive field <COMMA> no surprise colleagues resentful <PERIOD> maybe none envious always scheming junior partner louis litt fabulous gopher rick hoffman <PERIOD> hoffman great perennial burr saddle <PERIOD> quickly makes mike time firm partly sucky one <PERIOD> mike becomes human rope harvey louis ongoing game tug war <PERIOD> throw drowning lawyer <QUESTION> partners <PERIOD> let fragment sentence predatory boardroom sharks <COMMA> cooly preening posturing bedeviling clients silver tongues <COMMA> yet graced just enough bump conscience humanize <PERIOD> found suckered simmer mike sexy <COMMA> five year paralegal rachel meghan markle <PERIOD> relish hell sarah rafferty plays harvey sassy secretary donna <COMMA> note donna understated pining boss <PERIOD> fact <COMMA> interactions among cast members absorbing around <PERIOD> gina torres firm steely managing founding partner icing cake <PERIOD> cases handled harvey mike watchable enough <COMMA> legalese thrown us made decipherable enough <PERIOD> trying become better people <COMMA> morals ethics explored intelligently <PERIOD> time side mike naive nice guy perspective <COMMA> harvey extends counter argument sheds new light matter <PERIOD> favorite moments harvey sarcastically mentors mike mike frequently giving good gets moments mike scrambles maintain harvard cover <PERIOD> not mind scene weasely louis litt gets coming <PERIOD> let reiterate suits funny <PERIOD> already episodes deep season <COMMA> <COMMA> anything <COMMA> gotten even hooked <PERIOD> season <COMMA> stakes shot even <PERIOD> season one <COMMA> get <PERIOD> get <PERIOD> suits dvd set contains twelve episodes season one comes three discs following bonus stuff pilot extended version audio commentaries episodes pilot episode season finale dogfight eps exec <PERIOD> producer david bartis <COMMA> creator co exec <PERIOD> producer aaron korsh <COMMA> gabriel macht patrick <PERIOD> adams deleted scenes episodes gag reel minutes cross examination gabriel macht <COMMA> meghan markle <COMMA> patrick <PERIOD> adams <COMMA> rick hoffman <COMMA> aaron korsh david bartis sit session minutes okay <COMMA> last one get cross bad politician crooked lawyer <QUESTION> chelsea clinton <PERIOD>'"
            ]
          },
          "metadata": {
            "tags": []
          },
          "execution_count": 25
        }
      ]
    },
    {
      "cell_type": "code",
      "metadata": {
        "id": "b2PbWQ9-r8vx",
        "outputId": "97682164-c6dd-4c72-e419-3ed6e40d4d18",
        "colab": {
          "base_uri": "https://localhost:8080/"
        }
      },
      "source": [
        "cleaned_text_ls[511526], cleaned_text_ls[1639671], cleaned_text_ls[1821690]"
      ],
      "execution_count": 26,
      "outputs": [
        {
          "output_type": "execute_result",
          "data": {
            "text/plain": [
              "('smiling face', 'smiling face', 'smiling face')"
            ]
          },
          "metadata": {
            "tags": []
          },
          "execution_count": 26
        }
      ]
    },
    {
      "cell_type": "code",
      "metadata": {
        "id": "CMHPvsVxr996"
      },
      "source": [
        "def find_noise(reg, datalist):\n",
        "  count = 0\n",
        "  found_list = []\n",
        "\n",
        "  for i, row in enumerate(datalist):\n",
        "    found = re.findall(reg, row)\n",
        "\n",
        "    if found != []:\n",
        "      count += 1\n",
        "      # print(found[0])\n",
        "      # found = list(filter(None, found[0]))\n",
        "      # print(found)\n",
        "      found_list.append([i ,found])\n",
        "  \n",
        "  return count, found_list\n",
        "  # return found_list"
      ],
      "execution_count": 27,
      "outputs": []
    },
    {
      "cell_type": "code",
      "metadata": {
        "id": "XrOicEgjsAIA",
        "outputId": "f03899dc-61c0-4cd1-f824-74e193ac0418",
        "colab": {
          "base_uri": "https://localhost:8080/"
        }
      },
      "source": [
        "import re\n",
        "## check tokens for each row\n",
        "count_key, found_key = find_noise(r\"<\\w+>\", cleaned_text_ls)\n",
        "print(count_key, len(found_key))\n",
        "found_key[:10]"
      ],
      "execution_count": 28,
      "outputs": [
        {
          "output_type": "stream",
          "text": [
            "2288491 2288491\n"
          ],
          "name": "stdout"
        },
        {
          "output_type": "execute_result",
          "data": {
            "text/plain": [
              "[[0, ['<COMMA>', '<PERIOD>', '<PERIOD>']],\n",
              " [1, ['<PERIOD>', '<PERIOD>', '<PERIOD>', '<PERIOD>']],\n",
              " [2, ['<PERIOD>', '<COMMA>', '<PERIOD>', '<PERIOD>', '<PERIOD>']],\n",
              " [3, ['<PERIOD>', '<PERIOD>', '<PERIOD>']],\n",
              " [4,\n",
              "  ['<COMMA>',\n",
              "   '<PERIOD>',\n",
              "   '<PERIOD>',\n",
              "   '<PERIOD>',\n",
              "   '<PERIOD>',\n",
              "   '<PERIOD>',\n",
              "   '<PERIOD>',\n",
              "   '<PERIOD>',\n",
              "   '<COMMA>',\n",
              "   '<COMMA>',\n",
              "   '<PERIOD>',\n",
              "   '<PERIOD>',\n",
              "   '<PERIOD>',\n",
              "   '<PERIOD>',\n",
              "   '<PERIOD>']],\n",
              " [5,\n",
              "  ['<PERIOD>',\n",
              "   '<COMMA>',\n",
              "   '<PERIOD>',\n",
              "   '<COMMA>',\n",
              "   '<PERIOD>',\n",
              "   '<COMMA>',\n",
              "   '<PERIOD>',\n",
              "   '<PERIOD>',\n",
              "   '<PERIOD>',\n",
              "   '<COMMA>',\n",
              "   '<COMMA>',\n",
              "   '<PERIOD>',\n",
              "   '<COMMA>',\n",
              "   '<PERIOD>',\n",
              "   '<COMMA>',\n",
              "   '<COMMA>',\n",
              "   '<PERIOD>',\n",
              "   '<COMMA>',\n",
              "   '<PERIOD>',\n",
              "   '<COMMA>',\n",
              "   '<COMMA>',\n",
              "   '<PERIOD>',\n",
              "   '<PERIOD>',\n",
              "   '<COMMA>',\n",
              "   '<COMMA>',\n",
              "   '<PERIOD>',\n",
              "   '<COMMA>',\n",
              "   '<PERIOD>',\n",
              "   '<COMMA>',\n",
              "   '<COMMA>',\n",
              "   '<COMMA>',\n",
              "   '<PERIOD>',\n",
              "   '<COMMA>',\n",
              "   '<PERIOD>',\n",
              "   '<PERIOD>',\n",
              "   '<COMMA>',\n",
              "   '<PERIOD>',\n",
              "   '<COMMA>',\n",
              "   '<PERIOD>',\n",
              "   '<COMMA>',\n",
              "   '<PERIOD>',\n",
              "   '<PERIOD>',\n",
              "   '<PERIOD>',\n",
              "   '<PERIOD>']],\n",
              " [6, ['<PERIOD>', '<COMMA>', '<PERIOD>']],\n",
              " [7, ['<COMMA>', '<PERIOD>', '<COMMA>', '<COMMA>', '<COMMA>', '<PERIOD>']],\n",
              " [8, ['<PERIOD>', '<PERIOD>', '<PERIOD>']],\n",
              " [9, ['<PERIOD>', '<PERIOD>', '<PERIOD>']]]"
            ]
          },
          "metadata": {
            "tags": []
          },
          "execution_count": 28
        }
      ]
    },
    {
      "cell_type": "code",
      "metadata": {
        "id": "UFCrqsvdsBqC",
        "outputId": "9c288114-52dc-43aa-ef03-c9915825a498",
        "colab": {
          "base_uri": "https://localhost:8080/"
        }
      },
      "source": [
        "ss = []\n",
        "for i in found_key:\n",
        "  for j in i[1]:\n",
        "    ss.append(j)\n",
        "\n",
        "from collections import Counter \n",
        "print(len(Counter(ss).most_common()))\n",
        "Counter(ss).most_common() # 16 tokens with each amount"
      ],
      "execution_count": 30,
      "outputs": [
        {
          "output_type": "stream",
          "text": [
            "16\n"
          ],
          "name": "stdout"
        },
        {
          "output_type": "execute_result",
          "data": {
            "text/plain": [
              "[('<PERIOD>', 14171558),\n",
              " ('<COMMA>', 8667542),\n",
              " ('<EXCLAMATION>', 1369517),\n",
              " ('<QUESTION>', 380794),\n",
              " ('<PRICE>', 68375),\n",
              " ('<HUNDREDPERCENTAGE>', 10700),\n",
              " ('<NOTCONTRACT>', 4108),\n",
              " ('<STAR>', 4085),\n",
              " ('<MENTION>', 2620),\n",
              " ('<URL>', 974),\n",
              " ('<AMAZONURL>', 954),\n",
              " ('<BOOKURL>', 526),\n",
              " ('<UNK>', 279),\n",
              " ('<YOUTUBEURL>', 86),\n",
              " ('<FACEBOOKURL>', 54),\n",
              " ('<GOOGLEURL>', 27)]"
            ]
          },
          "metadata": {
            "tags": []
          },
          "execution_count": 30
        }
      ]
    },
    {
      "cell_type": "code",
      "metadata": {
        "id": "mN_YzvBSsq8Y"
      },
      "source": [
        ""
      ],
      "execution_count": null,
      "outputs": []
    }
  ]
}