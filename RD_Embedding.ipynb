{
  "nbformat": 4,
  "nbformat_minor": 0,
  "metadata": {
    "colab": {
      "name": "RD_Embedding.ipynb",
      "provenance": [],
      "collapsed_sections": [],
      "toc_visible": true,
      "authorship_tag": "ABX9TyMEMiCiWsJEwrqPxj5kGqm5",
      "include_colab_link": true
    },
    "kernelspec": {
      "name": "python3",
      "display_name": "Python 3"
    }
  },
  "cells": [
    {
      "cell_type": "markdown",
      "metadata": {
        "id": "view-in-github",
        "colab_type": "text"
      },
      "source": [
        "<a href=\"https://colab.research.google.com/github/mayujie/MSC_text_mining/blob/master/RD_Embedding.ipynb\" target=\"_parent\"><img src=\"https://colab.research.google.com/assets/colab-badge.svg\" alt=\"Open In Colab\"/></a>"
      ]
    },
    {
      "cell_type": "markdown",
      "metadata": {
        "id": "bzVkJvUA8_hk"
      },
      "source": [
        "# [Amazon product data](http://jmcauley.ucsd.edu/data/amazon/index_2014.html)\n",
        "# [Amazon product data Julian McAuley, UCSD](http://jmcauley.ucsd.edu/data/amazon/)\n",
        "Files\n",
        "\n",
        "\"Small\" subsets for experimentation\n",
        "\n",
        "https://zhuanlan.zhihu.com/p/137537499\n",
        "\n",
        "http://baijiahao.baidu.com/s?id=1665370803562402243\n",
        "\n",
        "http://www.xiaomaidong.com/?p=1249\n",
        "\n",
        "https://towardsdatascience.com/double-your-google-colab-ram-in-10-seconds-using-these-10-characters-efa636e646ff\n"
      ]
    },
    {
      "cell_type": "code",
      "metadata": {
        "id": "7fMvC2Ho82ff",
        "outputId": "3476376a-8023-49c6-fd4b-9f1a0ea9fc6b",
        "colab": {
          "base_uri": "https://localhost:8080/"
        }
      },
      "source": [
        "from google.colab import drive\n",
        "drive.mount('/content/drive/')"
      ],
      "execution_count": null,
      "outputs": [
        {
          "output_type": "stream",
          "text": [
            "Mounted at /content/drive/\n"
          ],
          "name": "stdout"
        }
      ]
    },
    {
      "cell_type": "code",
      "metadata": {
        "id": "wL3Ow4cS9BsV",
        "outputId": "6e9094ed-32ae-4fb9-d8e5-ee9cfc625586",
        "colab": {
          "base_uri": "https://localhost:8080/",
          "height": 35
        }
      },
      "source": [
        "root_path = '/content/drive/My Drive/Colab/MSC_RD'\n",
        "root_path"
      ],
      "execution_count": null,
      "outputs": [
        {
          "output_type": "execute_result",
          "data": {
            "application/vnd.google.colaboratory.intrinsic+json": {
              "type": "string"
            },
            "text/plain": [
              "'/content/drive/My Drive/Colab/MSC_RD'"
            ]
          },
          "metadata": {
            "tags": []
          },
          "execution_count": 2
        }
      ]
    },
    {
      "cell_type": "markdown",
      "metadata": {
        "id": "VXYyIif59Euj"
      },
      "source": [
        "## **Read from cleaned text file**"
      ]
    },
    {
      "cell_type": "code",
      "metadata": {
        "id": "PjxqRDNw9Cv9"
      },
      "source": [
        "# ### download text data\n",
        "# !gdown https://drive.google.com/uc?id=1PtUMY6KuShzR2lk_85VbNizGT_wciBNl\n",
        "# !unzip reviews_text.zip\n",
        "# !rm /content/reviews_text.zip"
      ],
      "execution_count": null,
      "outputs": []
    },
    {
      "cell_type": "code",
      "metadata": {
        "id": "Fk9M8ery9I3-"
      },
      "source": [
        "# handle_list = []\n",
        "# with open('/content/reviews_text.txt', 'r') as file:\n",
        "#   for line in file:\n",
        "#     handle_list.append(line)"
      ],
      "execution_count": null,
      "outputs": []
    },
    {
      "cell_type": "code",
      "metadata": {
        "id": "7bgSnosu9JzZ"
      },
      "source": [
        "# text_ls = map(lambda s: s.strip(), handle_list)\n",
        "# text_ls = list(text_ls)\n",
        "# text_ls[:5]"
      ],
      "execution_count": null,
      "outputs": []
    },
    {
      "cell_type": "code",
      "metadata": {
        "id": "BMyCteQr9K9i",
        "outputId": "8ab9f31f-71fe-4a8c-c575-0627924eed60",
        "colab": {
          "base_uri": "https://localhost:8080/"
        }
      },
      "source": [
        "### download cleaned text data\n",
        "!gdown https://drive.google.com/uc?id=1Kb8ApeUYUDMOO39utV-dQ00PZ0s8yOAb \n",
        "!unzip cleaned_reviews_text.zip\n",
        "!rm /content/cleaned_reviews_text.zip\n",
        "!ls -lh *.txt"
      ],
      "execution_count": null,
      "outputs": [
        {
          "output_type": "stream",
          "text": [
            "Downloading...\n",
            "From: https://drive.google.com/uc?id=1Kb8ApeUYUDMOO39utV-dQ00PZ0s8yOAb\n",
            "To: /content/cleaned_reviews_text.zip\n",
            "76.6MB [00:00, 164MB/s] \n",
            "Archive:  cleaned_reviews_text.zip\n",
            "  inflating: cleaned_reviews_text.txt  \n",
            "-rw-r--r-- 1 root root 241M Nov 13 13:20 cleaned_reviews_text.txt\n"
          ],
          "name": "stdout"
        }
      ]
    },
    {
      "cell_type": "code",
      "metadata": {
        "id": "6Ae5lOS_9MKy"
      },
      "source": [
        "cleaned_text_ls = []\n",
        "with open('/content/cleaned_reviews_text.txt', 'r') as file:\n",
        "  for line in file:\n",
        "    cleaned_text_ls.append(line)"
      ],
      "execution_count": null,
      "outputs": []
    },
    {
      "cell_type": "code",
      "metadata": {
        "id": "90r1-FB89NSD",
        "outputId": "6e816f31-8381-4a99-e322-1d8f4c2a31ac",
        "colab": {
          "base_uri": "https://localhost:8080/"
        }
      },
      "source": [
        "print(len(cleaned_text_ls))\n",
        "# text_ls[:5]\n",
        "cleaned_text_ls[:5]"
      ],
      "execution_count": null,
      "outputs": [
        {
          "output_type": "stream",
          "text": [
            "484826\n"
          ],
          "name": "stdout"
        },
        {
          "output_type": "execute_result",
          "data": {
            "text/plain": [
              "['big expectations love english tv <COMMA> particular investigative detective stuff guy really boring <PERIOD> not appeal <PERIOD>\\n',\n",
              " 'highly recommend series <PERIOD> must anyone yearning watch grown television <PERIOD> complex characters plots keep one totally involved <PERIOD> thank amazin prime <PERIOD>\\n',\n",
              " 'one real snoozer <PERIOD> not believe anything read hear <COMMA> awful <PERIOD> no idea title means <PERIOD> neither <PERIOD>\\n',\n",
              " 'mysteries interesting <PERIOD> tension robson tall blond good not always believable <PERIOD> often seemed uncomfortable <PERIOD>\\n',\n",
              " 'show always excellent <COMMA> far british crime mystery one best ever made <PERIOD> stories well done acting top notch interesting twists realistic brutal storylines <PERIOD> show pulls no punches enters twisted minds criminals profiler psychiatrist helps northern english city police force <PERIOD> show looks like shot manchester called another name show <PERIOD> one episode not disc excellent prayer bone seperate disc <PERIOD> still crime shows not get much better one either side ocean <PERIOD> just great show never less well made episode <PERIOD> unfortunately like british shows get five shows year <COMMA> hour half shows <COMMA> still one could hope least year <PERIOD> realism depth main character tony hill excellent robson green well worth viewing just makes role truly part everyway <PERIOD> bet went crime scenes even real life research role <PERIOD> writers must applauded way average stories <PERIOD> let us hope show continues many years come <PERIOD>\\n']"
            ]
          },
          "metadata": {
            "tags": []
          },
          "execution_count": 8
        }
      ]
    },
    {
      "cell_type": "markdown",
      "metadata": {
        "id": "0NufOlj_9QFl"
      },
      "source": [
        "## remove newline '\\n' from each row"
      ]
    },
    {
      "cell_type": "code",
      "metadata": {
        "id": "upkxGUq6r35r",
        "outputId": "7973a6d3-ac03-4fec-d48a-0eba826fc99e",
        "colab": {
          "base_uri": "https://localhost:8080/"
        }
      },
      "source": [
        "cleaned_text_ls = map(lambda s: s.strip('\\n'), cleaned_text_ls)\n",
        "cleaned_text_ls = list(cleaned_text_ls)\n",
        "cleaned_text_ls[:5]"
      ],
      "execution_count": null,
      "outputs": [
        {
          "output_type": "execute_result",
          "data": {
            "text/plain": [
              "['big expectations love english tv <COMMA> particular investigative detective stuff guy really boring <PERIOD> not appeal <PERIOD>',\n",
              " 'highly recommend series <PERIOD> must anyone yearning watch grown television <PERIOD> complex characters plots keep one totally involved <PERIOD> thank amazin prime <PERIOD>',\n",
              " 'one real snoozer <PERIOD> not believe anything read hear <COMMA> awful <PERIOD> no idea title means <PERIOD> neither <PERIOD>',\n",
              " 'mysteries interesting <PERIOD> tension robson tall blond good not always believable <PERIOD> often seemed uncomfortable <PERIOD>',\n",
              " 'show always excellent <COMMA> far british crime mystery one best ever made <PERIOD> stories well done acting top notch interesting twists realistic brutal storylines <PERIOD> show pulls no punches enters twisted minds criminals profiler psychiatrist helps northern english city police force <PERIOD> show looks like shot manchester called another name show <PERIOD> one episode not disc excellent prayer bone seperate disc <PERIOD> still crime shows not get much better one either side ocean <PERIOD> just great show never less well made episode <PERIOD> unfortunately like british shows get five shows year <COMMA> hour half shows <COMMA> still one could hope least year <PERIOD> realism depth main character tony hill excellent robson green well worth viewing just makes role truly part everyway <PERIOD> bet went crime scenes even real life research role <PERIOD> writers must applauded way average stories <PERIOD> let us hope show continues many years come <PERIOD>']"
            ]
          },
          "metadata": {
            "tags": []
          },
          "execution_count": 9
        }
      ]
    },
    {
      "cell_type": "code",
      "metadata": {
        "id": "6dIwOqVwsRPg"
      },
      "source": [
        "# ## read data into dataframe\n",
        "# import pandas as pd\n",
        "# df_review = pd.DataFrame(cleaned_text_ls) \n",
        "# df_review"
      ],
      "execution_count": null,
      "outputs": []
    },
    {
      "cell_type": "code",
      "metadata": {
        "id": "lx2DtR3-r5Na"
      },
      "source": [
        "# text_ls[2360363]\n",
        "# cleaned_text_ls[2360363]"
      ],
      "execution_count": null,
      "outputs": []
    },
    {
      "cell_type": "code",
      "metadata": {
        "id": "-oG7nOGir78k",
        "outputId": "020a1939-07d1-4334-c550-acbe7a31ce18",
        "colab": {
          "base_uri": "https://localhost:8080/",
          "height": 107
        }
      },
      "source": [
        "# text_ls[9568]\n",
        "cleaned_text_ls[9568]"
      ],
      "execution_count": null,
      "outputs": [
        {
          "output_type": "execute_result",
          "data": {
            "application/vnd.google.colaboratory.intrinsic+json": {
              "type": "string"
            },
            "text/plain": [
              "'man phones lawyer asks <COMMA> much would charge just answering three simple questions <QUESTION> lawyer replies <COMMA> thousand dollars <PERIOD> thousand dollars <EXCLAMATION> exclaims man <PERIOD> expensive not <QUESTION> certainly <COMMA> says lawyer <PERIOD> <COMMA> third question <QUESTION> one <PERIOD> three lawyers buried necks cement <QUESTION> not enough cement <PERIOD> usa network keeps not effing <PERIOD> far concerned <COMMA> suits newest addictive show television <COMMA> not normally drawn legal dramas <PERIOD> witty funny smart loaded patented easy breezy sense fun usa network nowadays specializes <PERIOD> premise irresistible <COMMA> cast irrepressible <PERIOD> two leads <COMMA> gabriel macht patrick <PERIOD> adams <COMMA> so good <PERIOD> not not rave <PERIOD> suits chronicles exploits prestigious new york corporate law firm pearson hardman <PERIOD> pointedly <COMMA> catchy premise revolves around sleek newly made senior partner harvey specter macht dips shady shenanigans takes wing college dropout running away law happened stumble across harvey office just harvey middle interviewing first year associates <PERIOD> turns <COMMA> mike ross adams just slacker weed merchant <PERIOD> mike boasts memory <PERIOD> reads something <COMMA> understands <PERIOD> understands <COMMA> never forgets <PERIOD> neat party trick <PERIOD> intrigues harvey enough <COMMA> impresses enough <COMMA> decides gamble mike <PERIOD> since pearson hardman ever hires pool harvard law graduates <COMMA> begins big mike ross <COMMA> harvey new associate recent harvard alumni <PERIOD> mike ross resourceful <COMMA> idealistic cat whole weed thing one time mistake <PERIOD> makes terrific point view character <PERIOD> navigates way around new environment <COMMA> learns <COMMA> learn <PERIOD> mike sink swim shark infested waters <QUESTION> part fun <PERIOD> just episode <COMMA> mike thrown curve <COMMA> put situation could get exposed <PERIOD> sometimes <COMMA> quick thinking immaculate sense recall get predicament <PERIOD> sometimes <COMMA> harvey <COMMA> cool side pillow <COMMA> steps <PERIOD> long two keep charade <QUESTION> show dares step away <PERIOD> macht <COMMA> gleam wicked eye so much hair gel headrest afraid <COMMA> embodies harvey specter supreme swagger <COMMA> cocky ruthless <PERIOD> blue moon exhibits begrudgingly compassionate side <PERIOD> harvey touted firm go closer <COMMA> heralded gunslinger <PERIOD> competitive field <COMMA> no surprise colleagues resentful <PERIOD> maybe none envious always scheming junior partner louis litt fabulous gopher rick hoffman <PERIOD> hoffman great perennial burr saddle <PERIOD> quickly makes mike time firm partly sucky one <PERIOD> mike becomes human rope harvey louis ongoing game tug war <PERIOD> throw drowning lawyer <QUESTION> partners <PERIOD> let fragment sentence predatory boardroom sharks <COMMA> cooly preening posturing clients silver tongues <COMMA> yet graced just enough bump conscience humanize <PERIOD> found suckered simmer mike sexy <COMMA> five year paralegal rachel meghan markle <PERIOD> relish hell sarah rafferty plays harvey sassy secretary donna <COMMA> note donna understated pining boss <PERIOD> fact <COMMA> interactions among cast members absorbing around <PERIOD> gina torres firm steely managing founding partner icing cake <PERIOD> cases handled harvey mike watchable enough <COMMA> thrown us made decipherable enough <PERIOD> trying become better people <COMMA> morals ethics explored intelligently <PERIOD> time side mike naive nice guy perspective <COMMA> harvey extends counter argument sheds new light matter <PERIOD> favorite moments harvey sarcastically mentors mike mike frequently giving good gets moments mike scrambles maintain harvard cover <PERIOD> not mind scene louis litt gets coming <PERIOD> let reiterate suits funny <PERIOD> already episodes deep season <COMMA> <COMMA> anything <COMMA> gotten even hooked <PERIOD> season <COMMA> stakes shot even <PERIOD> season one <COMMA> get <PERIOD> get <PERIOD> suits dvd set contains twelve episodes season one comes three discs following bonus stuff pilot extended version audio commentaries episodes pilot episode season finale eps exec <PERIOD> producer david <COMMA> creator co exec <PERIOD> producer aaron <COMMA> gabriel macht patrick <PERIOD> adams deleted scenes episodes gag reel minutes cross examination gabriel macht <COMMA> meghan markle <COMMA> patrick <PERIOD> adams <COMMA> rick hoffman <COMMA> aaron david sit session minutes okay <COMMA> last one get cross bad politician crooked lawyer <QUESTION> chelsea clinton <PERIOD>'"
            ]
          },
          "metadata": {
            "tags": []
          },
          "execution_count": 12
        }
      ]
    },
    {
      "cell_type": "code",
      "metadata": {
        "id": "b2PbWQ9-r8vx"
      },
      "source": [
        "# text_ls[511526], text_ls[1639671], text_ls[1821690]\n",
        "# cleaned_text_ls[511526], cleaned_text_ls[1639671], cleaned_text_ls[1821690]"
      ],
      "execution_count": null,
      "outputs": []
    },
    {
      "cell_type": "code",
      "metadata": {
        "id": "CMHPvsVxr996"
      },
      "source": [
        "# def find_noise(reg, datalist):\n",
        "#   count = 0\n",
        "#   found_list = []\n",
        "\n",
        "#   for i, row in enumerate(datalist):\n",
        "#     found = re.findall(reg, row)\n",
        "\n",
        "#     if found != []:\n",
        "#       count += 1\n",
        "#       # print(found[0])\n",
        "#       # found = list(filter(None, found[0]))\n",
        "#       # print(found)\n",
        "#       found_list.append([i ,found])\n",
        "  \n",
        "#   return count, found_list\n",
        "#   # return found_list"
      ],
      "execution_count": null,
      "outputs": []
    },
    {
      "cell_type": "code",
      "metadata": {
        "id": "XrOicEgjsAIA"
      },
      "source": [
        "# import re\n",
        "# ## check tokens for each row\n",
        "# count_key, found_key = find_noise(r\"<\\w+>\", cleaned_text_ls)\n",
        "# print(count_key, len(found_key))\n",
        "# found_key[:10]"
      ],
      "execution_count": null,
      "outputs": []
    },
    {
      "cell_type": "code",
      "metadata": {
        "id": "UFCrqsvdsBqC"
      },
      "source": [
        "# ss = []\n",
        "# for i in found_key:\n",
        "#   for j in i[1]:\n",
        "#     ss.append(j)\n",
        "\n",
        "# from collections import Counter \n",
        "# print(len(Counter(ss).most_common()))\n",
        "# Counter(ss).most_common() # 12, 14 tokens with each amount"
      ],
      "execution_count": null,
      "outputs": []
    },
    {
      "cell_type": "code",
      "metadata": {
        "id": "JdMlwG2wu1w4",
        "outputId": "c399d77d-a8b8-4659-d998-f1d6cad6ecd1",
        "colab": {
          "base_uri": "https://localhost:8080/"
        }
      },
      "source": [
        "cleaned_text_ls[:10]"
      ],
      "execution_count": null,
      "outputs": [
        {
          "output_type": "execute_result",
          "data": {
            "text/plain": [
              "['big expectations love english tv <COMMA> particular investigative detective stuff guy really boring <PERIOD> not appeal <PERIOD>',\n",
              " 'highly recommend series <PERIOD> must anyone yearning watch grown television <PERIOD> complex characters plots keep one totally involved <PERIOD> thank amazin prime <PERIOD>',\n",
              " 'one real snoozer <PERIOD> not believe anything read hear <COMMA> awful <PERIOD> no idea title means <PERIOD> neither <PERIOD>',\n",
              " 'mysteries interesting <PERIOD> tension robson tall blond good not always believable <PERIOD> often seemed uncomfortable <PERIOD>',\n",
              " 'show always excellent <COMMA> far british crime mystery one best ever made <PERIOD> stories well done acting top notch interesting twists realistic brutal storylines <PERIOD> show pulls no punches enters twisted minds criminals profiler psychiatrist helps northern english city police force <PERIOD> show looks like shot manchester called another name show <PERIOD> one episode not disc excellent prayer bone seperate disc <PERIOD> still crime shows not get much better one either side ocean <PERIOD> just great show never less well made episode <PERIOD> unfortunately like british shows get five shows year <COMMA> hour half shows <COMMA> still one could hope least year <PERIOD> realism depth main character tony hill excellent robson green well worth viewing just makes role truly part everyway <PERIOD> bet went crime scenes even real life research role <PERIOD> writers must applauded way average stories <PERIOD> let us hope show continues many years come <PERIOD>',\n",
              " 'discovered series quite accident <PERIOD> watched appreciated masterpiece contemporary place execution <COMMA> keen read novel inspired tv adaptation val <PERIOD> novel well written <COMMA> nail biting suspense thriller <PERIOD> discovered val wrote novels well <COMMA> couple inspired tv crime drama wire blood <PERIOD> finished watching season become fan gritty crime drama follows investigations led di carol jordan hermione norris <PERIOD> assisted clinical psychologist dr <PERIOD> tony hill robson green <COMMA> rather eccentric figure delves deeply minds serial killers <COMMA> studies patterns criminal behavior profiles criminals <PERIOD> methods may seem strange times <COMMA> always manages get results <PERIOD> jordan hill make strange compelling pair <COMMA> jordan analyzing case based evidence <COMMA> hill working based knowledge deviant behavior makes people commit disturbing crimes <PERIOD> unlike cozy mysteries long running midsomer murders set one complete inspector mysteries <COMMA> wire blood not faint heart <PERIOD> crimes horrific <COMMA> sometimes involving children <COMMA> almost always patterned deviant behavior suspects almost always disturbed individuals <PERIOD> crime scenes difficult watch way victims found even forensic examinations graphic unsettling <PERIOD> though compelling <COMMA> not really show watch one sitting <COMMA> may well give viewers nightmares <PERIOD> first season contains three main stories <COMMA> divided two episodes mermaids singing hill trail seriously disturbed serial killer targets homosexuals <PERIOD> shadows rising skeletal remains young woman found <COMMA> evidence turns <COMMA> di jordan hill realize serial killer hands <COMMA> one penchant dark haired young women <PERIOD> justice painted blind another unsettling case <COMMA> time revolving around old child abduction murder case <PERIOD> couple apparently random murders turn not so random discovered victims share connection involving old court case accused found not guilty <PERIOD> throws whole bunch suspects <COMMA> including parents murdered girl <PERIOD> writing crime drama excellent <COMMA> robson green credible clinical psychologist rare knack profiling getting skin dangerous criminals <PERIOD> drama also explores chemistry tension hill di jordan <COMMA> result riveting show keeps viewers coming back <PERIOD> streaming good overall little delayed streaming episode one <PERIOD> no glitches episodes <PERIOD> picture quality could improved though seem bit grainy <PERIOD>',\n",
              " 'beats watching blank screen <PERIOD> however <COMMA> just not seem tune comedy today <PERIOD>',\n",
              " 'many episodes series <COMMA> so pretty much just skip try find description something think would like <PERIOD> kind crap shoot whether entertained not <COMMA> hey <COMMA> just sitting around trying kill minutes waiting something else <COMMA> worth shot <PERIOD>',\n",
              " 'best best comedy stand <PERIOD> fact able just watch continuously one comedian another great <PERIOD> best laughter long time <PERIOD>',\n",
              " 'not bad <PERIOD> not know comedians first time viewing put smile face <PERIOD> check next season soon <PERIOD>']"
            ]
          },
          "metadata": {
            "tags": []
          },
          "execution_count": 17
        }
      ]
    },
    {
      "cell_type": "code",
      "metadata": {
        "id": "KBKZX78YwY7Q"
      },
      "source": [
        "# reviews_text_merge = \" \".join(cleaned_text_ls)"
      ],
      "execution_count": null,
      "outputs": []
    },
    {
      "cell_type": "code",
      "metadata": {
        "id": "DFPQpi6wxD3o"
      },
      "source": [
        "# print(len(reviews_text_merge))\n",
        "# reviews_text_merge[:1000]"
      ],
      "execution_count": null,
      "outputs": []
    },
    {
      "cell_type": "code",
      "metadata": {
        "id": "S7mnmFFpz5cn"
      },
      "source": [
        "# with open(\"reviews_text_merge.txt\", \"w\") as file:\n",
        "#     file.write(\"%s\" % reviews_text_merge)"
      ],
      "execution_count": null,
      "outputs": []
    },
    {
      "cell_type": "code",
      "metadata": {
        "id": "ZifEZRUV1FP5"
      },
      "source": [
        "# # Compress review text merge into zip file\n",
        "# !zip \"{root_path}\"/reviews_text_merge.zip reviews_text_merge.txt"
      ],
      "execution_count": null,
      "outputs": []
    },
    {
      "cell_type": "code",
      "metadata": {
        "id": "kGq2KixI1k8-"
      },
      "source": [
        "# # https://drive.google.com/file/d/1Wrw1Wk2w6pkdfdQ3asOTX1_s_7djo1yk/view?usp=sharing\n",
        "# !unzip \"{root_path}\"/reviews_text_merge.zip"
      ],
      "execution_count": null,
      "outputs": []
    },
    {
      "cell_type": "code",
      "metadata": {
        "id": "HbKBV8Db2A9M"
      },
      "source": [
        "# with open('/content/reviews_text_merge.txt') as file:\n",
        "#     text = file.read()"
      ],
      "execution_count": null,
      "outputs": []
    },
    {
      "cell_type": "code",
      "metadata": {
        "id": "Gb_hkg212L20"
      },
      "source": [
        "# # words = text.split()\n",
        "# words = reviews_text_merge.split()"
      ],
      "execution_count": null,
      "outputs": []
    },
    {
      "cell_type": "code",
      "metadata": {
        "id": "dmL1pdStC31T",
        "outputId": "47d41ea9-ecea-4523-c4da-2601d4f0114f",
        "colab": {
          "base_uri": "https://localhost:8080/"
        }
      },
      "source": [
        "# from collections import Counter \n",
        "\n",
        "# word_counts = Counter(words)\n",
        "# print('Total number of words in cleaned corpus:', len(words))\n",
        "# print('Number of unique words in cleaned corpus:', len(Counter(words)), len(Counter(words).most_common()))"
      ],
      "execution_count": null,
      "outputs": [
        {
          "output_type": "stream",
          "text": [
            "Total number of words in cleaned corpus: 36436399\n",
            "Number of unique words in cleaned corpus: 55984 55984\n"
          ],
          "name": "stdout"
        }
      ]
    },
    {
      "cell_type": "markdown",
      "metadata": {
        "id": "02XQvfTm-Fyu"
      },
      "source": [
        "Total number of words in cleaned corpus: 36436399\n",
        "\n",
        "Number of unique words in cleaned corpus: 55984 55984"
      ]
    },
    {
      "cell_type": "code",
      "metadata": {
        "id": "5QlL8qYvC6Xx"
      },
      "source": [
        "# word_counts.most_common()[44187-10:]"
      ],
      "execution_count": null,
      "outputs": []
    },
    {
      "cell_type": "code",
      "metadata": {
        "id": "-sduHZ543LHh"
      },
      "source": [
        "# vocab_to_int, int_to_vocab = create_lookup_tables(words)"
      ],
      "execution_count": null,
      "outputs": []
    },
    {
      "cell_type": "code",
      "metadata": {
        "id": "u-ALO8Eb3QIj"
      },
      "source": [
        "# int_words = [vocab_to_int[word] for word in words]"
      ],
      "execution_count": null,
      "outputs": []
    },
    {
      "cell_type": "code",
      "metadata": {
        "id": "xfn57tWZ3S5Z",
        "outputId": "2a6b5a21-d4d1-49be-d854-5cbaa9a82970",
        "colab": {
          "base_uri": "https://localhost:8080/"
        }
      },
      "source": [
        "# print(words[:30])\n",
        "# print(int_words[:30])"
      ],
      "execution_count": null,
      "outputs": [
        {
          "output_type": "stream",
          "text": [
            "['big', 'expectations', 'love', 'english', 'tv', '<COMMA>', 'particular', 'investigative', 'detective', 'stuff', 'guy', 'really', 'boring', '<PERIOD>', 'not', 'appeal', '<PERIOD>', 'highly', 'recommend', 'series', '<PERIOD>', 'must', 'anyone', 'yearning', 'watch', 'grown', 'television', '<PERIOD>', 'complex', 'characters']\n",
            "[101, 1803, 20, 1865, 791, 1, 749, 19071, 4452, 169, 785, 16, 1481, 0, 2, 2068, 0, 198, 90, 318, 0, 226, 311, 8751, 409, 1978, 2657, 0, 1951, 577]\n"
          ],
          "name": "stdout"
        }
      ]
    },
    {
      "cell_type": "markdown",
      "metadata": {
        "id": "EGqGpHxG-Nkc"
      },
      "source": [
        "['big', 'expectations', 'love', 'english', 'tv', '<COMMA>', 'particular', 'investigative', 'detective', 'stuff', 'guy', 'really', 'boring', '<PERIOD>', 'not', 'appeal', '<PERIOD>', 'highly', 'recommend', 'series', '<PERIOD>', 'must', 'anyone', 'yearning', 'watch', 'grown', 'television', '<PERIOD>', 'complex', 'characters']\n",
        "\n",
        "[101, 1803, 20, 1865, 791, 1, 749, 19071, 4452, 169, 785, 16, 1481, 0, 2, 2068, 0, 198, 90, 318, 0, 226, 311, 8751, 409, 1978, 2657, 0, 1951, 577]"
      ]
    },
    {
      "cell_type": "markdown",
      "metadata": {
        "id": "AJkaqoCo_yvz"
      },
      "source": [
        "## create word_counts dictionary for all words"
      ]
    },
    {
      "cell_type": "code",
      "metadata": {
        "id": "hxNvtyW1LaWS",
        "outputId": "96698b08-6281-498d-c609-365a2a46268b",
        "colab": {
          "base_uri": "https://localhost:8080/"
        }
      },
      "source": [
        "%whos"
      ],
      "execution_count": null,
      "outputs": [
        {
          "output_type": "stream",
          "text": [
            "Variable          Type             Data/Info\n",
            "--------------------------------------------\n",
            "cleaned_text_ls   list             n=484826\n",
            "drive             module           <module 'google.colab.dri<...>s/google/colab/drive.py'>\n",
            "file              TextIOWrapper    <_io.TextIOWrapper name='<...>ode='r' encoding='UTF-8'>\n",
            "line              str              nice head lamp <EXCLAMATI<...>flashing modes <PERIOD>\\n\n",
            "root_path         str              /content/drive/My Drive/Colab/MSC_RD\n"
          ],
          "name": "stdout"
        }
      ]
    },
    {
      "cell_type": "code",
      "metadata": {
        "id": "6nS7YgGm_uye"
      },
      "source": [
        "words = []\n",
        "for row in cleaned_text_ls:\n",
        "  for i in row.split():\n",
        "    # print(i)\n",
        "    words.append(i)"
      ],
      "execution_count": null,
      "outputs": []
    },
    {
      "cell_type": "code",
      "metadata": {
        "id": "RyqmIZWL_4mP",
        "outputId": "2df42f3d-904f-486e-a5ef-71aa0ffa5aa6",
        "colab": {
          "base_uri": "https://localhost:8080/"
        }
      },
      "source": [
        "from collections import Counter \n",
        "\n",
        "print('Total number of words in cleaned corpus:', len(words))\n",
        "print('Number of unique words in cleaned corpus:', len(Counter(words)), len(Counter(words).most_common()))"
      ],
      "execution_count": null,
      "outputs": [
        {
          "output_type": "stream",
          "text": [
            "Total number of words in cleaned corpus: 36436399\n",
            "Number of unique words in cleaned corpus: 55984 55984\n"
          ],
          "name": "stdout"
        }
      ]
    },
    {
      "cell_type": "markdown",
      "metadata": {
        "id": "1IblzwWEJVbf"
      },
      "source": [
        "### For 6 classes data:\n",
        "\n",
        "Length of reviews: **199096**\n",
        "\n",
        "Total number of words in cleaned corpus: **18241862**\n",
        "\n",
        "Number of unique words in cleaned corpus: **44187** **44187**\n",
        "\n",
        "### **For 8 classes data (Current):**\n",
        "Length of reviews: **484826**\n",
        "\n",
        "Total number of words in cleaned corpus: **36436399**\n",
        "\n",
        "Number of unique words in cleaned corpus: **55984** **55984**\n",
        "\n",
        "### For 10 classes data:\n",
        "\n",
        "Length of reviews: **2360871**\n",
        "\n",
        "Total number of words in cleaned corpus: **145318404**\n",
        "\n",
        "Number of unique words in cleaned corpus: **110454 110454**"
      ]
    },
    {
      "cell_type": "code",
      "metadata": {
        "id": "-8RZoX4J_6sN"
      },
      "source": [
        "# Remove all words with  5 or fewer occurences\n",
        "from collections import Counter \n",
        "\n",
        "def create_lookup_tables(words):\n",
        "  word_counts = Counter(words)\n",
        "  # print(word_counts.most_common(10))\n",
        "  # print(word_counts.most_common())\n",
        "  ## sorting the words from most to least frequent in text occurrence, descending\n",
        "  sorted_vocab = sorted(word_counts, key=word_counts.get, reverse=True)\n",
        "  # print(len(sorted_vocab)) # 110454\n",
        "  ## create int_to_vocab dictionaries\n",
        "  int_to_vocab = {ii: word for ii, word in enumerate(sorted_vocab)}\n",
        "  vocab_to_int = {word: ii for ii, word in int_to_vocab.items()}\n",
        "\n",
        "  return vocab_to_int, int_to_vocab"
      ],
      "execution_count": null,
      "outputs": []
    },
    {
      "cell_type": "markdown",
      "metadata": {
        "id": "rjNtnQ9oUVVu"
      },
      "source": [
        "[('\\<PERIOD\\>', 1671352),\n",
        " ('\\<COMMA\\>', 1266882),\n",
        " ('not', 341506),\n",
        " ('album', 140815),\n",
        " ('one', 140781),\n",
        " ('like', 127551),\n",
        " ('so', 120402),\n",
        " ('\\<EXCLAMATION\\>', 95972),\n",
        " ('just', 95320),\n",
        " ('good', 89656)]\n",
        "\n",
        "12 Tokens for 6 classes data\n",
        "\n",
        "[('\\<PERIOD\\>', 1671352),\n",
        " ('\\<COMMA\\>', 1266882),\n",
        " ('\\<EXCLAMATION\\>', 95972),\n",
        " ('\\<QUESTION\\>', 38148),\n",
        " ('\\<PRICE\\>', 9371),\n",
        " ('\\<HUNDREDPERCENTAGE\\>', 1098),\n",
        " ('\\<NOTCONTRACT\\>', 638),\n",
        " ('\\<MENTION\\>', 197),\n",
        " ('\\<AMAZONURL\\>', 185),\n",
        " ('\\<URL\\>', 136),\n",
        " ('\\<UNK\\>', 54),\n",
        " ('\\<YOUTUBEURL\\>', 8)]\n",
        "\n",
        " **14 Tokens for 8 classes data (Current)**\n",
        "\n",
        " [('\\<PERIOD\\>', 3476956),\n",
        " ('\\<COMMA\\>', 2399259),\n",
        " ('\\<EXCLAMATION\\>', 211162),\n",
        " ('\\<QUESTION\\>', 64627),\n",
        " ('\\<PRICE\\>', 29257),\n",
        " ('\\<HUNDREDPERCENTAGE\\>', 4389),\n",
        " ('\\<NOTCONTRACT\\>', 986),\n",
        " ('\\<AMAZONURL\\>', 506),\n",
        " ('\\<MENTION\\>', 288),\n",
        " ('\\<URL\\>', 246),\n",
        " ('\\<UNK\\>', 138),\n",
        " ('\\<YOUTUBEURL\\>', 25),\n",
        " ('\\<GOOGLEURL\\>', 13),\n",
        " ('\\<STAR\\>', 9)]"
      ]
    },
    {
      "cell_type": "code",
      "metadata": {
        "id": "fJQlFJmsWMOr"
      },
      "source": [
        "vocab_to_int, int_to_vocab = create_lookup_tables(words)"
      ],
      "execution_count": null,
      "outputs": []
    },
    {
      "cell_type": "code",
      "metadata": {
        "id": "b7wHYvLIvbFS"
      },
      "source": [
        "int_words = [vocab_to_int[word] for word in words]"
      ],
      "execution_count": null,
      "outputs": []
    },
    {
      "cell_type": "code",
      "metadata": {
        "id": "5NdELOuHu5dP",
        "outputId": "6cb6fac6-19d9-4168-e735-18e5b55fcd1b",
        "colab": {
          "base_uri": "https://localhost:8080/"
        }
      },
      "source": [
        "print(words[:30])\n",
        "print(int_words[:30])"
      ],
      "execution_count": null,
      "outputs": [
        {
          "output_type": "stream",
          "text": [
            "['big', 'expectations', 'love', 'english', 'tv', '<COMMA>', 'particular', 'investigative', 'detective', 'stuff', 'guy', 'really', 'boring', '<PERIOD>', 'not', 'appeal', '<PERIOD>', 'highly', 'recommend', 'series', '<PERIOD>', 'must', 'anyone', 'yearning', 'watch', 'grown', 'television', '<PERIOD>', 'complex', 'characters']\n",
            "[101, 1803, 20, 1865, 791, 1, 749, 19071, 4452, 169, 785, 16, 1481, 0, 2, 2068, 0, 198, 90, 318, 0, 226, 311, 8751, 409, 1978, 2657, 0, 1951, 577]\n"
          ],
          "name": "stdout"
        }
      ]
    },
    {
      "cell_type": "code",
      "metadata": {
        "id": "a8z9tm_ZjhLi"
      },
      "source": [
        "import numpy as np"
      ],
      "execution_count": null,
      "outputs": []
    },
    {
      "cell_type": "code",
      "metadata": {
        "id": "Jn1mVLrdmXtw"
      },
      "source": [
        "int_words = []\n",
        "for row in cleaned_text_ls:\n",
        "  int_words.append([vocab_to_int[word] for word in row.split()])"
      ],
      "execution_count": null,
      "outputs": []
    },
    {
      "cell_type": "code",
      "metadata": {
        "id": "aclcAsvqS8BA",
        "outputId": "bccce4ef-a66d-4e64-c259-0f3dc4296411",
        "colab": {
          "base_uri": "https://localhost:8080/"
        }
      },
      "source": [
        "print(cleaned_text_ls[0])\n",
        "print(words[:30])\n",
        "print(int_words[0])"
      ],
      "execution_count": null,
      "outputs": [
        {
          "output_type": "stream",
          "text": [
            "big expectations love english tv <COMMA> particular investigative detective stuff guy really boring <PERIOD> not appeal <PERIOD>\n",
            "['big', 'expectations', 'love', 'english', 'tv', '<COMMA>', 'particular', 'investigative', 'detective', 'stuff', 'guy', 'really', 'boring', '<PERIOD>', 'not', 'appeal', '<PERIOD>', 'highly', 'recommend', 'series', '<PERIOD>', 'must', 'anyone', 'yearning', 'watch', 'grown', 'television', '<PERIOD>', 'complex', 'characters']\n",
            "[101, 1803, 20, 1865, 791, 1, 749, 19071, 4452, 169, 785, 16, 1481, 0, 2, 2068, 0]\n"
          ],
          "name": "stdout"
        }
      ]
    },
    {
      "cell_type": "markdown",
      "metadata": {
        "id": "f1Z_IiCiJIUL"
      },
      "source": [
        "## Batch of data"
      ]
    },
    {
      "cell_type": "code",
      "metadata": {
        "id": "5MfsSBPd5CyG",
        "outputId": "656031e7-c281-42b7-d708-340273665bcc",
        "colab": {
          "base_uri": "https://localhost:8080/"
        }
      },
      "source": [
        "%whos"
      ],
      "execution_count": null,
      "outputs": [
        {
          "output_type": "stream",
          "text": [
            "Variable               Type             Data/Info\n",
            "-------------------------------------------------\n",
            "Counter                type             <class 'collections.Counter'>\n",
            "cleaned_text_ls        list             n=484826\n",
            "create_lookup_tables   function         <function create_lookup_tables at 0x7ff193942950>\n",
            "drive                  module           <module 'google.colab.dri<...>s/google/colab/drive.py'>\n",
            "file                   TextIOWrapper    <_io.TextIOWrapper name='<...>ode='r' encoding='UTF-8'>\n",
            "i                      str              <PERIOD>\n",
            "int_to_vocab           dict             n=55984\n",
            "int_words              list             n=484826\n",
            "line                   str              nice head lamp <EXCLAMATI<...>flashing modes <PERIOD>\\n\n",
            "root_path              str              /content/drive/My Drive/Colab/MSC_RD\n",
            "row                    str              nice head lamp <EXCLAMATI<...>> flashing modes <PERIOD>\n",
            "vocab_to_int           dict             n=55984\n",
            "words                  list             n=36436399\n"
          ],
          "name": "stdout"
        }
      ]
    },
    {
      "cell_type": "code",
      "metadata": {
        "id": "TXbgRffpQYkZ"
      },
      "source": [
        "# cleaned_text_ls = [row.split() for row in cleaned_text_ls]"
      ],
      "execution_count": null,
      "outputs": []
    },
    {
      "cell_type": "code",
      "metadata": {
        "id": "GrVi-w8aRJ1u"
      },
      "source": [
        "# print(cleaned_text_ls[:5])"
      ],
      "execution_count": null,
      "outputs": []
    },
    {
      "cell_type": "code",
      "metadata": {
        "id": "IDPUYb2LKz1a"
      },
      "source": [
        "for i, row in enumerate(cleaned_text_ls):\n",
        "  cleaned_text_ls[i] = [word for word in row.split()]"
      ],
      "execution_count": null,
      "outputs": []
    },
    {
      "cell_type": "code",
      "metadata": {
        "id": "tEfnpg67LB1S",
        "outputId": "62f1d0e8-88c8-48b9-e231-57fa19ac6774",
        "colab": {
          "base_uri": "https://localhost:8080/"
        }
      },
      "source": [
        "print(cleaned_text_ls[:5])\n",
        "print(int_words[:5])"
      ],
      "execution_count": null,
      "outputs": [
        {
          "output_type": "stream",
          "text": [
            "[['big', 'expectations', 'love', 'english', 'tv', '<COMMA>', 'particular', 'investigative', 'detective', 'stuff', 'guy', 'really', 'boring', '<PERIOD>', 'not', 'appeal', '<PERIOD>'], ['highly', 'recommend', 'series', '<PERIOD>', 'must', 'anyone', 'yearning', 'watch', 'grown', 'television', '<PERIOD>', 'complex', 'characters', 'plots', 'keep', 'one', 'totally', 'involved', '<PERIOD>', 'thank', 'amazin', 'prime', '<PERIOD>'], ['one', 'real', 'snoozer', '<PERIOD>', 'not', 'believe', 'anything', 'read', 'hear', '<COMMA>', 'awful', '<PERIOD>', 'no', 'idea', 'title', 'means', '<PERIOD>', 'neither', '<PERIOD>'], ['mysteries', 'interesting', '<PERIOD>', 'tension', 'robson', 'tall', 'blond', 'good', 'not', 'always', 'believable', '<PERIOD>', 'often', 'seemed', 'uncomfortable', '<PERIOD>'], ['show', 'always', 'excellent', '<COMMA>', 'far', 'british', 'crime', 'mystery', 'one', 'best', 'ever', 'made', '<PERIOD>', 'stories', 'well', 'done', 'acting', 'top', 'notch', 'interesting', 'twists', 'realistic', 'brutal', 'storylines', '<PERIOD>', 'show', 'pulls', 'no', 'punches', 'enters', 'twisted', 'minds', 'criminals', 'profiler', 'psychiatrist', 'helps', 'northern', 'english', 'city', 'police', 'force', '<PERIOD>', 'show', 'looks', 'like', 'shot', 'manchester', 'called', 'another', 'name', 'show', '<PERIOD>', 'one', 'episode', 'not', 'disc', 'excellent', 'prayer', 'bone', 'seperate', 'disc', '<PERIOD>', 'still', 'crime', 'shows', 'not', 'get', 'much', 'better', 'one', 'either', 'side', 'ocean', '<PERIOD>', 'just', 'great', 'show', 'never', 'less', 'well', 'made', 'episode', '<PERIOD>', 'unfortunately', 'like', 'british', 'shows', 'get', 'five', 'shows', 'year', '<COMMA>', 'hour', 'half', 'shows', '<COMMA>', 'still', 'one', 'could', 'hope', 'least', 'year', '<PERIOD>', 'realism', 'depth', 'main', 'character', 'tony', 'hill', 'excellent', 'robson', 'green', 'well', 'worth', 'viewing', 'just', 'makes', 'role', 'truly', 'part', 'everyway', '<PERIOD>', 'bet', 'went', 'crime', 'scenes', 'even', 'real', 'life', 'research', 'role', '<PERIOD>', 'writers', 'must', 'applauded', 'way', 'average', 'stories', '<PERIOD>', 'let', 'us', 'hope', 'show', 'continues', 'many', 'years', 'come', '<PERIOD>']]\n",
            "[[101, 1803, 20, 1865, 791, 1, 749, 19071, 4452, 169, 785, 16, 1481, 0, 2, 2068, 0], [198, 90, 318, 0, 226, 311, 8751, 409, 1978, 2657, 0, 1951, 577, 4355, 85, 5, 883, 2300, 0, 1062, 34267, 1228, 0], [5, 151, 32079, 0, 2, 410, 164, 280, 432, 1, 1879, 0, 14, 415, 544, 508, 0, 1856, 0], [7315, 448, 0, 2702, 46542, 2226, 15474, 7, 2, 92, 4397, 0, 289, 613, 4064, 0], [114, 92, 165, 1, 100, 2423, 3123, 2677, 5, 31, 119, 42, 0, 1728, 13, 219, 1224, 113, 2093, 448, 2996, 3748, 6078, 7786, 0, 114, 3518, 14, 6204, 9170, 3995, 5865, 9584, 29760, 22031, 750, 6390, 1865, 1582, 2783, 1403, 0, 114, 272, 4, 1246, 20656, 657, 72, 446, 114, 0, 5, 673, 2, 590, 165, 5386, 2404, 8232, 590, 0, 37, 3123, 397, 2, 15, 18, 27, 5, 215, 128, 5037, 0, 8, 10, 114, 77, 103, 13, 42, 673, 0, 715, 4, 2423, 397, 15, 413, 397, 156, 1, 877, 237, 397, 1, 37, 5, 33, 457, 229, 156, 0, 11178, 1259, 623, 864, 4005, 3404, 165, 46542, 328, 13, 157, 3749, 8, 80, 2393, 567, 189, 28234, 0, 2682, 340, 3123, 2243, 22, 151, 166, 1890, 2393, 0, 2435, 226, 26604, 38, 786, 1728, 0, 185, 154, 457, 114, 1773, 54, 66, 107, 0]]\n"
          ],
          "name": "stdout"
        }
      ]
    },
    {
      "cell_type": "code",
      "metadata": {
        "id": "RHmvBD6B6-US",
        "outputId": "3752be8c-f00a-49a9-cf25-dc89f3a9a7d8",
        "colab": {
          "base_uri": "https://localhost:8080/"
        }
      },
      "source": [
        "print(cleaned_text_ls[0])\n",
        "print(int_words[0])"
      ],
      "execution_count": null,
      "outputs": [
        {
          "output_type": "stream",
          "text": [
            "['big', 'expectations', 'love', 'english', 'tv', '<COMMA>', 'particular', 'investigative', 'detective', 'stuff', 'guy', 'really', 'boring', '<PERIOD>', 'not', 'appeal', '<PERIOD>']\n",
            "[101, 1803, 20, 1865, 791, 1, 749, 19071, 4452, 169, 785, 16, 1481, 0, 2, 2068, 0]\n"
          ],
          "name": "stdout"
        }
      ]
    },
    {
      "cell_type": "code",
      "metadata": {
        "id": "tNt0QIJQB56k",
        "outputId": "edc091d9-a1e7-4b49-fa82-38a0c8ab0bc7",
        "colab": {
          "base_uri": "https://localhost:8080/"
        }
      },
      "source": [
        "%whos"
      ],
      "execution_count": null,
      "outputs": [
        {
          "output_type": "stream",
          "text": [
            "Variable               Type             Data/Info\n",
            "-------------------------------------------------\n",
            "Counter                type             <class 'collections.Counter'>\n",
            "cleaned_text_ls        list             n=484826\n",
            "create_lookup_tables   function         <function create_lookup_tables at 0x7ff193942950>\n",
            "drive                  module           <module 'google.colab.dri<...>s/google/colab/drive.py'>\n",
            "file                   TextIOWrapper    <_io.TextIOWrapper name='<...>ode='r' encoding='UTF-8'>\n",
            "i                      int              484825\n",
            "int_to_vocab           dict             n=55984\n",
            "int_words              list             n=484826\n",
            "line                   str              nice head lamp <EXCLAMATI<...>flashing modes <PERIOD>\\n\n",
            "root_path              str              /content/drive/My Drive/Colab/MSC_RD\n",
            "row                    str              nice head lamp <EXCLAMATI<...>> flashing modes <PERIOD>\n",
            "vocab_to_int           dict             n=55984\n",
            "words                  list             n=36436399\n"
          ],
          "name": "stdout"
        }
      ]
    }
  ]
}