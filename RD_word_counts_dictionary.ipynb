{
  "nbformat": 4,
  "nbformat_minor": 0,
  "metadata": {
    "colab": {
      "name": "RD_Embedding.ipynb",
      "provenance": [],
      "collapsed_sections": [],
      "toc_visible": true,
      "authorship_tag": "ABX9TyMxZkliVUdHSTzjgAlOTjkT",
      "include_colab_link": true
    },
    "kernelspec": {
      "name": "python3",
      "display_name": "Python 3"
    }
  },
  "cells": [
    {
      "cell_type": "markdown",
      "metadata": {
        "id": "view-in-github",
        "colab_type": "text"
      },
      "source": [
        "<a href=\"https://colab.research.google.com/github/mayujie/MSC_text_mining/blob/master/RD_Embedding.ipynb\" target=\"_parent\"><img src=\"https://colab.research.google.com/assets/colab-badge.svg\" alt=\"Open In Colab\"/></a>"
      ]
    },
    {
      "cell_type": "markdown",
      "metadata": {
        "id": "ud8lapzrrDn2"
      },
      "source": [
        "# [Amazon product data](http://jmcauley.ucsd.edu/data/amazon/index_2014.html)\n",
        "# [Amazon product data Julian McAuley, UCSD](http://jmcauley.ucsd.edu/data/amazon/)\n",
        "Files\n",
        "\n",
        "\"Small\" subsets for experimentation\n"
      ]
    },
    {
      "cell_type": "code",
      "metadata": {
        "id": "WAvkno2sq6Kp",
        "outputId": "d15d1c6c-f044-4611-b73f-0b5b39fcff90",
        "colab": {
          "base_uri": "https://localhost:8080/"
        }
      },
      "source": [
        "from google.colab import drive\n",
        "drive.mount('/content/drive/')"
      ],
      "execution_count": 1,
      "outputs": [
        {
          "output_type": "stream",
          "text": [
            "Mounted at /content/drive/\n"
          ],
          "name": "stdout"
        }
      ]
    },
    {
      "cell_type": "code",
      "metadata": {
        "id": "nmzIno3HrGLf",
        "outputId": "8fa3a7ef-a10f-49a7-e14d-456870b40671",
        "colab": {
          "base_uri": "https://localhost:8080/",
          "height": 35
        }
      },
      "source": [
        "root_path = '/content/drive/My Drive/Colab/MSC_RD'\n",
        "root_path"
      ],
      "execution_count": 2,
      "outputs": [
        {
          "output_type": "execute_result",
          "data": {
            "application/vnd.google.colaboratory.intrinsic+json": {
              "type": "string"
            },
            "text/plain": [
              "'/content/drive/My Drive/Colab/MSC_RD'"
            ]
          },
          "metadata": {
            "tags": []
          },
          "execution_count": 2
        }
      ]
    },
    {
      "cell_type": "markdown",
      "metadata": {
        "id": "P0SJ5HGJrTOa"
      },
      "source": [
        "## **Read from cleaned text file**"
      ]
    },
    {
      "cell_type": "code",
      "metadata": {
        "id": "jFA-MrxU9-yD",
        "outputId": "3b7d85a3-6526-40ae-a5b1-13a323065beb",
        "colab": {
          "base_uri": "https://localhost:8080/"
        }
      },
      "source": [
        "### download text data\n",
        "!gdown https://drive.google.com/uc?id=1PtUMY6KuShzR2lk_85VbNizGT_wciBNl"
      ],
      "execution_count": 3,
      "outputs": [
        {
          "output_type": "stream",
          "text": [
            "Downloading...\n",
            "From: https://drive.google.com/uc?id=1PtUMY6KuShzR2lk_85VbNizGT_wciBNl\n",
            "To: /content/reviews_text.zip\n",
            "468MB [00:05, 87.6MB/s]\n"
          ],
          "name": "stdout"
        }
      ]
    },
    {
      "cell_type": "code",
      "metadata": {
        "id": "WM3nMOC--TqM",
        "outputId": "1a5e59b7-8e4c-48e1-8b1d-d676aedb3132",
        "colab": {
          "base_uri": "https://localhost:8080/"
        }
      },
      "source": [
        "!unzip reviews_text.zip"
      ],
      "execution_count": 4,
      "outputs": [
        {
          "output_type": "stream",
          "text": [
            "Archive:  reviews_text.zip\n",
            "  inflating: reviews_text.txt        \n"
          ],
          "name": "stdout"
        }
      ]
    },
    {
      "cell_type": "code",
      "metadata": {
        "id": "1ZHre5P7-VZq"
      },
      "source": [
        "!rm /content/reviews_text.zip"
      ],
      "execution_count": 5,
      "outputs": []
    },
    {
      "cell_type": "code",
      "metadata": {
        "id": "h9lViIYU-LV1"
      },
      "source": [
        "handle_list = []\n",
        "with open('/content/reviews_text.txt', 'r') as file:\n",
        "  for line in file:\n",
        "    handle_list.append(line)"
      ],
      "execution_count": 6,
      "outputs": []
    },
    {
      "cell_type": "code",
      "metadata": {
        "id": "KCx2Ul7q-MSl",
        "outputId": "582b12d3-1de0-442d-a6c4-7626e783aaa3",
        "colab": {
          "base_uri": "https://localhost:8080/"
        }
      },
      "source": [
        "text_ls = map(lambda s: s.strip(), handle_list)\n",
        "text_ls = list(text_ls)\n",
        "text_ls[:5]"
      ],
      "execution_count": 7,
      "outputs": [
        {
          "output_type": "execute_result",
          "data": {
            "text/plain": [
              "[\"I had big expectations because I love English TV, in particular Investigative and detective stuff but this guy is really boring. It didn't appeal to me at all.\",\n",
              " 'I highly recommend this series. It is a must for anyone who is yearning to watch \"grown up\" television. Complex characters and plots to keep one totally involved. Thank you Amazin Prime.',\n",
              " \"This one is a real snoozer. Don't believe anything you read or hear, it's awful. I had no idea what the title means. Neither will you.\",\n",
              " 'Mysteries are interesting.  The tension between Robson and the tall blond is good but not always believable.  She often seemed uncomfortable.',\n",
              " 'This show always is excellent, as far as british crime or mystery showsgoes this is one of the best ever made.  The stories are well done and the acting is top notch with interesting twists in the realistic and brutal storylines.  This show pulls no punches as it enters into the twisted minds of criminals and the profiler psychiatrist who helps out in a northern english city police force. The show looks like it is shot in Manchester but it is called by another name in the show.  One episode is not on this disc the excellent \\'prayer of the bone\" which is on a seperate disc.  Still crime shows don\\'t get much better than this one on either side of the ocean.  It\\'s just a great show that never has had a less than well made episode. Unfortunately like all British shows you only get about five shows a year ,  but these are an hour and a half shows , still one could hope for at least 8 of these a year.  The realism and depth of the main character Tony Hill as protrayed by the excellent Robson Green is well worth viewing because he just makes this role truly part of himself in everyway.  I bet he went to crime scenes even in real life to research his role.  But the writers too must be applauded for their way above average stories.  Lets hope this show continues on for many years to come.']"
            ]
          },
          "metadata": {
            "tags": []
          },
          "execution_count": 7
        }
      ]
    },
    {
      "cell_type": "code",
      "metadata": {
        "id": "g-uZcnjVrKT7",
        "outputId": "79f74fed-f497-4bd5-8bcc-38a7aea97c72",
        "colab": {
          "base_uri": "https://localhost:8080/"
        }
      },
      "source": [
        "### download cleaned text data\n",
        "!gdown https://drive.google.com/uc?id=1Kb8ApeUYUDMOO39utV-dQ00PZ0s8yOAb "
      ],
      "execution_count": 8,
      "outputs": [
        {
          "output_type": "stream",
          "text": [
            "Downloading...\n",
            "From: https://drive.google.com/uc?id=1Kb8ApeUYUDMOO39utV-dQ00PZ0s8yOAb\n",
            "To: /content/cleaned_reviews_text.zip\n",
            "310MB [00:05, 60.9MB/s]\n"
          ],
          "name": "stdout"
        }
      ]
    },
    {
      "cell_type": "code",
      "metadata": {
        "id": "p8s86Ve3rV56",
        "outputId": "f69059e2-3ee4-4210-8df7-875c7d827e91",
        "colab": {
          "base_uri": "https://localhost:8080/"
        }
      },
      "source": [
        "!unzip cleaned_reviews_text.zip"
      ],
      "execution_count": 9,
      "outputs": [
        {
          "output_type": "stream",
          "text": [
            "Archive:  cleaned_reviews_text.zip\n",
            "  inflating: cleaned_reviews_text.txt  \n"
          ],
          "name": "stdout"
        }
      ]
    },
    {
      "cell_type": "code",
      "metadata": {
        "id": "n2x8l3FDriHM"
      },
      "source": [
        "!rm /content/cleaned_reviews_text.zip"
      ],
      "execution_count": 10,
      "outputs": []
    },
    {
      "cell_type": "code",
      "metadata": {
        "id": "llO11sB7roHz",
        "outputId": "160913ec-e401-4b8a-e6d8-ab7886fc582b",
        "colab": {
          "base_uri": "https://localhost:8080/"
        }
      },
      "source": [
        "!ls -lh *.txt"
      ],
      "execution_count": 11,
      "outputs": [
        {
          "output_type": "stream",
          "text": [
            "-rw-r--r-- 1 root root 969M Nov  3 00:18 cleaned_reviews_text.txt\n",
            "-rw-r--r-- 1 root root 1.2G Oct  5 22:35 reviews_text.txt\n"
          ],
          "name": "stdout"
        }
      ]
    },
    {
      "cell_type": "code",
      "metadata": {
        "id": "aDSgqIL2rrXY"
      },
      "source": [
        "handle_list = []\n",
        "with open('/content/cleaned_reviews_text.txt', 'r') as file:\n",
        "  for line in file:\n",
        "    handle_list.append(line)"
      ],
      "execution_count": 12,
      "outputs": []
    },
    {
      "cell_type": "code",
      "metadata": {
        "id": "E_M3Wmwzr2Dz",
        "outputId": "3c60678b-e372-4390-f662-f0a87580ab62",
        "colab": {
          "base_uri": "https://localhost:8080/",
          "height": 53
        }
      },
      "source": [
        "print(len(handle_list))\n",
        "handle_list[1]"
      ],
      "execution_count": 13,
      "outputs": [
        {
          "output_type": "stream",
          "text": [
            "2360871\n"
          ],
          "name": "stdout"
        },
        {
          "output_type": "execute_result",
          "data": {
            "application/vnd.google.colaboratory.intrinsic+json": {
              "type": "string"
            },
            "text/plain": [
              "'highly recommend series <PERIOD> must anyone yearning watch grown television <PERIOD> complex characters plots keep one totally involved <PERIOD> thank amazin prime <PERIOD>\\n'"
            ]
          },
          "metadata": {
            "tags": []
          },
          "execution_count": 13
        }
      ]
    },
    {
      "cell_type": "markdown",
      "metadata": {
        "id": "3jLCSNs6sL12"
      },
      "source": [
        "## remove newline '\\n' from each row"
      ]
    },
    {
      "cell_type": "code",
      "metadata": {
        "id": "upkxGUq6r35r",
        "outputId": "9d938853-ebd7-46f5-bb2a-07a87e5d5a34",
        "colab": {
          "base_uri": "https://localhost:8080/"
        }
      },
      "source": [
        "cleaned_text_ls = map(lambda s: s.strip(), handle_list)\n",
        "cleaned_text_ls = list(cleaned_text_ls)\n",
        "cleaned_text_ls[:5]"
      ],
      "execution_count": 14,
      "outputs": [
        {
          "output_type": "execute_result",
          "data": {
            "text/plain": [
              "['big expectations love english tv <COMMA> particular investigative detective stuff guy really boring <PERIOD> not appeal <PERIOD>',\n",
              " 'highly recommend series <PERIOD> must anyone yearning watch grown television <PERIOD> complex characters plots keep one totally involved <PERIOD> thank amazin prime <PERIOD>',\n",
              " 'one real snoozer <PERIOD> not believe anything read hear <COMMA> awful <PERIOD> no idea title means <PERIOD> neither <PERIOD>',\n",
              " 'mysteries interesting <PERIOD> tension robson tall blond good not always believable <PERIOD> often seemed uncomfortable <PERIOD>',\n",
              " 'show always excellent <COMMA> far british crime mystery showsgoes one best ever made <PERIOD> stories well done acting top notch interesting twists realistic brutal storylines <PERIOD> show pulls no punches enters twisted minds criminals profiler psychiatrist helps northern english city police force <PERIOD> show looks like shot manchester called another name show <PERIOD> one episode not disc excellent prayer bone seperate disc <PERIOD> still crime shows not get much better one either side ocean <PERIOD> just great show never less well made episode <PERIOD> unfortunately like british shows get five shows year <COMMA> hour half shows <COMMA> still one could hope least year <PERIOD> realism depth main character tony hill protrayed excellent robson green well worth viewing just makes role truly part everyway <PERIOD> bet went crime scenes even real life research role <PERIOD> writers must applauded way average stories <PERIOD> let us hope show continues many years come <PERIOD>']"
            ]
          },
          "metadata": {
            "tags": []
          },
          "execution_count": 14
        }
      ]
    },
    {
      "cell_type": "code",
      "metadata": {
        "id": "6dIwOqVwsRPg",
        "outputId": "85783811-03e4-443c-8d8d-0bea15b6974f",
        "colab": {
          "base_uri": "https://localhost:8080/",
          "height": 419
        }
      },
      "source": [
        "## read data into dataframe\n",
        "import pandas as pd\n",
        "df_review = pd.DataFrame(cleaned_text_ls) \n",
        "df_review"
      ],
      "execution_count": 15,
      "outputs": [
        {
          "output_type": "execute_result",
          "data": {
            "text/html": [
              "<div>\n",
              "<style scoped>\n",
              "    .dataframe tbody tr th:only-of-type {\n",
              "        vertical-align: middle;\n",
              "    }\n",
              "\n",
              "    .dataframe tbody tr th {\n",
              "        vertical-align: top;\n",
              "    }\n",
              "\n",
              "    .dataframe thead th {\n",
              "        text-align: right;\n",
              "    }\n",
              "</style>\n",
              "<table border=\"1\" class=\"dataframe\">\n",
              "  <thead>\n",
              "    <tr style=\"text-align: right;\">\n",
              "      <th></th>\n",
              "      <th>0</th>\n",
              "    </tr>\n",
              "  </thead>\n",
              "  <tbody>\n",
              "    <tr>\n",
              "      <th>0</th>\n",
              "      <td>big expectations love english tv &lt;COMMA&gt; parti...</td>\n",
              "    </tr>\n",
              "    <tr>\n",
              "      <th>1</th>\n",
              "      <td>highly recommend series &lt;PERIOD&gt; must anyone y...</td>\n",
              "    </tr>\n",
              "    <tr>\n",
              "      <th>2</th>\n",
              "      <td>one real snoozer &lt;PERIOD&gt; not believe anything...</td>\n",
              "    </tr>\n",
              "    <tr>\n",
              "      <th>3</th>\n",
              "      <td>mysteries interesting &lt;PERIOD&gt; tension robson ...</td>\n",
              "    </tr>\n",
              "    <tr>\n",
              "      <th>4</th>\n",
              "      <td>show always excellent &lt;COMMA&gt; far british crim...</td>\n",
              "    </tr>\n",
              "    <tr>\n",
              "      <th>...</th>\n",
              "      <td>...</td>\n",
              "    </tr>\n",
              "    <tr>\n",
              "      <th>2360866</th>\n",
              "      <td>funny people rating sellers ripping supposedly...</td>\n",
              "    </tr>\n",
              "    <tr>\n",
              "      <th>2360867</th>\n",
              "      <td>deluxe gb wii mario kart &lt;PERIOD&gt; get separate...</td>\n",
              "    </tr>\n",
              "    <tr>\n",
              "      <th>2360868</th>\n",
              "      <td>package red show steering wheel &lt;PERIOD&gt; retai...</td>\n",
              "    </tr>\n",
              "    <tr>\n",
              "      <th>2360869</th>\n",
              "      <td>get newegg &lt;PRICE&gt; packaging alittle &lt;PERIOD&gt; ...</td>\n",
              "    </tr>\n",
              "    <tr>\n",
              "      <th>2360870</th>\n",
              "      <td>not real &lt;COMMA&gt; go retail store just &lt;COMMA&gt; ...</td>\n",
              "    </tr>\n",
              "  </tbody>\n",
              "</table>\n",
              "<p>2360871 rows × 1 columns</p>\n",
              "</div>"
            ],
            "text/plain": [
              "                                                         0\n",
              "0        big expectations love english tv <COMMA> parti...\n",
              "1        highly recommend series <PERIOD> must anyone y...\n",
              "2        one real snoozer <PERIOD> not believe anything...\n",
              "3        mysteries interesting <PERIOD> tension robson ...\n",
              "4        show always excellent <COMMA> far british crim...\n",
              "...                                                    ...\n",
              "2360866  funny people rating sellers ripping supposedly...\n",
              "2360867  deluxe gb wii mario kart <PERIOD> get separate...\n",
              "2360868  package red show steering wheel <PERIOD> retai...\n",
              "2360869  get newegg <PRICE> packaging alittle <PERIOD> ...\n",
              "2360870  not real <COMMA> go retail store just <COMMA> ...\n",
              "\n",
              "[2360871 rows x 1 columns]"
            ]
          },
          "metadata": {
            "tags": []
          },
          "execution_count": 15
        }
      ]
    },
    {
      "cell_type": "code",
      "metadata": {
        "id": "7j1ab3lHsVfu"
      },
      "source": [
        "del handle_list"
      ],
      "execution_count": 16,
      "outputs": []
    },
    {
      "cell_type": "code",
      "metadata": {
        "id": "WM8Qtdnw-qEi",
        "outputId": "dc146f1a-c8ef-4253-c305-662397034554",
        "colab": {
          "base_uri": "https://localhost:8080/",
          "height": 503
        }
      },
      "source": [
        "text_ls[2360363]"
      ],
      "execution_count": 18,
      "outputs": [
        {
          "output_type": "execute_result",
          "data": {
            "application/vnd.google.colaboratory.intrinsic+json": {
              "type": "string"
            },
            "text/plain": [
              "'The negative review from Game Informer almost kept me from buying this game, but I\\'m glad that I decided to buy it anyway.  I\\'ll go over each of the core aspects of the game and give you what I liked and what I didn\\'t.==============================Combat (4/5)Has a very God of War like feel to it. In fact, much of the game does. If you feel that a God of War style presentation or combat system strays too far from Castlevania\\'s roots then you may not like it, but if you enjoyed the combat in God of War you\\'ll like it here as well.You have 3 main melee weapons. The Shadow Whip is the weapon you\\'ll use most often and it has the best range. The Void Sword has a shorter range but replenishes health when you strike enemies with it. The Chaos Claws deal the most damage but have short range, and are the only weapons that can deal damage to some shielded foes.Each weapon has it\\'s own skill tree. There are skill trees that you can progress in as you gain experience points. You can also \"master\" certain skills by using them more. Once mastered, they become more effective in combat. This encourages you to use combos and skills that you may not have otherwise used as often, so that you can master them as well.You also have access to projectiles like daggers, which do different things depending on which melee weapon you have equipped, you can send a swarm of bats to distract enemies for the stealth sections, and several relics exist that can be used as limited items such as the classic hourglass that slows enemies\\' movement, a bird that can reveal secret locations, a health replenishing flask, and others.The camera can be a bit of an annoyance at times as it tends to leave some enemies off-screen and you may not realize that they\\'re about to attack, which leaves you vulnerable.My only other complaint is that it\\'s sometimes difficult to perform a lengthy combo as most enemies don\\'t get \"stun locked\" by your attacks and can then break your combo by hitting you, even while you\\'re hitting them.===============================Story (4/5)The game is almost too story heavy at first, forcing you to sit through quite a few narrated scenes. They\\'re important, however, as the Belmont lineage and their place in the story needs to be examined. An artful presentation at least makes these scenes interesting to look at while they fill you in on back story.Ultimately the story is pretty interesting especially if you\\'ve followed along with Lords of Shadow and the Mirror of Fate.===================================Graphics (3/5)Not a bad looking game, but not top of the line either. Some of the meshes have some pretty jagged edges, particularly when at a distance, even with settings maxed. Some of the shadows/light during cut scenes can appear unrealistic and distracting when the jagged edged shadows tend to spill over the curvature of the characters\\' faces, etc. This is not uncommon in gaming at the moment however.This game is heavy on blood (as can be expected), but in some moments when blood is shooting up or exploding out, it doesn\\'t look very fluid. Again, not an easy thing to model and animate, but still needs to be pointed out.===========================Other gameplay (3/5)Much criticism has been leveled at the game\\'s stealth sections, although I didn\\'t find them to be overly unpleasant. Changing into rat form to explore air vents or tunnels is actually fairly fun. My biggest complaint about the stealth sections is that you\\'re not allowed to engage in combat, which is where the game shines. It almost seems arbitrarily thrown in, as if the developers wanted another aspect to the gameplay besides combat and exploration.Much worse than the stealth sections are the platforming sections. Swinging on chandeliers is a series staple, but in this game it feels clunky and bothersome. Climbing feels fairly natural though and can be compared to games like Uncharted or God of War.The game does allow for that Metroidvania style exploration however. Although most of the environments are not truly open world, they are large enough to allow for exploration and finding secrets. Many of the secret areas cannot be accessed until you have the appropriate skill or item, much like other Castlevania games, Metroid games or Zelda games.==================================Art/Presentation (4/5)I applaud the designers for thinking outside the box and bringing the series into the modern era, but that\\'s my biggest complaint about the setting. Although much of the game is in modern times, you\\'ll still find yourself in gothic environments with old dilapidated castles, cathedrals and buildings, which keeps it from being too futuristic. I think we can all agree that Dracula fighting enemies in Times Square would be a huge mistake, and the developers avoided that pitfall. Still, seeing an electronic billboard or steel doors that can only be opened by a retina scanner just don\\'t feel like they belong.Make no mistake though, there is plenty of dark imagery, horrific and grotesque monsters, and dim hallways with flickering candlelight.=========================Audio (5/5)The soundtrack is fantastic. The sound effects feel right at home. If I had one complaint it\\'s that some of the characters\\' voice actors aren\\'t quite up to par, but most of the major characters do a good job, especially Patrick Stewart who voices Zobek.============================In conclusion, this is a very enjoyable game that brings the Lords of Shadow series to a close in style. The stealth and platforming sections keep it from being a true masterpiece, but they\\'re not so frequent as to ruin the rest of the great things this game has to offer. Buy with confidence and enjoy!'"
            ]
          },
          "metadata": {
            "tags": []
          },
          "execution_count": 18
        }
      ]
    },
    {
      "cell_type": "code",
      "metadata": {
        "id": "lx2DtR3-r5Na",
        "outputId": "a4e1dc03-5cb6-45c0-e789-48204c620af9",
        "colab": {
          "base_uri": "https://localhost:8080/",
          "height": 395
        }
      },
      "source": [
        "cleaned_text_ls[2360363]"
      ],
      "execution_count": 19,
      "outputs": [
        {
          "output_type": "execute_result",
          "data": {
            "application/vnd.google.colaboratory.intrinsic+json": {
              "type": "string"
            },
            "text/plain": [
              "'negative review game informer almost kept buying game <COMMA> glad decided buy anyway <PERIOD> go core aspects game give liked not <PERIOD> combat god war like feel <PERIOD> fact <COMMA> much game <PERIOD> feel god war style presentation combat system strays far castlevania roots may not like <COMMA> enjoyed combat god war like well <PERIOD> main melee weapons <PERIOD> shadow whip weapon use often best range <PERIOD> void sword shorter range replenishes health strike enemies <PERIOD> chaos claws deal damage short range <COMMA> weapons deal damage shielded foes <PERIOD> weapon skill tree <PERIOD> skill trees progress gain experience points <PERIOD> also master certain skills using <PERIOD> mastered <COMMA> become effective combat <PERIOD> encourages use combos skills may not otherwise used often <COMMA> so master well <PERIOD> also access projectiles like daggers <COMMA> different things depending melee weapon equipped <COMMA> send swarm bats distract enemies stealth sections <COMMA> several relics exist used limited items classic hourglass slows enemies movement <COMMA> bird reveal secret locations <COMMA> health replenishing flask <COMMA> others <PERIOD> camera bit annoyance times tends leave enemies screen may not realize attack <COMMA> leaves vulnerable <PERIOD> complaint sometimes difficult perform lengthy combo enemies not get stun locked attacks break combo hitting <COMMA> even hitting <PERIOD> story game almost story heavy first <COMMA> forcing sit quite narrated scenes <PERIOD> important <COMMA> however <COMMA> belmont lineage place story needs examined <PERIOD> artful presentation least makes scenes interesting look fill back story <PERIOD> ultimately story pretty interesting especially followed along lords shadow mirror fate <PERIOD> graphics not bad looking game <COMMA> not top line either <PERIOD> meshes pretty jagged edges <COMMA> particularly distance <COMMA> even settings maxed <PERIOD> shadows light cut scenes appear unrealistic distracting jagged edged shadows tend spill curvature characters faces <COMMA> etc <PERIOD> not uncommon gaming moment however <PERIOD> game heavy blood expected <COMMA> moments blood shooting exploding <COMMA> not look fluid <PERIOD> <COMMA> not easy thing model animate <COMMA> still needs pointed <PERIOD> gameplay much criticism leveled game stealth sections <COMMA> although not find overly unpleasant <PERIOD> changing rat form explore air vents tunnels actually fairly fun <PERIOD> biggest complaint stealth sections not allowed engage combat <COMMA> game shines <PERIOD> almost seems arbitrarily thrown <COMMA> developers wanted another aspect gameplay besides combat exploration <PERIOD> much worse stealth sections platforming sections <PERIOD> swinging chandeliers series staple <COMMA> game feels clunky bothersome <PERIOD> climbing feels fairly natural though compared games like uncharted god war <PERIOD> game allow metroidvania style exploration however <PERIOD> although environments not truly open world <COMMA> large enough allow exploration finding secrets <PERIOD> many secret areas cannot accessed appropriate skill item <COMMA> much like castlevania games <COMMA> metroid games zelda games <PERIOD> art presentation applaud designers thinking outside box bringing series modern era <COMMA> biggest complaint setting <PERIOD> although much game modern times <COMMA> still find gothic environments old dilapidated castles <COMMA> cathedrals buildings <COMMA> keeps futuristic <PERIOD> think agree dracula fighting enemies times square would huge mistake <COMMA> developers avoided pitfall <PERIOD> still <COMMA> seeing electronic billboard steel doors opened retina scanner just not feel like belong <PERIOD> make no mistake though <COMMA> plenty dark imagery <COMMA> horrific grotesque monsters <COMMA> dim hallways flickering candlelight <PERIOD> audio soundtrack fantastic <PERIOD> sound effects feel right home <PERIOD> one complaint characters voice actors not quite par <COMMA> major characters good job <COMMA> especially patrick stewart voices zobek <PERIOD> conclusion <COMMA> enjoyable game brings lords shadow series close style <PERIOD> stealth platforming sections keep true masterpiece <COMMA> not so frequent ruin rest great things game offer <PERIOD> buy confidence enjoy <EXCLAMATION>'"
            ]
          },
          "metadata": {
            "tags": []
          },
          "execution_count": 19
        }
      ]
    },
    {
      "cell_type": "code",
      "metadata": {
        "id": "KWusQuy2-txv",
        "outputId": "2d60212c-329a-45b8-e92b-8cb8035aa3cf",
        "colab": {
          "base_uri": "https://localhost:8080/",
          "height": 107
        }
      },
      "source": [
        "text_ls[9568]"
      ],
      "execution_count": 20,
      "outputs": [
        {
          "output_type": "execute_result",
          "data": {
            "application/vnd.google.colaboratory.intrinsic+json": {
              "type": "string"
            },
            "text/plain": [
              "'A man phones a lawyer and asks, \"How much would you charge for just answering three simple questions?\"The lawyer replies, \"A thousand dollars.\"\"A thousand dollars!\" exclaims the man. \"That\\'s very expensive isn\\'t it?\"\"It certainly is,\" says the lawyer. \"Now, what\\'s your third question?\"Or this one...Q: What do you have if three lawyers are buried up to their necks in cement?A: Not enough cement.The USA network keeps on not effing up. Far as I\\'m concerned, SUITS is the newest addictive show on television, and that\\'s me not normally drawn to legal dramas. It\\'s witty and funny and smart and loaded with that patented easy-breezy sense of fun that the USA network nowadays specializes in. The premise is irresistible, the cast is irrepressible. The two leads, Gabriel Macht and Patrick J. Adams, are so very good. I can\\'t not rave.SUITS chronicles the exploits of the prestigious New York corporate law firm Pearson Hardman. More pointedly, the catchy premise revolves around sleek newly-made senior partner Harvey Specter (Macht) who dips into shady shenanigans when he takes under his wing a college dropout who was running away from the law when he happened to stumble across Harvey\\'s office just when Harvey was in the middle of interviewing first year associates. Turns out, there\\'s more to Mike Ross (Adams) than just being a slacker and a weed merchant. Mike boasts an eidetic memory. He reads something, he understands it. Once he understands it, he never forgets it. It\\'s a neat party trick. It intrigues Harvey enough, impresses him enough, that he decides to gamble on Mike. And since Pearson Hardman only ever hires from a pool of Harvard law graduates, then begins the big fib of Mike Ross, Harvey\\'s new associate and recent Harvard alumni.Mike Ross is a resourceful, idealistic cat (that whole weed thing was a one-time mistake). He makes for a terrific point-of-view character. As he navigates his way around his new environment, as he learns, we learn. Will Mike sink or swim in these shark-infested waters? That\\'s part of the fun. In just about each episode, Mike is thrown a curve, is put in a situation in which he could get exposed. Sometimes, his quick thinking and his immaculate sense of recall get him out of predicament. Sometimes, Harvey, cool as the other side of the pillow, steps in. How long can these two keep up the charade? The show dares you to step away.Macht, gleam all wicked in his eye and so much hair gel the headrest of his Barcalounger is afraid, embodies Harvey Specter with supreme swagger, cocky and ruthless and unruffled. Once in a blue moon he exhibits his (begrudgingly) compassionate side. Harvey is touted as the firm\\'s go-to closer, its most heralded gunslinger. In his competitive field, it\\'s no surprise that his colleagues are resentful. And maybe none more envious than the always scheming junior partner Louis Litt (that fabulous gopher Rick Hoffman). Hoffman is great as the perennial burr in the saddle. He quickly makes Mike\\'s time in the firm a partly sucky one. Mike becomes the human rope in Harvey and Louis\\' ongoing game of tug-of-war.Q: What do you throw to a drowning lawyer?A: His partners.Let me fragment sentence you: Predatory boardroom sharks, cooly preening and posturing and bedeviling clients with silver tongues, and yet graced with just enough of that bump of conscience to humanize them. I found myself suckered into that simmer between Mike and sexy, five-year paralegal Rachel (Meghan Markle). I relish the hell out of Sarah Rafferty who plays Harvey\\'s sassy secretary Donna, and we note Donna\\'s understated pining for her boss. In fact, the interactions among the cast members are absorbing all around. Gina Torres as the firm\\'s steely managing (and founding) partner is the icing on the cake. The cases handled by Harvey and Mike are watchable enough, and the legalese thrown at us is made decipherable enough. For those trying to become better people, morals and ethics are explored intelligently. Each time I side with Mike\\'s naive nice guy perspective, Harvey extends a counter-argument which sheds a new light on the matter. My favorite moments are those in which Harvey sarcastically mentors Mike (with Mike frequently giving as good as he gets) and those moments in which Mike scrambles to maintain his Harvard cover. And I don\\'t mind at all any scene in which the weasely Louis Litt gets what\\'s coming to him. And let me reiterate: SUITS is FUNNY. I\\'m already 5 episodes deep into Season 2, and, if anything, I\\'ve gotten even more hooked. In Season 2, the stakes have shot up even more. As for Season One, get it. Get it now.The SUITS DVD set contains all twelve episodes of Season One and comes in three discs and with the following bonus stuff:- Pilot Extended Version- Audio Commentaries on 2 episodes: the pilot episode and the season finale \"Dogfight\" (both eps with exec. producer David Bartis, creator/co-exec. producer Aaron Korsh, Gabriel Macht and Patrick J. Adams)- Deleted Scenes for 7 episodes- Gag Reel (00:04:13 minutes)- \"Cross Examination\": Gabriel Macht, Meghan Markle, Patrick J. Adams, Rick Hoffman, Aaron Korsh and David Bartis sit down to a Q & A session (00:10:29 minutes)Okay, last one:Q: What do you get when you cross a bad politician with a crooked lawyer?A: Chelsea Clinton.'"
            ]
          },
          "metadata": {
            "tags": []
          },
          "execution_count": 20
        }
      ]
    },
    {
      "cell_type": "code",
      "metadata": {
        "id": "-oG7nOGir78k",
        "outputId": "728bb784-fe2d-47d9-b7ec-5f1ab3972561",
        "colab": {
          "base_uri": "https://localhost:8080/",
          "height": 107
        }
      },
      "source": [
        "cleaned_text_ls[9568]"
      ],
      "execution_count": 21,
      "outputs": [
        {
          "output_type": "execute_result",
          "data": {
            "application/vnd.google.colaboratory.intrinsic+json": {
              "type": "string"
            },
            "text/plain": [
              "'man phones lawyer asks <COMMA> much would charge just answering three simple questions <QUESTION> lawyer replies <COMMA> thousand dollars <PERIOD> thousand dollars <EXCLAMATION> exclaims man <PERIOD> expensive not <QUESTION> certainly <COMMA> says lawyer <PERIOD> <COMMA> third question <QUESTION> one <PERIOD> three lawyers buried necks cement <QUESTION> not enough cement <PERIOD> usa network keeps not effing <PERIOD> far concerned <COMMA> suits newest addictive show television <COMMA> not normally drawn legal dramas <PERIOD> witty funny smart loaded patented easy breezy sense fun usa network nowadays specializes <PERIOD> premise irresistible <COMMA> cast irrepressible <PERIOD> two leads <COMMA> gabriel macht patrick <PERIOD> adams <COMMA> so good <PERIOD> not not rave <PERIOD> suits chronicles exploits prestigious new york corporate law firm pearson hardman <PERIOD> pointedly <COMMA> catchy premise revolves around sleek newly made senior partner harvey specter macht dips shady shenanigans takes wing college dropout running away law happened stumble across harvey office just harvey middle interviewing first year associates <PERIOD> turns <COMMA> mike ross adams just slacker weed merchant <PERIOD> mike boasts eidetic memory <PERIOD> reads something <COMMA> understands <PERIOD> understands <COMMA> never forgets <PERIOD> neat party trick <PERIOD> intrigues harvey enough <COMMA> impresses enough <COMMA> decides gamble mike <PERIOD> since pearson hardman ever hires pool harvard law graduates <COMMA> begins big fib mike ross <COMMA> harvey new associate recent harvard alumni <PERIOD> mike ross resourceful <COMMA> idealistic cat whole weed thing one time mistake <PERIOD> makes terrific point view character <PERIOD> navigates way around new environment <COMMA> learns <COMMA> learn <PERIOD> mike sink swim shark infested waters <QUESTION> part fun <PERIOD> just episode <COMMA> mike thrown curve <COMMA> put situation could get exposed <PERIOD> sometimes <COMMA> quick thinking immaculate sense recall get predicament <PERIOD> sometimes <COMMA> harvey <COMMA> cool side pillow <COMMA> steps <PERIOD> long two keep charade <QUESTION> show dares step away <PERIOD> macht <COMMA> gleam wicked eye so much hair gel headrest barcalounger afraid <COMMA> embodies harvey specter supreme swagger <COMMA> cocky ruthless unruffled <PERIOD> blue moon exhibits begrudgingly compassionate side <PERIOD> harvey touted firm go closer <COMMA> heralded gunslinger <PERIOD> competitive field <COMMA> no surprise colleagues resentful <PERIOD> maybe none envious always scheming junior partner louis litt fabulous gopher rick hoffman <PERIOD> hoffman great perennial burr saddle <PERIOD> quickly makes mike time firm partly sucky one <PERIOD> mike becomes human rope harvey louis ongoing game tug war <PERIOD> throw drowning lawyer <QUESTION> partners <PERIOD> let fragment sentence predatory boardroom sharks <COMMA> cooly preening posturing bedeviling clients silver tongues <COMMA> yet graced just enough bump conscience humanize <PERIOD> found suckered simmer mike sexy <COMMA> five year paralegal rachel meghan markle <PERIOD> relish hell sarah rafferty plays harvey sassy secretary donna <COMMA> note donna understated pining boss <PERIOD> fact <COMMA> interactions among cast members absorbing around <PERIOD> gina torres firm steely managing founding partner icing cake <PERIOD> cases handled harvey mike watchable enough <COMMA> legalese thrown us made decipherable enough <PERIOD> trying become better people <COMMA> morals ethics explored intelligently <PERIOD> time side mike naive nice guy perspective <COMMA> harvey extends counter argument sheds new light matter <PERIOD> favorite moments harvey sarcastically mentors mike mike frequently giving good gets moments mike scrambles maintain harvard cover <PERIOD> not mind scene weasely louis litt gets coming <PERIOD> let reiterate suits funny <PERIOD> already episodes deep season <COMMA> <COMMA> anything <COMMA> gotten even hooked <PERIOD> season <COMMA> stakes shot even <PERIOD> season one <COMMA> get <PERIOD> get <PERIOD> suits dvd set contains twelve episodes season one comes three discs following bonus stuff pilot extended version audio commentaries episodes pilot episode season finale dogfight eps exec <PERIOD> producer david bartis <COMMA> creator co exec <PERIOD> producer aaron korsh <COMMA> gabriel macht patrick <PERIOD> adams deleted scenes episodes gag reel minutes cross examination gabriel macht <COMMA> meghan markle <COMMA> patrick <PERIOD> adams <COMMA> rick hoffman <COMMA> aaron korsh david bartis sit session minutes okay <COMMA> last one get cross bad politician crooked lawyer <QUESTION> chelsea clinton <PERIOD>'"
            ]
          },
          "metadata": {
            "tags": []
          },
          "execution_count": 21
        }
      ]
    },
    {
      "cell_type": "code",
      "metadata": {
        "id": "dmfAaAowBqQ8",
        "outputId": "c17780df-2635-43c2-e1af-329f1fafdbb4",
        "colab": {
          "base_uri": "https://localhost:8080/"
        }
      },
      "source": [
        "text_ls[:4]"
      ],
      "execution_count": 31,
      "outputs": [
        {
          "output_type": "execute_result",
          "data": {
            "text/plain": [
              "[\"I had big expectations because I love English TV, in particular Investigative and detective stuff but this guy is really boring. It didn't appeal to me at all.\",\n",
              " 'I highly recommend this series. It is a must for anyone who is yearning to watch \"grown up\" television. Complex characters and plots to keep one totally involved. Thank you Amazin Prime.',\n",
              " \"This one is a real snoozer. Don't believe anything you read or hear, it's awful. I had no idea what the title means. Neither will you.\",\n",
              " 'Mysteries are interesting.  The tension between Robson and the tall blond is good but not always believable.  She often seemed uncomfortable.']"
            ]
          },
          "metadata": {
            "tags": []
          },
          "execution_count": 31
        }
      ]
    },
    {
      "cell_type": "code",
      "metadata": {
        "id": "lVGUVgQZBlZV",
        "outputId": "278133d5-677a-48fa-9682-4b13928e5c03",
        "colab": {
          "base_uri": "https://localhost:8080/"
        }
      },
      "source": [
        "cleaned_text_ls[:4]"
      ],
      "execution_count": 32,
      "outputs": [
        {
          "output_type": "execute_result",
          "data": {
            "text/plain": [
              "['big expectations love english tv <COMMA> particular investigative detective stuff guy really boring <PERIOD> not appeal <PERIOD>',\n",
              " 'highly recommend series <PERIOD> must anyone yearning watch grown television <PERIOD> complex characters plots keep one totally involved <PERIOD> thank amazin prime <PERIOD>',\n",
              " 'one real snoozer <PERIOD> not believe anything read hear <COMMA> awful <PERIOD> no idea title means <PERIOD> neither <PERIOD>',\n",
              " 'mysteries interesting <PERIOD> tension robson tall blond good not always believable <PERIOD> often seemed uncomfortable <PERIOD>']"
            ]
          },
          "metadata": {
            "tags": []
          },
          "execution_count": 32
        }
      ]
    },
    {
      "cell_type": "code",
      "metadata": {
        "id": "b2PbWQ9-r8vx",
        "outputId": "0df938d9-0c63-48c3-d2d0-ad7c91a0a3f5",
        "colab": {
          "base_uri": "https://localhost:8080/"
        }
      },
      "source": [
        "cleaned_text_ls[511526], cleaned_text_ls[1639671], cleaned_text_ls[1821690]"
      ],
      "execution_count": 22,
      "outputs": [
        {
          "output_type": "execute_result",
          "data": {
            "text/plain": [
              "('smiling face', 'smiling face', 'smiling face')"
            ]
          },
          "metadata": {
            "tags": []
          },
          "execution_count": 22
        }
      ]
    },
    {
      "cell_type": "code",
      "metadata": {
        "id": "CMHPvsVxr996"
      },
      "source": [
        "def find_noise(reg, datalist):\n",
        "  count = 0\n",
        "  found_list = []\n",
        "\n",
        "  for i, row in enumerate(datalist):\n",
        "    found = re.findall(reg, row)\n",
        "\n",
        "    if found != []:\n",
        "      count += 1\n",
        "      # print(found[0])\n",
        "      # found = list(filter(None, found[0]))\n",
        "      # print(found)\n",
        "      found_list.append([i ,found])\n",
        "  \n",
        "  return count, found_list\n",
        "  # return found_list"
      ],
      "execution_count": 23,
      "outputs": []
    },
    {
      "cell_type": "code",
      "metadata": {
        "id": "XrOicEgjsAIA",
        "outputId": "c58fabde-aed6-4023-e67f-23eee900fb5a",
        "colab": {
          "base_uri": "https://localhost:8080/"
        }
      },
      "source": [
        "import re\n",
        "## check tokens for each row\n",
        "count_key, found_key = find_noise(r\"<\\w+>\", cleaned_text_ls)\n",
        "print(count_key, len(found_key))\n",
        "found_key[:10]"
      ],
      "execution_count": 24,
      "outputs": [
        {
          "output_type": "stream",
          "text": [
            "2288491 2288491\n"
          ],
          "name": "stdout"
        },
        {
          "output_type": "execute_result",
          "data": {
            "text/plain": [
              "[[0, ['<COMMA>', '<PERIOD>', '<PERIOD>']],\n",
              " [1, ['<PERIOD>', '<PERIOD>', '<PERIOD>', '<PERIOD>']],\n",
              " [2, ['<PERIOD>', '<COMMA>', '<PERIOD>', '<PERIOD>', '<PERIOD>']],\n",
              " [3, ['<PERIOD>', '<PERIOD>', '<PERIOD>']],\n",
              " [4,\n",
              "  ['<COMMA>',\n",
              "   '<PERIOD>',\n",
              "   '<PERIOD>',\n",
              "   '<PERIOD>',\n",
              "   '<PERIOD>',\n",
              "   '<PERIOD>',\n",
              "   '<PERIOD>',\n",
              "   '<PERIOD>',\n",
              "   '<COMMA>',\n",
              "   '<COMMA>',\n",
              "   '<PERIOD>',\n",
              "   '<PERIOD>',\n",
              "   '<PERIOD>',\n",
              "   '<PERIOD>',\n",
              "   '<PERIOD>']],\n",
              " [5,\n",
              "  ['<PERIOD>',\n",
              "   '<COMMA>',\n",
              "   '<PERIOD>',\n",
              "   '<COMMA>',\n",
              "   '<PERIOD>',\n",
              "   '<COMMA>',\n",
              "   '<PERIOD>',\n",
              "   '<PERIOD>',\n",
              "   '<PERIOD>',\n",
              "   '<COMMA>',\n",
              "   '<COMMA>',\n",
              "   '<PERIOD>',\n",
              "   '<COMMA>',\n",
              "   '<PERIOD>',\n",
              "   '<COMMA>',\n",
              "   '<COMMA>',\n",
              "   '<PERIOD>',\n",
              "   '<COMMA>',\n",
              "   '<PERIOD>',\n",
              "   '<COMMA>',\n",
              "   '<COMMA>',\n",
              "   '<PERIOD>',\n",
              "   '<PERIOD>',\n",
              "   '<COMMA>',\n",
              "   '<COMMA>',\n",
              "   '<PERIOD>',\n",
              "   '<COMMA>',\n",
              "   '<PERIOD>',\n",
              "   '<COMMA>',\n",
              "   '<COMMA>',\n",
              "   '<COMMA>',\n",
              "   '<PERIOD>',\n",
              "   '<COMMA>',\n",
              "   '<PERIOD>',\n",
              "   '<PERIOD>',\n",
              "   '<COMMA>',\n",
              "   '<PERIOD>',\n",
              "   '<COMMA>',\n",
              "   '<PERIOD>',\n",
              "   '<COMMA>',\n",
              "   '<PERIOD>',\n",
              "   '<PERIOD>',\n",
              "   '<PERIOD>',\n",
              "   '<PERIOD>']],\n",
              " [6, ['<PERIOD>', '<COMMA>', '<PERIOD>']],\n",
              " [7, ['<COMMA>', '<PERIOD>', '<COMMA>', '<COMMA>', '<COMMA>', '<PERIOD>']],\n",
              " [8, ['<PERIOD>', '<PERIOD>', '<PERIOD>']],\n",
              " [9, ['<PERIOD>', '<PERIOD>', '<PERIOD>']]]"
            ]
          },
          "metadata": {
            "tags": []
          },
          "execution_count": 24
        }
      ]
    },
    {
      "cell_type": "code",
      "metadata": {
        "id": "UFCrqsvdsBqC",
        "outputId": "077b8149-1b08-4921-ec58-04e780170c68",
        "colab": {
          "base_uri": "https://localhost:8080/"
        }
      },
      "source": [
        "ss = []\n",
        "for i in found_key:\n",
        "  for j in i[1]:\n",
        "    ss.append(j)\n",
        "\n",
        "from collections import Counter \n",
        "print(len(Counter(ss).most_common()))\n",
        "Counter(ss).most_common() # 16 tokens with each amount"
      ],
      "execution_count": 25,
      "outputs": [
        {
          "output_type": "stream",
          "text": [
            "16\n"
          ],
          "name": "stdout"
        },
        {
          "output_type": "execute_result",
          "data": {
            "text/plain": [
              "[('<PERIOD>', 14171558),\n",
              " ('<COMMA>', 8667542),\n",
              " ('<EXCLAMATION>', 1369517),\n",
              " ('<QUESTION>', 380794),\n",
              " ('<PRICE>', 68375),\n",
              " ('<HUNDREDPERCENTAGE>', 10700),\n",
              " ('<NOTCONTRACT>', 4108),\n",
              " ('<STAR>', 4085),\n",
              " ('<MENTION>', 2620),\n",
              " ('<URL>', 974),\n",
              " ('<AMAZONURL>', 954),\n",
              " ('<BOOKURL>', 526),\n",
              " ('<UNK>', 279),\n",
              " ('<YOUTUBEURL>', 86),\n",
              " ('<FACEBOOKURL>', 54),\n",
              " ('<GOOGLEURL>', 27)]"
            ]
          },
          "metadata": {
            "tags": []
          },
          "execution_count": 25
        }
      ]
    },
    {
      "cell_type": "code",
      "metadata": {
        "id": "mN_YzvBSsq8Y"
      },
      "source": [
        ""
      ],
      "execution_count": null,
      "outputs": []
    }
  ]
}
