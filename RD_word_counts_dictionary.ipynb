{
  "nbformat": 4,
  "nbformat_minor": 0,
  "metadata": {
    "colab": {
      "name": "RD_word_counts_dictionary.ipynb",
      "provenance": [],
      "collapsed_sections": [],
      "toc_visible": true,
      "authorship_tag": "ABX9TyNlNU9G7RrvqpMI7IrdXDz4",
      "include_colab_link": true
    },
    "kernelspec": {
      "name": "python3",
      "display_name": "Python 3"
    },
    "accelerator": "GPU"
  },
  "cells": [
    {
      "cell_type": "markdown",
      "metadata": {
        "id": "view-in-github",
        "colab_type": "text"
      },
      "source": [
        "<a href=\"https://colab.research.google.com/github/mayujie/MSC_text_mining/blob/master/RD_word_counts_dictionary.ipynb\" target=\"_parent\"><img src=\"https://colab.research.google.com/assets/colab-badge.svg\" alt=\"Open In Colab\"/></a>"
      ]
    },
    {
      "cell_type": "markdown",
      "metadata": {
        "id": "ud8lapzrrDn2"
      },
      "source": [
        "# [Amazon product data](http://jmcauley.ucsd.edu/data/amazon/index_2014.html)\n",
        "# [Amazon product data Julian McAuley, UCSD](http://jmcauley.ucsd.edu/data/amazon/)\n",
        "Files\n",
        "\n",
        "\"Small\" subsets for experimentation\n",
        "\n",
        "https://zhuanlan.zhihu.com/p/137537499\n",
        "\n",
        "http://baijiahao.baidu.com/s?id=1665370803562402243\n",
        "\n",
        "http://www.xiaomaidong.com/?p=1249\n",
        "\n",
        "https://towardsdatascience.com/double-your-google-colab-ram-in-10-seconds-using-these-10-characters-efa636e646ff\n"
      ]
    },
    {
      "cell_type": "code",
      "metadata": {
        "id": "XtxeurkUjE4l"
      },
      "source": [
        "# a=[]\n",
        "# while True:\n",
        "#     a.append('qwertyqwerty')"
      ],
      "execution_count": null,
      "outputs": []
    },
    {
      "cell_type": "code",
      "metadata": {
        "id": "WAvkno2sq6Kp",
        "outputId": "70691a00-8e00-4bda-ed01-44441ff2e115",
        "colab": {
          "base_uri": "https://localhost:8080/"
        }
      },
      "source": [
        "from google.colab import drive\n",
        "drive.mount('/content/drive/')"
      ],
      "execution_count": null,
      "outputs": [
        {
          "output_type": "stream",
          "text": [
            "Mounted at /content/drive/\n"
          ],
          "name": "stdout"
        }
      ]
    },
    {
      "cell_type": "code",
      "metadata": {
        "id": "nmzIno3HrGLf",
        "outputId": "a9624e19-6715-4c39-8897-3a0b761a61ce",
        "colab": {
          "base_uri": "https://localhost:8080/",
          "height": 35
        }
      },
      "source": [
        "root_path = '/content/drive/My Drive/Colab/MSC_RD'\n",
        "root_path"
      ],
      "execution_count": null,
      "outputs": [
        {
          "output_type": "execute_result",
          "data": {
            "application/vnd.google.colaboratory.intrinsic+json": {
              "type": "string"
            },
            "text/plain": [
              "'/content/drive/My Drive/Colab/MSC_RD'"
            ]
          },
          "metadata": {
            "tags": []
          },
          "execution_count": 2
        }
      ]
    },
    {
      "cell_type": "markdown",
      "metadata": {
        "id": "P0SJ5HGJrTOa"
      },
      "source": [
        "## **Read from cleaned text file**"
      ]
    },
    {
      "cell_type": "code",
      "metadata": {
        "id": "jFA-MrxU9-yD",
        "outputId": "e52bb7bc-527e-47eb-bdc6-a781b9a90f8e",
        "colab": {
          "base_uri": "https://localhost:8080/"
        }
      },
      "source": [
        "# ### download text data\n",
        "# !gdown https://drive.google.com/uc?id=1PtUMY6KuShzR2lk_85VbNizGT_wciBNl\n",
        "# !unzip reviews_text.zip\n",
        "# !rm /content/reviews_text.zip"
      ],
      "execution_count": null,
      "outputs": [
        {
          "output_type": "stream",
          "text": [
            "Downloading...\n",
            "From: https://drive.google.com/uc?id=1PtUMY6KuShzR2lk_85VbNizGT_wciBNl\n",
            "To: /content/reviews_text.zip\n",
            "468MB [00:02, 177MB/s]\n",
            "Archive:  reviews_text.zip\n",
            "  inflating: reviews_text.txt        \n"
          ],
          "name": "stdout"
        }
      ]
    },
    {
      "cell_type": "code",
      "metadata": {
        "id": "h9lViIYU-LV1"
      },
      "source": [
        "# handle_list = []\n",
        "# with open('/content/reviews_text.txt', 'r') as file:\n",
        "#   for line in file:\n",
        "#     handle_list.append(line)"
      ],
      "execution_count": null,
      "outputs": []
    },
    {
      "cell_type": "code",
      "metadata": {
        "id": "KCx2Ul7q-MSl",
        "outputId": "50a41f53-b5b7-4b1b-b680-82e846cbf148",
        "colab": {
          "base_uri": "https://localhost:8080/"
        }
      },
      "source": [
        "# text_ls = map(lambda s: s.strip(), handle_list)\n",
        "# text_ls = list(text_ls)\n",
        "# text_ls[:5]"
      ],
      "execution_count": null,
      "outputs": [
        {
          "output_type": "execute_result",
          "data": {
            "text/plain": [
              "[\"I had big expectations because I love English TV, in particular Investigative and detective stuff but this guy is really boring. It didn't appeal to me at all.\",\n",
              " 'I highly recommend this series. It is a must for anyone who is yearning to watch \"grown up\" television. Complex characters and plots to keep one totally involved. Thank you Amazin Prime.',\n",
              " \"This one is a real snoozer. Don't believe anything you read or hear, it's awful. I had no idea what the title means. Neither will you.\",\n",
              " 'Mysteries are interesting.  The tension between Robson and the tall blond is good but not always believable.  She often seemed uncomfortable.',\n",
              " 'This show always is excellent, as far as british crime or mystery showsgoes this is one of the best ever made.  The stories are well done and the acting is top notch with interesting twists in the realistic and brutal storylines.  This show pulls no punches as it enters into the twisted minds of criminals and the profiler psychiatrist who helps out in a northern english city police force. The show looks like it is shot in Manchester but it is called by another name in the show.  One episode is not on this disc the excellent \\'prayer of the bone\" which is on a seperate disc.  Still crime shows don\\'t get much better than this one on either side of the ocean.  It\\'s just a great show that never has had a less than well made episode. Unfortunately like all British shows you only get about five shows a year ,  but these are an hour and a half shows , still one could hope for at least 8 of these a year.  The realism and depth of the main character Tony Hill as protrayed by the excellent Robson Green is well worth viewing because he just makes this role truly part of himself in everyway.  I bet he went to crime scenes even in real life to research his role.  But the writers too must be applauded for their way above average stories.  Lets hope this show continues on for many years to come.']"
            ]
          },
          "metadata": {
            "tags": []
          },
          "execution_count": 22
        }
      ]
    },
    {
      "cell_type": "code",
      "metadata": {
        "id": "g-uZcnjVrKT7",
        "outputId": "bac8f04e-80c3-423d-d9a7-62a486bd2270",
        "colab": {
          "base_uri": "https://localhost:8080/"
        }
      },
      "source": [
        "### download cleaned text data\n",
        "!gdown https://drive.google.com/uc?id=1Kb8ApeUYUDMOO39utV-dQ00PZ0s8yOAb \n",
        "!unzip cleaned_reviews_text.zip\n",
        "!rm /content/cleaned_reviews_text.zip\n",
        "!ls -lh *.txt"
      ],
      "execution_count": null,
      "outputs": [
        {
          "output_type": "stream",
          "text": [
            "Downloading...\n",
            "From: https://drive.google.com/uc?id=1Kb8ApeUYUDMOO39utV-dQ00PZ0s8yOAb\n",
            "To: /content/cleaned_reviews_text.zip\n",
            "310MB [00:04, 72.6MB/s]\n",
            "Archive:  cleaned_reviews_text.zip\n",
            "  inflating: cleaned_reviews_text.txt  \n",
            "-rw-r--r-- 1 root root 969M Nov  3 00:18 cleaned_reviews_text.txt\n"
          ],
          "name": "stdout"
        }
      ]
    },
    {
      "cell_type": "code",
      "metadata": {
        "id": "aDSgqIL2rrXY"
      },
      "source": [
        "cleaned_text_ls = []\n",
        "with open('/content/cleaned_reviews_text.txt', 'r') as file:\n",
        "  for line in file:\n",
        "    cleaned_text_ls.append(line)"
      ],
      "execution_count": null,
      "outputs": []
    },
    {
      "cell_type": "code",
      "metadata": {
        "id": "E_M3Wmwzr2Dz",
        "outputId": "9b784d6f-28a6-4a2f-a63e-f323e44c0e07",
        "colab": {
          "base_uri": "https://localhost:8080/"
        }
      },
      "source": [
        "print(len(cleaned_text_ls))\n",
        "# text_ls[:5]\n",
        "cleaned_text_ls[:5]"
      ],
      "execution_count": null,
      "outputs": [
        {
          "output_type": "stream",
          "text": [
            "2360871\n"
          ],
          "name": "stdout"
        },
        {
          "output_type": "execute_result",
          "data": {
            "text/plain": [
              "['big expectations love english tv <COMMA> particular investigative detective stuff guy really boring <PERIOD> not appeal <PERIOD>\\n',\n",
              " 'highly recommend series <PERIOD> must anyone yearning watch grown television <PERIOD> complex characters plots keep one totally involved <PERIOD> thank amazin prime <PERIOD>\\n',\n",
              " 'one real snoozer <PERIOD> not believe anything read hear <COMMA> awful <PERIOD> no idea title means <PERIOD> neither <PERIOD>\\n',\n",
              " 'mysteries interesting <PERIOD> tension robson tall blond good not always believable <PERIOD> often seemed uncomfortable <PERIOD>\\n',\n",
              " 'show always excellent <COMMA> far british crime mystery showsgoes one best ever made <PERIOD> stories well done acting top notch interesting twists realistic brutal storylines <PERIOD> show pulls no punches enters twisted minds criminals profiler psychiatrist helps northern english city police force <PERIOD> show looks like shot manchester called another name show <PERIOD> one episode not disc excellent prayer bone seperate disc <PERIOD> still crime shows not get much better one either side ocean <PERIOD> just great show never less well made episode <PERIOD> unfortunately like british shows get five shows year <COMMA> hour half shows <COMMA> still one could hope least year <PERIOD> realism depth main character tony hill protrayed excellent robson green well worth viewing just makes role truly part everyway <PERIOD> bet went crime scenes even real life research role <PERIOD> writers must applauded way average stories <PERIOD> let us hope show continues many years come <PERIOD>\\n']"
            ]
          },
          "metadata": {
            "tags": []
          },
          "execution_count": 2
        }
      ]
    },
    {
      "cell_type": "markdown",
      "metadata": {
        "id": "3jLCSNs6sL12"
      },
      "source": [
        "## remove newline '\\n' from each row"
      ]
    },
    {
      "cell_type": "code",
      "metadata": {
        "id": "upkxGUq6r35r",
        "outputId": "f84135c9-3bcd-4522-9477-4a2e5d9b6319",
        "colab": {
          "base_uri": "https://localhost:8080/"
        }
      },
      "source": [
        "cleaned_text_ls = map(lambda s: s.strip(), cleaned_text_ls)\n",
        "cleaned_text_ls = list(cleaned_text_ls)\n",
        "cleaned_text_ls[:5]"
      ],
      "execution_count": null,
      "outputs": [
        {
          "output_type": "execute_result",
          "data": {
            "text/plain": [
              "['big expectations love english tv <COMMA> particular investigative detective stuff guy really boring <PERIOD> not appeal <PERIOD>',\n",
              " 'highly recommend series <PERIOD> must anyone yearning watch grown television <PERIOD> complex characters plots keep one totally involved <PERIOD> thank amazin prime <PERIOD>',\n",
              " 'one real snoozer <PERIOD> not believe anything read hear <COMMA> awful <PERIOD> no idea title means <PERIOD> neither <PERIOD>',\n",
              " 'mysteries interesting <PERIOD> tension robson tall blond good not always believable <PERIOD> often seemed uncomfortable <PERIOD>',\n",
              " 'show always excellent <COMMA> far british crime mystery showsgoes one best ever made <PERIOD> stories well done acting top notch interesting twists realistic brutal storylines <PERIOD> show pulls no punches enters twisted minds criminals profiler psychiatrist helps northern english city police force <PERIOD> show looks like shot manchester called another name show <PERIOD> one episode not disc excellent prayer bone seperate disc <PERIOD> still crime shows not get much better one either side ocean <PERIOD> just great show never less well made episode <PERIOD> unfortunately like british shows get five shows year <COMMA> hour half shows <COMMA> still one could hope least year <PERIOD> realism depth main character tony hill protrayed excellent robson green well worth viewing just makes role truly part everyway <PERIOD> bet went crime scenes even real life research role <PERIOD> writers must applauded way average stories <PERIOD> let us hope show continues many years come <PERIOD>']"
            ]
          },
          "metadata": {
            "tags": []
          },
          "execution_count": 3
        }
      ]
    },
    {
      "cell_type": "code",
      "metadata": {
        "id": "6dIwOqVwsRPg"
      },
      "source": [
        "# ## read data into dataframe\n",
        "# import pandas as pd\n",
        "# df_review = pd.DataFrame(cleaned_text_ls) \n",
        "# df_review"
      ],
      "execution_count": null,
      "outputs": []
    },
    {
      "cell_type": "code",
      "metadata": {
        "id": "lx2DtR3-r5Na",
        "outputId": "84b9aba0-23d4-4ec0-ee63-ff642ba8a1ad",
        "colab": {
          "base_uri": "https://localhost:8080/",
          "height": 137
        }
      },
      "source": [
        "# text_ls[2360363]\n",
        "cleaned_text_ls[2360363]"
      ],
      "execution_count": null,
      "outputs": [
        {
          "output_type": "execute_result",
          "data": {
            "application/vnd.google.colaboratory.intrinsic+json": {
              "type": "string"
            },
            "text/plain": [
              "'negative review game informer almost kept buying game <COMMA> glad decided buy anyway <PERIOD> go core aspects game give liked not <PERIOD> combat god war like feel <PERIOD> fact <COMMA> much game <PERIOD> feel god war style presentation combat system strays far castlevania roots may not like <COMMA> enjoyed combat god war like well <PERIOD> main melee weapons <PERIOD> shadow whip weapon use often best range <PERIOD> void sword shorter range replenishes health strike enemies <PERIOD> chaos claws deal damage short range <COMMA> weapons deal damage shielded foes <PERIOD> weapon skill tree <PERIOD> skill trees progress gain experience points <PERIOD> also master certain skills using <PERIOD> mastered <COMMA> become effective combat <PERIOD> encourages use combos skills may not otherwise used often <COMMA> so master well <PERIOD> also access projectiles like daggers <COMMA> different things depending melee weapon equipped <COMMA> send swarm bats distract enemies stealth sections <COMMA> several relics exist used limited items classic hourglass slows enemies movement <COMMA> bird reveal secret locations <COMMA> health replenishing flask <COMMA> others <PERIOD> camera bit annoyance times tends leave enemies screen may not realize attack <COMMA> leaves vulnerable <PERIOD> complaint sometimes difficult perform lengthy combo enemies not get stun locked attacks break combo hitting <COMMA> even hitting <PERIOD> story game almost story heavy first <COMMA> forcing sit quite narrated scenes <PERIOD> important <COMMA> however <COMMA> belmont lineage place story needs examined <PERIOD> artful presentation least makes scenes interesting look fill back story <PERIOD> ultimately story pretty interesting especially followed along lords shadow mirror fate <PERIOD> graphics not bad looking game <COMMA> not top line either <PERIOD> meshes pretty jagged edges <COMMA> particularly distance <COMMA> even settings maxed <PERIOD> shadows light cut scenes appear unrealistic distracting jagged edged shadows tend spill curvature characters faces <COMMA> etc <PERIOD> not uncommon gaming moment however <PERIOD> game heavy blood expected <COMMA> moments blood shooting exploding <COMMA> not look fluid <PERIOD> <COMMA> not easy thing model animate <COMMA> still needs pointed <PERIOD> gameplay much criticism leveled game stealth sections <COMMA> although not find overly unpleasant <PERIOD> changing rat form explore air vents tunnels actually fairly fun <PERIOD> biggest complaint stealth sections not allowed engage combat <COMMA> game shines <PERIOD> almost seems arbitrarily thrown <COMMA> developers wanted another aspect gameplay besides combat exploration <PERIOD> much worse stealth sections platforming sections <PERIOD> swinging chandeliers series staple <COMMA> game feels clunky bothersome <PERIOD> climbing feels fairly natural though compared games like uncharted god war <PERIOD> game allow metroidvania style exploration however <PERIOD> although environments not truly open world <COMMA> large enough allow exploration finding secrets <PERIOD> many secret areas cannot accessed appropriate skill item <COMMA> much like castlevania games <COMMA> metroid games zelda games <PERIOD> art presentation applaud designers thinking outside box bringing series modern era <COMMA> biggest complaint setting <PERIOD> although much game modern times <COMMA> still find gothic environments old dilapidated castles <COMMA> cathedrals buildings <COMMA> keeps futuristic <PERIOD> think agree dracula fighting enemies times square would huge mistake <COMMA> developers avoided pitfall <PERIOD> still <COMMA> seeing electronic billboard steel doors opened retina scanner just not feel like belong <PERIOD> make no mistake though <COMMA> plenty dark imagery <COMMA> horrific grotesque monsters <COMMA> dim hallways flickering candlelight <PERIOD> audio soundtrack fantastic <PERIOD> sound effects feel right home <PERIOD> one complaint characters voice actors not quite par <COMMA> major characters good job <COMMA> especially patrick stewart voices zobek <PERIOD> conclusion <COMMA> enjoyable game brings lords shadow series close style <PERIOD> stealth platforming sections keep true masterpiece <COMMA> not so frequent ruin rest great things game offer <PERIOD> buy confidence enjoy <EXCLAMATION>'"
            ]
          },
          "metadata": {
            "tags": []
          },
          "execution_count": 8
        }
      ]
    },
    {
      "cell_type": "code",
      "metadata": {
        "id": "-oG7nOGir78k",
        "outputId": "1a526d5d-4b8b-4f02-e936-d46d8cdafe77",
        "colab": {
          "base_uri": "https://localhost:8080/",
          "height": 137
        }
      },
      "source": [
        "# text_ls[9568]\n",
        "cleaned_text_ls[9568]"
      ],
      "execution_count": null,
      "outputs": [
        {
          "output_type": "execute_result",
          "data": {
            "application/vnd.google.colaboratory.intrinsic+json": {
              "type": "string"
            },
            "text/plain": [
              "'man phones lawyer asks <COMMA> much would charge just answering three simple questions <QUESTION> lawyer replies <COMMA> thousand dollars <PERIOD> thousand dollars <EXCLAMATION> exclaims man <PERIOD> expensive not <QUESTION> certainly <COMMA> says lawyer <PERIOD> <COMMA> third question <QUESTION> one <PERIOD> three lawyers buried necks cement <QUESTION> not enough cement <PERIOD> usa network keeps not effing <PERIOD> far concerned <COMMA> suits newest addictive show television <COMMA> not normally drawn legal dramas <PERIOD> witty funny smart loaded patented easy breezy sense fun usa network nowadays specializes <PERIOD> premise irresistible <COMMA> cast irrepressible <PERIOD> two leads <COMMA> gabriel macht patrick <PERIOD> adams <COMMA> so good <PERIOD> not not rave <PERIOD> suits chronicles exploits prestigious new york corporate law firm pearson hardman <PERIOD> pointedly <COMMA> catchy premise revolves around sleek newly made senior partner harvey specter macht dips shady shenanigans takes wing college dropout running away law happened stumble across harvey office just harvey middle interviewing first year associates <PERIOD> turns <COMMA> mike ross adams just slacker weed merchant <PERIOD> mike boasts eidetic memory <PERIOD> reads something <COMMA> understands <PERIOD> understands <COMMA> never forgets <PERIOD> neat party trick <PERIOD> intrigues harvey enough <COMMA> impresses enough <COMMA> decides gamble mike <PERIOD> since pearson hardman ever hires pool harvard law graduates <COMMA> begins big fib mike ross <COMMA> harvey new associate recent harvard alumni <PERIOD> mike ross resourceful <COMMA> idealistic cat whole weed thing one time mistake <PERIOD> makes terrific point view character <PERIOD> navigates way around new environment <COMMA> learns <COMMA> learn <PERIOD> mike sink swim shark infested waters <QUESTION> part fun <PERIOD> just episode <COMMA> mike thrown curve <COMMA> put situation could get exposed <PERIOD> sometimes <COMMA> quick thinking immaculate sense recall get predicament <PERIOD> sometimes <COMMA> harvey <COMMA> cool side pillow <COMMA> steps <PERIOD> long two keep charade <QUESTION> show dares step away <PERIOD> macht <COMMA> gleam wicked eye so much hair gel headrest barcalounger afraid <COMMA> embodies harvey specter supreme swagger <COMMA> cocky ruthless unruffled <PERIOD> blue moon exhibits begrudgingly compassionate side <PERIOD> harvey touted firm go closer <COMMA> heralded gunslinger <PERIOD> competitive field <COMMA> no surprise colleagues resentful <PERIOD> maybe none envious always scheming junior partner louis litt fabulous gopher rick hoffman <PERIOD> hoffman great perennial burr saddle <PERIOD> quickly makes mike time firm partly sucky one <PERIOD> mike becomes human rope harvey louis ongoing game tug war <PERIOD> throw drowning lawyer <QUESTION> partners <PERIOD> let fragment sentence predatory boardroom sharks <COMMA> cooly preening posturing bedeviling clients silver tongues <COMMA> yet graced just enough bump conscience humanize <PERIOD> found suckered simmer mike sexy <COMMA> five year paralegal rachel meghan markle <PERIOD> relish hell sarah rafferty plays harvey sassy secretary donna <COMMA> note donna understated pining boss <PERIOD> fact <COMMA> interactions among cast members absorbing around <PERIOD> gina torres firm steely managing founding partner icing cake <PERIOD> cases handled harvey mike watchable enough <COMMA> legalese thrown us made decipherable enough <PERIOD> trying become better people <COMMA> morals ethics explored intelligently <PERIOD> time side mike naive nice guy perspective <COMMA> harvey extends counter argument sheds new light matter <PERIOD> favorite moments harvey sarcastically mentors mike mike frequently giving good gets moments mike scrambles maintain harvard cover <PERIOD> not mind scene weasely louis litt gets coming <PERIOD> let reiterate suits funny <PERIOD> already episodes deep season <COMMA> <COMMA> anything <COMMA> gotten even hooked <PERIOD> season <COMMA> stakes shot even <PERIOD> season one <COMMA> get <PERIOD> get <PERIOD> suits dvd set contains twelve episodes season one comes three discs following bonus stuff pilot extended version audio commentaries episodes pilot episode season finale dogfight eps exec <PERIOD> producer david bartis <COMMA> creator co exec <PERIOD> producer aaron korsh <COMMA> gabriel macht patrick <PERIOD> adams deleted scenes episodes gag reel minutes cross examination gabriel macht <COMMA> meghan markle <COMMA> patrick <PERIOD> adams <COMMA> rick hoffman <COMMA> aaron korsh david bartis sit session minutes okay <COMMA> last one get cross bad politician crooked lawyer <QUESTION> chelsea clinton <PERIOD>'"
            ]
          },
          "metadata": {
            "tags": []
          },
          "execution_count": 9
        }
      ]
    },
    {
      "cell_type": "code",
      "metadata": {
        "id": "b2PbWQ9-r8vx",
        "outputId": "184c5229-de66-4597-b61a-28b864b18a65",
        "colab": {
          "base_uri": "https://localhost:8080/"
        }
      },
      "source": [
        "# text_ls[511526], text_ls[1639671], text_ls[1821690]\n",
        "cleaned_text_ls[511526], cleaned_text_ls[1639671], cleaned_text_ls[1821690]"
      ],
      "execution_count": null,
      "outputs": [
        {
          "output_type": "execute_result",
          "data": {
            "text/plain": [
              "('smiling face', 'smiling face', 'smiling face')"
            ]
          },
          "metadata": {
            "tags": []
          },
          "execution_count": 10
        }
      ]
    },
    {
      "cell_type": "code",
      "metadata": {
        "id": "CMHPvsVxr996"
      },
      "source": [
        "# def find_noise(reg, datalist):\n",
        "#   count = 0\n",
        "#   found_list = []\n",
        "\n",
        "#   for i, row in enumerate(datalist):\n",
        "#     found = re.findall(reg, row)\n",
        "\n",
        "#     if found != []:\n",
        "#       count += 1\n",
        "#       # print(found[0])\n",
        "#       # found = list(filter(None, found[0]))\n",
        "#       # print(found)\n",
        "#       found_list.append([i ,found])\n",
        "  \n",
        "#   return count, found_list\n",
        "#   # return found_list"
      ],
      "execution_count": null,
      "outputs": []
    },
    {
      "cell_type": "code",
      "metadata": {
        "id": "XrOicEgjsAIA"
      },
      "source": [
        "# import re\n",
        "# ## check tokens for each row\n",
        "# count_key, found_key = find_noise(r\"<\\w+>\", cleaned_text_ls)\n",
        "# print(count_key, len(found_key))\n",
        "# found_key[:10]"
      ],
      "execution_count": null,
      "outputs": []
    },
    {
      "cell_type": "code",
      "metadata": {
        "id": "UFCrqsvdsBqC"
      },
      "source": [
        "# ss = []\n",
        "# for i in found_key:\n",
        "#   for j in i[1]:\n",
        "#     ss.append(j)\n",
        "\n",
        "# from collections import Counter \n",
        "# print(len(Counter(ss).most_common()))\n",
        "# Counter(ss).most_common() # 16 tokens with each amount"
      ],
      "execution_count": null,
      "outputs": []
    },
    {
      "cell_type": "code",
      "metadata": {
        "id": "TXbgRffpQYkZ"
      },
      "source": [
        "# cleaned_text_ls = [sent.split() for sent in cleaned_text_ls]"
      ],
      "execution_count": null,
      "outputs": []
    },
    {
      "cell_type": "code",
      "metadata": {
        "id": "GrVi-w8aRJ1u"
      },
      "source": [
        "# print(cleaned_text_ls[:5])"
      ],
      "execution_count": null,
      "outputs": []
    },
    {
      "cell_type": "code",
      "metadata": {
        "id": "JdMlwG2wu1w4",
        "outputId": "990f504e-9536-41f3-c19b-838ff8482910",
        "colab": {
          "base_uri": "https://localhost:8080/"
        }
      },
      "source": [
        "cleaned_text_ls[:10]"
      ],
      "execution_count": null,
      "outputs": [
        {
          "output_type": "execute_result",
          "data": {
            "text/plain": [
              "['big expectations love english tv <COMMA> particular investigative detective stuff guy really boring <PERIOD> not appeal <PERIOD>',\n",
              " 'highly recommend series <PERIOD> must anyone yearning watch grown television <PERIOD> complex characters plots keep one totally involved <PERIOD> thank amazin prime <PERIOD>',\n",
              " 'one real snoozer <PERIOD> not believe anything read hear <COMMA> awful <PERIOD> no idea title means <PERIOD> neither <PERIOD>',\n",
              " 'mysteries interesting <PERIOD> tension robson tall blond good not always believable <PERIOD> often seemed uncomfortable <PERIOD>',\n",
              " 'show always excellent <COMMA> far british crime mystery showsgoes one best ever made <PERIOD> stories well done acting top notch interesting twists realistic brutal storylines <PERIOD> show pulls no punches enters twisted minds criminals profiler psychiatrist helps northern english city police force <PERIOD> show looks like shot manchester called another name show <PERIOD> one episode not disc excellent prayer bone seperate disc <PERIOD> still crime shows not get much better one either side ocean <PERIOD> just great show never less well made episode <PERIOD> unfortunately like british shows get five shows year <COMMA> hour half shows <COMMA> still one could hope least year <PERIOD> realism depth main character tony hill protrayed excellent robson green well worth viewing just makes role truly part everyway <PERIOD> bet went crime scenes even real life research role <PERIOD> writers must applauded way average stories <PERIOD> let us hope show continues many years come <PERIOD>',\n",
              " 'discovered series quite accident <PERIOD> watched appreciated masterpiece contemporary place execution <COMMA> keen read novel inspired tv adaptation val mcdermid <PERIOD> novel well written <COMMA> nail biting suspense thriller <PERIOD> discovered val mcdermid wrote novels well <COMMA> couple inspired tv crime drama wire blood <PERIOD> finished watching season become fan gritty crime drama follows investigations led di carol jordan hermione norris <PERIOD> assisted clinical psychologist dr <PERIOD> tony hill robson green <COMMA> rather eccentric figure delves deeply minds serial killers <COMMA> studies patterns criminal behavior profiles criminals <PERIOD> methods may seem strange times <COMMA> always manages get results <PERIOD> jordan hill make strange compelling pair <COMMA> jordan analyzing case based evidence <COMMA> hill working based knowledge deviant behavior makes people commit disturbing crimes <PERIOD> unlike cozy mysteries long running midsomer murders set one complete inspector lynley mysteries <COMMA> wire blood not faint heart <PERIOD> crimes horrific <COMMA> sometimes involving children <COMMA> almost always patterned deviant behavior suspects almost always disturbed individuals <PERIOD> crime scenes difficult watch way victims found even forensic examinations graphic unsettling <PERIOD> though compelling <COMMA> not really show watch one sitting <COMMA> may well give viewers nightmares <PERIOD> first season contains three main stories <COMMA> divided two episodes mermaids singing hill trail seriously disturbed serial killer targets homosexuals <PERIOD> shadows rising skeletal remains young woman found <COMMA> evidence turns <COMMA> di jordan hill realize serial killer hands <COMMA> one penchant dark haired young women <PERIOD> justice painted blind another unsettling case <COMMA> time revolving around old child abduction murder case <PERIOD> couple apparently random murders turn not so random discovered victims share connection involving old court case accused found not guilty <PERIOD> throws whole bunch suspects <COMMA> including parents murdered girl <PERIOD> writing crime drama excellent <COMMA> robson green credible clinical psychologist rare knack profiling getting skin dangerous criminals <PERIOD> drama also explores chemistry tension hill di jordan <COMMA> result riveting show keeps viewers coming back <PERIOD> streaming good overall little delayed streaming episode one <PERIOD> no glitches episodes <PERIOD> picture quality could improved though seem bit grainy <PERIOD>',\n",
              " 'beats watching blank screen <PERIOD> however <COMMA> just not seem tune comedy today <PERIOD>',\n",
              " 'many episodes series <COMMA> so pretty much just skip try find description something think would like <PERIOD> kind crap shoot whether entertained not <COMMA> hey <COMMA> just sitting around trying kill minutes waiting something else <COMMA> worth shot <PERIOD>',\n",
              " 'best best comedy stand <PERIOD> fact able just watch continuously one comedian another great <PERIOD> best laughter long time <PERIOD>',\n",
              " 'not bad <PERIOD> not know comedians first time viewing put smile face <PERIOD> check next season soon <PERIOD>']"
            ]
          },
          "metadata": {
            "tags": []
          },
          "execution_count": 16
        }
      ]
    },
    {
      "cell_type": "markdown",
      "metadata": {
        "id": "ZzupiEqcCt9K"
      },
      "source": [
        "## create word_counts dictionary for all words"
      ]
    },
    {
      "cell_type": "code",
      "metadata": {
        "id": "NdA1lnuCfMPZ"
      },
      "source": [
        "word_counts = []\n",
        "for row in cleaned_text_ls:\n",
        "  for i in row.split():\n",
        "    # print(i)\n",
        "    word_counts.append(i)"
      ],
      "execution_count": null,
      "outputs": []
    },
    {
      "cell_type": "code",
      "metadata": {
        "id": "lMygmMx1fvt5",
        "outputId": "6a538dc3-37ea-4343-c9f4-175f701de8e1",
        "colab": {
          "base_uri": "https://localhost:8080/"
        }
      },
      "source": [
        "from collections import Counter \n",
        "\n",
        "print('Total number of words in cleaned corpus:', len(word_counts))\n",
        "print('Number of unique words in cleaned corpus:', len(Counter(word_counts)), len(Counter(word_counts).most_common()))"
      ],
      "execution_count": null,
      "outputs": [
        {
          "output_type": "stream",
          "text": [
            "Total number of words in cleaned corpus: 145975554\n",
            "Number of unique words in cleaned corpus: 553097 553097\n"
          ],
          "name": "stdout"
        }
      ]
    },
    {
      "cell_type": "code",
      "metadata": {
        "id": "LT--sgwWhwFy"
      },
      "source": [
        "# Remove all words with  5 or fewer occurences\n",
        "from collections import Counter \n",
        "word_counts = Counter(word_counts)\n",
        "# Counter(word_counts).most_common()"
      ],
      "execution_count": null,
      "outputs": []
    },
    {
      "cell_type": "code",
      "metadata": {
        "id": "BILMr_Eo9T8R",
        "outputId": "987346ef-87b9-4ce9-97c5-4ba935393653",
        "colab": {
          "base_uri": "https://localhost:8080/"
        }
      },
      "source": [
        "word_counts.most_common(5)"
      ],
      "execution_count": null,
      "outputs": [
        {
          "output_type": "execute_result",
          "data": {
            "text/plain": [
              "[('<PERIOD>', 14171558),\n",
              " ('<COMMA>', 8667542),\n",
              " ('not', 3082143),\n",
              " ('game', 1422990),\n",
              " ('<EXCLAMATION>', 1369517)]"
            ]
          },
          "metadata": {
            "tags": []
          },
          "execution_count": 17
        }
      ]
    },
    {
      "cell_type": "code",
      "metadata": {
        "id": "zLPjDadMCj1d"
      },
      "source": [
        "# import json\n",
        "\n",
        "# with open(root_path + '/word_counts.json', 'w') as fp:\n",
        "#     json.dump(word_counts, fp)"
      ],
      "execution_count": null,
      "outputs": []
    },
    {
      "cell_type": "markdown",
      "metadata": {
        "id": "8aQSn8NiC6wE"
      },
      "source": [
        "## load word_counts dictionary"
      ]
    },
    {
      "cell_type": "code",
      "metadata": {
        "id": "4QQuynnyEZa_",
        "outputId": "9665dba4-8e63-42f1-8baf-ad6066df9347",
        "colab": {
          "base_uri": "https://localhost:8080/"
        }
      },
      "source": [
        "import json\n",
        "\n",
        "with open(root_path + '/word_counts.json', 'r') as fp:\n",
        "    word_counts = json.load(fp)\n",
        "\n",
        "print(len(word_counts.keys()))\n",
        "# word_counts"
      ],
      "execution_count": null,
      "outputs": [
        {
          "output_type": "stream",
          "text": [
            "553097\n"
          ],
          "name": "stdout"
        }
      ]
    },
    {
      "cell_type": "code",
      "metadata": {
        "id": "tcaJbigDjPpY"
      },
      "source": [
        "for i, row in enumerate(cleaned_text_ls):\n",
        "  cleaned_text_ls[i] = [word for word in row.split() if word_counts[word] > 5]"
      ],
      "execution_count": null,
      "outputs": []
    },
    {
      "cell_type": "code",
      "metadata": {
        "id": "mjFdEfG7BPQV"
      },
      "source": [
        "word_counts = []\n",
        "for row in cleaned_text_ls:\n",
        "  for i in row:\n",
        "    # print(i)\n",
        "    word_counts.append(i)"
      ],
      "execution_count": null,
      "outputs": []
    },
    {
      "cell_type": "code",
      "metadata": {
        "id": "BjVuwS4qBSoM",
        "outputId": "36d99e7e-0adf-49c5-f572-496fe008c5cc",
        "colab": {
          "base_uri": "https://localhost:8080/"
        }
      },
      "source": [
        "from collections import Counter \n",
        "\n",
        "print('Total number of words in cleaned corpus:', len(word_counts))\n",
        "print('Number of unique words in cleaned corpus:', len(Counter(word_counts)), len(Counter(word_counts).most_common()))"
      ],
      "execution_count": null,
      "outputs": [
        {
          "output_type": "stream",
          "text": [
            "Total number of words in cleaned corpus: 145318369\n",
            "Number of unique words in cleaned corpus: 110454 110454\n"
          ],
          "name": "stdout"
        }
      ]
    },
    {
      "cell_type": "code",
      "metadata": {
        "id": "TR9PvBmqBV_0",
        "outputId": "52b9a695-1b0c-4e51-e0e8-0602145c9d7a",
        "colab": {
          "base_uri": "https://localhost:8080/"
        }
      },
      "source": [
        "empty_ls = []\n",
        "count = 0 ##\n",
        "for i, row in enumerate(cleaned_text_ls):\n",
        "  if not len(row):\n",
        "    count += 1\n",
        "    empty_ls.append(i)\n",
        "    print(i, count, len(row), row, cleaned_text_ls[i])"
      ],
      "execution_count": null,
      "outputs": [
        {
          "output_type": "stream",
          "text": [
            "122131 1 0 [] []\n",
            "134614 2 0 [] []\n",
            "164644 3 0 [] []\n",
            "222848 4 0 [] []\n",
            "246685 5 0 [] []\n",
            "263173 6 0 [] []\n",
            "265589 7 0 [] []\n",
            "268382 8 0 [] []\n",
            "277737 9 0 [] []\n",
            "301178 10 0 [] []\n",
            "316151 11 0 [] []\n",
            "367591 12 0 [] []\n",
            "409847 13 0 [] []\n",
            "415520 14 0 [] []\n",
            "488121 15 0 [] []\n",
            "493829 16 0 [] []\n",
            "541591 17 0 [] []\n",
            "635035 18 0 [] []\n",
            "715504 19 0 [] []\n",
            "739837 20 0 [] []\n",
            "748850 21 0 [] []\n",
            "773229 22 0 [] []\n",
            "777505 23 0 [] []\n",
            "826858 24 0 [] []\n",
            "855935 25 0 [] []\n",
            "922554 26 0 [] []\n",
            "1033526 27 0 [] []\n",
            "1753130 28 0 [] []\n",
            "1812027 29 0 [] []\n",
            "1928232 30 0 [] []\n",
            "2258365 31 0 [] []\n",
            "2259208 32 0 [] []\n",
            "2262535 33 0 [] []\n",
            "2305938 34 0 [] []\n",
            "2339284 35 0 [] []\n"
          ],
          "name": "stdout"
        }
      ]
    },
    {
      "cell_type": "code",
      "metadata": {
        "id": "I-LXskuXHCEZ",
        "outputId": "4cec9258-4a84-4839-8725-b416cbc1ca22",
        "colab": {
          "base_uri": "https://localhost:8080/"
        }
      },
      "source": [
        "empty_ls"
      ],
      "execution_count": null,
      "outputs": [
        {
          "output_type": "execute_result",
          "data": {
            "text/plain": [
              "[122131,\n",
              " 134614,\n",
              " 164644,\n",
              " 222848,\n",
              " 246685,\n",
              " 263173,\n",
              " 265589,\n",
              " 268382,\n",
              " 277737,\n",
              " 301178,\n",
              " 316151,\n",
              " 367591,\n",
              " 409847,\n",
              " 415520,\n",
              " 488121,\n",
              " 493829,\n",
              " 541591,\n",
              " 635035,\n",
              " 715504,\n",
              " 739837,\n",
              " 748850,\n",
              " 773229,\n",
              " 777505,\n",
              " 826858,\n",
              " 855935,\n",
              " 922554,\n",
              " 1033526,\n",
              " 1753130,\n",
              " 1812027,\n",
              " 1928232,\n",
              " 2258365,\n",
              " 2259208,\n",
              " 2262535,\n",
              " 2305938,\n",
              " 2339284]"
            ]
          },
          "metadata": {
            "tags": []
          },
          "execution_count": 24
        }
      ]
    },
    {
      "cell_type": "code",
      "metadata": {
        "id": "iA5YuEC9IhP3"
      },
      "source": [
        "empty_ls = [122131,\n",
        " 134614,\n",
        " 164644,\n",
        " 222848,\n",
        " 246685,\n",
        " 263173,\n",
        " 265589,\n",
        " 268382,\n",
        " 277737,\n",
        " 301178,\n",
        " 316151,\n",
        " 367591,\n",
        " 409847,\n",
        " 415520,\n",
        " 488121,\n",
        " 493829,\n",
        " 541591,\n",
        " 635035,\n",
        " 715504,\n",
        " 739837,\n",
        " 748850,\n",
        " 773229,\n",
        " 777505,\n",
        " 826858,\n",
        " 855935,\n",
        " 922554,\n",
        " 1033526,\n",
        " 1753130,\n",
        " 1812027,\n",
        " 1928232,\n",
        " 2258365,\n",
        " 2259208,\n",
        " 2262535,\n",
        " 2305938,\n",
        " 2339284]"
      ],
      "execution_count": null,
      "outputs": []
    },
    {
      "cell_type": "code",
      "metadata": {
        "id": "fcRHXY8fImkQ",
        "outputId": "8685cbdc-bfd5-4e34-fe0c-c01ce7b8b346",
        "colab": {
          "base_uri": "https://localhost:8080/"
        }
      },
      "source": [
        "for i in empty_ls:\n",
        "  print(text_ls[i])"
      ],
      "execution_count": null,
      "outputs": [
        {
          "output_type": "stream",
          "text": [
            "gfsfcd dgddgc cfgcfhg bfgvfgt ftjfhvt gghfyg gyhghbg egrbfbh fgcgh ffgfgvnb jghvvg bjhbb jbbnh nhhhhn vydh I hdbxt ctgfc jvbvnhu hvbvhgy hjbbhv\n",
            "f fgn h d t I o h j j j j j b h g g g g a\n",
            "Awesomegreat\n",
            "ixdid it for t h e 5 f r e e c o i n s a nny 1 e l s e\n",
            "dbhehehehehdhdhdbdhhdhddhdbdbbdbddhdhdhdndjdhdhdndhdjjddjjjdhddjdjdhdjdjdddjdjjdjdddndjdjhdhdjdfhhfhffbfhhfffffffferfrdeffffmfffffffffffff\n",
            "Func\n",
            "Stahp it\n",
            "ffhgf bghjjhgjuyjygfjthhthffyyjggjuujggukukgyhfghhujytyfyfyjyryffghhjjhgfcxxdgdfhhjikkjmmhdggghhhhvbbbbbhg gghhhhgghhjjjjujjuihuhuhjjjjjjjjjjjjvvcdxfvghfffhfghhgghjjughjgghngudchxhvddvhyhfedjjkkbbytgfdsxvbjjgvddvbbhfdcfjyyfccdxfhgdtrfyuughhhgdsesethhvvsdfgbuikkmgfrdfyujkkkkjf\n",
            "aweeeeeeeessssssssooooooommmmme a w e s o m e a w e s o m e a w e s o m e a w e s o m e\n",
            "ghgug\n",
            "g g g g g g g g gxgcgxgxgxgxh vhhrhrhfhfh r d d d e e d d d x d d d d\n",
            "this is awesomeducufjdjcjrjcif fufjcjnrcj jrjndjfj cufjf j uwj ficjfjc difjeji fivjfjic djxjdjfb xjfucur icifie ucuqi fkvkekjf xkdid dkdkdi cjdjdj\n",
            "FFFFfFa d d d d d d d d s s s s a r g s f g t f z\n",
            "its goodjjfjfjfhhfhfjfhfjf h h h h b bbbhhhb g f f f f fvf f f f f f f\n",
            "l o r e c o m i e n d o m u y b u e n o Glos jcff\n",
            "very unformatted\n",
            "it is okfer f h j k j g v g g g g g g h h h h h\n",
            "ghhgggbjhfhbbvgbbbhbbuvvvfccxxxf2fxffruvvfgfffvccfgcfhvdghccDrbbCDth:-)hbvf'mbfhhvfvhbvgjgginngvbhvghgfhhbcthjhgvghj\n",
            "BOOOOOOOOOO\n",
            "idek what this is\n",
            "EWWWWWWWWW\n",
            "OKK\n",
            "This is funnnnnnnnn\n",
            "GoodPrice\n",
            "Lovvveeee it\n",
            "AAAAAAAAA\n",
            "OMPHHHHHHH\n",
            "Looooveeee it\n",
            "lovvvvvvvvvvvvvvvvvvvvvvv it\n",
            "loned it\n",
            "wololo\n",
            "awewsome\n",
            "Okokokok\n",
            "as expeceted\n",
            "bhbbbjhi ibiii iiiui iiuh ihihi ihh ihhi ihhi ihih iiuhih iiiu ibii iuu jii biuuu iuii  uihh hohhi iuiio ioohh\n"
          ],
          "name": "stdout"
        }
      ]
    },
    {
      "cell_type": "code",
      "metadata": {
        "id": "fOQyRLF6J0nS",
        "outputId": "24aa653b-9bd7-4545-8877-0c81e556eaa5",
        "colab": {
          "base_uri": "https://localhost:8080/"
        }
      },
      "source": [
        "for i in empty_ls:\n",
        "  print(cleaned_text_ls[i])"
      ],
      "execution_count": null,
      "outputs": [
        {
          "output_type": "stream",
          "text": [
            "gfsfcd dgddgc cfgcfhg bfgvfgt ftjfhvt gghfyg gyhghbg egrbfbh fgcgh ffgfgvnb jghvvg bjhbb jbbnh nhhhhn vydh hdbxt ctgfc jvbvnhu hvbvhgy hjbbhv\n",
            "fgn\n",
            "awesomegreat\n",
            "ixdid nny\n",
            "dbhehehehehdhdhdbdhhdhddhdbdbbdbddhdhdhdndjdhdhdndhdjjddjjjdhddjdjdhdjdjdddjdjjdjdddndjdjhdhdjdfhhfhffbfhhfffffffferfrdeffffmfffffffffffff\n",
            "func\n",
            "stahp\n",
            "ffhgf bghjjhgjuyjygfjthhthffyyjggjuujggukukgyhfghhujytyfyfyjyryffghhjjhgfcxxdgdfhhjikkjmmhdggghhhhvbbbbbhg gghhhhgghhjjjjujjuihuhuhjjjjjjjjjjjjvvcdxfvghfffhfghhgghjjughjgghngudchxhvddvhyhfedjjkkbbytgfdsxvbjjgvddvbbhfdcfjyyfccdxfhgdtrfyuughhhgdsesethhvvsdfgbuikkmgfrdfyujkkkkjf\n",
            "aweeeeeeeessssssssooooooommmmme\n",
            "ghgug\n",
            "gxgcgxgxgxgxh vhhrhrhfhfh\n",
            "awesomeducufjdjcjrjcif fufjcjnrcj jrjndjfj cufjf uwj ficjfjc difjeji fivjfjic djxjdjfb xjfucur icifie ucuqi fkvkekjf xkdid dkdkdi cjdjdj\n",
            "ffffffa\n",
            "goodjjfjfjfhhfhfjfhfjf bbbhhhb fvf\n",
            "glos jcff\n",
            "unformatted\n",
            "okfer\n",
            "ghhgggbjhfhbbvgbbbhbbuvvvfccxxxf fxffruvvfgfffvccfgcfhvdghccdrbbcdth hbvf mbfhhvfvhbvgjgginngvbhvghgfhhbcthjhgvghj\n",
            "boooooooooo\n",
            "idek\n",
            "ewwwwwwwww\n",
            "okk\n",
            "funnnnnnnnn\n",
            "goodprice\n",
            "lovvveeee\n",
            "aaaaaaaaa\n",
            "omphhhhhhh\n",
            "looooveeee\n",
            "lovvvvvvvvvvvvvvvvvvvvvvv\n",
            "loned\n",
            "wololo\n",
            "awewsome\n",
            "okokokok\n",
            "expeceted\n",
            "bhbbbjhi ibiii iiiui iiuh ihihi ihh ihhi ihhi ihih iiuhih iiiu ibii iuu jii biuuu iuii uihh hohhi iuiio ioohh\n"
          ],
          "name": "stdout"
        }
      ]
    }
  ]
}