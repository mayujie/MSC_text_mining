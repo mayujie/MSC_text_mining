{
  "nbformat": 4,
  "nbformat_minor": 0,
  "metadata": {
    "colab": {
      "name": "RD_data_compare.ipynb",
      "provenance": [],
      "collapsed_sections": [],
      "toc_visible": true,
      "authorship_tag": "ABX9TyNm/abrGeHM9zUYzWVWV7f2",
      "include_colab_link": true
    },
    "kernelspec": {
      "name": "python3",
      "display_name": "Python 3"
    }
  },
  "cells": [
    {
      "cell_type": "markdown",
      "metadata": {
        "id": "view-in-github",
        "colab_type": "text"
      },
      "source": [
        "<a href=\"https://colab.research.google.com/github/mayujie/MSC_text_mining/blob/master/RD_data_compare.ipynb\" target=\"_parent\"><img src=\"https://colab.research.google.com/assets/colab-badge.svg\" alt=\"Open In Colab\"/></a>"
      ]
    },
    {
      "cell_type": "markdown",
      "metadata": {
        "id": "r2zkwxF50aPR"
      },
      "source": [
        "Text 8 dataset"
      ]
    },
    {
      "cell_type": "code",
      "metadata": {
        "id": "WqdaAOZL0Wko",
        "outputId": "e5599e96-d0f3-4cb1-a3e1-257af67889dd",
        "colab": {
          "base_uri": "https://localhost:8080/"
        }
      },
      "source": [
        "from google.colab import drive\n",
        "drive.mount('/content/drive/')"
      ],
      "execution_count": 1,
      "outputs": [
        {
          "output_type": "stream",
          "text": [
            "Mounted at /content/drive/\n"
          ],
          "name": "stdout"
        }
      ]
    },
    {
      "cell_type": "code",
      "metadata": {
        "id": "FBDkjJks0TLq"
      },
      "source": [
        "import tensorflow as tf\n",
        "import numpy as np"
      ],
      "execution_count": 2,
      "outputs": []
    },
    {
      "cell_type": "code",
      "metadata": {
        "id": "aEeGrNWx0Zki",
        "outputId": "15e7298b-ccc0-4113-e886-2db7cf48b9ff",
        "colab": {
          "base_uri": "https://localhost:8080/"
        }
      },
      "source": [
        "!unzip '/content/drive/My Drive/Colab/WORD EMBEDDINGS/data/text8.zip'"
      ],
      "execution_count": 3,
      "outputs": [
        {
          "output_type": "stream",
          "text": [
            "Archive:  /content/drive/My Drive/Colab/WORD EMBEDDINGS/data/text8.zip\n",
            "  inflating: text8                   \n"
          ],
          "name": "stdout"
        }
      ]
    },
    {
      "cell_type": "code",
      "metadata": {
        "id": "jyT9MWu20qmY"
      },
      "source": [
        "with open('text8') as file:\n",
        "    text_8 = file.read()"
      ],
      "execution_count": 4,
      "outputs": []
    },
    {
      "cell_type": "code",
      "metadata": {
        "id": "hX_W_mon0ucx",
        "outputId": "efb76b19-f0d5-4ee8-8a61-27a4b10c5666",
        "colab": {
          "base_uri": "https://localhost:8080/"
        }
      },
      "source": [
        "# total 100000000 characters\n",
        "len(text_8)"
      ],
      "execution_count": 5,
      "outputs": [
        {
          "output_type": "execute_result",
          "data": {
            "text/plain": [
              "100000000"
            ]
          },
          "metadata": {
            "tags": []
          },
          "execution_count": 5
        }
      ]
    },
    {
      "cell_type": "code",
      "metadata": {
        "id": "lyH_X18D0xeW",
        "outputId": "d390c258-f013-490d-a4ff-f7e43a4eef56",
        "colab": {
          "base_uri": "https://localhost:8080/",
          "height": 137
        }
      },
      "source": [
        "text_8[len(text_8)-1020:]"
      ],
      "execution_count": 7,
      "outputs": [
        {
          "output_type": "execute_result",
          "data": {
            "application/vnd.google.colaboratory.intrinsic+json": {
              "type": "string"
            },
            "text/plain": [
              "'approximately one thousand defenders had set all the buildings but the food storerooms ablaze and committed mass suicide rather than face certain capture or defeat by their enemies because the jewish religion discourages the act of suicide however the defenders were reported to have drawn lots and slain each other in turn down to the last man who would be the only one to actually take his own life as per josephus account the argument is made that the storerooms were left standing to show that the defenders retained the ability to live and chose the time of their death this account of the siege of masada was apparently related to josephus by two women who survived the suicide by hiding inside a cistern along with five children and repeated elazar ben yair s final exortation to his followers prior to the mass suicide verbatim to the romans the site today platform access to the fortress the site of masada was identified in one eight four two and extensively excavated in one nine six three one nine six five b'"
            ]
          },
          "metadata": {
            "tags": []
          },
          "execution_count": 7
        }
      ]
    },
    {
      "cell_type": "code",
      "metadata": {
        "id": "KxZIK85V04De",
        "outputId": "c99fdfb7-182a-405b-a8d1-fc107d5bcc18",
        "colab": {
          "base_uri": "https://localhost:8080/"
        }
      },
      "source": [
        "tokens = text_8.split()\n",
        "# 17005207 words in total \n",
        "len(tokens)"
      ],
      "execution_count": 8,
      "outputs": [
        {
          "output_type": "execute_result",
          "data": {
            "text/plain": [
              "17005207"
            ]
          },
          "metadata": {
            "tags": []
          },
          "execution_count": 8
        }
      ]
    },
    {
      "cell_type": "code",
      "metadata": {
        "id": "aK8PiMDD05YO",
        "outputId": "3db534d8-ecec-4ee6-d8db-0ad8e112a795",
        "colab": {
          "base_uri": "https://localhost:8080/"
        }
      },
      "source": [
        "tokens[len(tokens)-10:]"
      ],
      "execution_count": 18,
      "outputs": [
        {
          "output_type": "execute_result",
          "data": {
            "text/plain": [
              "['in', 'one', 'nine', 'six', 'three', 'one', 'nine', 'six', 'five', 'b']"
            ]
          },
          "metadata": {
            "tags": []
          },
          "execution_count": 18
        }
      ]
    },
    {
      "cell_type": "markdown",
      "metadata": {
        "id": "CjKGV9IHab8r"
      },
      "source": [
        "[Amazon product data](http://jmcauley.ucsd.edu/data/amazon/index_2014.html)\n",
        "\n"
      ]
    },
    {
      "cell_type": "code",
      "metadata": {
        "id": "XpeNBKRxaWiH",
        "outputId": "f1b66741-ccc5-4d2e-e39a-b38b7424d28a",
        "colab": {
          "base_uri": "https://localhost:8080/",
          "height": 84
        }
      },
      "source": [
        "!gdown https://drive.google.com/uc?id=1CnQYjZ1QLkmZzoBoaQ-Wow7Y1NAU4rCm"
      ],
      "execution_count": null,
      "outputs": [
        {
          "output_type": "stream",
          "text": [
            "Downloading...\n",
            "From: https://drive.google.com/uc?id=1CnQYjZ1QLkmZzoBoaQ-Wow7Y1NAU4rCm\n",
            "To: /content/reviews_Cell_Phones_and_Accessories_5.json.gz\n",
            "45.4MB [00:01, 37.3MB/s]\n"
          ],
          "name": "stdout"
        }
      ]
    },
    {
      "cell_type": "code",
      "metadata": {
        "id": "zRbSQtlch4DK"
      },
      "source": [
        "import pandas as pd\n",
        "import gzip\n",
        "\n",
        "def parse(path):\n",
        "  g = gzip.open(path, 'rb')\n",
        "  for l in g:\n",
        "    yield eval(l)\n",
        "\n",
        "def getDF(path):\n",
        "  i = 0\n",
        "  df = {}\n",
        "  for d in parse(path):\n",
        "    df[i] = d\n",
        "    i += 1\n",
        "  return pd.DataFrame.from_dict(df, orient='index')"
      ],
      "execution_count": null,
      "outputs": []
    },
    {
      "cell_type": "code",
      "metadata": {
        "id": "3tlB96L0ifSQ",
        "outputId": "239c0651-a302-4fe1-e9e6-b356833d42c9",
        "colab": {
          "base_uri": "https://localhost:8080/",
          "height": 151
        }
      },
      "source": [
        "df = getDF('reviews_Cell_Phones_and_Accessories_5.json.gz')\n",
        "\n",
        "# take 5 head of data as example\n",
        "see = df.head(5)\n",
        "print(see)"
      ],
      "execution_count": null,
      "outputs": [
        {
          "output_type": "stream",
          "text": [
            "       reviewerID        asin  ... unixReviewTime   reviewTime\n",
            "0  A30TL5EWN6DFXT  120401325X  ...     1400630400  05 21, 2014\n",
            "1   ASY55RVNIL0UD  120401325X  ...     1389657600  01 14, 2014\n",
            "2  A2TMXE2AFO7ONB  120401325X  ...     1403740800  06 26, 2014\n",
            "3   AWJ0WZQYMYFQ4  120401325X  ...     1382313600  10 21, 2013\n",
            "4   ATX7CZYFXI1KW  120401325X  ...     1359849600   02 3, 2013\n",
            "\n",
            "[5 rows x 9 columns]\n"
          ],
          "name": "stdout"
        }
      ]
    },
    {
      "cell_type": "code",
      "metadata": {
        "id": "9_RKUPcpiiCV",
        "outputId": "7e0633bc-cb71-402e-d419-05e3dad07eb6",
        "colab": {
          "base_uri": "https://localhost:8080/",
          "height": 67
        }
      },
      "source": [
        "see.columns"
      ],
      "execution_count": null,
      "outputs": [
        {
          "output_type": "execute_result",
          "data": {
            "text/plain": [
              "Index(['reviewerID', 'asin', 'reviewerName', 'helpful', 'reviewText',\n",
              "       'overall', 'summary', 'unixReviewTime', 'reviewTime'],\n",
              "      dtype='object')"
            ]
          },
          "metadata": {
            "tags": []
          },
          "execution_count": 4
        }
      ]
    },
    {
      "cell_type": "code",
      "metadata": {
        "id": "LFPgOwQWgbfE",
        "outputId": "1f909d6f-f45e-4e95-8e20-74a1ebcb957f",
        "colab": {
          "base_uri": "https://localhost:8080/",
          "height": 185
        }
      },
      "source": [
        "# 2014\n",
        "li_2014 = ['reviewerID', 'asin', 'reviewerName', 'helpful', 'reviewText', 'overall', 'summary', 'unixReviewTime', 'reviewTime']\n",
        "print(len(li_2014))\n",
        "li_2014"
      ],
      "execution_count": null,
      "outputs": [
        {
          "output_type": "stream",
          "text": [
            "9\n"
          ],
          "name": "stdout"
        },
        {
          "output_type": "execute_result",
          "data": {
            "text/plain": [
              "['reviewerID',\n",
              " 'asin',\n",
              " 'reviewerName',\n",
              " 'helpful',\n",
              " 'reviewText',\n",
              " 'overall',\n",
              " 'summary',\n",
              " 'unixReviewTime',\n",
              " 'reviewTime']"
            ]
          },
          "metadata": {
            "tags": []
          },
          "execution_count": 5
        }
      ]
    },
    {
      "cell_type": "code",
      "metadata": {
        "id": "Z6OCxMqBz3b8",
        "outputId": "dd648754-97b2-439e-8ca5-560e39d11216",
        "colab": {
          "base_uri": "https://localhost:8080/",
          "height": 34
        }
      },
      "source": [
        "df.shape"
      ],
      "execution_count": null,
      "outputs": [
        {
          "output_type": "execute_result",
          "data": {
            "text/plain": [
              "(194439, 9)"
            ]
          },
          "metadata": {
            "tags": []
          },
          "execution_count": 6
        }
      ]
    },
    {
      "cell_type": "markdown",
      "metadata": {
        "id": "WHveQOi0a2Kw"
      },
      "source": [
        "[Amazon Review Data (2018)](https://nijianmo.github.io/amazon/index.html#subsets)"
      ]
    },
    {
      "cell_type": "code",
      "metadata": {
        "id": "iv27rkKHuKUQ",
        "outputId": "99006560-7c2f-4d24-dbcf-4dcbce9d3b92",
        "colab": {
          "base_uri": "https://localhost:8080/",
          "height": 279
        }
      },
      "source": [
        "#2014\n",
        "see"
      ],
      "execution_count": null,
      "outputs": [
        {
          "output_type": "execute_result",
          "data": {
            "text/html": [
              "<div>\n",
              "<style scoped>\n",
              "    .dataframe tbody tr th:only-of-type {\n",
              "        vertical-align: middle;\n",
              "    }\n",
              "\n",
              "    .dataframe tbody tr th {\n",
              "        vertical-align: top;\n",
              "    }\n",
              "\n",
              "    .dataframe thead th {\n",
              "        text-align: right;\n",
              "    }\n",
              "</style>\n",
              "<table border=\"1\" class=\"dataframe\">\n",
              "  <thead>\n",
              "    <tr style=\"text-align: right;\">\n",
              "      <th></th>\n",
              "      <th>reviewerID</th>\n",
              "      <th>asin</th>\n",
              "      <th>reviewerName</th>\n",
              "      <th>helpful</th>\n",
              "      <th>reviewText</th>\n",
              "      <th>overall</th>\n",
              "      <th>summary</th>\n",
              "      <th>unixReviewTime</th>\n",
              "      <th>reviewTime</th>\n",
              "    </tr>\n",
              "  </thead>\n",
              "  <tbody>\n",
              "    <tr>\n",
              "      <th>0</th>\n",
              "      <td>A30TL5EWN6DFXT</td>\n",
              "      <td>120401325X</td>\n",
              "      <td>christina</td>\n",
              "      <td>[0, 0]</td>\n",
              "      <td>They look good and stick good! I just don't li...</td>\n",
              "      <td>4.0</td>\n",
              "      <td>Looks Good</td>\n",
              "      <td>1400630400</td>\n",
              "      <td>05 21, 2014</td>\n",
              "    </tr>\n",
              "    <tr>\n",
              "      <th>1</th>\n",
              "      <td>ASY55RVNIL0UD</td>\n",
              "      <td>120401325X</td>\n",
              "      <td>emily l.</td>\n",
              "      <td>[0, 0]</td>\n",
              "      <td>These stickers work like the review says they ...</td>\n",
              "      <td>5.0</td>\n",
              "      <td>Really great product.</td>\n",
              "      <td>1389657600</td>\n",
              "      <td>01 14, 2014</td>\n",
              "    </tr>\n",
              "    <tr>\n",
              "      <th>2</th>\n",
              "      <td>A2TMXE2AFO7ONB</td>\n",
              "      <td>120401325X</td>\n",
              "      <td>Erica</td>\n",
              "      <td>[0, 0]</td>\n",
              "      <td>These are awesome and make my phone look so st...</td>\n",
              "      <td>5.0</td>\n",
              "      <td>LOVE LOVE LOVE</td>\n",
              "      <td>1403740800</td>\n",
              "      <td>06 26, 2014</td>\n",
              "    </tr>\n",
              "    <tr>\n",
              "      <th>3</th>\n",
              "      <td>AWJ0WZQYMYFQ4</td>\n",
              "      <td>120401325X</td>\n",
              "      <td>JM</td>\n",
              "      <td>[4, 4]</td>\n",
              "      <td>Item arrived in great time and was in perfect ...</td>\n",
              "      <td>4.0</td>\n",
              "      <td>Cute!</td>\n",
              "      <td>1382313600</td>\n",
              "      <td>10 21, 2013</td>\n",
              "    </tr>\n",
              "    <tr>\n",
              "      <th>4</th>\n",
              "      <td>ATX7CZYFXI1KW</td>\n",
              "      <td>120401325X</td>\n",
              "      <td>patrice m rogoza</td>\n",
              "      <td>[2, 3]</td>\n",
              "      <td>awesome! stays on, and looks great. can be use...</td>\n",
              "      <td>5.0</td>\n",
              "      <td>leopard home button sticker for iphone 4s</td>\n",
              "      <td>1359849600</td>\n",
              "      <td>02 3, 2013</td>\n",
              "    </tr>\n",
              "  </tbody>\n",
              "</table>\n",
              "</div>"
            ],
            "text/plain": [
              "       reviewerID        asin  ... unixReviewTime   reviewTime\n",
              "0  A30TL5EWN6DFXT  120401325X  ...     1400630400  05 21, 2014\n",
              "1   ASY55RVNIL0UD  120401325X  ...     1389657600  01 14, 2014\n",
              "2  A2TMXE2AFO7ONB  120401325X  ...     1403740800  06 26, 2014\n",
              "3   AWJ0WZQYMYFQ4  120401325X  ...     1382313600  10 21, 2013\n",
              "4   ATX7CZYFXI1KW  120401325X  ...     1359849600   02 3, 2013\n",
              "\n",
              "[5 rows x 9 columns]"
            ]
          },
          "metadata": {
            "tags": []
          },
          "execution_count": 7
        }
      ]
    },
    {
      "cell_type": "code",
      "metadata": {
        "id": "jDuoDy9v2u7J",
        "outputId": "1a48bff4-2508-4252-cd0b-8bc8b131378c",
        "colab": {
          "base_uri": "https://localhost:8080/",
          "height": 185
        }
      },
      "source": [
        "print(len(li_2014))\n",
        "li_2014"
      ],
      "execution_count": null,
      "outputs": [
        {
          "output_type": "stream",
          "text": [
            "9\n"
          ],
          "name": "stdout"
        },
        {
          "output_type": "execute_result",
          "data": {
            "text/plain": [
              "['reviewerID',\n",
              " 'asin',\n",
              " 'reviewerName',\n",
              " 'helpful',\n",
              " 'reviewText',\n",
              " 'overall',\n",
              " 'summary',\n",
              " 'unixReviewTime',\n",
              " 'reviewTime']"
            ]
          },
          "metadata": {
            "tags": []
          },
          "execution_count": 8
        }
      ]
    },
    {
      "cell_type": "code",
      "metadata": {
        "id": "XIn6fYB-ytGN",
        "outputId": "33b33cf4-eec0-4f46-d26f-e62a107d54a2",
        "colab": {
          "base_uri": "https://localhost:8080/",
          "height": 222
        }
      },
      "source": [
        "#2018\n",
        "dict = {\"overall\": 5.0, \"verified\": True, \"reviewTime\": \"08 4, 2014\", \"reviewerID\": \"A24E3SXTC62LJI\", \"asin\": \"7508492919\", \"style\": {\"Color:\": \" Bling\"}, \"reviewerName\": \"Claudia Valdivia\", \"reviewText\": \"Looks even better in person. Be careful to not drop your phone so often because the rhinestones will fall off (duh). More of a decorative case than it is protective, but I will say that it fits perfectly and securely on my phone. Overall, very pleased with this purchase.\", \"summary\": \"Can't stop won't stop looking at it\", \"unixReviewTime\": 1407110400}\n",
        "print(len(dict.keys()))\n",
        "dict"
      ],
      "execution_count": null,
      "outputs": [
        {
          "output_type": "stream",
          "text": [
            "10\n"
          ],
          "name": "stdout"
        },
        {
          "output_type": "execute_result",
          "data": {
            "text/plain": [
              "{'asin': '7508492919',\n",
              " 'overall': 5.0,\n",
              " 'reviewText': 'Looks even better in person. Be careful to not drop your phone so often because the rhinestones will fall off (duh). More of a decorative case than it is protective, but I will say that it fits perfectly and securely on my phone. Overall, very pleased with this purchase.',\n",
              " 'reviewTime': '08 4, 2014',\n",
              " 'reviewerID': 'A24E3SXTC62LJI',\n",
              " 'reviewerName': 'Claudia Valdivia',\n",
              " 'style': {'Color:': ' Bling'},\n",
              " 'summary': \"Can't stop won't stop looking at it\",\n",
              " 'unixReviewTime': 1407110400,\n",
              " 'verified': True}"
            ]
          },
          "metadata": {
            "tags": []
          },
          "execution_count": 9
        }
      ]
    },
    {
      "cell_type": "code",
      "metadata": {
        "id": "hQqLVo5cyzsS",
        "outputId": "39f3bcc0-5768-48cb-e7b3-2f0742ee9e5a",
        "colab": {
          "base_uri": "https://localhost:8080/",
          "height": 202
        }
      },
      "source": [
        "dict2 = {\"image\": [\"https://images-na.ssl-images-amazon.com/images/I/61tLt-w1XML._SY88.jpg\"], \"overall\": 5.0, \"verified\": True, \"reviewTime\": \"06 22, 2016\", \"reviewerID\": \"A118KGIP37LCOE\", \"asin\": \"B000SCLZNQ\", \"reviewerName\": \"Phoenix\", \"reviewText\": \"Seems to be made well. Haven't taken it off road yet. Installed on Polaris Ranger Crew\", \"summary\": \"Five Stars\", \"unixReviewTime\": 1466553600}\n",
        "print(len(dict2.keys()))\n",
        "dict2"
      ],
      "execution_count": null,
      "outputs": [
        {
          "output_type": "stream",
          "text": [
            "10\n"
          ],
          "name": "stdout"
        },
        {
          "output_type": "execute_result",
          "data": {
            "text/plain": [
              "{'asin': 'B000SCLZNQ',\n",
              " 'image': ['https://images-na.ssl-images-amazon.com/images/I/61tLt-w1XML._SY88.jpg'],\n",
              " 'overall': 5.0,\n",
              " 'reviewText': \"Seems to be made well. Haven't taken it off road yet. Installed on Polaris Ranger Crew\",\n",
              " 'reviewTime': '06 22, 2016',\n",
              " 'reviewerID': 'A118KGIP37LCOE',\n",
              " 'reviewerName': 'Phoenix',\n",
              " 'summary': 'Five Stars',\n",
              " 'unixReviewTime': 1466553600,\n",
              " 'verified': True}"
            ]
          },
          "metadata": {
            "tags": []
          },
          "execution_count": 10
        }
      ]
    },
    {
      "cell_type": "code",
      "metadata": {
        "id": "mx2xoGEV1hYG"
      },
      "source": [
        ""
      ],
      "execution_count": null,
      "outputs": []
    }
  ]
}